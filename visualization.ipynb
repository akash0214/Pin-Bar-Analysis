{
 "cells": [
  {
   "cell_type": "code",
   "execution_count": 1,
   "id": "fb92c821",
   "metadata": {},
   "outputs": [],
   "source": [
    "import pandas as pd\n",
    "import numpy as np\n",
    "import matplotlib.pyplot as plt\n",
    "import seaborn as sns"
   ]
  },
  {
   "cell_type": "code",
   "execution_count": 2,
   "id": "fbafa4f1",
   "metadata": {},
   "outputs": [
    {
     "data": {
      "application/vnd.microsoft.datawrangler.viewer.v0+json": {
       "columns": [
        {
         "name": "index",
         "rawType": "int64",
         "type": "integer"
        },
        {
         "name": "Unnamed: 0",
         "rawType": "int64",
         "type": "integer"
        },
        {
         "name": "timestamp",
         "rawType": "object",
         "type": "string"
        },
        {
         "name": "open",
         "rawType": "float64",
         "type": "float"
        },
        {
         "name": "high",
         "rawType": "float64",
         "type": "float"
        },
        {
         "name": "low",
         "rawType": "float64",
         "type": "float"
        },
        {
         "name": "close",
         "rawType": "float64",
         "type": "float"
        },
        {
         "name": "volume",
         "rawType": "float64",
         "type": "float"
        },
        {
         "name": "bullish_pin_bar",
         "rawType": "bool",
         "type": "boolean"
        },
        {
         "name": "Weak follow up",
         "rawType": "bool",
         "type": "boolean"
        },
        {
         "name": "Weak Low Tested",
         "rawType": "bool",
         "type": "boolean"
        },
        {
         "name": "bearish_pin_bar",
         "rawType": "bool",
         "type": "boolean"
        },
        {
         "name": "Weak follow down",
         "rawType": "bool",
         "type": "boolean"
        },
        {
         "name": "Weak High Tested",
         "rawType": "bool",
         "type": "boolean"
        }
       ],
       "ref": "a79d9158-568a-4d58-ae5e-c07844a73d5e",
       "rows": [
        [
         "0",
         "0",
         "2022-07-04 20:15:00",
         "19851.3",
         "19853.6",
         "19719.5",
         "19776.6",
         "4522.198",
         "False",
         "False",
         "False",
         "False",
         "False",
         "False"
        ],
        [
         "1",
         "1",
         "2022-07-04 20:30:00",
         "19776.7",
         "19779.3",
         "19735.5",
         "19758.5",
         "2417.909",
         "False",
         "False",
         "False",
         "False",
         "False",
         "False"
        ],
        [
         "2",
         "2",
         "2022-07-04 20:45:00",
         "19758.5",
         "19809.2",
         "19745.7",
         "19774.4",
         "2972.344",
         "False",
         "False",
         "False",
         "False",
         "False",
         "False"
        ],
        [
         "3",
         "3",
         "2022-07-04 21:00:00",
         "19774.3",
         "19790.0",
         "19740.4",
         "19789.9",
         "3271.586",
         "True",
         "False",
         "False",
         "False",
         "False",
         "False"
        ],
        [
         "4",
         "4",
         "2022-07-04 21:15:00",
         "19789.9",
         "19811.4",
         "19768.3",
         "19773.8",
         "2151.42",
         "False",
         "False",
         "False",
         "True",
         "False",
         "False"
        ]
       ],
       "shape": {
        "columns": 13,
        "rows": 5
       }
      },
      "text/html": [
       "<div>\n",
       "<style scoped>\n",
       "    .dataframe tbody tr th:only-of-type {\n",
       "        vertical-align: middle;\n",
       "    }\n",
       "\n",
       "    .dataframe tbody tr th {\n",
       "        vertical-align: top;\n",
       "    }\n",
       "\n",
       "    .dataframe thead th {\n",
       "        text-align: right;\n",
       "    }\n",
       "</style>\n",
       "<table border=\"1\" class=\"dataframe\">\n",
       "  <thead>\n",
       "    <tr style=\"text-align: right;\">\n",
       "      <th></th>\n",
       "      <th>Unnamed: 0</th>\n",
       "      <th>timestamp</th>\n",
       "      <th>open</th>\n",
       "      <th>high</th>\n",
       "      <th>low</th>\n",
       "      <th>close</th>\n",
       "      <th>volume</th>\n",
       "      <th>bullish_pin_bar</th>\n",
       "      <th>Weak follow up</th>\n",
       "      <th>Weak Low Tested</th>\n",
       "      <th>bearish_pin_bar</th>\n",
       "      <th>Weak follow down</th>\n",
       "      <th>Weak High Tested</th>\n",
       "    </tr>\n",
       "  </thead>\n",
       "  <tbody>\n",
       "    <tr>\n",
       "      <th>0</th>\n",
       "      <td>0</td>\n",
       "      <td>2022-07-04 20:15:00</td>\n",
       "      <td>19851.3</td>\n",
       "      <td>19853.6</td>\n",
       "      <td>19719.5</td>\n",
       "      <td>19776.6</td>\n",
       "      <td>4522.198</td>\n",
       "      <td>False</td>\n",
       "      <td>False</td>\n",
       "      <td>False</td>\n",
       "      <td>False</td>\n",
       "      <td>False</td>\n",
       "      <td>False</td>\n",
       "    </tr>\n",
       "    <tr>\n",
       "      <th>1</th>\n",
       "      <td>1</td>\n",
       "      <td>2022-07-04 20:30:00</td>\n",
       "      <td>19776.7</td>\n",
       "      <td>19779.3</td>\n",
       "      <td>19735.5</td>\n",
       "      <td>19758.5</td>\n",
       "      <td>2417.909</td>\n",
       "      <td>False</td>\n",
       "      <td>False</td>\n",
       "      <td>False</td>\n",
       "      <td>False</td>\n",
       "      <td>False</td>\n",
       "      <td>False</td>\n",
       "    </tr>\n",
       "    <tr>\n",
       "      <th>2</th>\n",
       "      <td>2</td>\n",
       "      <td>2022-07-04 20:45:00</td>\n",
       "      <td>19758.5</td>\n",
       "      <td>19809.2</td>\n",
       "      <td>19745.7</td>\n",
       "      <td>19774.4</td>\n",
       "      <td>2972.344</td>\n",
       "      <td>False</td>\n",
       "      <td>False</td>\n",
       "      <td>False</td>\n",
       "      <td>False</td>\n",
       "      <td>False</td>\n",
       "      <td>False</td>\n",
       "    </tr>\n",
       "    <tr>\n",
       "      <th>3</th>\n",
       "      <td>3</td>\n",
       "      <td>2022-07-04 21:00:00</td>\n",
       "      <td>19774.3</td>\n",
       "      <td>19790.0</td>\n",
       "      <td>19740.4</td>\n",
       "      <td>19789.9</td>\n",
       "      <td>3271.586</td>\n",
       "      <td>True</td>\n",
       "      <td>False</td>\n",
       "      <td>False</td>\n",
       "      <td>False</td>\n",
       "      <td>False</td>\n",
       "      <td>False</td>\n",
       "    </tr>\n",
       "    <tr>\n",
       "      <th>4</th>\n",
       "      <td>4</td>\n",
       "      <td>2022-07-04 21:15:00</td>\n",
       "      <td>19789.9</td>\n",
       "      <td>19811.4</td>\n",
       "      <td>19768.3</td>\n",
       "      <td>19773.8</td>\n",
       "      <td>2151.420</td>\n",
       "      <td>False</td>\n",
       "      <td>False</td>\n",
       "      <td>False</td>\n",
       "      <td>True</td>\n",
       "      <td>False</td>\n",
       "      <td>False</td>\n",
       "    </tr>\n",
       "  </tbody>\n",
       "</table>\n",
       "</div>"
      ],
      "text/plain": [
       "   Unnamed: 0            timestamp     open     high      low    close  \\\n",
       "0           0  2022-07-04 20:15:00  19851.3  19853.6  19719.5  19776.6   \n",
       "1           1  2022-07-04 20:30:00  19776.7  19779.3  19735.5  19758.5   \n",
       "2           2  2022-07-04 20:45:00  19758.5  19809.2  19745.7  19774.4   \n",
       "3           3  2022-07-04 21:00:00  19774.3  19790.0  19740.4  19789.9   \n",
       "4           4  2022-07-04 21:15:00  19789.9  19811.4  19768.3  19773.8   \n",
       "\n",
       "     volume  bullish_pin_bar  Weak follow up  Weak Low Tested  \\\n",
       "0  4522.198            False           False            False   \n",
       "1  2417.909            False           False            False   \n",
       "2  2972.344            False           False            False   \n",
       "3  3271.586             True           False            False   \n",
       "4  2151.420            False           False            False   \n",
       "\n",
       "   bearish_pin_bar  Weak follow down  Weak High Tested  \n",
       "0            False             False             False  \n",
       "1            False             False             False  \n",
       "2            False             False             False  \n",
       "3            False             False             False  \n",
       "4             True             False             False  "
      ]
     },
     "execution_count": 2,
     "metadata": {},
     "output_type": "execute_result"
    }
   ],
   "source": [
    "#For 15 minutes time frame weak bullish pin bars\n",
    "btc_15min_data = pd.read_csv('b_15min_analyzed.csv')\n",
    "btc_15min_df = pd.DataFrame(btc_15min_data)\n",
    "btc_15min_df.head()"
   ]
  },
  {
   "cell_type": "code",
   "execution_count": 3,
   "id": "3ec67881",
   "metadata": {},
   "outputs": [
    {
     "data": {
      "application/vnd.microsoft.datawrangler.viewer.v0+json": {
       "columns": [
        {
         "name": "index",
         "rawType": "int64",
         "type": "integer"
        },
        {
         "name": "Unnamed: 0",
         "rawType": "int64",
         "type": "integer"
        },
        {
         "name": "timestamp",
         "rawType": "object",
         "type": "string"
        },
        {
         "name": "open",
         "rawType": "float64",
         "type": "float"
        },
        {
         "name": "high",
         "rawType": "float64",
         "type": "float"
        },
        {
         "name": "low",
         "rawType": "float64",
         "type": "float"
        },
        {
         "name": "close",
         "rawType": "float64",
         "type": "float"
        },
        {
         "name": "volume",
         "rawType": "float64",
         "type": "float"
        },
        {
         "name": "bullish_pin_bar",
         "rawType": "int64",
         "type": "integer"
        },
        {
         "name": "Weak follow up",
         "rawType": "int64",
         "type": "integer"
        },
        {
         "name": "Weak Low Tested",
         "rawType": "int64",
         "type": "integer"
        },
        {
         "name": "bearish_pin_bar",
         "rawType": "int64",
         "type": "integer"
        },
        {
         "name": "Weak follow down",
         "rawType": "int64",
         "type": "integer"
        },
        {
         "name": "Weak High Tested",
         "rawType": "int64",
         "type": "integer"
        }
       ],
       "ref": "0b27e3cb-0d1d-4687-a5fb-d1a7f066b8a3",
       "rows": [
        [
         "0",
         "0",
         "2022-07-04 20:15:00",
         "19851.3",
         "19853.6",
         "19719.5",
         "19776.6",
         "4522.198",
         "0",
         "0",
         "0",
         "0",
         "0",
         "0"
        ],
        [
         "1",
         "1",
         "2022-07-04 20:30:00",
         "19776.7",
         "19779.3",
         "19735.5",
         "19758.5",
         "2417.909",
         "0",
         "0",
         "0",
         "0",
         "0",
         "0"
        ],
        [
         "2",
         "2",
         "2022-07-04 20:45:00",
         "19758.5",
         "19809.2",
         "19745.7",
         "19774.4",
         "2972.344",
         "0",
         "0",
         "0",
         "0",
         "0",
         "0"
        ],
        [
         "3",
         "3",
         "2022-07-04 21:00:00",
         "19774.3",
         "19790.0",
         "19740.4",
         "19789.9",
         "3271.586",
         "1",
         "0",
         "0",
         "0",
         "0",
         "0"
        ],
        [
         "4",
         "4",
         "2022-07-04 21:15:00",
         "19789.9",
         "19811.4",
         "19768.3",
         "19773.8",
         "2151.42",
         "0",
         "0",
         "0",
         "1",
         "0",
         "0"
        ]
       ],
       "shape": {
        "columns": 13,
        "rows": 5
       }
      },
      "text/html": [
       "<div>\n",
       "<style scoped>\n",
       "    .dataframe tbody tr th:only-of-type {\n",
       "        vertical-align: middle;\n",
       "    }\n",
       "\n",
       "    .dataframe tbody tr th {\n",
       "        vertical-align: top;\n",
       "    }\n",
       "\n",
       "    .dataframe thead th {\n",
       "        text-align: right;\n",
       "    }\n",
       "</style>\n",
       "<table border=\"1\" class=\"dataframe\">\n",
       "  <thead>\n",
       "    <tr style=\"text-align: right;\">\n",
       "      <th></th>\n",
       "      <th>Unnamed: 0</th>\n",
       "      <th>timestamp</th>\n",
       "      <th>open</th>\n",
       "      <th>high</th>\n",
       "      <th>low</th>\n",
       "      <th>close</th>\n",
       "      <th>volume</th>\n",
       "      <th>bullish_pin_bar</th>\n",
       "      <th>Weak follow up</th>\n",
       "      <th>Weak Low Tested</th>\n",
       "      <th>bearish_pin_bar</th>\n",
       "      <th>Weak follow down</th>\n",
       "      <th>Weak High Tested</th>\n",
       "    </tr>\n",
       "  </thead>\n",
       "  <tbody>\n",
       "    <tr>\n",
       "      <th>0</th>\n",
       "      <td>0</td>\n",
       "      <td>2022-07-04 20:15:00</td>\n",
       "      <td>19851.3</td>\n",
       "      <td>19853.6</td>\n",
       "      <td>19719.5</td>\n",
       "      <td>19776.6</td>\n",
       "      <td>4522.198</td>\n",
       "      <td>0</td>\n",
       "      <td>0</td>\n",
       "      <td>0</td>\n",
       "      <td>0</td>\n",
       "      <td>0</td>\n",
       "      <td>0</td>\n",
       "    </tr>\n",
       "    <tr>\n",
       "      <th>1</th>\n",
       "      <td>1</td>\n",
       "      <td>2022-07-04 20:30:00</td>\n",
       "      <td>19776.7</td>\n",
       "      <td>19779.3</td>\n",
       "      <td>19735.5</td>\n",
       "      <td>19758.5</td>\n",
       "      <td>2417.909</td>\n",
       "      <td>0</td>\n",
       "      <td>0</td>\n",
       "      <td>0</td>\n",
       "      <td>0</td>\n",
       "      <td>0</td>\n",
       "      <td>0</td>\n",
       "    </tr>\n",
       "    <tr>\n",
       "      <th>2</th>\n",
       "      <td>2</td>\n",
       "      <td>2022-07-04 20:45:00</td>\n",
       "      <td>19758.5</td>\n",
       "      <td>19809.2</td>\n",
       "      <td>19745.7</td>\n",
       "      <td>19774.4</td>\n",
       "      <td>2972.344</td>\n",
       "      <td>0</td>\n",
       "      <td>0</td>\n",
       "      <td>0</td>\n",
       "      <td>0</td>\n",
       "      <td>0</td>\n",
       "      <td>0</td>\n",
       "    </tr>\n",
       "    <tr>\n",
       "      <th>3</th>\n",
       "      <td>3</td>\n",
       "      <td>2022-07-04 21:00:00</td>\n",
       "      <td>19774.3</td>\n",
       "      <td>19790.0</td>\n",
       "      <td>19740.4</td>\n",
       "      <td>19789.9</td>\n",
       "      <td>3271.586</td>\n",
       "      <td>1</td>\n",
       "      <td>0</td>\n",
       "      <td>0</td>\n",
       "      <td>0</td>\n",
       "      <td>0</td>\n",
       "      <td>0</td>\n",
       "    </tr>\n",
       "    <tr>\n",
       "      <th>4</th>\n",
       "      <td>4</td>\n",
       "      <td>2022-07-04 21:15:00</td>\n",
       "      <td>19789.9</td>\n",
       "      <td>19811.4</td>\n",
       "      <td>19768.3</td>\n",
       "      <td>19773.8</td>\n",
       "      <td>2151.420</td>\n",
       "      <td>0</td>\n",
       "      <td>0</td>\n",
       "      <td>0</td>\n",
       "      <td>1</td>\n",
       "      <td>0</td>\n",
       "      <td>0</td>\n",
       "    </tr>\n",
       "  </tbody>\n",
       "</table>\n",
       "</div>"
      ],
      "text/plain": [
       "   Unnamed: 0            timestamp     open     high      low    close  \\\n",
       "0           0  2022-07-04 20:15:00  19851.3  19853.6  19719.5  19776.6   \n",
       "1           1  2022-07-04 20:30:00  19776.7  19779.3  19735.5  19758.5   \n",
       "2           2  2022-07-04 20:45:00  19758.5  19809.2  19745.7  19774.4   \n",
       "3           3  2022-07-04 21:00:00  19774.3  19790.0  19740.4  19789.9   \n",
       "4           4  2022-07-04 21:15:00  19789.9  19811.4  19768.3  19773.8   \n",
       "\n",
       "     volume  bullish_pin_bar  Weak follow up  Weak Low Tested  \\\n",
       "0  4522.198                0               0                0   \n",
       "1  2417.909                0               0                0   \n",
       "2  2972.344                0               0                0   \n",
       "3  3271.586                1               0                0   \n",
       "4  2151.420                0               0                0   \n",
       "\n",
       "   bearish_pin_bar  Weak follow down  Weak High Tested  \n",
       "0                0                 0                 0  \n",
       "1                0                 0                 0  \n",
       "2                0                 0                 0  \n",
       "3                0                 0                 0  \n",
       "4                1                 0                 0  "
      ]
     },
     "execution_count": 3,
     "metadata": {},
     "output_type": "execute_result"
    }
   ],
   "source": [
    "btc_15min_df['bullish_pin_bar'] = btc_15min_df['bullish_pin_bar'].astype(int)\n",
    "btc_15min_df['Weak follow up'] = btc_15min_df['Weak follow up'].astype(int)\n",
    "btc_15min_df['Weak Low Tested'] = btc_15min_df['Weak Low Tested'].astype(int)\n",
    "btc_15min_df['bearish_pin_bar'] = btc_15min_df['bearish_pin_bar'].astype(int)\n",
    "btc_15min_df['Weak follow down'] = btc_15min_df['Weak follow down'].astype(int)\n",
    "btc_15min_df['Weak High Tested'] = btc_15min_df['Weak High Tested'].astype(int)\n",
    "btc_15min_df.head()"
   ]
  },
  {
   "cell_type": "code",
   "execution_count": 4,
   "id": "bac0507b",
   "metadata": {},
   "outputs": [
    {
     "name": "stdout",
     "output_type": "stream",
     "text": [
      "1810\n",
      "1858\n",
      "15110\n"
     ]
    }
   ],
   "source": [
    "total_btc_15min_bull_pin_bar = btc_15min_df['bullish_pin_bar'].sum()\n",
    "total_btc_15min_weak_up = btc_15min_df['Weak follow up'].sum()\n",
    "total_btc_15min_weak_low_tested = btc_15min_df['Weak Low Tested'].sum()\n",
    "print(total_btc_15min_weak_low_tested)\n",
    "print(total_btc_15min_weak_up)\n",
    "print(total_btc_15min_bull_pin_bar)"
   ]
  },
  {
   "cell_type": "code",
   "execution_count": 5,
   "id": "d47172db",
   "metadata": {},
   "outputs": [
    {
     "name": "stdout",
     "output_type": "stream",
     "text": [
      "12.29649238914626\n",
      "97.41657696447793\n"
     ]
    }
   ],
   "source": [
    "#Percentages\n",
    "btc_15min_percent_weak_bull = ((total_btc_15min_weak_up/total_btc_15min_bull_pin_bar)*100)\n",
    "btc_15min_percent_weak_bull_tested = ((total_btc_15min_weak_low_tested/total_btc_15min_weak_up)*100)\n",
    "print(btc_15min_percent_weak_bull)\n",
    "print(btc_15min_percent_weak_bull_tested)"
   ]
  },
  {
   "cell_type": "code",
   "execution_count": 6,
   "id": "0e291878",
   "metadata": {},
   "outputs": [
    {
     "data": {
      "image/png": "[encoded data removed]",
      "text/plain": [
       "<Figure size 700x700 with 1 Axes>"
      ]
     },
     "metadata": {},
     "output_type": "display_data"
    }
   ],
   "source": [
    "#Setting labels and values\n",
    "labels = ['Lows Tested: Yes', 'Lows Tested: No']\n",
    "sizes = [total_btc_15min_weak_low_tested, total_btc_15min_weak_up - total_btc_15min_weak_low_tested]\n",
    "colors = ['#ff9999', '#66b3ff']\n",
    "\n",
    "# Plotting\n",
    "fig, ax = plt.subplots(figsize=(7, 7))\n",
    "\n",
    "wedges, texts, autotexts = ax.pie(\n",
    "    sizes,\n",
    "    colors=colors,\n",
    "    autopct='%1.2f%%',\n",
    "    startangle=140,\n",
    "    pctdistance=1.12,\n",
    "    textprops={'color': 'black', 'fontsize': 10}\n",
    ")\n",
    "\n",
    "# Move pie to center\n",
    "ax.set(aspect=\"equal\")\n",
    "\n",
    "# Annotate each percentage outside the slice\n",
    "for autotext in autotexts:\n",
    "    autotext.set_fontsize(10)\n",
    "    autotext.set_weight('bold')\n",
    "\n",
    "# Title in center of the chart\n",
    "plt.title(\"Weak Follow Up Pin Bar\\nLow Breakdown\", fontsize=16, weight='bold', loc='center')\n",
    "\n",
    "# Add legend outside the chart\n",
    "ax.legend(wedges, labels, title=\"Follow Through\", loc=\"center left\", bbox_to_anchor=(1, 0, 0.5, 1))\n",
    "\n",
    "plt.tight_layout()\n",
    "plt.show()"
   ]
  },
  {
   "cell_type": "code",
   "execution_count": 7,
   "id": "94a55a1e",
   "metadata": {},
   "outputs": [
    {
     "name": "stdout",
     "output_type": "stream",
     "text": [
      "1676\n",
      "1676\n",
      "14156\n"
     ]
    }
   ],
   "source": [
    "#For 15 minutes time frame weak bearish pin bars\n",
    "total_btc_15min_bear_pin_bar = btc_15min_df['bearish_pin_bar'].sum()\n",
    "total_btc_15min_weak_down = btc_15min_df['Weak follow down'].sum()\n",
    "total_btc_15min_weak_high_tested = btc_15min_df['Weak High Tested'].sum()\n",
    "print(total_btc_15min_weak_high_tested)\n",
    "print(total_btc_15min_weak_down)\n",
    "print(total_btc_15min_bear_pin_bar)"
   ]
  },
  {
   "cell_type": "code",
   "execution_count": 8,
   "id": "e857e1f7",
   "metadata": {},
   "outputs": [
    {
     "name": "stdout",
     "output_type": "stream",
     "text": [
      "11.839502684374118\n",
      "100.0\n"
     ]
    }
   ],
   "source": [
    "#Percentages\n",
    "btc_15min_percent_weak_bear = ((total_btc_15min_weak_down/total_btc_15min_bear_pin_bar)*100)\n",
    "btc_15min_percent_weak_bear_tested = ((total_btc_15min_weak_high_tested/total_btc_15min_weak_down)*100)\n",
    "print(btc_15min_percent_weak_bear)\n",
    "print(btc_15min_percent_weak_bear_tested)"
   ]
  },
  {
   "cell_type": "code",
   "execution_count": 9,
   "id": "e5056678",
   "metadata": {},
   "outputs": [],
   "source": [
    "# #Setting labels and values\n",
    "# labels = ['Highs Tested: Yes', 'Highs Tested: No']\n",
    "# sizes = [total_btc_15min_weak_high_tested, total_btc_15min_weak_down - total_btc_15min_weak_high_tested]\n",
    "# colors = [\"#78f048\", \"#f38845\"]\n",
    "\n",
    "# # Plotting\n",
    "# fig, ax = plt.subplots(figsize=(7, 7))\n",
    "\n",
    "# wedges, texts, autotexts = ax.pie(\n",
    "#     sizes,\n",
    "#     colors=colors,\n",
    "#     autopct='%1.2f%%',\n",
    "#     startangle=140,\n",
    "#     pctdistance=1.12,\n",
    "#     textprops={'color': 'black', 'fontsize': 10}\n",
    "# )\n",
    "\n",
    "# # Move pie to center\n",
    "# ax.set(aspect=\"equal\")\n",
    "\n",
    "# # Annotate each percentage outside the slice\n",
    "# for autotext in autotexts:\n",
    "#     autotext.set_fontsize(10)\n",
    "#     autotext.set_weight('bold')\n",
    "\n",
    "# # Title in center of the chart\n",
    "# plt.title(\"Weak Follow Down Pin Bar\\nHigh tested\", fontsize=16, weight='bold', loc='center')\n",
    "\n",
    "# # Add legend outside the chart\n",
    "# ax.legend(wedges, labels, title=\"Follow Down Action\", loc=\"center left\", bbox_to_anchor=(1, 0, 0.5, 1))\n",
    "\n",
    "# plt.tight_layout()\n",
    "# plt.show()"
   ]
  },
  {
   "cell_type": "code",
   "execution_count": 10,
   "id": "1a6d7d00",
   "metadata": {},
   "outputs": [
    {
     "data": {
      "application/vnd.microsoft.datawrangler.viewer.v0+json": {
       "columns": [
        {
         "name": "index",
         "rawType": "int64",
         "type": "integer"
        },
        {
         "name": "Unnamed: 0",
         "rawType": "int64",
         "type": "integer"
        },
        {
         "name": "timestamp",
         "rawType": "object",
         "type": "string"
        },
        {
         "name": "open",
         "rawType": "float64",
         "type": "float"
        },
        {
         "name": "high",
         "rawType": "float64",
         "type": "float"
        },
        {
         "name": "low",
         "rawType": "float64",
         "type": "float"
        },
        {
         "name": "close",
         "rawType": "float64",
         "type": "float"
        },
        {
         "name": "volume",
         "rawType": "float64",
         "type": "float"
        },
        {
         "name": "bullish_pin_bar",
         "rawType": "bool",
         "type": "boolean"
        },
        {
         "name": "Weak follow up",
         "rawType": "bool",
         "type": "boolean"
        },
        {
         "name": "Weak Low Tested",
         "rawType": "bool",
         "type": "boolean"
        },
        {
         "name": "bearish_pin_bar",
         "rawType": "bool",
         "type": "boolean"
        },
        {
         "name": "Weak follow down",
         "rawType": "bool",
         "type": "boolean"
        },
        {
         "name": "Weak High Tested",
         "rawType": "bool",
         "type": "boolean"
        }
       ],
       "ref": "cf527d38-5ba3-4a17-956d-9cdf4d90d86b",
       "rows": [
        [
         "0",
         "0",
         "2022-07-04 20:15:00",
         "19851.3",
         "19853.6",
         "19823.4",
         "19827.0",
         "483.921",
         "False",
         "False",
         "False",
         "False",
         "False",
         "False"
        ],
        [
         "1",
         "1",
         "2022-07-04 20:20:00",
         "19827.1",
         "19842.4",
         "19719.5",
         "19746.0",
         "2721.178",
         "False",
         "False",
         "False",
         "False",
         "False",
         "False"
        ],
        [
         "2",
         "2",
         "2022-07-04 20:25:00",
         "19746.0",
         "19793.6",
         "19736.1",
         "19776.6",
         "1317.099",
         "False",
         "False",
         "False",
         "False",
         "False",
         "False"
        ],
        [
         "3",
         "3",
         "2022-07-04 20:30:00",
         "19776.7",
         "19776.7",
         "19735.5",
         "19763.2",
         "914.103",
         "False",
         "False",
         "False",
         "False",
         "False",
         "False"
        ],
        [
         "4",
         "4",
         "2022-07-04 20:35:00",
         "19763.1",
         "19770.1",
         "19740.0",
         "19768.0",
         "666.151",
         "True",
         "False",
         "False",
         "False",
         "False",
         "False"
        ]
       ],
       "shape": {
        "columns": 13,
        "rows": 5
       }
      },
      "text/html": [
       "<div>\n",
       "<style scoped>\n",
       "    .dataframe tbody tr th:only-of-type {\n",
       "        vertical-align: middle;\n",
       "    }\n",
       "\n",
       "    .dataframe tbody tr th {\n",
       "        vertical-align: top;\n",
       "    }\n",
       "\n",
       "    .dataframe thead th {\n",
       "        text-align: right;\n",
       "    }\n",
       "</style>\n",
       "<table border=\"1\" class=\"dataframe\">\n",
       "  <thead>\n",
       "    <tr style=\"text-align: right;\">\n",
       "      <th></th>\n",
       "      <th>Unnamed: 0</th>\n",
       "      <th>timestamp</th>\n",
       "      <th>open</th>\n",
       "      <th>high</th>\n",
       "      <th>low</th>\n",
       "      <th>close</th>\n",
       "      <th>volume</th>\n",
       "      <th>bullish_pin_bar</th>\n",
       "      <th>Weak follow up</th>\n",
       "      <th>Weak Low Tested</th>\n",
       "      <th>bearish_pin_bar</th>\n",
       "      <th>Weak follow down</th>\n",
       "      <th>Weak High Tested</th>\n",
       "    </tr>\n",
       "  </thead>\n",
       "  <tbody>\n",
       "    <tr>\n",
       "      <th>0</th>\n",
       "      <td>0</td>\n",
       "      <td>2022-07-04 20:15:00</td>\n",
       "      <td>19851.3</td>\n",
       "      <td>19853.6</td>\n",
       "      <td>19823.4</td>\n",
       "      <td>19827.0</td>\n",
       "      <td>483.921</td>\n",
       "      <td>False</td>\n",
       "      <td>False</td>\n",
       "      <td>False</td>\n",
       "      <td>False</td>\n",
       "      <td>False</td>\n",
       "      <td>False</td>\n",
       "    </tr>\n",
       "    <tr>\n",
       "      <th>1</th>\n",
       "      <td>1</td>\n",
       "      <td>2022-07-04 20:20:00</td>\n",
       "      <td>19827.1</td>\n",
       "      <td>19842.4</td>\n",
       "      <td>19719.5</td>\n",
       "      <td>19746.0</td>\n",
       "      <td>2721.178</td>\n",
       "      <td>False</td>\n",
       "      <td>False</td>\n",
       "      <td>False</td>\n",
       "      <td>False</td>\n",
       "      <td>False</td>\n",
       "      <td>False</td>\n",
       "    </tr>\n",
       "    <tr>\n",
       "      <th>2</th>\n",
       "      <td>2</td>\n",
       "      <td>2022-07-04 20:25:00</td>\n",
       "      <td>19746.0</td>\n",
       "      <td>19793.6</td>\n",
       "      <td>19736.1</td>\n",
       "      <td>19776.6</td>\n",
       "      <td>1317.099</td>\n",
       "      <td>False</td>\n",
       "      <td>False</td>\n",
       "      <td>False</td>\n",
       "      <td>False</td>\n",
       "      <td>False</td>\n",
       "      <td>False</td>\n",
       "    </tr>\n",
       "    <tr>\n",
       "      <th>3</th>\n",
       "      <td>3</td>\n",
       "      <td>2022-07-04 20:30:00</td>\n",
       "      <td>19776.7</td>\n",
       "      <td>19776.7</td>\n",
       "      <td>19735.5</td>\n",
       "      <td>19763.2</td>\n",
       "      <td>914.103</td>\n",
       "      <td>False</td>\n",
       "      <td>False</td>\n",
       "      <td>False</td>\n",
       "      <td>False</td>\n",
       "      <td>False</td>\n",
       "      <td>False</td>\n",
       "    </tr>\n",
       "    <tr>\n",
       "      <th>4</th>\n",
       "      <td>4</td>\n",
       "      <td>2022-07-04 20:35:00</td>\n",
       "      <td>19763.1</td>\n",
       "      <td>19770.1</td>\n",
       "      <td>19740.0</td>\n",
       "      <td>19768.0</td>\n",
       "      <td>666.151</td>\n",
       "      <td>True</td>\n",
       "      <td>False</td>\n",
       "      <td>False</td>\n",
       "      <td>False</td>\n",
       "      <td>False</td>\n",
       "      <td>False</td>\n",
       "    </tr>\n",
       "  </tbody>\n",
       "</table>\n",
       "</div>"
      ],
      "text/plain": [
       "   Unnamed: 0            timestamp     open     high      low    close  \\\n",
       "0           0  2022-07-04 20:15:00  19851.3  19853.6  19823.4  19827.0   \n",
       "1           1  2022-07-04 20:20:00  19827.1  19842.4  19719.5  19746.0   \n",
       "2           2  2022-07-04 20:25:00  19746.0  19793.6  19736.1  19776.6   \n",
       "3           3  2022-07-04 20:30:00  19776.7  19776.7  19735.5  19763.2   \n",
       "4           4  2022-07-04 20:35:00  19763.1  19770.1  19740.0  19768.0   \n",
       "\n",
       "     volume  bullish_pin_bar  Weak follow up  Weak Low Tested  \\\n",
       "0   483.921            False           False            False   \n",
       "1  2721.178            False           False            False   \n",
       "2  1317.099            False           False            False   \n",
       "3   914.103            False           False            False   \n",
       "4   666.151             True           False            False   \n",
       "\n",
       "   bearish_pin_bar  Weak follow down  Weak High Tested  \n",
       "0            False             False             False  \n",
       "1            False             False             False  \n",
       "2            False             False             False  \n",
       "3            False             False             False  \n",
       "4            False             False             False  "
      ]
     },
     "execution_count": 10,
     "metadata": {},
     "output_type": "execute_result"
    }
   ],
   "source": [
    "#For 5 minutes time frame weak bullish pin bars\n",
    "btc_5min_data = pd.read_csv('b_5min_analyzed.csv')\n",
    "btc_5min_df = pd.DataFrame(btc_5min_data)\n",
    "btc_5min_df.head()"
   ]
  },
  {
   "cell_type": "code",
   "execution_count": 11,
   "id": "b44058fa",
   "metadata": {},
   "outputs": [
    {
     "data": {
      "application/vnd.microsoft.datawrangler.viewer.v0+json": {
       "columns": [
        {
         "name": "index",
         "rawType": "int64",
         "type": "integer"
        },
        {
         "name": "Unnamed: 0",
         "rawType": "int64",
         "type": "integer"
        },
        {
         "name": "timestamp",
         "rawType": "object",
         "type": "string"
        },
        {
         "name": "open",
         "rawType": "float64",
         "type": "float"
        },
        {
         "name": "high",
         "rawType": "float64",
         "type": "float"
        },
        {
         "name": "low",
         "rawType": "float64",
         "type": "float"
        },
        {
         "name": "close",
         "rawType": "float64",
         "type": "float"
        },
        {
         "name": "volume",
         "rawType": "float64",
         "type": "float"
        },
        {
         "name": "bullish_pin_bar",
         "rawType": "int64",
         "type": "integer"
        },
        {
         "name": "Weak follow up",
         "rawType": "int64",
         "type": "integer"
        },
        {
         "name": "Weak Low Tested",
         "rawType": "int64",
         "type": "integer"
        },
        {
         "name": "bearish_pin_bar",
         "rawType": "int64",
         "type": "integer"
        },
        {
         "name": "Weak follow down",
         "rawType": "int64",
         "type": "integer"
        },
        {
         "name": "Weak High Tested",
         "rawType": "int64",
         "type": "integer"
        }
       ],
       "ref": "7ecb2ced-2b5a-4d9c-a201-78198374d55e",
       "rows": [
        [
         "0",
         "0",
         "2022-07-04 20:15:00",
         "19851.3",
         "19853.6",
         "19823.4",
         "19827.0",
         "483.921",
         "0",
         "0",
         "0",
         "0",
         "0",
         "0"
        ],
        [
         "1",
         "1",
         "2022-07-04 20:20:00",
         "19827.1",
         "19842.4",
         "19719.5",
         "19746.0",
         "2721.178",
         "0",
         "0",
         "0",
         "0",
         "0",
         "0"
        ],
        [
         "2",
         "2",
         "2022-07-04 20:25:00",
         "19746.0",
         "19793.6",
         "19736.1",
         "19776.6",
         "1317.099",
         "0",
         "0",
         "0",
         "0",
         "0",
         "0"
        ],
        [
         "3",
         "3",
         "2022-07-04 20:30:00",
         "19776.7",
         "19776.7",
         "19735.5",
         "19763.2",
         "914.103",
         "0",
         "0",
         "0",
         "0",
         "0",
         "0"
        ],
        [
         "4",
         "4",
         "2022-07-04 20:35:00",
         "19763.1",
         "19770.1",
         "19740.0",
         "19768.0",
         "666.151",
         "1",
         "0",
         "0",
         "0",
         "0",
         "0"
        ]
       ],
       "shape": {
        "columns": 13,
        "rows": 5
       }
      },
      "text/html": [
       "<div>\n",
       "<style scoped>\n",
       "    .dataframe tbody tr th:only-of-type {\n",
       "        vertical-align: middle;\n",
       "    }\n",
       "\n",
       "    .dataframe tbody tr th {\n",
       "        vertical-align: top;\n",
       "    }\n",
       "\n",
       "    .dataframe thead th {\n",
       "        text-align: right;\n",
       "    }\n",
       "</style>\n",
       "<table border=\"1\" class=\"dataframe\">\n",
       "  <thead>\n",
       "    <tr style=\"text-align: right;\">\n",
       "      <th></th>\n",
       "      <th>Unnamed: 0</th>\n",
       "      <th>timestamp</th>\n",
       "      <th>open</th>\n",
       "      <th>high</th>\n",
       "      <th>low</th>\n",
       "      <th>close</th>\n",
       "      <th>volume</th>\n",
       "      <th>bullish_pin_bar</th>\n",
       "      <th>Weak follow up</th>\n",
       "      <th>Weak Low Tested</th>\n",
       "      <th>bearish_pin_bar</th>\n",
       "      <th>Weak follow down</th>\n",
       "      <th>Weak High Tested</th>\n",
       "    </tr>\n",
       "  </thead>\n",
       "  <tbody>\n",
       "    <tr>\n",
       "      <th>0</th>\n",
       "      <td>0</td>\n",
       "      <td>2022-07-04 20:15:00</td>\n",
       "      <td>19851.3</td>\n",
       "      <td>19853.6</td>\n",
       "      <td>19823.4</td>\n",
       "      <td>19827.0</td>\n",
       "      <td>483.921</td>\n",
       "      <td>0</td>\n",
       "      <td>0</td>\n",
       "      <td>0</td>\n",
       "      <td>0</td>\n",
       "      <td>0</td>\n",
       "      <td>0</td>\n",
       "    </tr>\n",
       "    <tr>\n",
       "      <th>1</th>\n",
       "      <td>1</td>\n",
       "      <td>2022-07-04 20:20:00</td>\n",
       "      <td>19827.1</td>\n",
       "      <td>19842.4</td>\n",
       "      <td>19719.5</td>\n",
       "      <td>19746.0</td>\n",
       "      <td>2721.178</td>\n",
       "      <td>0</td>\n",
       "      <td>0</td>\n",
       "      <td>0</td>\n",
       "      <td>0</td>\n",
       "      <td>0</td>\n",
       "      <td>0</td>\n",
       "    </tr>\n",
       "    <tr>\n",
       "      <th>2</th>\n",
       "      <td>2</td>\n",
       "      <td>2022-07-04 20:25:00</td>\n",
       "      <td>19746.0</td>\n",
       "      <td>19793.6</td>\n",
       "      <td>19736.1</td>\n",
       "      <td>19776.6</td>\n",
       "      <td>1317.099</td>\n",
       "      <td>0</td>\n",
       "      <td>0</td>\n",
       "      <td>0</td>\n",
       "      <td>0</td>\n",
       "      <td>0</td>\n",
       "      <td>0</td>\n",
       "    </tr>\n",
       "    <tr>\n",
       "      <th>3</th>\n",
       "      <td>3</td>\n",
       "      <td>2022-07-04 20:30:00</td>\n",
       "      <td>19776.7</td>\n",
       "      <td>19776.7</td>\n",
       "      <td>19735.5</td>\n",
       "      <td>19763.2</td>\n",
       "      <td>914.103</td>\n",
       "      <td>0</td>\n",
       "      <td>0</td>\n",
       "      <td>0</td>\n",
       "      <td>0</td>\n",
       "      <td>0</td>\n",
       "      <td>0</td>\n",
       "    </tr>\n",
       "    <tr>\n",
       "      <th>4</th>\n",
       "      <td>4</td>\n",
       "      <td>2022-07-04 20:35:00</td>\n",
       "      <td>19763.1</td>\n",
       "      <td>19770.1</td>\n",
       "      <td>19740.0</td>\n",
       "      <td>19768.0</td>\n",
       "      <td>666.151</td>\n",
       "      <td>1</td>\n",
       "      <td>0</td>\n",
       "      <td>0</td>\n",
       "      <td>0</td>\n",
       "      <td>0</td>\n",
       "      <td>0</td>\n",
       "    </tr>\n",
       "  </tbody>\n",
       "</table>\n",
       "</div>"
      ],
      "text/plain": [
       "   Unnamed: 0            timestamp     open     high      low    close  \\\n",
       "0           0  2022-07-04 20:15:00  19851.3  19853.6  19823.4  19827.0   \n",
       "1           1  2022-07-04 20:20:00  19827.1  19842.4  19719.5  19746.0   \n",
       "2           2  2022-07-04 20:25:00  19746.0  19793.6  19736.1  19776.6   \n",
       "3           3  2022-07-04 20:30:00  19776.7  19776.7  19735.5  19763.2   \n",
       "4           4  2022-07-04 20:35:00  19763.1  19770.1  19740.0  19768.0   \n",
       "\n",
       "     volume  bullish_pin_bar  Weak follow up  Weak Low Tested  \\\n",
       "0   483.921                0               0                0   \n",
       "1  2721.178                0               0                0   \n",
       "2  1317.099                0               0                0   \n",
       "3   914.103                0               0                0   \n",
       "4   666.151                1               0                0   \n",
       "\n",
       "   bearish_pin_bar  Weak follow down  Weak High Tested  \n",
       "0                0                 0                 0  \n",
       "1                0                 0                 0  \n",
       "2                0                 0                 0  \n",
       "3                0                 0                 0  \n",
       "4                0                 0                 0  "
      ]
     },
     "execution_count": 11,
     "metadata": {},
     "output_type": "execute_result"
    }
   ],
   "source": [
    "btc_5min_df['bullish_pin_bar'] = btc_5min_df['bullish_pin_bar'].astype(int)\n",
    "btc_5min_df['Weak follow up'] = btc_5min_df['Weak follow up'].astype(int)\n",
    "btc_5min_df['Weak Low Tested'] = btc_5min_df['Weak Low Tested'].astype(int)\n",
    "btc_5min_df['bearish_pin_bar'] = btc_5min_df['bearish_pin_bar'].astype(int)\n",
    "btc_5min_df['Weak follow down'] = btc_5min_df['Weak follow down'].astype(int)\n",
    "btc_5min_df['Weak High Tested'] = btc_5min_df['Weak High Tested'].astype(int)\n",
    "btc_5min_df.head()"
   ]
  },
  {
   "cell_type": "code",
   "execution_count": 12,
   "id": "5457ac65",
   "metadata": {},
   "outputs": [
    {
     "name": "stdout",
     "output_type": "stream",
     "text": [
      "5312\n",
      "5384\n",
      "38884\n"
     ]
    }
   ],
   "source": [
    "total_btc_5min_bull_pin_bar = btc_5min_df['bullish_pin_bar'].sum()\n",
    "total_btc_5min_weak_up = btc_5min_df['Weak follow up'].sum()\n",
    "total_btc_5min_weak_low_tested = btc_5min_df['Weak Low Tested'].sum()\n",
    "print(total_btc_5min_weak_low_tested)\n",
    "print(total_btc_5min_weak_up)\n",
    "print(total_btc_5min_bull_pin_bar)"
   ]
  },
  {
   "cell_type": "code",
   "execution_count": 13,
   "id": "e4f2c48f",
   "metadata": {},
   "outputs": [
    {
     "name": "stdout",
     "output_type": "stream",
     "text": [
      "13.84631210780784\n",
      "98.6627043090639\n"
     ]
    }
   ],
   "source": [
    "#Percentages\n",
    "btc_5min_percent_weak_bull = ((total_btc_5min_weak_up/total_btc_5min_bull_pin_bar)*100)\n",
    "btc_5min_percent_weak_bull_tested = ((total_btc_5min_weak_low_tested/total_btc_5min_weak_up)*100)\n",
    "print(btc_5min_percent_weak_bull)\n",
    "print(btc_5min_percent_weak_bull_tested)"
   ]
  },
  {
   "cell_type": "code",
   "execution_count": 14,
   "id": "c1b3ef72",
   "metadata": {},
   "outputs": [
    {
     "data": {
      "image/png": "[encoded data removed]",
      "text/plain": [
       "<Figure size 700x700 with 1 Axes>"
      ]
     },
     "metadata": {},
     "output_type": "display_data"
    }
   ],
   "source": [
    "#Setting labels and values\n",
    "labels = ['Lows Tested: Yes', 'Lows Tested: No']\n",
    "sizes = [total_btc_5min_weak_low_tested, total_btc_5min_weak_up - total_btc_5min_weak_low_tested]\n",
    "colors = [\"#c2ff99\", \"#391df2\"]\n",
    "\n",
    "# Plotting\n",
    "fig, ax = plt.subplots(figsize=(7, 7))\n",
    "\n",
    "wedges, texts, autotexts = ax.pie(\n",
    "    sizes,\n",
    "    colors=colors,\n",
    "    autopct='%1.2f%%',\n",
    "    startangle=140,\n",
    "    pctdistance=1.12,\n",
    "    textprops={'color': 'black', 'fontsize': 10}\n",
    ")\n",
    "\n",
    "# Move pie to center\n",
    "ax.set(aspect=\"equal\")\n",
    "\n",
    "# Annotate each percentage outside the slice\n",
    "for autotext in autotexts:\n",
    "    autotext.set_fontsize(10)\n",
    "    autotext.set_weight('bold')\n",
    "\n",
    "# Title in center of the chart\n",
    "plt.title(\"Weak Follow Up Pin Bar\\nLow Breakdown\", fontsize=16, weight='bold', loc='center')\n",
    "\n",
    "# Add legend outside the chart\n",
    "ax.legend(wedges, labels, title=\"Follow Through\", loc=\"center left\", bbox_to_anchor=(1, 0, 0.5, 1))\n",
    "\n",
    "plt.tight_layout()\n",
    "plt.show()"
   ]
  },
  {
   "cell_type": "code",
   "execution_count": 15,
   "id": "174f30a9",
   "metadata": {},
   "outputs": [
    {
     "name": "stdout",
     "output_type": "stream",
     "text": [
      "5041\n",
      "5042\n",
      "37573\n"
     ]
    }
   ],
   "source": [
    "#For 5 minutes time frame weak bearish pin bars\n",
    "total_btc_5min_bear_pin_bar = btc_5min_df['bearish_pin_bar'].sum()\n",
    "total_btc_5min_weak_down = btc_5min_df['Weak follow down'].sum()\n",
    "total_btc_5min_weak_high_tested = btc_5min_df['Weak High Tested'].sum()\n",
    "print(total_btc_5min_weak_high_tested)\n",
    "print(total_btc_5min_weak_down)\n",
    "print(total_btc_5min_bear_pin_bar)"
   ]
  },
  {
   "cell_type": "code",
   "execution_count": 16,
   "id": "93537423",
   "metadata": {},
   "outputs": [
    {
     "name": "stdout",
     "output_type": "stream",
     "text": [
      "13.419210603358794\n",
      "99.98016660055534\n"
     ]
    }
   ],
   "source": [
    "#Percentages\n",
    "btc_5min_percent_weak_bear = ((total_btc_5min_weak_down/total_btc_5min_bear_pin_bar)*100)\n",
    "btc_5min_percent_weak_bear_tested = ((total_btc_5min_weak_high_tested/total_btc_5min_weak_down)*100)\n",
    "print(btc_5min_percent_weak_bear)\n",
    "print(btc_5min_percent_weak_bear_tested)"
   ]
  },
  {
   "cell_type": "code",
   "execution_count": 17,
   "id": "062486b4",
   "metadata": {},
   "outputs": [],
   "source": [
    "# #Setting labels and values\n",
    "# labels = ['Highs Tested: Yes', 'Highs Tested: No']\n",
    "# sizes = [total_btc_5min_weak_high_tested, total_btc_5min_weak_down - total_btc_5min_weak_high_tested]\n",
    "# colors = [\"#f9f959\", \"#bf7548\"]\n",
    "\n",
    "# # Plotting\n",
    "# fig, ax = plt.subplots(figsize=(7, 7))\n",
    "\n",
    "# wedges, texts, autotexts = ax.pie(\n",
    "#     sizes,\n",
    "#     colors=colors,\n",
    "#     autopct='%1.2f%%',\n",
    "#     startangle=140,\n",
    "#     pctdistance=1.12,\n",
    "#     textprops={'color': 'black', 'fontsize': 10}\n",
    "# )\n",
    "\n",
    "# # Move pie to center\n",
    "# ax.set(aspect=\"equal\")\n",
    "\n",
    "# # Annotate each percentage outside the slice\n",
    "# for autotext in autotexts:\n",
    "#     autotext.set_fontsize(10)\n",
    "#     autotext.set_weight('bold')\n",
    "\n",
    "# # Title in center of the chart\n",
    "# plt.title(\"Weak Follow Down Pin Bar\\nHigh tested\", fontsize=16, weight='bold', loc='center')\n",
    "\n",
    "# # Add legend outside the chart\n",
    "# ax.legend(wedges, labels, title=\"Follow Down Action\", loc=\"center left\", bbox_to_anchor=(1, 0, 0.5, 1))\n",
    "\n",
    "# plt.tight_layout()\n",
    "# plt.show()"
   ]
  },
  {
   "cell_type": "code",
   "execution_count": 18,
   "id": "6693dfb8",
   "metadata": {},
   "outputs": [
    {
     "data": {
      "application/vnd.microsoft.datawrangler.viewer.v0+json": {
       "columns": [
        {
         "name": "index",
         "rawType": "int64",
         "type": "integer"
        },
        {
         "name": "Unnamed: 0",
         "rawType": "int64",
         "type": "integer"
        },
        {
         "name": "timestamp",
         "rawType": "object",
         "type": "string"
        },
        {
         "name": "open",
         "rawType": "float64",
         "type": "float"
        },
        {
         "name": "high",
         "rawType": "float64",
         "type": "float"
        },
        {
         "name": "low",
         "rawType": "float64",
         "type": "float"
        },
        {
         "name": "close",
         "rawType": "float64",
         "type": "float"
        },
        {
         "name": "volume",
         "rawType": "float64",
         "type": "float"
        },
        {
         "name": "bullish_pin_bar",
         "rawType": "bool",
         "type": "boolean"
        },
        {
         "name": "Weak follow up",
         "rawType": "bool",
         "type": "boolean"
        },
        {
         "name": "Weak Low Tested",
         "rawType": "bool",
         "type": "boolean"
        },
        {
         "name": "bearish_pin_bar",
         "rawType": "bool",
         "type": "boolean"
        },
        {
         "name": "Weak follow down",
         "rawType": "bool",
         "type": "boolean"
        },
        {
         "name": "Weak High Tested",
         "rawType": "bool",
         "type": "boolean"
        }
       ],
       "ref": "39bcd22a-7f80-4054-a6cf-ca1109942dec",
       "rows": [
        [
         "0",
         "0",
         "2022-07-04 20:21:00",
         "19817.9",
         "19817.9",
         "19782.8",
         "19786.0",
         "763.841",
         "False",
         "False",
         "False",
         "False",
         "False",
         "False"
        ],
        [
         "1",
         "1",
         "2022-07-04 20:24:00",
         "19785.9",
         "19785.9",
         "19719.5",
         "19775.9",
         "2424.585",
         "False",
         "False",
         "False",
         "False",
         "False",
         "False"
        ],
        [
         "2",
         "2",
         "2022-07-04 20:27:00",
         "19776.0",
         "19793.6",
         "19768.2",
         "19776.6",
         "647.572",
         "False",
         "False",
         "False",
         "False",
         "False",
         "False"
        ],
        [
         "3",
         "3",
         "2022-07-04 20:30:00",
         "19776.7",
         "19776.7",
         "19735.5",
         "19765.2",
         "714.112",
         "False",
         "False",
         "False",
         "False",
         "False",
         "False"
        ],
        [
         "4",
         "4",
         "2022-07-04 20:33:00",
         "19765.1",
         "19769.6",
         "19754.1",
         "19758.3",
         "249.91",
         "False",
         "False",
         "False",
         "True",
         "False",
         "False"
        ]
       ],
       "shape": {
        "columns": 13,
        "rows": 5
       }
      },
      "text/html": [
       "<div>\n",
       "<style scoped>\n",
       "    .dataframe tbody tr th:only-of-type {\n",
       "        vertical-align: middle;\n",
       "    }\n",
       "\n",
       "    .dataframe tbody tr th {\n",
       "        vertical-align: top;\n",
       "    }\n",
       "\n",
       "    .dataframe thead th {\n",
       "        text-align: right;\n",
       "    }\n",
       "</style>\n",
       "<table border=\"1\" class=\"dataframe\">\n",
       "  <thead>\n",
       "    <tr style=\"text-align: right;\">\n",
       "      <th></th>\n",
       "      <th>Unnamed: 0</th>\n",
       "      <th>timestamp</th>\n",
       "      <th>open</th>\n",
       "      <th>high</th>\n",
       "      <th>low</th>\n",
       "      <th>close</th>\n",
       "      <th>volume</th>\n",
       "      <th>bullish_pin_bar</th>\n",
       "      <th>Weak follow up</th>\n",
       "      <th>Weak Low Tested</th>\n",
       "      <th>bearish_pin_bar</th>\n",
       "      <th>Weak follow down</th>\n",
       "      <th>Weak High Tested</th>\n",
       "    </tr>\n",
       "  </thead>\n",
       "  <tbody>\n",
       "    <tr>\n",
       "      <th>0</th>\n",
       "      <td>0</td>\n",
       "      <td>2022-07-04 20:21:00</td>\n",
       "      <td>19817.9</td>\n",
       "      <td>19817.9</td>\n",
       "      <td>19782.8</td>\n",
       "      <td>19786.0</td>\n",
       "      <td>763.841</td>\n",
       "      <td>False</td>\n",
       "      <td>False</td>\n",
       "      <td>False</td>\n",
       "      <td>False</td>\n",
       "      <td>False</td>\n",
       "      <td>False</td>\n",
       "    </tr>\n",
       "    <tr>\n",
       "      <th>1</th>\n",
       "      <td>1</td>\n",
       "      <td>2022-07-04 20:24:00</td>\n",
       "      <td>19785.9</td>\n",
       "      <td>19785.9</td>\n",
       "      <td>19719.5</td>\n",
       "      <td>19775.9</td>\n",
       "      <td>2424.585</td>\n",
       "      <td>False</td>\n",
       "      <td>False</td>\n",
       "      <td>False</td>\n",
       "      <td>False</td>\n",
       "      <td>False</td>\n",
       "      <td>False</td>\n",
       "    </tr>\n",
       "    <tr>\n",
       "      <th>2</th>\n",
       "      <td>2</td>\n",
       "      <td>2022-07-04 20:27:00</td>\n",
       "      <td>19776.0</td>\n",
       "      <td>19793.6</td>\n",
       "      <td>19768.2</td>\n",
       "      <td>19776.6</td>\n",
       "      <td>647.572</td>\n",
       "      <td>False</td>\n",
       "      <td>False</td>\n",
       "      <td>False</td>\n",
       "      <td>False</td>\n",
       "      <td>False</td>\n",
       "      <td>False</td>\n",
       "    </tr>\n",
       "    <tr>\n",
       "      <th>3</th>\n",
       "      <td>3</td>\n",
       "      <td>2022-07-04 20:30:00</td>\n",
       "      <td>19776.7</td>\n",
       "      <td>19776.7</td>\n",
       "      <td>19735.5</td>\n",
       "      <td>19765.2</td>\n",
       "      <td>714.112</td>\n",
       "      <td>False</td>\n",
       "      <td>False</td>\n",
       "      <td>False</td>\n",
       "      <td>False</td>\n",
       "      <td>False</td>\n",
       "      <td>False</td>\n",
       "    </tr>\n",
       "    <tr>\n",
       "      <th>4</th>\n",
       "      <td>4</td>\n",
       "      <td>2022-07-04 20:33:00</td>\n",
       "      <td>19765.1</td>\n",
       "      <td>19769.6</td>\n",
       "      <td>19754.1</td>\n",
       "      <td>19758.3</td>\n",
       "      <td>249.910</td>\n",
       "      <td>False</td>\n",
       "      <td>False</td>\n",
       "      <td>False</td>\n",
       "      <td>True</td>\n",
       "      <td>False</td>\n",
       "      <td>False</td>\n",
       "    </tr>\n",
       "  </tbody>\n",
       "</table>\n",
       "</div>"
      ],
      "text/plain": [
       "   Unnamed: 0            timestamp     open     high      low    close  \\\n",
       "0           0  2022-07-04 20:21:00  19817.9  19817.9  19782.8  19786.0   \n",
       "1           1  2022-07-04 20:24:00  19785.9  19785.9  19719.5  19775.9   \n",
       "2           2  2022-07-04 20:27:00  19776.0  19793.6  19768.2  19776.6   \n",
       "3           3  2022-07-04 20:30:00  19776.7  19776.7  19735.5  19765.2   \n",
       "4           4  2022-07-04 20:33:00  19765.1  19769.6  19754.1  19758.3   \n",
       "\n",
       "     volume  bullish_pin_bar  Weak follow up  Weak Low Tested  \\\n",
       "0   763.841            False           False            False   \n",
       "1  2424.585            False           False            False   \n",
       "2   647.572            False           False            False   \n",
       "3   714.112            False           False            False   \n",
       "4   249.910            False           False            False   \n",
       "\n",
       "   bearish_pin_bar  Weak follow down  Weak High Tested  \n",
       "0            False             False             False  \n",
       "1            False             False             False  \n",
       "2            False             False             False  \n",
       "3            False             False             False  \n",
       "4             True             False             False  "
      ]
     },
     "execution_count": 18,
     "metadata": {},
     "output_type": "execute_result"
    }
   ],
   "source": [
    "# For 3 minutes time frame weak bullish pin bars\n",
    "btc_3min_data = pd.read_csv('b_3min_analyzed.csv')\n",
    "btc_3min_df = pd.DataFrame(btc_3min_data)\n",
    "btc_3min_df.head()"
   ]
  },
  {
   "cell_type": "code",
   "execution_count": 19,
   "id": "2be6d017",
   "metadata": {},
   "outputs": [
    {
     "data": {
      "application/vnd.microsoft.datawrangler.viewer.v0+json": {
       "columns": [
        {
         "name": "index",
         "rawType": "int64",
         "type": "integer"
        },
        {
         "name": "Unnamed: 0",
         "rawType": "int64",
         "type": "integer"
        },
        {
         "name": "timestamp",
         "rawType": "object",
         "type": "string"
        },
        {
         "name": "open",
         "rawType": "float64",
         "type": "float"
        },
        {
         "name": "high",
         "rawType": "float64",
         "type": "float"
        },
        {
         "name": "low",
         "rawType": "float64",
         "type": "float"
        },
        {
         "name": "close",
         "rawType": "float64",
         "type": "float"
        },
        {
         "name": "volume",
         "rawType": "float64",
         "type": "float"
        },
        {
         "name": "bullish_pin_bar",
         "rawType": "int64",
         "type": "integer"
        },
        {
         "name": "Weak follow up",
         "rawType": "int64",
         "type": "integer"
        },
        {
         "name": "Weak Low Tested",
         "rawType": "int64",
         "type": "integer"
        },
        {
         "name": "bearish_pin_bar",
         "rawType": "int64",
         "type": "integer"
        },
        {
         "name": "Weak follow down",
         "rawType": "int64",
         "type": "integer"
        },
        {
         "name": "Weak High Tested",
         "rawType": "int64",
         "type": "integer"
        }
       ],
       "ref": "a636a61f-4f74-489b-a462-1d0776525a17",
       "rows": [
        [
         "0",
         "0",
         "2022-07-04 20:21:00",
         "19817.9",
         "19817.9",
         "19782.8",
         "19786.0",
         "763.841",
         "0",
         "0",
         "0",
         "0",
         "0",
         "0"
        ],
        [
         "1",
         "1",
         "2022-07-04 20:24:00",
         "19785.9",
         "19785.9",
         "19719.5",
         "19775.9",
         "2424.585",
         "0",
         "0",
         "0",
         "0",
         "0",
         "0"
        ],
        [
         "2",
         "2",
         "2022-07-04 20:27:00",
         "19776.0",
         "19793.6",
         "19768.2",
         "19776.6",
         "647.572",
         "0",
         "0",
         "0",
         "0",
         "0",
         "0"
        ],
        [
         "3",
         "3",
         "2022-07-04 20:30:00",
         "19776.7",
         "19776.7",
         "19735.5",
         "19765.2",
         "714.112",
         "0",
         "0",
         "0",
         "0",
         "0",
         "0"
        ],
        [
         "4",
         "4",
         "2022-07-04 20:33:00",
         "19765.1",
         "19769.6",
         "19754.1",
         "19758.3",
         "249.91",
         "0",
         "0",
         "0",
         "1",
         "0",
         "0"
        ]
       ],
       "shape": {
        "columns": 13,
        "rows": 5
       }
      },
      "text/html": [
       "<div>\n",
       "<style scoped>\n",
       "    .dataframe tbody tr th:only-of-type {\n",
       "        vertical-align: middle;\n",
       "    }\n",
       "\n",
       "    .dataframe tbody tr th {\n",
       "        vertical-align: top;\n",
       "    }\n",
       "\n",
       "    .dataframe thead th {\n",
       "        text-align: right;\n",
       "    }\n",
       "</style>\n",
       "<table border=\"1\" class=\"dataframe\">\n",
       "  <thead>\n",
       "    <tr style=\"text-align: right;\">\n",
       "      <th></th>\n",
       "      <th>Unnamed: 0</th>\n",
       "      <th>timestamp</th>\n",
       "      <th>open</th>\n",
       "      <th>high</th>\n",
       "      <th>low</th>\n",
       "      <th>close</th>\n",
       "      <th>volume</th>\n",
       "      <th>bullish_pin_bar</th>\n",
       "      <th>Weak follow up</th>\n",
       "      <th>Weak Low Tested</th>\n",
       "      <th>bearish_pin_bar</th>\n",
       "      <th>Weak follow down</th>\n",
       "      <th>Weak High Tested</th>\n",
       "    </tr>\n",
       "  </thead>\n",
       "  <tbody>\n",
       "    <tr>\n",
       "      <th>0</th>\n",
       "      <td>0</td>\n",
       "      <td>2022-07-04 20:21:00</td>\n",
       "      <td>19817.9</td>\n",
       "      <td>19817.9</td>\n",
       "      <td>19782.8</td>\n",
       "      <td>19786.0</td>\n",
       "      <td>763.841</td>\n",
       "      <td>0</td>\n",
       "      <td>0</td>\n",
       "      <td>0</td>\n",
       "      <td>0</td>\n",
       "      <td>0</td>\n",
       "      <td>0</td>\n",
       "    </tr>\n",
       "    <tr>\n",
       "      <th>1</th>\n",
       "      <td>1</td>\n",
       "      <td>2022-07-04 20:24:00</td>\n",
       "      <td>19785.9</td>\n",
       "      <td>19785.9</td>\n",
       "      <td>19719.5</td>\n",
       "      <td>19775.9</td>\n",
       "      <td>2424.585</td>\n",
       "      <td>0</td>\n",
       "      <td>0</td>\n",
       "      <td>0</td>\n",
       "      <td>0</td>\n",
       "      <td>0</td>\n",
       "      <td>0</td>\n",
       "    </tr>\n",
       "    <tr>\n",
       "      <th>2</th>\n",
       "      <td>2</td>\n",
       "      <td>2022-07-04 20:27:00</td>\n",
       "      <td>19776.0</td>\n",
       "      <td>19793.6</td>\n",
       "      <td>19768.2</td>\n",
       "      <td>19776.6</td>\n",
       "      <td>647.572</td>\n",
       "      <td>0</td>\n",
       "      <td>0</td>\n",
       "      <td>0</td>\n",
       "      <td>0</td>\n",
       "      <td>0</td>\n",
       "      <td>0</td>\n",
       "    </tr>\n",
       "    <tr>\n",
       "      <th>3</th>\n",
       "      <td>3</td>\n",
       "      <td>2022-07-04 20:30:00</td>\n",
       "      <td>19776.7</td>\n",
       "      <td>19776.7</td>\n",
       "      <td>19735.5</td>\n",
       "      <td>19765.2</td>\n",
       "      <td>714.112</td>\n",
       "      <td>0</td>\n",
       "      <td>0</td>\n",
       "      <td>0</td>\n",
       "      <td>0</td>\n",
       "      <td>0</td>\n",
       "      <td>0</td>\n",
       "    </tr>\n",
       "    <tr>\n",
       "      <th>4</th>\n",
       "      <td>4</td>\n",
       "      <td>2022-07-04 20:33:00</td>\n",
       "      <td>19765.1</td>\n",
       "      <td>19769.6</td>\n",
       "      <td>19754.1</td>\n",
       "      <td>19758.3</td>\n",
       "      <td>249.910</td>\n",
       "      <td>0</td>\n",
       "      <td>0</td>\n",
       "      <td>0</td>\n",
       "      <td>1</td>\n",
       "      <td>0</td>\n",
       "      <td>0</td>\n",
       "    </tr>\n",
       "  </tbody>\n",
       "</table>\n",
       "</div>"
      ],
      "text/plain": [
       "   Unnamed: 0            timestamp     open     high      low    close  \\\n",
       "0           0  2022-07-04 20:21:00  19817.9  19817.9  19782.8  19786.0   \n",
       "1           1  2022-07-04 20:24:00  19785.9  19785.9  19719.5  19775.9   \n",
       "2           2  2022-07-04 20:27:00  19776.0  19793.6  19768.2  19776.6   \n",
       "3           3  2022-07-04 20:30:00  19776.7  19776.7  19735.5  19765.2   \n",
       "4           4  2022-07-04 20:33:00  19765.1  19769.6  19754.1  19758.3   \n",
       "\n",
       "     volume  bullish_pin_bar  Weak follow up  Weak Low Tested  \\\n",
       "0   763.841                0               0                0   \n",
       "1  2424.585                0               0                0   \n",
       "2   647.572                0               0                0   \n",
       "3   714.112                0               0                0   \n",
       "4   249.910                0               0                0   \n",
       "\n",
       "   bearish_pin_bar  Weak follow down  Weak High Tested  \n",
       "0                0                 0                 0  \n",
       "1                0                 0                 0  \n",
       "2                0                 0                 0  \n",
       "3                0                 0                 0  \n",
       "4                1                 0                 0  "
      ]
     },
     "execution_count": 19,
     "metadata": {},
     "output_type": "execute_result"
    }
   ],
   "source": [
    "# Replacing True/False with 0 and 1\n",
    "btc_3min_df['bullish_pin_bar'] = btc_3min_df['bullish_pin_bar'].astype(int)\n",
    "btc_3min_df['Weak follow up'] = btc_3min_df['Weak follow up'].astype(int)\n",
    "btc_3min_df['Weak Low Tested'] = btc_3min_df['Weak Low Tested'].astype(int)\n",
    "btc_3min_df['bearish_pin_bar'] = btc_3min_df['bearish_pin_bar'].astype(int)\n",
    "btc_3min_df['Weak follow down'] = btc_3min_df['Weak follow down'].astype(int)\n",
    "btc_3min_df['Weak High Tested'] = btc_3min_df['Weak High Tested'].astype(int)\n",
    "btc_3min_df.head()"
   ]
  },
  {
   "cell_type": "code",
   "execution_count": 20,
   "id": "b5119efd",
   "metadata": {},
   "outputs": [
    {
     "name": "stdout",
     "output_type": "stream",
     "text": [
      "8664\n",
      "8760\n",
      "60853\n"
     ]
    }
   ],
   "source": [
    "total_btc_3min_bull_pin_bar = btc_3min_df['bullish_pin_bar'].sum()\n",
    "total_btc_3min_weak_up = btc_3min_df['Weak follow up'].sum()\n",
    "total_btc_3min_weak_low_tested = btc_3min_df['Weak Low Tested'].sum()\n",
    "print(total_btc_3min_weak_low_tested)\n",
    "print(total_btc_3min_weak_up)\n",
    "print(total_btc_3min_bull_pin_bar)"
   ]
  },
  {
   "cell_type": "code",
   "execution_count": 21,
   "id": "e3f51963",
   "metadata": {},
   "outputs": [
    {
     "name": "stdout",
     "output_type": "stream",
     "text": [
      "14.395346162062674\n",
      "98.9041095890411\n"
     ]
    }
   ],
   "source": [
    "#Percentages\n",
    "btc_3min_percent_weak_bull = ((total_btc_3min_weak_up/total_btc_3min_bull_pin_bar)*100)\n",
    "btc_3min_percent_weak_bull_tested = ((total_btc_3min_weak_low_tested/total_btc_3min_weak_up)*100)\n",
    "print(btc_3min_percent_weak_bull)\n",
    "print(btc_3min_percent_weak_bull_tested)"
   ]
  },
  {
   "cell_type": "code",
   "execution_count": 22,
   "id": "cdd97f6e",
   "metadata": {},
   "outputs": [
    {
     "data": {
      "image/png": "[encoded data removed]",
      "text/plain": [
       "<Figure size 700x700 with 1 Axes>"
      ]
     },
     "metadata": {},
     "output_type": "display_data"
    }
   ],
   "source": [
    "#Setting labels and values\n",
    "labels = ['Lows Tested: Yes', 'Lows Tested: No']\n",
    "sizes = [total_btc_3min_weak_low_tested, total_btc_3min_weak_up - total_btc_3min_weak_low_tested]\n",
    "colors = [\"#48e5f0\", \"#d91df2\"]\n",
    "\n",
    "# Plotting\n",
    "fig, ax = plt.subplots(figsize=(7, 7))\n",
    "\n",
    "wedges, texts, autotexts = ax.pie(\n",
    "    sizes,\n",
    "    colors=colors,\n",
    "    autopct='%1.2f%%',\n",
    "    startangle=140,\n",
    "    pctdistance=1.12,\n",
    "    textprops={'color': 'black', 'fontsize': 10}\n",
    ")\n",
    "\n",
    "# Move pie to center\n",
    "ax.set(aspect=\"equal\")\n",
    "\n",
    "# Annotate each percentage outside the slice\n",
    "for autotext in autotexts:\n",
    "    autotext.set_fontsize(10)\n",
    "    autotext.set_weight('bold')\n",
    "\n",
    "# Title in center of the chart\n",
    "plt.title(\"Weak Follow Up Pin Bar\\nLow Breakdown\", fontsize=16, weight='bold', loc='center')\n",
    "\n",
    "# Add legend outside the chart\n",
    "ax.legend(wedges, labels, title=\"Follow Through\", loc=\"center left\", bbox_to_anchor=(1, 0, 0.5, 1))\n",
    "\n",
    "plt.tight_layout()\n",
    "plt.show()"
   ]
  },
  {
   "cell_type": "code",
   "execution_count": 23,
   "id": "3838a5b5",
   "metadata": {},
   "outputs": [
    {
     "name": "stdout",
     "output_type": "stream",
     "text": [
      "8328\n",
      "8328\n",
      "60853\n"
     ]
    }
   ],
   "source": [
    "#For 3 minutes weak bearish pin bars\n",
    "total_btc_3min_bear_pin_bar = btc_3min_df['bullish_pin_bar'].sum()\n",
    "total_btc_3min_weak_down = btc_3min_df['Weak follow down'].sum()\n",
    "total_btc_3min_weak_high_tested = btc_3min_df['Weak High Tested'].sum()\n",
    "print(total_btc_3min_weak_high_tested)\n",
    "print(total_btc_3min_weak_down)\n",
    "print(total_btc_3min_bear_pin_bar)"
   ]
  },
  {
   "cell_type": "code",
   "execution_count": 24,
   "id": "bbe7a28f",
   "metadata": {},
   "outputs": [
    {
     "name": "stdout",
     "output_type": "stream",
     "text": [
      "13.685438680097942\n",
      "100.0\n"
     ]
    }
   ],
   "source": [
    "#Percentages\n",
    "btc_3min_percent_weak_bear = ((total_btc_3min_weak_down/total_btc_3min_bear_pin_bar)*100)\n",
    "btc_3min_percent_weak_bear_tested = ((total_btc_3min_weak_high_tested/total_btc_3min_weak_down)*100)\n",
    "print(btc_3min_percent_weak_bear)\n",
    "print(btc_3min_percent_weak_bear_tested)"
   ]
  },
  {
   "cell_type": "code",
   "execution_count": 25,
   "id": "40d3779b",
   "metadata": {},
   "outputs": [],
   "source": [
    "# #Setting labels and values\n",
    "# labels = ['Highs Tested: Yes', 'Highs Tested: No']\n",
    "# sizes = [total_btc_3min_weak_high_tested, total_btc_3min_weak_down - total_btc_3min_weak_high_tested]\n",
    "# colors = [\"#5c36f2\", \"#1df2a4\"]\n",
    "\n",
    "# # Plotting\n",
    "# fig, ax = plt.subplots(figsize=(7, 7))\n",
    "\n",
    "# wedges, texts, autotexts = ax.pie(\n",
    "#     sizes,\n",
    "#     colors=colors,\n",
    "#     autopct='%1.2f%%',\n",
    "#     startangle=140,\n",
    "#     pctdistance=1.12,\n",
    "#     textprops={'color': 'black', 'fontsize': 10}\n",
    "# )\n",
    "\n",
    "# # Move pie to center\n",
    "# ax.set(aspect=\"equal\")\n",
    "\n",
    "# # Annotate each percentage outside the slice\n",
    "# for autotext in autotexts:\n",
    "#     autotext.set_fontsize(10)\n",
    "#     autotext.set_weight('bold')\n",
    "\n",
    "# # Title in center of the chart\n",
    "# plt.title(\"Weak Follow Down Pin Bar\\nHigh tested\", fontsize=16, weight='bold', loc='center')\n",
    "\n",
    "# # Add legend outside the chart\n",
    "# ax.legend(wedges, labels, title=\"Follow Through\", loc=\"center left\", bbox_to_anchor=(1, 0, 0.5, 1))\n",
    "\n",
    "# plt.tight_layout()\n",
    "# plt.show()"
   ]
  },
  {
   "cell_type": "markdown",
   "id": "51b1b5a8",
   "metadata": {},
   "source": [
    "For ETHUSDT"
   ]
  },
  {
   "cell_type": "code",
   "execution_count": 26,
   "id": "b052e49f",
   "metadata": {},
   "outputs": [
    {
     "data": {
      "application/vnd.microsoft.datawrangler.viewer.v0+json": {
       "columns": [
        {
         "name": "index",
         "rawType": "int64",
         "type": "integer"
        },
        {
         "name": "Unnamed: 0",
         "rawType": "int64",
         "type": "integer"
        },
        {
         "name": "timestamp",
         "rawType": "object",
         "type": "string"
        },
        {
         "name": "open",
         "rawType": "float64",
         "type": "float"
        },
        {
         "name": "high",
         "rawType": "float64",
         "type": "float"
        },
        {
         "name": "low",
         "rawType": "float64",
         "type": "float"
        },
        {
         "name": "close",
         "rawType": "float64",
         "type": "float"
        },
        {
         "name": "volume",
         "rawType": "float64",
         "type": "float"
        },
        {
         "name": "bullish_pin_bar",
         "rawType": "bool",
         "type": "boolean"
        },
        {
         "name": "Weak follow up",
         "rawType": "bool",
         "type": "boolean"
        },
        {
         "name": "Weak Low Tested",
         "rawType": "bool",
         "type": "boolean"
        },
        {
         "name": "bearish_pin_bar",
         "rawType": "bool",
         "type": "boolean"
        },
        {
         "name": "Weak follow down",
         "rawType": "bool",
         "type": "boolean"
        },
        {
         "name": "Weak High Tested",
         "rawType": "bool",
         "type": "boolean"
        }
       ],
       "ref": "7137b72e-c376-4906-82dc-93355aefb40b",
       "rows": [
        [
         "0",
         "0",
         "2022-07-04 20:45:00",
         "1119.19",
         "1124.05",
         "1118.5",
         "1121.29",
         "27557.359",
         "False",
         "False",
         "False",
         "False",
         "False",
         "False"
        ],
        [
         "1",
         "1",
         "2022-07-04 21:00:00",
         "1121.29",
         "1123.41",
         "1119.14",
         "1123.36",
         "17761.827",
         "True",
         "False",
         "False",
         "False",
         "False",
         "False"
        ],
        [
         "2",
         "2",
         "2022-07-04 21:15:00",
         "1123.35",
         "1125.17",
         "1120.46",
         "1120.86",
         "17180.641",
         "False",
         "False",
         "False",
         "False",
         "False",
         "False"
        ],
        [
         "3",
         "3",
         "2022-07-04 21:30:00",
         "1120.86",
         "1134.23",
         "1120.3",
         "1126.59",
         "49539.554",
         "False",
         "False",
         "False",
         "False",
         "False",
         "False"
        ],
        [
         "4",
         "4",
         "2022-07-04 21:45:00",
         "1126.59",
         "1150.0",
         "1126.13",
         "1134.54",
         "99346.667",
         "False",
         "False",
         "False",
         "False",
         "False",
         "False"
        ]
       ],
       "shape": {
        "columns": 13,
        "rows": 5
       }
      },
      "text/html": [
       "<div>\n",
       "<style scoped>\n",
       "    .dataframe tbody tr th:only-of-type {\n",
       "        vertical-align: middle;\n",
       "    }\n",
       "\n",
       "    .dataframe tbody tr th {\n",
       "        vertical-align: top;\n",
       "    }\n",
       "\n",
       "    .dataframe thead th {\n",
       "        text-align: right;\n",
       "    }\n",
       "</style>\n",
       "<table border=\"1\" class=\"dataframe\">\n",
       "  <thead>\n",
       "    <tr style=\"text-align: right;\">\n",
       "      <th></th>\n",
       "      <th>Unnamed: 0</th>\n",
       "      <th>timestamp</th>\n",
       "      <th>open</th>\n",
       "      <th>high</th>\n",
       "      <th>low</th>\n",
       "      <th>close</th>\n",
       "      <th>volume</th>\n",
       "      <th>bullish_pin_bar</th>\n",
       "      <th>Weak follow up</th>\n",
       "      <th>Weak Low Tested</th>\n",
       "      <th>bearish_pin_bar</th>\n",
       "      <th>Weak follow down</th>\n",
       "      <th>Weak High Tested</th>\n",
       "    </tr>\n",
       "  </thead>\n",
       "  <tbody>\n",
       "    <tr>\n",
       "      <th>0</th>\n",
       "      <td>0</td>\n",
       "      <td>2022-07-04 20:45:00</td>\n",
       "      <td>1119.19</td>\n",
       "      <td>1124.05</td>\n",
       "      <td>1118.50</td>\n",
       "      <td>1121.29</td>\n",
       "      <td>27557.359</td>\n",
       "      <td>False</td>\n",
       "      <td>False</td>\n",
       "      <td>False</td>\n",
       "      <td>False</td>\n",
       "      <td>False</td>\n",
       "      <td>False</td>\n",
       "    </tr>\n",
       "    <tr>\n",
       "      <th>1</th>\n",
       "      <td>1</td>\n",
       "      <td>2022-07-04 21:00:00</td>\n",
       "      <td>1121.29</td>\n",
       "      <td>1123.41</td>\n",
       "      <td>1119.14</td>\n",
       "      <td>1123.36</td>\n",
       "      <td>17761.827</td>\n",
       "      <td>True</td>\n",
       "      <td>False</td>\n",
       "      <td>False</td>\n",
       "      <td>False</td>\n",
       "      <td>False</td>\n",
       "      <td>False</td>\n",
       "    </tr>\n",
       "    <tr>\n",
       "      <th>2</th>\n",
       "      <td>2</td>\n",
       "      <td>2022-07-04 21:15:00</td>\n",
       "      <td>1123.35</td>\n",
       "      <td>1125.17</td>\n",
       "      <td>1120.46</td>\n",
       "      <td>1120.86</td>\n",
       "      <td>17180.641</td>\n",
       "      <td>False</td>\n",
       "      <td>False</td>\n",
       "      <td>False</td>\n",
       "      <td>False</td>\n",
       "      <td>False</td>\n",
       "      <td>False</td>\n",
       "    </tr>\n",
       "    <tr>\n",
       "      <th>3</th>\n",
       "      <td>3</td>\n",
       "      <td>2022-07-04 21:30:00</td>\n",
       "      <td>1120.86</td>\n",
       "      <td>1134.23</td>\n",
       "      <td>1120.30</td>\n",
       "      <td>1126.59</td>\n",
       "      <td>49539.554</td>\n",
       "      <td>False</td>\n",
       "      <td>False</td>\n",
       "      <td>False</td>\n",
       "      <td>False</td>\n",
       "      <td>False</td>\n",
       "      <td>False</td>\n",
       "    </tr>\n",
       "    <tr>\n",
       "      <th>4</th>\n",
       "      <td>4</td>\n",
       "      <td>2022-07-04 21:45:00</td>\n",
       "      <td>1126.59</td>\n",
       "      <td>1150.00</td>\n",
       "      <td>1126.13</td>\n",
       "      <td>1134.54</td>\n",
       "      <td>99346.667</td>\n",
       "      <td>False</td>\n",
       "      <td>False</td>\n",
       "      <td>False</td>\n",
       "      <td>False</td>\n",
       "      <td>False</td>\n",
       "      <td>False</td>\n",
       "    </tr>\n",
       "  </tbody>\n",
       "</table>\n",
       "</div>"
      ],
      "text/plain": [
       "   Unnamed: 0            timestamp     open     high      low    close  \\\n",
       "0           0  2022-07-04 20:45:00  1119.19  1124.05  1118.50  1121.29   \n",
       "1           1  2022-07-04 21:00:00  1121.29  1123.41  1119.14  1123.36   \n",
       "2           2  2022-07-04 21:15:00  1123.35  1125.17  1120.46  1120.86   \n",
       "3           3  2022-07-04 21:30:00  1120.86  1134.23  1120.30  1126.59   \n",
       "4           4  2022-07-04 21:45:00  1126.59  1150.00  1126.13  1134.54   \n",
       "\n",
       "      volume  bullish_pin_bar  Weak follow up  Weak Low Tested  \\\n",
       "0  27557.359            False           False            False   \n",
       "1  17761.827             True           False            False   \n",
       "2  17180.641            False           False            False   \n",
       "3  49539.554            False           False            False   \n",
       "4  99346.667            False           False            False   \n",
       "\n",
       "   bearish_pin_bar  Weak follow down  Weak High Tested  \n",
       "0            False             False             False  \n",
       "1            False             False             False  \n",
       "2            False             False             False  \n",
       "3            False             False             False  \n",
       "4            False             False             False  "
      ]
     },
     "execution_count": 26,
     "metadata": {},
     "output_type": "execute_result"
    }
   ],
   "source": [
    "#For 15 minutes time frame weak bullish pin bars\n",
    "eth_15min_data = pd.read_csv('e_15min_analyzed.csv')\n",
    "eth_15min_df = pd.DataFrame(eth_15min_data)\n",
    "eth_15min_df.head()"
   ]
  },
  {
   "cell_type": "code",
   "execution_count": 27,
   "id": "23b358e3",
   "metadata": {},
   "outputs": [
    {
     "data": {
      "application/vnd.microsoft.datawrangler.viewer.v0+json": {
       "columns": [
        {
         "name": "index",
         "rawType": "int64",
         "type": "integer"
        },
        {
         "name": "Unnamed: 0",
         "rawType": "int64",
         "type": "integer"
        },
        {
         "name": "timestamp",
         "rawType": "object",
         "type": "string"
        },
        {
         "name": "open",
         "rawType": "float64",
         "type": "float"
        },
        {
         "name": "high",
         "rawType": "float64",
         "type": "float"
        },
        {
         "name": "low",
         "rawType": "float64",
         "type": "float"
        },
        {
         "name": "close",
         "rawType": "float64",
         "type": "float"
        },
        {
         "name": "volume",
         "rawType": "float64",
         "type": "float"
        },
        {
         "name": "bullish_pin_bar",
         "rawType": "int64",
         "type": "integer"
        },
        {
         "name": "Weak follow up",
         "rawType": "int64",
         "type": "integer"
        },
        {
         "name": "Weak Low Tested",
         "rawType": "int64",
         "type": "integer"
        },
        {
         "name": "bearish_pin_bar",
         "rawType": "int64",
         "type": "integer"
        },
        {
         "name": "Weak follow down",
         "rawType": "int64",
         "type": "integer"
        },
        {
         "name": "Weak High Tested",
         "rawType": "int64",
         "type": "integer"
        }
       ],
       "ref": "479a103f-a647-493c-9e5d-aaaff40a19e9",
       "rows": [
        [
         "0",
         "0",
         "2022-07-04 20:45:00",
         "1119.19",
         "1124.05",
         "1118.5",
         "1121.29",
         "27557.359",
         "0",
         "0",
         "0",
         "0",
         "0",
         "0"
        ],
        [
         "1",
         "1",
         "2022-07-04 21:00:00",
         "1121.29",
         "1123.41",
         "1119.14",
         "1123.36",
         "17761.827",
         "1",
         "0",
         "0",
         "0",
         "0",
         "0"
        ],
        [
         "2",
         "2",
         "2022-07-04 21:15:00",
         "1123.35",
         "1125.17",
         "1120.46",
         "1120.86",
         "17180.641",
         "0",
         "0",
         "0",
         "0",
         "0",
         "0"
        ],
        [
         "3",
         "3",
         "2022-07-04 21:30:00",
         "1120.86",
         "1134.23",
         "1120.3",
         "1126.59",
         "49539.554",
         "0",
         "0",
         "0",
         "0",
         "0",
         "0"
        ],
        [
         "4",
         "4",
         "2022-07-04 21:45:00",
         "1126.59",
         "1150.0",
         "1126.13",
         "1134.54",
         "99346.667",
         "0",
         "0",
         "0",
         "0",
         "0",
         "0"
        ]
       ],
       "shape": {
        "columns": 13,
        "rows": 5
       }
      },
      "text/html": [
       "<div>\n",
       "<style scoped>\n",
       "    .dataframe tbody tr th:only-of-type {\n",
       "        vertical-align: middle;\n",
       "    }\n",
       "\n",
       "    .dataframe tbody tr th {\n",
       "        vertical-align: top;\n",
       "    }\n",
       "\n",
       "    .dataframe thead th {\n",
       "        text-align: right;\n",
       "    }\n",
       "</style>\n",
       "<table border=\"1\" class=\"dataframe\">\n",
       "  <thead>\n",
       "    <tr style=\"text-align: right;\">\n",
       "      <th></th>\n",
       "      <th>Unnamed: 0</th>\n",
       "      <th>timestamp</th>\n",
       "      <th>open</th>\n",
       "      <th>high</th>\n",
       "      <th>low</th>\n",
       "      <th>close</th>\n",
       "      <th>volume</th>\n",
       "      <th>bullish_pin_bar</th>\n",
       "      <th>Weak follow up</th>\n",
       "      <th>Weak Low Tested</th>\n",
       "      <th>bearish_pin_bar</th>\n",
       "      <th>Weak follow down</th>\n",
       "      <th>Weak High Tested</th>\n",
       "    </tr>\n",
       "  </thead>\n",
       "  <tbody>\n",
       "    <tr>\n",
       "      <th>0</th>\n",
       "      <td>0</td>\n",
       "      <td>2022-07-04 20:45:00</td>\n",
       "      <td>1119.19</td>\n",
       "      <td>1124.05</td>\n",
       "      <td>1118.50</td>\n",
       "      <td>1121.29</td>\n",
       "      <td>27557.359</td>\n",
       "      <td>0</td>\n",
       "      <td>0</td>\n",
       "      <td>0</td>\n",
       "      <td>0</td>\n",
       "      <td>0</td>\n",
       "      <td>0</td>\n",
       "    </tr>\n",
       "    <tr>\n",
       "      <th>1</th>\n",
       "      <td>1</td>\n",
       "      <td>2022-07-04 21:00:00</td>\n",
       "      <td>1121.29</td>\n",
       "      <td>1123.41</td>\n",
       "      <td>1119.14</td>\n",
       "      <td>1123.36</td>\n",
       "      <td>17761.827</td>\n",
       "      <td>1</td>\n",
       "      <td>0</td>\n",
       "      <td>0</td>\n",
       "      <td>0</td>\n",
       "      <td>0</td>\n",
       "      <td>0</td>\n",
       "    </tr>\n",
       "    <tr>\n",
       "      <th>2</th>\n",
       "      <td>2</td>\n",
       "      <td>2022-07-04 21:15:00</td>\n",
       "      <td>1123.35</td>\n",
       "      <td>1125.17</td>\n",
       "      <td>1120.46</td>\n",
       "      <td>1120.86</td>\n",
       "      <td>17180.641</td>\n",
       "      <td>0</td>\n",
       "      <td>0</td>\n",
       "      <td>0</td>\n",
       "      <td>0</td>\n",
       "      <td>0</td>\n",
       "      <td>0</td>\n",
       "    </tr>\n",
       "    <tr>\n",
       "      <th>3</th>\n",
       "      <td>3</td>\n",
       "      <td>2022-07-04 21:30:00</td>\n",
       "      <td>1120.86</td>\n",
       "      <td>1134.23</td>\n",
       "      <td>1120.30</td>\n",
       "      <td>1126.59</td>\n",
       "      <td>49539.554</td>\n",
       "      <td>0</td>\n",
       "      <td>0</td>\n",
       "      <td>0</td>\n",
       "      <td>0</td>\n",
       "      <td>0</td>\n",
       "      <td>0</td>\n",
       "    </tr>\n",
       "    <tr>\n",
       "      <th>4</th>\n",
       "      <td>4</td>\n",
       "      <td>2022-07-04 21:45:00</td>\n",
       "      <td>1126.59</td>\n",
       "      <td>1150.00</td>\n",
       "      <td>1126.13</td>\n",
       "      <td>1134.54</td>\n",
       "      <td>99346.667</td>\n",
       "      <td>0</td>\n",
       "      <td>0</td>\n",
       "      <td>0</td>\n",
       "      <td>0</td>\n",
       "      <td>0</td>\n",
       "      <td>0</td>\n",
       "    </tr>\n",
       "  </tbody>\n",
       "</table>\n",
       "</div>"
      ],
      "text/plain": [
       "   Unnamed: 0            timestamp     open     high      low    close  \\\n",
       "0           0  2022-07-04 20:45:00  1119.19  1124.05  1118.50  1121.29   \n",
       "1           1  2022-07-04 21:00:00  1121.29  1123.41  1119.14  1123.36   \n",
       "2           2  2022-07-04 21:15:00  1123.35  1125.17  1120.46  1120.86   \n",
       "3           3  2022-07-04 21:30:00  1120.86  1134.23  1120.30  1126.59   \n",
       "4           4  2022-07-04 21:45:00  1126.59  1150.00  1126.13  1134.54   \n",
       "\n",
       "      volume  bullish_pin_bar  Weak follow up  Weak Low Tested  \\\n",
       "0  27557.359                0               0                0   \n",
       "1  17761.827                1               0                0   \n",
       "2  17180.641                0               0                0   \n",
       "3  49539.554                0               0                0   \n",
       "4  99346.667                0               0                0   \n",
       "\n",
       "   bearish_pin_bar  Weak follow down  Weak High Tested  \n",
       "0                0                 0                 0  \n",
       "1                0                 0                 0  \n",
       "2                0                 0                 0  \n",
       "3                0                 0                 0  \n",
       "4                0                 0                 0  "
      ]
     },
     "execution_count": 27,
     "metadata": {},
     "output_type": "execute_result"
    }
   ],
   "source": [
    "eth_15min_df['bullish_pin_bar'] = eth_15min_df['bullish_pin_bar'].astype(int)\n",
    "eth_15min_df['Weak follow up'] = eth_15min_df['Weak follow up'].astype(int)\n",
    "eth_15min_df['Weak Low Tested'] = eth_15min_df['Weak Low Tested'].astype(int)\n",
    "eth_15min_df['bearish_pin_bar'] = eth_15min_df['bearish_pin_bar'].astype(int)\n",
    "eth_15min_df['Weak follow down'] = eth_15min_df['Weak follow down'].astype(int)\n",
    "eth_15min_df['Weak High Tested'] = eth_15min_df['Weak High Tested'].astype(int)\n",
    "eth_15min_df.head()"
   ]
  },
  {
   "cell_type": "code",
   "execution_count": 28,
   "id": "96ef7966",
   "metadata": {},
   "outputs": [
    {
     "name": "stdout",
     "output_type": "stream",
     "text": [
      "1864\n",
      "1881\n",
      "15252\n"
     ]
    }
   ],
   "source": [
    "total_eth_15min_bull_pin_bar = eth_15min_df['bullish_pin_bar'].sum()\n",
    "total_eth_15min_weak_up = eth_15min_df['Weak follow up'].sum()\n",
    "total_eth_15min_weak_low_tested = eth_15min_df['Weak Low Tested'].sum()\n",
    "print(total_eth_15min_weak_low_tested)\n",
    "print(total_eth_15min_weak_up)\n",
    "print(total_eth_15min_bull_pin_bar)"
   ]
  },
  {
   "cell_type": "code",
   "execution_count": 29,
   "id": "e22a4321",
   "metadata": {},
   "outputs": [
    {
     "name": "stdout",
     "output_type": "stream",
     "text": [
      "12.332808811959087\n",
      "99.09622541201489\n"
     ]
    }
   ],
   "source": [
    "#Percentages\n",
    "eth_15min_percent_weak_bull = ((total_eth_15min_weak_up/total_eth_15min_bull_pin_bar)*100)\n",
    "eth_15min_percent_weak_bull_tested = ((total_eth_15min_weak_low_tested/total_eth_15min_weak_up)*100)\n",
    "print(eth_15min_percent_weak_bull)\n",
    "print(eth_15min_percent_weak_bull_tested)"
   ]
  },
  {
   "cell_type": "code",
   "execution_count": 30,
   "id": "24e2bc04",
   "metadata": {},
   "outputs": [
    {
     "data": {
      "image/png": "[encoded data removed]",
      "text/plain": [
       "<Figure size 700x700 with 1 Axes>"
      ]
     },
     "metadata": {},
     "output_type": "display_data"
    }
   ],
   "source": [
    "#Setting labels and values\n",
    "labels = ['Lows Tested: Yes', 'Lows Tested: No']\n",
    "sizes = [total_eth_15min_weak_low_tested, total_eth_15min_weak_up - total_eth_15min_weak_low_tested]\n",
    "colors = ['#ff9999', '#66b3ff']\n",
    "\n",
    "# Plotting\n",
    "fig, ax = plt.subplots(figsize=(7, 7))\n",
    "\n",
    "wedges, texts, autotexts = ax.pie(\n",
    "    sizes,\n",
    "    colors=colors,\n",
    "    autopct='%1.2f%%',\n",
    "    startangle=140,\n",
    "    pctdistance=1.12,\n",
    "    textprops={'color': 'black', 'fontsize': 10}\n",
    ")\n",
    "\n",
    "# Move pie to center\n",
    "ax.set(aspect=\"equal\")\n",
    "\n",
    "# Annotate each percentage outside the slice\n",
    "for autotext in autotexts:\n",
    "    autotext.set_fontsize(10)\n",
    "    autotext.set_weight('bold')\n",
    "\n",
    "# Title in center of the chart\n",
    "plt.title(\"Weak Follow Up Pin Bar\\nLow Breakdown\", fontsize=16, weight='bold', loc='center')\n",
    "\n",
    "# Add legend outside the chart\n",
    "ax.legend(wedges, labels, title=\"Follow Through\", loc=\"center left\", bbox_to_anchor=(1, 0, 0.5, 1))\n",
    "\n",
    "plt.tight_layout()\n",
    "plt.show()"
   ]
  },
  {
   "cell_type": "code",
   "execution_count": 31,
   "id": "4c8eea18",
   "metadata": {},
   "outputs": [
    {
     "data": {
      "application/vnd.microsoft.datawrangler.viewer.v0+json": {
       "columns": [
        {
         "name": "index",
         "rawType": "int64",
         "type": "integer"
        },
        {
         "name": "Unnamed: 0",
         "rawType": "int64",
         "type": "integer"
        },
        {
         "name": "timestamp",
         "rawType": "object",
         "type": "string"
        },
        {
         "name": "open",
         "rawType": "float64",
         "type": "float"
        },
        {
         "name": "high",
         "rawType": "float64",
         "type": "float"
        },
        {
         "name": "low",
         "rawType": "float64",
         "type": "float"
        },
        {
         "name": "close",
         "rawType": "float64",
         "type": "float"
        },
        {
         "name": "volume",
         "rawType": "float64",
         "type": "float"
        },
        {
         "name": "bullish_pin_bar",
         "rawType": "bool",
         "type": "boolean"
        },
        {
         "name": "Weak follow up",
         "rawType": "bool",
         "type": "boolean"
        },
        {
         "name": "Weak Low Tested",
         "rawType": "bool",
         "type": "boolean"
        },
        {
         "name": "bearish_pin_bar",
         "rawType": "bool",
         "type": "boolean"
        },
        {
         "name": "Weak follow down",
         "rawType": "bool",
         "type": "boolean"
        },
        {
         "name": "Weak High Tested",
         "rawType": "bool",
         "type": "boolean"
        }
       ],
       "ref": "57c47645-a4ae-494a-a6fe-f70af58a1b68",
       "rows": [
        [
         "0",
         "0",
         "2022-07-04 20:35:00",
         "1118.56",
         "1119.46",
         "1117.58",
         "1118.89",
         "5259.76",
         "True",
         "False",
         "False",
         "False",
         "False",
         "False"
        ],
        [
         "1",
         "1",
         "2022-07-04 20:40:00",
         "1118.89",
         "1119.43",
         "1117.32",
         "1119.2",
         "7271.598",
         "True",
         "False",
         "False",
         "False",
         "False",
         "False"
        ],
        [
         "2",
         "2",
         "2022-07-04 20:45:00",
         "1119.19",
         "1122.6",
         "1118.5",
         "1121.56",
         "14192.02",
         "False",
         "False",
         "False",
         "False",
         "False",
         "False"
        ],
        [
         "3",
         "3",
         "2022-07-04 20:50:00",
         "1121.56",
         "1124.05",
         "1121.54",
         "1122.78",
         "6814.047",
         "False",
         "False",
         "False",
         "False",
         "False",
         "False"
        ],
        [
         "4",
         "4",
         "2022-07-04 20:55:00",
         "1122.77",
         "1123.0",
         "1120.32",
         "1121.29",
         "6551.292",
         "False",
         "False",
         "False",
         "False",
         "False",
         "False"
        ]
       ],
       "shape": {
        "columns": 13,
        "rows": 5
       }
      },
      "text/html": [
       "<div>\n",
       "<style scoped>\n",
       "    .dataframe tbody tr th:only-of-type {\n",
       "        vertical-align: middle;\n",
       "    }\n",
       "\n",
       "    .dataframe tbody tr th {\n",
       "        vertical-align: top;\n",
       "    }\n",
       "\n",
       "    .dataframe thead th {\n",
       "        text-align: right;\n",
       "    }\n",
       "</style>\n",
       "<table border=\"1\" class=\"dataframe\">\n",
       "  <thead>\n",
       "    <tr style=\"text-align: right;\">\n",
       "      <th></th>\n",
       "      <th>Unnamed: 0</th>\n",
       "      <th>timestamp</th>\n",
       "      <th>open</th>\n",
       "      <th>high</th>\n",
       "      <th>low</th>\n",
       "      <th>close</th>\n",
       "      <th>volume</th>\n",
       "      <th>bullish_pin_bar</th>\n",
       "      <th>Weak follow up</th>\n",
       "      <th>Weak Low Tested</th>\n",
       "      <th>bearish_pin_bar</th>\n",
       "      <th>Weak follow down</th>\n",
       "      <th>Weak High Tested</th>\n",
       "    </tr>\n",
       "  </thead>\n",
       "  <tbody>\n",
       "    <tr>\n",
       "      <th>0</th>\n",
       "      <td>0</td>\n",
       "      <td>2022-07-04 20:35:00</td>\n",
       "      <td>1118.56</td>\n",
       "      <td>1119.46</td>\n",
       "      <td>1117.58</td>\n",
       "      <td>1118.89</td>\n",
       "      <td>5259.760</td>\n",
       "      <td>True</td>\n",
       "      <td>False</td>\n",
       "      <td>False</td>\n",
       "      <td>False</td>\n",
       "      <td>False</td>\n",
       "      <td>False</td>\n",
       "    </tr>\n",
       "    <tr>\n",
       "      <th>1</th>\n",
       "      <td>1</td>\n",
       "      <td>2022-07-04 20:40:00</td>\n",
       "      <td>1118.89</td>\n",
       "      <td>1119.43</td>\n",
       "      <td>1117.32</td>\n",
       "      <td>1119.20</td>\n",
       "      <td>7271.598</td>\n",
       "      <td>True</td>\n",
       "      <td>False</td>\n",
       "      <td>False</td>\n",
       "      <td>False</td>\n",
       "      <td>False</td>\n",
       "      <td>False</td>\n",
       "    </tr>\n",
       "    <tr>\n",
       "      <th>2</th>\n",
       "      <td>2</td>\n",
       "      <td>2022-07-04 20:45:00</td>\n",
       "      <td>1119.19</td>\n",
       "      <td>1122.60</td>\n",
       "      <td>1118.50</td>\n",
       "      <td>1121.56</td>\n",
       "      <td>14192.020</td>\n",
       "      <td>False</td>\n",
       "      <td>False</td>\n",
       "      <td>False</td>\n",
       "      <td>False</td>\n",
       "      <td>False</td>\n",
       "      <td>False</td>\n",
       "    </tr>\n",
       "    <tr>\n",
       "      <th>3</th>\n",
       "      <td>3</td>\n",
       "      <td>2022-07-04 20:50:00</td>\n",
       "      <td>1121.56</td>\n",
       "      <td>1124.05</td>\n",
       "      <td>1121.54</td>\n",
       "      <td>1122.78</td>\n",
       "      <td>6814.047</td>\n",
       "      <td>False</td>\n",
       "      <td>False</td>\n",
       "      <td>False</td>\n",
       "      <td>False</td>\n",
       "      <td>False</td>\n",
       "      <td>False</td>\n",
       "    </tr>\n",
       "    <tr>\n",
       "      <th>4</th>\n",
       "      <td>4</td>\n",
       "      <td>2022-07-04 20:55:00</td>\n",
       "      <td>1122.77</td>\n",
       "      <td>1123.00</td>\n",
       "      <td>1120.32</td>\n",
       "      <td>1121.29</td>\n",
       "      <td>6551.292</td>\n",
       "      <td>False</td>\n",
       "      <td>False</td>\n",
       "      <td>False</td>\n",
       "      <td>False</td>\n",
       "      <td>False</td>\n",
       "      <td>False</td>\n",
       "    </tr>\n",
       "  </tbody>\n",
       "</table>\n",
       "</div>"
      ],
      "text/plain": [
       "   Unnamed: 0            timestamp     open     high      low    close  \\\n",
       "0           0  2022-07-04 20:35:00  1118.56  1119.46  1117.58  1118.89   \n",
       "1           1  2022-07-04 20:40:00  1118.89  1119.43  1117.32  1119.20   \n",
       "2           2  2022-07-04 20:45:00  1119.19  1122.60  1118.50  1121.56   \n",
       "3           3  2022-07-04 20:50:00  1121.56  1124.05  1121.54  1122.78   \n",
       "4           4  2022-07-04 20:55:00  1122.77  1123.00  1120.32  1121.29   \n",
       "\n",
       "      volume  bullish_pin_bar  Weak follow up  Weak Low Tested  \\\n",
       "0   5259.760             True           False            False   \n",
       "1   7271.598             True           False            False   \n",
       "2  14192.020            False           False            False   \n",
       "3   6814.047            False           False            False   \n",
       "4   6551.292            False           False            False   \n",
       "\n",
       "   bearish_pin_bar  Weak follow down  Weak High Tested  \n",
       "0            False             False             False  \n",
       "1            False             False             False  \n",
       "2            False             False             False  \n",
       "3            False             False             False  \n",
       "4            False             False             False  "
      ]
     },
     "execution_count": 31,
     "metadata": {},
     "output_type": "execute_result"
    }
   ],
   "source": [
    "#For 5 minutes time frame weak bullish pin bars\n",
    "eth_5min_data = pd.read_csv('e_5min_analyzed.csv')\n",
    "eth_5min_df = pd.DataFrame(eth_5min_data)\n",
    "eth_5min_df.head()"
   ]
  },
  {
   "cell_type": "code",
   "execution_count": 32,
   "id": "fb10fd8b",
   "metadata": {},
   "outputs": [
    {
     "data": {
      "application/vnd.microsoft.datawrangler.viewer.v0+json": {
       "columns": [
        {
         "name": "index",
         "rawType": "int64",
         "type": "integer"
        },
        {
         "name": "Unnamed: 0",
         "rawType": "int64",
         "type": "integer"
        },
        {
         "name": "timestamp",
         "rawType": "object",
         "type": "string"
        },
        {
         "name": "open",
         "rawType": "float64",
         "type": "float"
        },
        {
         "name": "high",
         "rawType": "float64",
         "type": "float"
        },
        {
         "name": "low",
         "rawType": "float64",
         "type": "float"
        },
        {
         "name": "close",
         "rawType": "float64",
         "type": "float"
        },
        {
         "name": "volume",
         "rawType": "float64",
         "type": "float"
        },
        {
         "name": "bullish_pin_bar",
         "rawType": "int64",
         "type": "integer"
        },
        {
         "name": "Weak follow up",
         "rawType": "int64",
         "type": "integer"
        },
        {
         "name": "Weak Low Tested",
         "rawType": "int64",
         "type": "integer"
        },
        {
         "name": "bearish_pin_bar",
         "rawType": "int64",
         "type": "integer"
        },
        {
         "name": "Weak follow down",
         "rawType": "int64",
         "type": "integer"
        },
        {
         "name": "Weak High Tested",
         "rawType": "int64",
         "type": "integer"
        }
       ],
       "ref": "546adc6f-5dc4-4ffe-9f19-eabe27014357",
       "rows": [
        [
         "0",
         "0",
         "2022-07-04 20:35:00",
         "1118.56",
         "1119.46",
         "1117.58",
         "1118.89",
         "5259.76",
         "1",
         "0",
         "0",
         "0",
         "0",
         "0"
        ],
        [
         "1",
         "1",
         "2022-07-04 20:40:00",
         "1118.89",
         "1119.43",
         "1117.32",
         "1119.2",
         "7271.598",
         "1",
         "0",
         "0",
         "0",
         "0",
         "0"
        ],
        [
         "2",
         "2",
         "2022-07-04 20:45:00",
         "1119.19",
         "1122.6",
         "1118.5",
         "1121.56",
         "14192.02",
         "0",
         "0",
         "0",
         "0",
         "0",
         "0"
        ],
        [
         "3",
         "3",
         "2022-07-04 20:50:00",
         "1121.56",
         "1124.05",
         "1121.54",
         "1122.78",
         "6814.047",
         "0",
         "0",
         "0",
         "0",
         "0",
         "0"
        ],
        [
         "4",
         "4",
         "2022-07-04 20:55:00",
         "1122.77",
         "1123.0",
         "1120.32",
         "1121.29",
         "6551.292",
         "0",
         "0",
         "0",
         "0",
         "0",
         "0"
        ]
       ],
       "shape": {
        "columns": 13,
        "rows": 5
       }
      },
      "text/html": [
       "<div>\n",
       "<style scoped>\n",
       "    .dataframe tbody tr th:only-of-type {\n",
       "        vertical-align: middle;\n",
       "    }\n",
       "\n",
       "    .dataframe tbody tr th {\n",
       "        vertical-align: top;\n",
       "    }\n",
       "\n",
       "    .dataframe thead th {\n",
       "        text-align: right;\n",
       "    }\n",
       "</style>\n",
       "<table border=\"1\" class=\"dataframe\">\n",
       "  <thead>\n",
       "    <tr style=\"text-align: right;\">\n",
       "      <th></th>\n",
       "      <th>Unnamed: 0</th>\n",
       "      <th>timestamp</th>\n",
       "      <th>open</th>\n",
       "      <th>high</th>\n",
       "      <th>low</th>\n",
       "      <th>close</th>\n",
       "      <th>volume</th>\n",
       "      <th>bullish_pin_bar</th>\n",
       "      <th>Weak follow up</th>\n",
       "      <th>Weak Low Tested</th>\n",
       "      <th>bearish_pin_bar</th>\n",
       "      <th>Weak follow down</th>\n",
       "      <th>Weak High Tested</th>\n",
       "    </tr>\n",
       "  </thead>\n",
       "  <tbody>\n",
       "    <tr>\n",
       "      <th>0</th>\n",
       "      <td>0</td>\n",
       "      <td>2022-07-04 20:35:00</td>\n",
       "      <td>1118.56</td>\n",
       "      <td>1119.46</td>\n",
       "      <td>1117.58</td>\n",
       "      <td>1118.89</td>\n",
       "      <td>5259.760</td>\n",
       "      <td>1</td>\n",
       "      <td>0</td>\n",
       "      <td>0</td>\n",
       "      <td>0</td>\n",
       "      <td>0</td>\n",
       "      <td>0</td>\n",
       "    </tr>\n",
       "    <tr>\n",
       "      <th>1</th>\n",
       "      <td>1</td>\n",
       "      <td>2022-07-04 20:40:00</td>\n",
       "      <td>1118.89</td>\n",
       "      <td>1119.43</td>\n",
       "      <td>1117.32</td>\n",
       "      <td>1119.20</td>\n",
       "      <td>7271.598</td>\n",
       "      <td>1</td>\n",
       "      <td>0</td>\n",
       "      <td>0</td>\n",
       "      <td>0</td>\n",
       "      <td>0</td>\n",
       "      <td>0</td>\n",
       "    </tr>\n",
       "    <tr>\n",
       "      <th>2</th>\n",
       "      <td>2</td>\n",
       "      <td>2022-07-04 20:45:00</td>\n",
       "      <td>1119.19</td>\n",
       "      <td>1122.60</td>\n",
       "      <td>1118.50</td>\n",
       "      <td>1121.56</td>\n",
       "      <td>14192.020</td>\n",
       "      <td>0</td>\n",
       "      <td>0</td>\n",
       "      <td>0</td>\n",
       "      <td>0</td>\n",
       "      <td>0</td>\n",
       "      <td>0</td>\n",
       "    </tr>\n",
       "    <tr>\n",
       "      <th>3</th>\n",
       "      <td>3</td>\n",
       "      <td>2022-07-04 20:50:00</td>\n",
       "      <td>1121.56</td>\n",
       "      <td>1124.05</td>\n",
       "      <td>1121.54</td>\n",
       "      <td>1122.78</td>\n",
       "      <td>6814.047</td>\n",
       "      <td>0</td>\n",
       "      <td>0</td>\n",
       "      <td>0</td>\n",
       "      <td>0</td>\n",
       "      <td>0</td>\n",
       "      <td>0</td>\n",
       "    </tr>\n",
       "    <tr>\n",
       "      <th>4</th>\n",
       "      <td>4</td>\n",
       "      <td>2022-07-04 20:55:00</td>\n",
       "      <td>1122.77</td>\n",
       "      <td>1123.00</td>\n",
       "      <td>1120.32</td>\n",
       "      <td>1121.29</td>\n",
       "      <td>6551.292</td>\n",
       "      <td>0</td>\n",
       "      <td>0</td>\n",
       "      <td>0</td>\n",
       "      <td>0</td>\n",
       "      <td>0</td>\n",
       "      <td>0</td>\n",
       "    </tr>\n",
       "  </tbody>\n",
       "</table>\n",
       "</div>"
      ],
      "text/plain": [
       "   Unnamed: 0            timestamp     open     high      low    close  \\\n",
       "0           0  2022-07-04 20:35:00  1118.56  1119.46  1117.58  1118.89   \n",
       "1           1  2022-07-04 20:40:00  1118.89  1119.43  1117.32  1119.20   \n",
       "2           2  2022-07-04 20:45:00  1119.19  1122.60  1118.50  1121.56   \n",
       "3           3  2022-07-04 20:50:00  1121.56  1124.05  1121.54  1122.78   \n",
       "4           4  2022-07-04 20:55:00  1122.77  1123.00  1120.32  1121.29   \n",
       "\n",
       "      volume  bullish_pin_bar  Weak follow up  Weak Low Tested  \\\n",
       "0   5259.760                1               0                0   \n",
       "1   7271.598                1               0                0   \n",
       "2  14192.020                0               0                0   \n",
       "3   6814.047                0               0                0   \n",
       "4   6551.292                0               0                0   \n",
       "\n",
       "   bearish_pin_bar  Weak follow down  Weak High Tested  \n",
       "0                0                 0                 0  \n",
       "1                0                 0                 0  \n",
       "2                0                 0                 0  \n",
       "3                0                 0                 0  \n",
       "4                0                 0                 0  "
      ]
     },
     "execution_count": 32,
     "metadata": {},
     "output_type": "execute_result"
    }
   ],
   "source": [
    "eth_5min_df['bullish_pin_bar'] = eth_5min_df['bullish_pin_bar'].astype(int)\n",
    "eth_5min_df['Weak follow up'] = eth_5min_df['Weak follow up'].astype(int)\n",
    "eth_5min_df['Weak Low Tested'] = eth_5min_df['Weak Low Tested'].astype(int)\n",
    "eth_5min_df['bearish_pin_bar'] = eth_5min_df['bearish_pin_bar'].astype(int)\n",
    "eth_5min_df['Weak follow down'] = eth_5min_df['Weak follow down'].astype(int)\n",
    "eth_5min_df['Weak High Tested'] = eth_5min_df['Weak High Tested'].astype(int)\n",
    "eth_5min_df.head()"
   ]
  },
  {
   "cell_type": "code",
   "execution_count": 33,
   "id": "04d422c2",
   "metadata": {},
   "outputs": [
    {
     "name": "stdout",
     "output_type": "stream",
     "text": [
      "5496\n",
      "5516\n",
      "40776\n"
     ]
    }
   ],
   "source": [
    "total_eth_5min_bull_pin_bar = eth_5min_df['bullish_pin_bar'].sum()\n",
    "total_eth_5min_weak_up = eth_5min_df['Weak follow up'].sum()\n",
    "total_eth_5min_weak_low_tested = eth_5min_df['Weak Low Tested'].sum()\n",
    "print(total_eth_5min_weak_low_tested)\n",
    "print(total_eth_5min_weak_up)\n",
    "print(total_eth_5min_bull_pin_bar)"
   ]
  },
  {
   "cell_type": "code",
   "execution_count": 34,
   "id": "cefee87b",
   "metadata": {},
   "outputs": [
    {
     "name": "stdout",
     "output_type": "stream",
     "text": [
      "13.527565234451638\n",
      "99.63741841914431\n"
     ]
    }
   ],
   "source": [
    "#Percentages\n",
    "eth_5min_percent_weak_bull = ((total_eth_5min_weak_up/total_eth_5min_bull_pin_bar)*100)\n",
    "eth_5min_percent_weak_bull_tested = ((total_eth_5min_weak_low_tested/total_eth_5min_weak_up)*100)\n",
    "print(eth_5min_percent_weak_bull)\n",
    "print(eth_5min_percent_weak_bull_tested)"
   ]
  },
  {
   "cell_type": "code",
   "execution_count": 35,
   "id": "461a013d",
   "metadata": {},
   "outputs": [
    {
     "data": {
      "image/png": "[encoded data removed]",
      "text/plain": [
       "<Figure size 700x700 with 1 Axes>"
      ]
     },
     "metadata": {},
     "output_type": "display_data"
    }
   ],
   "source": [
    "#Setting labels and values\n",
    "labels = ['Lows Tested: Yes', 'Lows Tested: No']\n",
    "sizes = [total_eth_5min_weak_low_tested, total_eth_5min_weak_up - total_eth_5min_weak_low_tested]\n",
    "colors = [\"#c2ff99\", \"#391df2\"]\n",
    "\n",
    "# Plotting\n",
    "fig, ax = plt.subplots(figsize=(7, 7))\n",
    "\n",
    "wedges, texts, autotexts = ax.pie(\n",
    "    sizes,\n",
    "    colors=colors,\n",
    "    autopct='%1.2f%%',\n",
    "    startangle=140,\n",
    "    pctdistance=1.12,\n",
    "    textprops={'color': 'black', 'fontsize': 10}\n",
    ")\n",
    "\n",
    "# Move pie to center\n",
    "ax.set(aspect=\"equal\")\n",
    "\n",
    "# Annotate each percentage outside the slice\n",
    "for autotext in autotexts:\n",
    "    autotext.set_fontsize(10)\n",
    "    autotext.set_weight('bold')\n",
    "\n",
    "# Title in center of the chart\n",
    "plt.title(\"Weak Follow Up Pin Bar\\nLow Breakdown\", fontsize=16, weight='bold', loc='center')\n",
    "\n",
    "# Add legend outside the chart\n",
    "ax.legend(wedges, labels, title=\"Follow Through\", loc=\"center left\", bbox_to_anchor=(1, 0, 0.5, 1))\n",
    "\n",
    "plt.tight_layout()\n",
    "plt.show()"
   ]
  },
  {
   "cell_type": "code",
   "execution_count": 36,
   "id": "99dbecdc",
   "metadata": {},
   "outputs": [
    {
     "data": {
      "application/vnd.microsoft.datawrangler.viewer.v0+json": {
       "columns": [
        {
         "name": "index",
         "rawType": "int64",
         "type": "integer"
        },
        {
         "name": "Unnamed: 0",
         "rawType": "int64",
         "type": "integer"
        },
        {
         "name": "timestamp",
         "rawType": "object",
         "type": "string"
        },
        {
         "name": "open",
         "rawType": "float64",
         "type": "float"
        },
        {
         "name": "high",
         "rawType": "float64",
         "type": "float"
        },
        {
         "name": "low",
         "rawType": "float64",
         "type": "float"
        },
        {
         "name": "close",
         "rawType": "float64",
         "type": "float"
        },
        {
         "name": "volume",
         "rawType": "float64",
         "type": "float"
        },
        {
         "name": "bullish_pin_bar",
         "rawType": "bool",
         "type": "boolean"
        },
        {
         "name": "Weak follow up",
         "rawType": "bool",
         "type": "boolean"
        },
        {
         "name": "Weak Low Tested",
         "rawType": "bool",
         "type": "boolean"
        },
        {
         "name": "bearish_pin_bar",
         "rawType": "bool",
         "type": "boolean"
        },
        {
         "name": "Weak follow down",
         "rawType": "bool",
         "type": "boolean"
        },
        {
         "name": "Weak High Tested",
         "rawType": "bool",
         "type": "boolean"
        }
       ],
       "ref": "2ca1c225-8c14-466f-b167-699ee8c8aa69",
       "rows": [
        [
         "0",
         "0",
         "2022-07-04 20:30:00",
         "1119.96",
         "1120.08",
         "1117.43",
         "1118.92",
         "5457.249",
         "False",
         "False",
         "False",
         "False",
         "False",
         "False"
        ],
        [
         "1",
         "1",
         "2022-07-04 20:33:00",
         "1118.92",
         "1119.27",
         "1118.26",
         "1118.44",
         "2651.778",
         "False",
         "False",
         "False",
         "True",
         "False",
         "False"
        ],
        [
         "2",
         "2",
         "2022-07-04 20:36:00",
         "1118.44",
         "1118.73",
         "1117.58",
         "1117.95",
         "2811.788",
         "False",
         "False",
         "False",
         "False",
         "False",
         "False"
        ],
        [
         "3",
         "3",
         "2022-07-04 20:39:00",
         "1117.95",
         "1119.46",
         "1117.69",
         "1118.23",
         "3746.213",
         "False",
         "False",
         "False",
         "False",
         "False",
         "False"
        ],
        [
         "4",
         "4",
         "2022-07-04 20:42:00",
         "1118.23",
         "1119.43",
         "1117.32",
         "1119.2",
         "5090.926",
         "True",
         "False",
         "False",
         "False",
         "False",
         "False"
        ]
       ],
       "shape": {
        "columns": 13,
        "rows": 5
       }
      },
      "text/html": [
       "<div>\n",
       "<style scoped>\n",
       "    .dataframe tbody tr th:only-of-type {\n",
       "        vertical-align: middle;\n",
       "    }\n",
       "\n",
       "    .dataframe tbody tr th {\n",
       "        vertical-align: top;\n",
       "    }\n",
       "\n",
       "    .dataframe thead th {\n",
       "        text-align: right;\n",
       "    }\n",
       "</style>\n",
       "<table border=\"1\" class=\"dataframe\">\n",
       "  <thead>\n",
       "    <tr style=\"text-align: right;\">\n",
       "      <th></th>\n",
       "      <th>Unnamed: 0</th>\n",
       "      <th>timestamp</th>\n",
       "      <th>open</th>\n",
       "      <th>high</th>\n",
       "      <th>low</th>\n",
       "      <th>close</th>\n",
       "      <th>volume</th>\n",
       "      <th>bullish_pin_bar</th>\n",
       "      <th>Weak follow up</th>\n",
       "      <th>Weak Low Tested</th>\n",
       "      <th>bearish_pin_bar</th>\n",
       "      <th>Weak follow down</th>\n",
       "      <th>Weak High Tested</th>\n",
       "    </tr>\n",
       "  </thead>\n",
       "  <tbody>\n",
       "    <tr>\n",
       "      <th>0</th>\n",
       "      <td>0</td>\n",
       "      <td>2022-07-04 20:30:00</td>\n",
       "      <td>1119.96</td>\n",
       "      <td>1120.08</td>\n",
       "      <td>1117.43</td>\n",
       "      <td>1118.92</td>\n",
       "      <td>5457.249</td>\n",
       "      <td>False</td>\n",
       "      <td>False</td>\n",
       "      <td>False</td>\n",
       "      <td>False</td>\n",
       "      <td>False</td>\n",
       "      <td>False</td>\n",
       "    </tr>\n",
       "    <tr>\n",
       "      <th>1</th>\n",
       "      <td>1</td>\n",
       "      <td>2022-07-04 20:33:00</td>\n",
       "      <td>1118.92</td>\n",
       "      <td>1119.27</td>\n",
       "      <td>1118.26</td>\n",
       "      <td>1118.44</td>\n",
       "      <td>2651.778</td>\n",
       "      <td>False</td>\n",
       "      <td>False</td>\n",
       "      <td>False</td>\n",
       "      <td>True</td>\n",
       "      <td>False</td>\n",
       "      <td>False</td>\n",
       "    </tr>\n",
       "    <tr>\n",
       "      <th>2</th>\n",
       "      <td>2</td>\n",
       "      <td>2022-07-04 20:36:00</td>\n",
       "      <td>1118.44</td>\n",
       "      <td>1118.73</td>\n",
       "      <td>1117.58</td>\n",
       "      <td>1117.95</td>\n",
       "      <td>2811.788</td>\n",
       "      <td>False</td>\n",
       "      <td>False</td>\n",
       "      <td>False</td>\n",
       "      <td>False</td>\n",
       "      <td>False</td>\n",
       "      <td>False</td>\n",
       "    </tr>\n",
       "    <tr>\n",
       "      <th>3</th>\n",
       "      <td>3</td>\n",
       "      <td>2022-07-04 20:39:00</td>\n",
       "      <td>1117.95</td>\n",
       "      <td>1119.46</td>\n",
       "      <td>1117.69</td>\n",
       "      <td>1118.23</td>\n",
       "      <td>3746.213</td>\n",
       "      <td>False</td>\n",
       "      <td>False</td>\n",
       "      <td>False</td>\n",
       "      <td>False</td>\n",
       "      <td>False</td>\n",
       "      <td>False</td>\n",
       "    </tr>\n",
       "    <tr>\n",
       "      <th>4</th>\n",
       "      <td>4</td>\n",
       "      <td>2022-07-04 20:42:00</td>\n",
       "      <td>1118.23</td>\n",
       "      <td>1119.43</td>\n",
       "      <td>1117.32</td>\n",
       "      <td>1119.20</td>\n",
       "      <td>5090.926</td>\n",
       "      <td>True</td>\n",
       "      <td>False</td>\n",
       "      <td>False</td>\n",
       "      <td>False</td>\n",
       "      <td>False</td>\n",
       "      <td>False</td>\n",
       "    </tr>\n",
       "  </tbody>\n",
       "</table>\n",
       "</div>"
      ],
      "text/plain": [
       "   Unnamed: 0            timestamp     open     high      low    close  \\\n",
       "0           0  2022-07-04 20:30:00  1119.96  1120.08  1117.43  1118.92   \n",
       "1           1  2022-07-04 20:33:00  1118.92  1119.27  1118.26  1118.44   \n",
       "2           2  2022-07-04 20:36:00  1118.44  1118.73  1117.58  1117.95   \n",
       "3           3  2022-07-04 20:39:00  1117.95  1119.46  1117.69  1118.23   \n",
       "4           4  2022-07-04 20:42:00  1118.23  1119.43  1117.32  1119.20   \n",
       "\n",
       "     volume  bullish_pin_bar  Weak follow up  Weak Low Tested  \\\n",
       "0  5457.249            False           False            False   \n",
       "1  2651.778            False           False            False   \n",
       "2  2811.788            False           False            False   \n",
       "3  3746.213            False           False            False   \n",
       "4  5090.926             True           False            False   \n",
       "\n",
       "   bearish_pin_bar  Weak follow down  Weak High Tested  \n",
       "0            False             False             False  \n",
       "1             True             False             False  \n",
       "2            False             False             False  \n",
       "3            False             False             False  \n",
       "4            False             False             False  "
      ]
     },
     "execution_count": 36,
     "metadata": {},
     "output_type": "execute_result"
    }
   ],
   "source": [
    "# For 3 minutes time frame weak bullish pin bars\n",
    "eth_3min_data = pd.read_csv('e_3min_analyzed.csv')\n",
    "eth_3min_df = pd.DataFrame(eth_3min_data)\n",
    "eth_3min_df.head()"
   ]
  },
  {
   "cell_type": "code",
   "execution_count": 37,
   "id": "92a239fc",
   "metadata": {},
   "outputs": [
    {
     "data": {
      "application/vnd.microsoft.datawrangler.viewer.v0+json": {
       "columns": [
        {
         "name": "index",
         "rawType": "int64",
         "type": "integer"
        },
        {
         "name": "Unnamed: 0",
         "rawType": "int64",
         "type": "integer"
        },
        {
         "name": "timestamp",
         "rawType": "object",
         "type": "string"
        },
        {
         "name": "open",
         "rawType": "float64",
         "type": "float"
        },
        {
         "name": "high",
         "rawType": "float64",
         "type": "float"
        },
        {
         "name": "low",
         "rawType": "float64",
         "type": "float"
        },
        {
         "name": "close",
         "rawType": "float64",
         "type": "float"
        },
        {
         "name": "volume",
         "rawType": "float64",
         "type": "float"
        },
        {
         "name": "bullish_pin_bar",
         "rawType": "int64",
         "type": "integer"
        },
        {
         "name": "Weak follow up",
         "rawType": "int64",
         "type": "integer"
        },
        {
         "name": "Weak Low Tested",
         "rawType": "int64",
         "type": "integer"
        },
        {
         "name": "bearish_pin_bar",
         "rawType": "int64",
         "type": "integer"
        },
        {
         "name": "Weak follow down",
         "rawType": "int64",
         "type": "integer"
        },
        {
         "name": "Weak High Tested",
         "rawType": "int64",
         "type": "integer"
        }
       ],
       "ref": "17c72374-4f16-42dc-a580-cd2524bebc99",
       "rows": [
        [
         "0",
         "0",
         "2022-07-04 20:30:00",
         "1119.96",
         "1120.08",
         "1117.43",
         "1118.92",
         "5457.249",
         "0",
         "0",
         "0",
         "0",
         "0",
         "0"
        ],
        [
         "1",
         "1",
         "2022-07-04 20:33:00",
         "1118.92",
         "1119.27",
         "1118.26",
         "1118.44",
         "2651.778",
         "0",
         "0",
         "0",
         "1",
         "0",
         "0"
        ],
        [
         "2",
         "2",
         "2022-07-04 20:36:00",
         "1118.44",
         "1118.73",
         "1117.58",
         "1117.95",
         "2811.788",
         "0",
         "0",
         "0",
         "0",
         "0",
         "0"
        ],
        [
         "3",
         "3",
         "2022-07-04 20:39:00",
         "1117.95",
         "1119.46",
         "1117.69",
         "1118.23",
         "3746.213",
         "0",
         "0",
         "0",
         "0",
         "0",
         "0"
        ],
        [
         "4",
         "4",
         "2022-07-04 20:42:00",
         "1118.23",
         "1119.43",
         "1117.32",
         "1119.2",
         "5090.926",
         "1",
         "0",
         "0",
         "0",
         "0",
         "0"
        ]
       ],
       "shape": {
        "columns": 13,
        "rows": 5
       }
      },
      "text/html": [
       "<div>\n",
       "<style scoped>\n",
       "    .dataframe tbody tr th:only-of-type {\n",
       "        vertical-align: middle;\n",
       "    }\n",
       "\n",
       "    .dataframe tbody tr th {\n",
       "        vertical-align: top;\n",
       "    }\n",
       "\n",
       "    .dataframe thead th {\n",
       "        text-align: right;\n",
       "    }\n",
       "</style>\n",
       "<table border=\"1\" class=\"dataframe\">\n",
       "  <thead>\n",
       "    <tr style=\"text-align: right;\">\n",
       "      <th></th>\n",
       "      <th>Unnamed: 0</th>\n",
       "      <th>timestamp</th>\n",
       "      <th>open</th>\n",
       "      <th>high</th>\n",
       "      <th>low</th>\n",
       "      <th>close</th>\n",
       "      <th>volume</th>\n",
       "      <th>bullish_pin_bar</th>\n",
       "      <th>Weak follow up</th>\n",
       "      <th>Weak Low Tested</th>\n",
       "      <th>bearish_pin_bar</th>\n",
       "      <th>Weak follow down</th>\n",
       "      <th>Weak High Tested</th>\n",
       "    </tr>\n",
       "  </thead>\n",
       "  <tbody>\n",
       "    <tr>\n",
       "      <th>0</th>\n",
       "      <td>0</td>\n",
       "      <td>2022-07-04 20:30:00</td>\n",
       "      <td>1119.96</td>\n",
       "      <td>1120.08</td>\n",
       "      <td>1117.43</td>\n",
       "      <td>1118.92</td>\n",
       "      <td>5457.249</td>\n",
       "      <td>0</td>\n",
       "      <td>0</td>\n",
       "      <td>0</td>\n",
       "      <td>0</td>\n",
       "      <td>0</td>\n",
       "      <td>0</td>\n",
       "    </tr>\n",
       "    <tr>\n",
       "      <th>1</th>\n",
       "      <td>1</td>\n",
       "      <td>2022-07-04 20:33:00</td>\n",
       "      <td>1118.92</td>\n",
       "      <td>1119.27</td>\n",
       "      <td>1118.26</td>\n",
       "      <td>1118.44</td>\n",
       "      <td>2651.778</td>\n",
       "      <td>0</td>\n",
       "      <td>0</td>\n",
       "      <td>0</td>\n",
       "      <td>1</td>\n",
       "      <td>0</td>\n",
       "      <td>0</td>\n",
       "    </tr>\n",
       "    <tr>\n",
       "      <th>2</th>\n",
       "      <td>2</td>\n",
       "      <td>2022-07-04 20:36:00</td>\n",
       "      <td>1118.44</td>\n",
       "      <td>1118.73</td>\n",
       "      <td>1117.58</td>\n",
       "      <td>1117.95</td>\n",
       "      <td>2811.788</td>\n",
       "      <td>0</td>\n",
       "      <td>0</td>\n",
       "      <td>0</td>\n",
       "      <td>0</td>\n",
       "      <td>0</td>\n",
       "      <td>0</td>\n",
       "    </tr>\n",
       "    <tr>\n",
       "      <th>3</th>\n",
       "      <td>3</td>\n",
       "      <td>2022-07-04 20:39:00</td>\n",
       "      <td>1117.95</td>\n",
       "      <td>1119.46</td>\n",
       "      <td>1117.69</td>\n",
       "      <td>1118.23</td>\n",
       "      <td>3746.213</td>\n",
       "      <td>0</td>\n",
       "      <td>0</td>\n",
       "      <td>0</td>\n",
       "      <td>0</td>\n",
       "      <td>0</td>\n",
       "      <td>0</td>\n",
       "    </tr>\n",
       "    <tr>\n",
       "      <th>4</th>\n",
       "      <td>4</td>\n",
       "      <td>2022-07-04 20:42:00</td>\n",
       "      <td>1118.23</td>\n",
       "      <td>1119.43</td>\n",
       "      <td>1117.32</td>\n",
       "      <td>1119.20</td>\n",
       "      <td>5090.926</td>\n",
       "      <td>1</td>\n",
       "      <td>0</td>\n",
       "      <td>0</td>\n",
       "      <td>0</td>\n",
       "      <td>0</td>\n",
       "      <td>0</td>\n",
       "    </tr>\n",
       "  </tbody>\n",
       "</table>\n",
       "</div>"
      ],
      "text/plain": [
       "   Unnamed: 0            timestamp     open     high      low    close  \\\n",
       "0           0  2022-07-04 20:30:00  1119.96  1120.08  1117.43  1118.92   \n",
       "1           1  2022-07-04 20:33:00  1118.92  1119.27  1118.26  1118.44   \n",
       "2           2  2022-07-04 20:36:00  1118.44  1118.73  1117.58  1117.95   \n",
       "3           3  2022-07-04 20:39:00  1117.95  1119.46  1117.69  1118.23   \n",
       "4           4  2022-07-04 20:42:00  1118.23  1119.43  1117.32  1119.20   \n",
       "\n",
       "     volume  bullish_pin_bar  Weak follow up  Weak Low Tested  \\\n",
       "0  5457.249                0               0                0   \n",
       "1  2651.778                0               0                0   \n",
       "2  2811.788                0               0                0   \n",
       "3  3746.213                0               0                0   \n",
       "4  5090.926                1               0                0   \n",
       "\n",
       "   bearish_pin_bar  Weak follow down  Weak High Tested  \n",
       "0                0                 0                 0  \n",
       "1                1                 0                 0  \n",
       "2                0                 0                 0  \n",
       "3                0                 0                 0  \n",
       "4                0                 0                 0  "
      ]
     },
     "execution_count": 37,
     "metadata": {},
     "output_type": "execute_result"
    }
   ],
   "source": [
    "# Replacing True/False with 0 and 1\n",
    "eth_3min_df['bullish_pin_bar'] = eth_3min_df['bullish_pin_bar'].astype(int)\n",
    "eth_3min_df['Weak follow up'] = eth_3min_df['Weak follow up'].astype(int)\n",
    "eth_3min_df['Weak Low Tested'] = eth_3min_df['Weak Low Tested'].astype(int)\n",
    "eth_3min_df['bearish_pin_bar'] = eth_3min_df['bearish_pin_bar'].astype(int)\n",
    "eth_3min_df['Weak follow down'] = eth_3min_df['Weak follow down'].astype(int)\n",
    "eth_3min_df['Weak High Tested'] = eth_3min_df['Weak High Tested'].astype(int)\n",
    "eth_3min_df.head()"
   ]
  },
  {
   "cell_type": "code",
   "execution_count": 38,
   "id": "2d53df81",
   "metadata": {},
   "outputs": [
    {
     "name": "stdout",
     "output_type": "stream",
     "text": [
      "8924\n",
      "8956\n",
      "63983\n"
     ]
    }
   ],
   "source": [
    "total_eth_3min_bull_pin_bar = eth_3min_df['bullish_pin_bar'].sum()\n",
    "total_eth_3min_weak_up = eth_3min_df['Weak follow up'].sum()\n",
    "total_eth_3min_weak_low_tested = eth_3min_df['Weak Low Tested'].sum()\n",
    "print(total_eth_3min_weak_low_tested)\n",
    "print(total_eth_3min_weak_up)\n",
    "print(total_eth_3min_bull_pin_bar)"
   ]
  },
  {
   "cell_type": "code",
   "execution_count": 39,
   "id": "997d2112",
   "metadata": {},
   "outputs": [
    {
     "name": "stdout",
     "output_type": "stream",
     "text": [
      "13.997468077458075\n",
      "99.64269763287182\n"
     ]
    }
   ],
   "source": [
    "#Percentages\n",
    "eth_3min_percent_weak_bull = ((total_eth_3min_weak_up/total_eth_3min_bull_pin_bar)*100)\n",
    "eth_3min_percent_weak_bull_tested = ((total_eth_3min_weak_low_tested/total_eth_3min_weak_up)*100)\n",
    "print(eth_3min_percent_weak_bull)\n",
    "print(eth_3min_percent_weak_bull_tested)"
   ]
  },
  {
   "cell_type": "code",
   "execution_count": 40,
   "id": "1a694ede",
   "metadata": {},
   "outputs": [
    {
     "data": {
      "image/png": "[encoded data removed]",
      "text/plain": [
       "<Figure size 700x700 with 1 Axes>"
      ]
     },
     "metadata": {},
     "output_type": "display_data"
    }
   ],
   "source": [
    "#Setting labels and values\n",
    "labels = ['Lows Tested: Yes', 'Lows Tested: No']\n",
    "sizes = [total_eth_3min_weak_low_tested, total_eth_3min_weak_up - total_eth_3min_weak_low_tested]\n",
    "colors = [\"#48e5f0\", \"#d91df2\"]\n",
    "\n",
    "# Plotting\n",
    "fig, ax = plt.subplots(figsize=(7, 7))\n",
    "\n",
    "wedges, texts, autotexts = ax.pie(\n",
    "    sizes,\n",
    "    colors=colors,\n",
    "    autopct='%1.2f%%',\n",
    "    startangle=140,\n",
    "    pctdistance=1.12,\n",
    "    textprops={'color': 'black', 'fontsize': 10}\n",
    ")\n",
    "\n",
    "# Move pie to center\n",
    "ax.set(aspect=\"equal\")\n",
    "\n",
    "# Annotate each percentage outside the slice\n",
    "for autotext in autotexts:\n",
    "    autotext.set_fontsize(10)\n",
    "    autotext.set_weight('bold')\n",
    "\n",
    "# Title in center of the chart\n",
    "plt.title(\"Weak Follow Up Pin Bar\\nLow Breakdown\", fontsize=16, weight='bold', loc='center')\n",
    "\n",
    "# Add legend outside the chart\n",
    "ax.legend(wedges, labels, title=\"Follow Through\", loc=\"center left\", bbox_to_anchor=(1, 0, 0.5, 1))\n",
    "\n",
    "plt.tight_layout()\n",
    "plt.show()"
   ]
  },
  {
   "cell_type": "code",
   "execution_count": null,
   "id": "50ccc0ce",
   "metadata": {},
   "outputs": [],
   "source": []
  }
 ],
 "metadata": {
  "kernelspec": {
   "display_name": "myvenv",
   "language": "python",
   "name": "python3"
  },
  "language_info": {
   "codemirror_mode": {
    "name": "ipython",
    "version": 3
   },
   "file_extension": ".py",
   "mimetype": "text/x-python",
   "name": "python",
   "nbconvert_exporter": "python",
   "pygments_lexer": "ipython3",
   "version": "3.13.2"
  }
 },
 "nbformat": 4,
 "nbformat_minor": 5
}
