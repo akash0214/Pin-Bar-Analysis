{
 "cells": [
  {
   "cell_type": "markdown",
   "id": "380c485b",
   "metadata": {},
   "source": [
    "Weak Pin Bar: The volumes on a pin bar are important but the most important thing which determines if the pin bar is weak or not is the follow up bar and it's volume.\n",
    "\n",
    "Hypothesis: If the follow up bar gives greater move than the pin bar but the volume was lower than the pin bar then, the low of the pin bar should get tested. This testing depends on the time frame of the pin bar. The results can be seen more quickly on intraday time frames so, we will be using 3, 5, and 15 minutes time frames on BTCUSDT and ETHUSDT futures contracts."
   ]
  },
  {
   "cell_type": "code",
   "execution_count": 1,
   "id": "a3d6892a",
   "metadata": {},
   "outputs": [],
   "source": [
    "import pandas as pd\n",
    "import numpy as np\n",
    "import matplotlib.pyplot as plt\n",
    "import seaborn as sns"
   ]
  },
  {
   "cell_type": "code",
   "execution_count": null,
   "id": "102928fb",
   "metadata": {},
   "outputs": [
    {
     "data": {
      "application/vnd.microsoft.datawrangler.viewer.v0+json": {
       "columns": [
        {
         "name": "index",
         "rawType": "int64",
         "type": "integer"
        },
        {
         "name": "timestamp",
         "rawType": "object",
         "type": "string"
        },
        {
         "name": "open",
         "rawType": "float64",
         "type": "float"
        },
        {
         "name": "high",
         "rawType": "float64",
         "type": "float"
        },
        {
         "name": "low",
         "rawType": "float64",
         "type": "float"
        },
        {
         "name": "close",
         "rawType": "float64",
         "type": "float"
        },
        {
         "name": "volume",
         "rawType": "float64",
         "type": "float"
        }
       ],
       "ref": "0d799d69-633b-4278-b31a-049d4de608a3",
       "rows": [
        [
         "0",
         "2022-07-04 20:15:00",
         "19851.3",
         "19853.6",
         "19719.5",
         "19776.6",
         "4522.198"
        ],
        [
         "1",
         "2022-07-04 20:30:00",
         "19776.7",
         "19779.3",
         "19735.5",
         "19758.5",
         "2417.909"
        ],
        [
         "2",
         "2022-07-04 20:45:00",
         "19758.5",
         "19809.2",
         "19745.7",
         "19774.4",
         "2972.344"
        ],
        [
         "3",
         "2022-07-04 21:00:00",
         "19774.3",
         "19790.0",
         "19740.4",
         "19789.9",
         "3271.586"
        ],
        [
         "4",
         "2022-07-04 21:15:00",
         "19789.9",
         "19811.4",
         "19768.3",
         "19773.8",
         "2151.42"
        ],
        [
         "5",
         "2022-07-04 21:30:00",
         "19773.8",
         "19979.7",
         "19768.0",
         "19870.9",
         "6511.104"
        ],
        [
         "6",
         "2022-07-04 21:45:00",
         "19870.9",
         "20033.0",
         "19870.3",
         "19946.7",
         "5781.626"
        ],
        [
         "7",
         "2022-07-04 22:00:00",
         "19946.7",
         "19960.3",
         "19865.5",
         "19873.6",
         "5024.952"
        ],
        [
         "8",
         "2022-07-04 22:15:00",
         "19873.7",
         "19970.0",
         "19863.3",
         "19943.1",
         "3689.065"
        ],
        [
         "9",
         "2022-07-04 22:30:00",
         "19943.2",
         "20100.0",
         "19926.4",
         "20016.5",
         "10324.172"
        ]
       ],
       "shape": {
        "columns": 6,
        "rows": 10
       }
      },
      "text/html": [
       "<div>\n",
       "<style scoped>\n",
       "    .dataframe tbody tr th:only-of-type {\n",
       "        vertical-align: middle;\n",
       "    }\n",
       "\n",
       "    .dataframe tbody tr th {\n",
       "        vertical-align: top;\n",
       "    }\n",
       "\n",
       "    .dataframe thead th {\n",
       "        text-align: right;\n",
       "    }\n",
       "</style>\n",
       "<table border=\"1\" class=\"dataframe\">\n",
       "  <thead>\n",
       "    <tr style=\"text-align: right;\">\n",
       "      <th></th>\n",
       "      <th>timestamp</th>\n",
       "      <th>open</th>\n",
       "      <th>high</th>\n",
       "      <th>low</th>\n",
       "      <th>close</th>\n",
       "      <th>volume</th>\n",
       "    </tr>\n",
       "  </thead>\n",
       "  <tbody>\n",
       "    <tr>\n",
       "      <th>0</th>\n",
       "      <td>2022-07-04 20:15:00</td>\n",
       "      <td>19851.3</td>\n",
       "      <td>19853.6</td>\n",
       "      <td>19719.5</td>\n",
       "      <td>19776.6</td>\n",
       "      <td>4522.198</td>\n",
       "    </tr>\n",
       "    <tr>\n",
       "      <th>1</th>\n",
       "      <td>2022-07-04 20:30:00</td>\n",
       "      <td>19776.7</td>\n",
       "      <td>19779.3</td>\n",
       "      <td>19735.5</td>\n",
       "      <td>19758.5</td>\n",
       "      <td>2417.909</td>\n",
       "    </tr>\n",
       "    <tr>\n",
       "      <th>2</th>\n",
       "      <td>2022-07-04 20:45:00</td>\n",
       "      <td>19758.5</td>\n",
       "      <td>19809.2</td>\n",
       "      <td>19745.7</td>\n",
       "      <td>19774.4</td>\n",
       "      <td>2972.344</td>\n",
       "    </tr>\n",
       "    <tr>\n",
       "      <th>3</th>\n",
       "      <td>2022-07-04 21:00:00</td>\n",
       "      <td>19774.3</td>\n",
       "      <td>19790.0</td>\n",
       "      <td>19740.4</td>\n",
       "      <td>19789.9</td>\n",
       "      <td>3271.586</td>\n",
       "    </tr>\n",
       "    <tr>\n",
       "      <th>4</th>\n",
       "      <td>2022-07-04 21:15:00</td>\n",
       "      <td>19789.9</td>\n",
       "      <td>19811.4</td>\n",
       "      <td>19768.3</td>\n",
       "      <td>19773.8</td>\n",
       "      <td>2151.420</td>\n",
       "    </tr>\n",
       "    <tr>\n",
       "      <th>5</th>\n",
       "      <td>2022-07-04 21:30:00</td>\n",
       "      <td>19773.8</td>\n",
       "      <td>19979.7</td>\n",
       "      <td>19768.0</td>\n",
       "      <td>19870.9</td>\n",
       "      <td>6511.104</td>\n",
       "    </tr>\n",
       "    <tr>\n",
       "      <th>6</th>\n",
       "      <td>2022-07-04 21:45:00</td>\n",
       "      <td>19870.9</td>\n",
       "      <td>20033.0</td>\n",
       "      <td>19870.3</td>\n",
       "      <td>19946.7</td>\n",
       "      <td>5781.626</td>\n",
       "    </tr>\n",
       "    <tr>\n",
       "      <th>7</th>\n",
       "      <td>2022-07-04 22:00:00</td>\n",
       "      <td>19946.7</td>\n",
       "      <td>19960.3</td>\n",
       "      <td>19865.5</td>\n",
       "      <td>19873.6</td>\n",
       "      <td>5024.952</td>\n",
       "    </tr>\n",
       "    <tr>\n",
       "      <th>8</th>\n",
       "      <td>2022-07-04 22:15:00</td>\n",
       "      <td>19873.7</td>\n",
       "      <td>19970.0</td>\n",
       "      <td>19863.3</td>\n",
       "      <td>19943.1</td>\n",
       "      <td>3689.065</td>\n",
       "    </tr>\n",
       "    <tr>\n",
       "      <th>9</th>\n",
       "      <td>2022-07-04 22:30:00</td>\n",
       "      <td>19943.2</td>\n",
       "      <td>20100.0</td>\n",
       "      <td>19926.4</td>\n",
       "      <td>20016.5</td>\n",
       "      <td>10324.172</td>\n",
       "    </tr>\n",
       "  </tbody>\n",
       "</table>\n",
       "</div>"
      ],
      "text/plain": [
       "             timestamp     open     high      low    close     volume\n",
       "0  2022-07-04 20:15:00  19851.3  19853.6  19719.5  19776.6   4522.198\n",
       "1  2022-07-04 20:30:00  19776.7  19779.3  19735.5  19758.5   2417.909\n",
       "2  2022-07-04 20:45:00  19758.5  19809.2  19745.7  19774.4   2972.344\n",
       "3  2022-07-04 21:00:00  19774.3  19790.0  19740.4  19789.9   3271.586\n",
       "4  2022-07-04 21:15:00  19789.9  19811.4  19768.3  19773.8   2151.420\n",
       "5  2022-07-04 21:30:00  19773.8  19979.7  19768.0  19870.9   6511.104\n",
       "6  2022-07-04 21:45:00  19870.9  20033.0  19870.3  19946.7   5781.626\n",
       "7  2022-07-04 22:00:00  19946.7  19960.3  19865.5  19873.6   5024.952\n",
       "8  2022-07-04 22:15:00  19873.7  19970.0  19863.3  19943.1   3689.065\n",
       "9  2022-07-04 22:30:00  19943.2  20100.0  19926.4  20016.5  10324.172"
      ]
     },
     "execution_count": 16,
     "metadata": {},
     "output_type": "execute_result"
    }
   ],
   "source": [
    "btcusdt_15min_data = pd.read_csv(\"BTCUSDT_15min.csv\")\n",
    "btcusdt_15min_df = pd.DataFrame(btcusdt_15min_data)\n",
    "btcusdt_15min_df.head()"
   ]
  },
  {
   "cell_type": "markdown",
   "id": "f6a53364",
   "metadata": {},
   "source": [
    "Checking for bullish pin bars on 15 minutes bars of BTCUSDT Futures"
   ]
  },
  {
   "cell_type": "code",
   "execution_count": 23,
   "id": "8e083e6e",
   "metadata": {},
   "outputs": [
    {
     "data": {
      "application/vnd.microsoft.datawrangler.viewer.v0+json": {
       "columns": [
        {
         "name": "index",
         "rawType": "int64",
         "type": "integer"
        },
        {
         "name": "timestamp",
         "rawType": "object",
         "type": "string"
        },
        {
         "name": "open",
         "rawType": "float64",
         "type": "float"
        },
        {
         "name": "high",
         "rawType": "float64",
         "type": "float"
        },
        {
         "name": "low",
         "rawType": "float64",
         "type": "float"
        },
        {
         "name": "close",
         "rawType": "float64",
         "type": "float"
        },
        {
         "name": "volume",
         "rawType": "float64",
         "type": "float"
        },
        {
         "name": "bullish_pin_bar",
         "rawType": "bool",
         "type": "boolean"
        }
       ],
       "ref": "c44b5785-a256-456b-b63e-816c641c04ca",
       "rows": [
        [
         "0",
         "2022-07-04 20:15:00",
         "19851.3",
         "19853.6",
         "19719.5",
         "19776.6",
         "4522.198",
         "False"
        ],
        [
         "1",
         "2022-07-04 20:30:00",
         "19776.7",
         "19779.3",
         "19735.5",
         "19758.5",
         "2417.909",
         "False"
        ],
        [
         "2",
         "2022-07-04 20:45:00",
         "19758.5",
         "19809.2",
         "19745.7",
         "19774.4",
         "2972.344",
         "False"
        ],
        [
         "3",
         "2022-07-04 21:00:00",
         "19774.3",
         "19790.0",
         "19740.4",
         "19789.9",
         "3271.586",
         "True"
        ],
        [
         "4",
         "2022-07-04 21:15:00",
         "19789.9",
         "19811.4",
         "19768.3",
         "19773.8",
         "2151.42",
         "False"
        ]
       ],
       "shape": {
        "columns": 7,
        "rows": 5
       }
      },
      "text/html": [
       "<div>\n",
       "<style scoped>\n",
       "    .dataframe tbody tr th:only-of-type {\n",
       "        vertical-align: middle;\n",
       "    }\n",
       "\n",
       "    .dataframe tbody tr th {\n",
       "        vertical-align: top;\n",
       "    }\n",
       "\n",
       "    .dataframe thead th {\n",
       "        text-align: right;\n",
       "    }\n",
       "</style>\n",
       "<table border=\"1\" class=\"dataframe\">\n",
       "  <thead>\n",
       "    <tr style=\"text-align: right;\">\n",
       "      <th></th>\n",
       "      <th>timestamp</th>\n",
       "      <th>open</th>\n",
       "      <th>high</th>\n",
       "      <th>low</th>\n",
       "      <th>close</th>\n",
       "      <th>volume</th>\n",
       "      <th>bullish_pin_bar</th>\n",
       "    </tr>\n",
       "  </thead>\n",
       "  <tbody>\n",
       "    <tr>\n",
       "      <th>0</th>\n",
       "      <td>2022-07-04 20:15:00</td>\n",
       "      <td>19851.3</td>\n",
       "      <td>19853.6</td>\n",
       "      <td>19719.5</td>\n",
       "      <td>19776.6</td>\n",
       "      <td>4522.198</td>\n",
       "      <td>False</td>\n",
       "    </tr>\n",
       "    <tr>\n",
       "      <th>1</th>\n",
       "      <td>2022-07-04 20:30:00</td>\n",
       "      <td>19776.7</td>\n",
       "      <td>19779.3</td>\n",
       "      <td>19735.5</td>\n",
       "      <td>19758.5</td>\n",
       "      <td>2417.909</td>\n",
       "      <td>False</td>\n",
       "    </tr>\n",
       "    <tr>\n",
       "      <th>2</th>\n",
       "      <td>2022-07-04 20:45:00</td>\n",
       "      <td>19758.5</td>\n",
       "      <td>19809.2</td>\n",
       "      <td>19745.7</td>\n",
       "      <td>19774.4</td>\n",
       "      <td>2972.344</td>\n",
       "      <td>False</td>\n",
       "    </tr>\n",
       "    <tr>\n",
       "      <th>3</th>\n",
       "      <td>2022-07-04 21:00:00</td>\n",
       "      <td>19774.3</td>\n",
       "      <td>19790.0</td>\n",
       "      <td>19740.4</td>\n",
       "      <td>19789.9</td>\n",
       "      <td>3271.586</td>\n",
       "      <td>True</td>\n",
       "    </tr>\n",
       "    <tr>\n",
       "      <th>4</th>\n",
       "      <td>2022-07-04 21:15:00</td>\n",
       "      <td>19789.9</td>\n",
       "      <td>19811.4</td>\n",
       "      <td>19768.3</td>\n",
       "      <td>19773.8</td>\n",
       "      <td>2151.420</td>\n",
       "      <td>False</td>\n",
       "    </tr>\n",
       "  </tbody>\n",
       "</table>\n",
       "</div>"
      ],
      "text/plain": [
       "             timestamp     open     high      low    close    volume  \\\n",
       "0  2022-07-04 20:15:00  19851.3  19853.6  19719.5  19776.6  4522.198   \n",
       "1  2022-07-04 20:30:00  19776.7  19779.3  19735.5  19758.5  2417.909   \n",
       "2  2022-07-04 20:45:00  19758.5  19809.2  19745.7  19774.4  2972.344   \n",
       "3  2022-07-04 21:00:00  19774.3  19790.0  19740.4  19789.9  3271.586   \n",
       "4  2022-07-04 21:15:00  19789.9  19811.4  19768.3  19773.8  2151.420   \n",
       "\n",
       "   bullish_pin_bar  \n",
       "0            False  \n",
       "1            False  \n",
       "2            False  \n",
       "3             True  \n",
       "4            False  "
      ]
     },
     "execution_count": 23,
     "metadata": {},
     "output_type": "execute_result"
    }
   ],
   "source": [
    "# Defining function to identify bullish pin bars\n",
    "def is_bullish_pin_bar(row):\n",
    "    o_price = row['open']\n",
    "    h_price = row['high']\n",
    "    l_price = row['low']\n",
    "    c_price = row['close']\n",
    "\n",
    "    body = abs(c_price - o_price)\n",
    "    upper_wick = h_price - max(c_price, o_price)\n",
    "    lower_wick = min(o_price, c_price) - l_price\n",
    "    price_range = h_price - l_price\n",
    "    body_ratio = body/price_range\n",
    "\n",
    "    if(c_price >= o_price and price_range > 0):\n",
    "        if(upper_wick < lower_wick and body_ratio < 0.5):\n",
    "            return True\n",
    "        else:\n",
    "            return False\n",
    "    return False\n",
    "\n",
    "btcusdt_15min_df['bullish_pin_bar'] = btcusdt_15min_df.apply(is_bullish_pin_bar, axis=1)\n",
    "btcusdt_15min_df.head()"
   ]
  }
 ],
 "metadata": {
  "kernelspec": {
   "display_name": "myvenv",
   "language": "python",
   "name": "python3"
  },
  "language_info": {
   "codemirror_mode": {
    "name": "ipython",
    "version": 3
   },
   "file_extension": ".py",
   "mimetype": "text/x-python",
   "name": "python",
   "nbconvert_exporter": "python",
   "pygments_lexer": "ipython3",
   "version": "3.13.2"
  }
 },
 "nbformat": 4,
 "nbformat_minor": 5
}
