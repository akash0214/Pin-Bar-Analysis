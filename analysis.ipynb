{
 "cells": [
  {
   "cell_type": "markdown",
   "id": "380c485b",
   "metadata": {},
   "source": [
    "Weak Pin Bar: The volumes on a pin bar are important but the most important thing which determines if the pin bar is weak or not is the follow up bar and it's volume.\n",
    "\n",
    "Hypothesis: If the follow up bar gives greater move than the pin bar but the volume was lower than the pin bar then, the low of the pin bar should get tested. This testing depends on the time frame of the pin bar. The results can be seen more quickly on intraday time frames so, we will be using 3, 5, and 15 minutes time frames on BTCUSDT and ETHUSDT futures contracts."
   ]
  },
  {
   "cell_type": "code",
   "execution_count": 195,
   "id": "a3d6892a",
   "metadata": {},
   "outputs": [],
   "source": [
    "import pandas as pd\n",
    "import numpy as np\n",
    "import matplotlib.pyplot as plt\n",
    "import seaborn as sns"
   ]
  },
  {
   "cell_type": "code",
   "execution_count": 196,
   "id": "102928fb",
   "metadata": {},
   "outputs": [
    {
     "data": {
      "application/vnd.microsoft.datawrangler.viewer.v0+json": {
       "columns": [
        {
         "name": "index",
         "rawType": "int64",
         "type": "integer"
        },
        {
         "name": "timestamp",
         "rawType": "object",
         "type": "string"
        },
        {
         "name": "open",
         "rawType": "float64",
         "type": "float"
        },
        {
         "name": "high",
         "rawType": "float64",
         "type": "float"
        },
        {
         "name": "low",
         "rawType": "float64",
         "type": "float"
        },
        {
         "name": "close",
         "rawType": "float64",
         "type": "float"
        },
        {
         "name": "volume",
         "rawType": "float64",
         "type": "float"
        }
       ],
       "ref": "1ba0e0ad-a92d-457f-b715-29d1727281f3",
       "rows": [
        [
         "0",
         "2022-07-04 20:15:00",
         "19851.3",
         "19853.6",
         "19719.5",
         "19776.6",
         "4522.198"
        ],
        [
         "1",
         "2022-07-04 20:30:00",
         "19776.7",
         "19779.3",
         "19735.5",
         "19758.5",
         "2417.909"
        ],
        [
         "2",
         "2022-07-04 20:45:00",
         "19758.5",
         "19809.2",
         "19745.7",
         "19774.4",
         "2972.344"
        ],
        [
         "3",
         "2022-07-04 21:00:00",
         "19774.3",
         "19790.0",
         "19740.4",
         "19789.9",
         "3271.586"
        ],
        [
         "4",
         "2022-07-04 21:15:00",
         "19789.9",
         "19811.4",
         "19768.3",
         "19773.8",
         "2151.42"
        ]
       ],
       "shape": {
        "columns": 6,
        "rows": 5
       }
      },
      "text/html": [
       "<div>\n",
       "<style scoped>\n",
       "    .dataframe tbody tr th:only-of-type {\n",
       "        vertical-align: middle;\n",
       "    }\n",
       "\n",
       "    .dataframe tbody tr th {\n",
       "        vertical-align: top;\n",
       "    }\n",
       "\n",
       "    .dataframe thead th {\n",
       "        text-align: right;\n",
       "    }\n",
       "</style>\n",
       "<table border=\"1\" class=\"dataframe\">\n",
       "  <thead>\n",
       "    <tr style=\"text-align: right;\">\n",
       "      <th></th>\n",
       "      <th>timestamp</th>\n",
       "      <th>open</th>\n",
       "      <th>high</th>\n",
       "      <th>low</th>\n",
       "      <th>close</th>\n",
       "      <th>volume</th>\n",
       "    </tr>\n",
       "  </thead>\n",
       "  <tbody>\n",
       "    <tr>\n",
       "      <th>0</th>\n",
       "      <td>2022-07-04 20:15:00</td>\n",
       "      <td>19851.3</td>\n",
       "      <td>19853.6</td>\n",
       "      <td>19719.5</td>\n",
       "      <td>19776.6</td>\n",
       "      <td>4522.198</td>\n",
       "    </tr>\n",
       "    <tr>\n",
       "      <th>1</th>\n",
       "      <td>2022-07-04 20:30:00</td>\n",
       "      <td>19776.7</td>\n",
       "      <td>19779.3</td>\n",
       "      <td>19735.5</td>\n",
       "      <td>19758.5</td>\n",
       "      <td>2417.909</td>\n",
       "    </tr>\n",
       "    <tr>\n",
       "      <th>2</th>\n",
       "      <td>2022-07-04 20:45:00</td>\n",
       "      <td>19758.5</td>\n",
       "      <td>19809.2</td>\n",
       "      <td>19745.7</td>\n",
       "      <td>19774.4</td>\n",
       "      <td>2972.344</td>\n",
       "    </tr>\n",
       "    <tr>\n",
       "      <th>3</th>\n",
       "      <td>2022-07-04 21:00:00</td>\n",
       "      <td>19774.3</td>\n",
       "      <td>19790.0</td>\n",
       "      <td>19740.4</td>\n",
       "      <td>19789.9</td>\n",
       "      <td>3271.586</td>\n",
       "    </tr>\n",
       "    <tr>\n",
       "      <th>4</th>\n",
       "      <td>2022-07-04 21:15:00</td>\n",
       "      <td>19789.9</td>\n",
       "      <td>19811.4</td>\n",
       "      <td>19768.3</td>\n",
       "      <td>19773.8</td>\n",
       "      <td>2151.420</td>\n",
       "    </tr>\n",
       "  </tbody>\n",
       "</table>\n",
       "</div>"
      ],
      "text/plain": [
       "             timestamp     open     high      low    close    volume\n",
       "0  2022-07-04 20:15:00  19851.3  19853.6  19719.5  19776.6  4522.198\n",
       "1  2022-07-04 20:30:00  19776.7  19779.3  19735.5  19758.5  2417.909\n",
       "2  2022-07-04 20:45:00  19758.5  19809.2  19745.7  19774.4  2972.344\n",
       "3  2022-07-04 21:00:00  19774.3  19790.0  19740.4  19789.9  3271.586\n",
       "4  2022-07-04 21:15:00  19789.9  19811.4  19768.3  19773.8  2151.420"
      ]
     },
     "execution_count": 196,
     "metadata": {},
     "output_type": "execute_result"
    }
   ],
   "source": [
    "# Working on 15 minutes time frame\n",
    "btcusdt_15min_data = pd.read_csv(\"BTCUSDT_15min.csv\")\n",
    "btcusdt_15min_df = pd.DataFrame(btcusdt_15min_data)\n",
    "btcusdt_15min_df.head()"
   ]
  },
  {
   "cell_type": "markdown",
   "id": "f6a53364",
   "metadata": {},
   "source": [
    "Checking for bullish pin bars on 15 minutes bars of BTCUSDT Futures"
   ]
  },
  {
   "cell_type": "code",
   "execution_count": 197,
   "id": "8e083e6e",
   "metadata": {},
   "outputs": [
    {
     "data": {
      "application/vnd.microsoft.datawrangler.viewer.v0+json": {
       "columns": [
        {
         "name": "index",
         "rawType": "int64",
         "type": "integer"
        },
        {
         "name": "timestamp",
         "rawType": "object",
         "type": "string"
        },
        {
         "name": "open",
         "rawType": "float64",
         "type": "float"
        },
        {
         "name": "high",
         "rawType": "float64",
         "type": "float"
        },
        {
         "name": "low",
         "rawType": "float64",
         "type": "float"
        },
        {
         "name": "close",
         "rawType": "float64",
         "type": "float"
        },
        {
         "name": "volume",
         "rawType": "float64",
         "type": "float"
        },
        {
         "name": "bullish_pin_bar",
         "rawType": "bool",
         "type": "boolean"
        }
       ],
       "ref": "5418ce31-3e28-4a47-aea0-bf129bc2f257",
       "rows": [
        [
         "0",
         "2022-07-04 20:15:00",
         "19851.3",
         "19853.6",
         "19719.5",
         "19776.6",
         "4522.198",
         "False"
        ],
        [
         "1",
         "2022-07-04 20:30:00",
         "19776.7",
         "19779.3",
         "19735.5",
         "19758.5",
         "2417.909",
         "False"
        ],
        [
         "2",
         "2022-07-04 20:45:00",
         "19758.5",
         "19809.2",
         "19745.7",
         "19774.4",
         "2972.344",
         "False"
        ],
        [
         "3",
         "2022-07-04 21:00:00",
         "19774.3",
         "19790.0",
         "19740.4",
         "19789.9",
         "3271.586",
         "True"
        ],
        [
         "4",
         "2022-07-04 21:15:00",
         "19789.9",
         "19811.4",
         "19768.3",
         "19773.8",
         "2151.42",
         "False"
        ]
       ],
       "shape": {
        "columns": 7,
        "rows": 5
       }
      },
      "text/html": [
       "<div>\n",
       "<style scoped>\n",
       "    .dataframe tbody tr th:only-of-type {\n",
       "        vertical-align: middle;\n",
       "    }\n",
       "\n",
       "    .dataframe tbody tr th {\n",
       "        vertical-align: top;\n",
       "    }\n",
       "\n",
       "    .dataframe thead th {\n",
       "        text-align: right;\n",
       "    }\n",
       "</style>\n",
       "<table border=\"1\" class=\"dataframe\">\n",
       "  <thead>\n",
       "    <tr style=\"text-align: right;\">\n",
       "      <th></th>\n",
       "      <th>timestamp</th>\n",
       "      <th>open</th>\n",
       "      <th>high</th>\n",
       "      <th>low</th>\n",
       "      <th>close</th>\n",
       "      <th>volume</th>\n",
       "      <th>bullish_pin_bar</th>\n",
       "    </tr>\n",
       "  </thead>\n",
       "  <tbody>\n",
       "    <tr>\n",
       "      <th>0</th>\n",
       "      <td>2022-07-04 20:15:00</td>\n",
       "      <td>19851.3</td>\n",
       "      <td>19853.6</td>\n",
       "      <td>19719.5</td>\n",
       "      <td>19776.6</td>\n",
       "      <td>4522.198</td>\n",
       "      <td>False</td>\n",
       "    </tr>\n",
       "    <tr>\n",
       "      <th>1</th>\n",
       "      <td>2022-07-04 20:30:00</td>\n",
       "      <td>19776.7</td>\n",
       "      <td>19779.3</td>\n",
       "      <td>19735.5</td>\n",
       "      <td>19758.5</td>\n",
       "      <td>2417.909</td>\n",
       "      <td>False</td>\n",
       "    </tr>\n",
       "    <tr>\n",
       "      <th>2</th>\n",
       "      <td>2022-07-04 20:45:00</td>\n",
       "      <td>19758.5</td>\n",
       "      <td>19809.2</td>\n",
       "      <td>19745.7</td>\n",
       "      <td>19774.4</td>\n",
       "      <td>2972.344</td>\n",
       "      <td>False</td>\n",
       "    </tr>\n",
       "    <tr>\n",
       "      <th>3</th>\n",
       "      <td>2022-07-04 21:00:00</td>\n",
       "      <td>19774.3</td>\n",
       "      <td>19790.0</td>\n",
       "      <td>19740.4</td>\n",
       "      <td>19789.9</td>\n",
       "      <td>3271.586</td>\n",
       "      <td>True</td>\n",
       "    </tr>\n",
       "    <tr>\n",
       "      <th>4</th>\n",
       "      <td>2022-07-04 21:15:00</td>\n",
       "      <td>19789.9</td>\n",
       "      <td>19811.4</td>\n",
       "      <td>19768.3</td>\n",
       "      <td>19773.8</td>\n",
       "      <td>2151.420</td>\n",
       "      <td>False</td>\n",
       "    </tr>\n",
       "  </tbody>\n",
       "</table>\n",
       "</div>"
      ],
      "text/plain": [
       "             timestamp     open     high      low    close    volume  \\\n",
       "0  2022-07-04 20:15:00  19851.3  19853.6  19719.5  19776.6  4522.198   \n",
       "1  2022-07-04 20:30:00  19776.7  19779.3  19735.5  19758.5  2417.909   \n",
       "2  2022-07-04 20:45:00  19758.5  19809.2  19745.7  19774.4  2972.344   \n",
       "3  2022-07-04 21:00:00  19774.3  19790.0  19740.4  19789.9  3271.586   \n",
       "4  2022-07-04 21:15:00  19789.9  19811.4  19768.3  19773.8  2151.420   \n",
       "\n",
       "   bullish_pin_bar  \n",
       "0            False  \n",
       "1            False  \n",
       "2            False  \n",
       "3             True  \n",
       "4            False  "
      ]
     },
     "execution_count": 197,
     "metadata": {},
     "output_type": "execute_result"
    }
   ],
   "source": [
    "# Defining function to identify bullish pin bars\n",
    "def is_bullish_pin_bar(row):\n",
    "    o_price = row['open']\n",
    "    h_price = row['high']\n",
    "    l_price = row['low']\n",
    "    c_price = row['close']\n",
    "\n",
    "    body = abs(c_price - o_price)\n",
    "    upper_wick = h_price - max(c_price, o_price)\n",
    "    lower_wick = min(o_price, c_price) - l_price\n",
    "    price_range = h_price - l_price\n",
    "    if(price_range == 0):\n",
    "        return False\n",
    "    body_ratio = body/price_range\n",
    "\n",
    "    if(c_price >= o_price):\n",
    "        if(upper_wick < lower_wick and body_ratio < 0.5):\n",
    "            return True\n",
    "        else:\n",
    "            return False\n",
    "    return False\n",
    "\n",
    "btcusdt_15min_df['bullish_pin_bar'] = btcusdt_15min_df.apply(is_bullish_pin_bar, axis=1)\n",
    "btcusdt_15min_df.head()"
   ]
  },
  {
   "cell_type": "code",
   "execution_count": 198,
   "id": "8014eaca",
   "metadata": {},
   "outputs": [
    {
     "data": {
      "application/vnd.microsoft.datawrangler.viewer.v0+json": {
       "columns": [
        {
         "name": "index",
         "rawType": "int64",
         "type": "integer"
        },
        {
         "name": "timestamp",
         "rawType": "object",
         "type": "string"
        },
        {
         "name": "open",
         "rawType": "float64",
         "type": "float"
        },
        {
         "name": "high",
         "rawType": "float64",
         "type": "float"
        },
        {
         "name": "low",
         "rawType": "float64",
         "type": "float"
        },
        {
         "name": "close",
         "rawType": "float64",
         "type": "float"
        },
        {
         "name": "volume",
         "rawType": "float64",
         "type": "float"
        },
        {
         "name": "bullish_pin_bar",
         "rawType": "bool",
         "type": "boolean"
        },
        {
         "name": "Weak follow up",
         "rawType": "object",
         "type": "string"
        }
       ],
       "ref": "abc5096a-6398-4bfc-8ed3-34208c0bc961",
       "rows": [
        [
         "105114",
         "2025-07-03 18:45:00",
         "109558.0",
         "109637.9",
         "109488.8",
         "109637.8",
         "406.823",
         "False",
         "False"
        ],
        [
         "105115",
         "2025-07-03 19:00:00",
         "109637.8",
         "109825.0",
         "109581.5",
         "109749.8",
         "1436.947",
         "False",
         "False"
        ],
        [
         "105116",
         "2025-07-03 19:15:00",
         "109749.8",
         "109865.9",
         "109709.5",
         "109824.9",
         "681.06",
         "False",
         "False"
        ],
        [
         "105117",
         "2025-07-03 19:30:00",
         "109824.9",
         "109825.0",
         "109620.8",
         "109771.3",
         "582.974",
         "False",
         "False"
        ],
        [
         "105118",
         "2025-07-03 19:45:00",
         "109771.3",
         "109771.3",
         "109628.0",
         "109743.9",
         "462.942",
         "False",
         "False"
        ]
       ],
       "shape": {
        "columns": 8,
        "rows": 5
       }
      },
      "text/html": [
       "<div>\n",
       "<style scoped>\n",
       "    .dataframe tbody tr th:only-of-type {\n",
       "        vertical-align: middle;\n",
       "    }\n",
       "\n",
       "    .dataframe tbody tr th {\n",
       "        vertical-align: top;\n",
       "    }\n",
       "\n",
       "    .dataframe thead th {\n",
       "        text-align: right;\n",
       "    }\n",
       "</style>\n",
       "<table border=\"1\" class=\"dataframe\">\n",
       "  <thead>\n",
       "    <tr style=\"text-align: right;\">\n",
       "      <th></th>\n",
       "      <th>timestamp</th>\n",
       "      <th>open</th>\n",
       "      <th>high</th>\n",
       "      <th>low</th>\n",
       "      <th>close</th>\n",
       "      <th>volume</th>\n",
       "      <th>bullish_pin_bar</th>\n",
       "      <th>Weak follow up</th>\n",
       "    </tr>\n",
       "  </thead>\n",
       "  <tbody>\n",
       "    <tr>\n",
       "      <th>105114</th>\n",
       "      <td>2025-07-03 18:45:00</td>\n",
       "      <td>109558.0</td>\n",
       "      <td>109637.9</td>\n",
       "      <td>109488.8</td>\n",
       "      <td>109637.8</td>\n",
       "      <td>406.823</td>\n",
       "      <td>False</td>\n",
       "      <td>False</td>\n",
       "    </tr>\n",
       "    <tr>\n",
       "      <th>105115</th>\n",
       "      <td>2025-07-03 19:00:00</td>\n",
       "      <td>109637.8</td>\n",
       "      <td>109825.0</td>\n",
       "      <td>109581.5</td>\n",
       "      <td>109749.8</td>\n",
       "      <td>1436.947</td>\n",
       "      <td>False</td>\n",
       "      <td>False</td>\n",
       "    </tr>\n",
       "    <tr>\n",
       "      <th>105116</th>\n",
       "      <td>2025-07-03 19:15:00</td>\n",
       "      <td>109749.8</td>\n",
       "      <td>109865.9</td>\n",
       "      <td>109709.5</td>\n",
       "      <td>109824.9</td>\n",
       "      <td>681.060</td>\n",
       "      <td>False</td>\n",
       "      <td>False</td>\n",
       "    </tr>\n",
       "    <tr>\n",
       "      <th>105117</th>\n",
       "      <td>2025-07-03 19:30:00</td>\n",
       "      <td>109824.9</td>\n",
       "      <td>109825.0</td>\n",
       "      <td>109620.8</td>\n",
       "      <td>109771.3</td>\n",
       "      <td>582.974</td>\n",
       "      <td>False</td>\n",
       "      <td>False</td>\n",
       "    </tr>\n",
       "    <tr>\n",
       "      <th>105118</th>\n",
       "      <td>2025-07-03 19:45:00</td>\n",
       "      <td>109771.3</td>\n",
       "      <td>109771.3</td>\n",
       "      <td>109628.0</td>\n",
       "      <td>109743.9</td>\n",
       "      <td>462.942</td>\n",
       "      <td>False</td>\n",
       "      <td>False</td>\n",
       "    </tr>\n",
       "  </tbody>\n",
       "</table>\n",
       "</div>"
      ],
      "text/plain": [
       "                  timestamp      open      high       low     close    volume  \\\n",
       "105114  2025-07-03 18:45:00  109558.0  109637.9  109488.8  109637.8   406.823   \n",
       "105115  2025-07-03 19:00:00  109637.8  109825.0  109581.5  109749.8  1436.947   \n",
       "105116  2025-07-03 19:15:00  109749.8  109865.9  109709.5  109824.9   681.060   \n",
       "105117  2025-07-03 19:30:00  109824.9  109825.0  109620.8  109771.3   582.974   \n",
       "105118  2025-07-03 19:45:00  109771.3  109771.3  109628.0  109743.9   462.942   \n",
       "\n",
       "        bullish_pin_bar Weak follow up  \n",
       "105114            False          False  \n",
       "105115            False          False  \n",
       "105116            False          False  \n",
       "105117            False          False  \n",
       "105118            False          False  "
      ]
     },
     "execution_count": 198,
     "metadata": {},
     "output_type": "execute_result"
    }
   ],
   "source": [
    "# Adding the follow up status to pin bars\n",
    "follow_through = []\n",
    "for i in range(len(btcusdt_15min_df) - 1):\n",
    "    if(btcusdt_15min_df.loc[i, 'bullish_pin_bar']):\n",
    "        pin_bar_volume = btcusdt_15min_df.loc[i, 'volume']\n",
    "        next_bar_volume = btcusdt_15min_df.loc[i+1, 'volume']\n",
    "        pin_bar_move = btcusdt_15min_df.loc[i,'close'] - btcusdt_15min_df.loc[i,'open']\n",
    "        next_bar_move = btcusdt_15min_df.loc[i+1,'close'] - btcusdt_15min_df.loc[i+1,'open']\n",
    "        if(next_bar_move > pin_bar_move and next_bar_volume < pin_bar_volume):\n",
    "            follow_through.append('True')\n",
    "        else:\n",
    "            follow_through.append('False')\n",
    "    else:\n",
    "        follow_through.append('False')\n",
    "follow_through.append('False')\n",
    "btcusdt_15min_df['Weak follow up'] = follow_through\n",
    "btcusdt_15min_df.tail()"
   ]
  },
  {
   "cell_type": "code",
   "execution_count": 199,
   "id": "48ec9e76",
   "metadata": {},
   "outputs": [
    {
     "data": {
      "application/vnd.microsoft.datawrangler.viewer.v0+json": {
       "columns": [
        {
         "name": "index",
         "rawType": "int64",
         "type": "integer"
        },
        {
         "name": "timestamp",
         "rawType": "object",
         "type": "string"
        },
        {
         "name": "open",
         "rawType": "float64",
         "type": "float"
        },
        {
         "name": "high",
         "rawType": "float64",
         "type": "float"
        },
        {
         "name": "low",
         "rawType": "float64",
         "type": "float"
        },
        {
         "name": "close",
         "rawType": "float64",
         "type": "float"
        },
        {
         "name": "volume",
         "rawType": "float64",
         "type": "float"
        },
        {
         "name": "bullish_pin_bar",
         "rawType": "bool",
         "type": "boolean"
        },
        {
         "name": "Weak follow up",
         "rawType": "object",
         "type": "string"
        },
        {
         "name": "Weak Low Tested",
         "rawType": "object",
         "type": "string"
        }
       ],
       "ref": "04aa64c0-a592-4beb-9658-aaa5f278181f",
       "rows": [
        [
         "105114",
         "2025-07-03 18:45:00",
         "109558.0",
         "109637.9",
         "109488.8",
         "109637.8",
         "406.823",
         "False",
         "False",
         "False"
        ],
        [
         "105115",
         "2025-07-03 19:00:00",
         "109637.8",
         "109825.0",
         "109581.5",
         "109749.8",
         "1436.947",
         "False",
         "False",
         "False"
        ],
        [
         "105116",
         "2025-07-03 19:15:00",
         "109749.8",
         "109865.9",
         "109709.5",
         "109824.9",
         "681.06",
         "False",
         "False",
         "False"
        ],
        [
         "105117",
         "2025-07-03 19:30:00",
         "109824.9",
         "109825.0",
         "109620.8",
         "109771.3",
         "582.974",
         "False",
         "False",
         "False"
        ],
        [
         "105118",
         "2025-07-03 19:45:00",
         "109771.3",
         "109771.3",
         "109628.0",
         "109743.9",
         "462.942",
         "False",
         "False",
         "False"
        ]
       ],
       "shape": {
        "columns": 9,
        "rows": 5
       }
      },
      "text/html": [
       "<div>\n",
       "<style scoped>\n",
       "    .dataframe tbody tr th:only-of-type {\n",
       "        vertical-align: middle;\n",
       "    }\n",
       "\n",
       "    .dataframe tbody tr th {\n",
       "        vertical-align: top;\n",
       "    }\n",
       "\n",
       "    .dataframe thead th {\n",
       "        text-align: right;\n",
       "    }\n",
       "</style>\n",
       "<table border=\"1\" class=\"dataframe\">\n",
       "  <thead>\n",
       "    <tr style=\"text-align: right;\">\n",
       "      <th></th>\n",
       "      <th>timestamp</th>\n",
       "      <th>open</th>\n",
       "      <th>high</th>\n",
       "      <th>low</th>\n",
       "      <th>close</th>\n",
       "      <th>volume</th>\n",
       "      <th>bullish_pin_bar</th>\n",
       "      <th>Weak follow up</th>\n",
       "      <th>Weak Low Tested</th>\n",
       "    </tr>\n",
       "  </thead>\n",
       "  <tbody>\n",
       "    <tr>\n",
       "      <th>105114</th>\n",
       "      <td>2025-07-03 18:45:00</td>\n",
       "      <td>109558.0</td>\n",
       "      <td>109637.9</td>\n",
       "      <td>109488.8</td>\n",
       "      <td>109637.8</td>\n",
       "      <td>406.823</td>\n",
       "      <td>False</td>\n",
       "      <td>False</td>\n",
       "      <td>False</td>\n",
       "    </tr>\n",
       "    <tr>\n",
       "      <th>105115</th>\n",
       "      <td>2025-07-03 19:00:00</td>\n",
       "      <td>109637.8</td>\n",
       "      <td>109825.0</td>\n",
       "      <td>109581.5</td>\n",
       "      <td>109749.8</td>\n",
       "      <td>1436.947</td>\n",
       "      <td>False</td>\n",
       "      <td>False</td>\n",
       "      <td>False</td>\n",
       "    </tr>\n",
       "    <tr>\n",
       "      <th>105116</th>\n",
       "      <td>2025-07-03 19:15:00</td>\n",
       "      <td>109749.8</td>\n",
       "      <td>109865.9</td>\n",
       "      <td>109709.5</td>\n",
       "      <td>109824.9</td>\n",
       "      <td>681.060</td>\n",
       "      <td>False</td>\n",
       "      <td>False</td>\n",
       "      <td>False</td>\n",
       "    </tr>\n",
       "    <tr>\n",
       "      <th>105117</th>\n",
       "      <td>2025-07-03 19:30:00</td>\n",
       "      <td>109824.9</td>\n",
       "      <td>109825.0</td>\n",
       "      <td>109620.8</td>\n",
       "      <td>109771.3</td>\n",
       "      <td>582.974</td>\n",
       "      <td>False</td>\n",
       "      <td>False</td>\n",
       "      <td>False</td>\n",
       "    </tr>\n",
       "    <tr>\n",
       "      <th>105118</th>\n",
       "      <td>2025-07-03 19:45:00</td>\n",
       "      <td>109771.3</td>\n",
       "      <td>109771.3</td>\n",
       "      <td>109628.0</td>\n",
       "      <td>109743.9</td>\n",
       "      <td>462.942</td>\n",
       "      <td>False</td>\n",
       "      <td>False</td>\n",
       "      <td>False</td>\n",
       "    </tr>\n",
       "  </tbody>\n",
       "</table>\n",
       "</div>"
      ],
      "text/plain": [
       "                  timestamp      open      high       low     close    volume  \\\n",
       "105114  2025-07-03 18:45:00  109558.0  109637.9  109488.8  109637.8   406.823   \n",
       "105115  2025-07-03 19:00:00  109637.8  109825.0  109581.5  109749.8  1436.947   \n",
       "105116  2025-07-03 19:15:00  109749.8  109865.9  109709.5  109824.9   681.060   \n",
       "105117  2025-07-03 19:30:00  109824.9  109825.0  109620.8  109771.3   582.974   \n",
       "105118  2025-07-03 19:45:00  109771.3  109771.3  109628.0  109743.9   462.942   \n",
       "\n",
       "        bullish_pin_bar Weak follow up Weak Low Tested  \n",
       "105114            False          False           False  \n",
       "105115            False          False           False  \n",
       "105116            False          False           False  \n",
       "105117            False          False           False  \n",
       "105118            False          False           False  "
      ]
     },
     "execution_count": 199,
     "metadata": {},
     "output_type": "execute_result"
    }
   ],
   "source": [
    "# Checking if lows of weak pin bars got tested\n",
    "lows_tested = ['False']*len(btcusdt_15min_df)\n",
    "for i in range(len(btcusdt_15min_df) - 1):\n",
    "    if(btcusdt_15min_df.loc[i, 'Weak follow up'] == 'True'):\n",
    "        pin_bar_low = btcusdt_15min_df.loc[i, 'low']\n",
    "        for j in range(i+1, len(btcusdt_15min_df)):\n",
    "            if(btcusdt_15min_df.loc[j, 'low'] < pin_bar_low):\n",
    "                lows_tested[i] = 'True'\n",
    "                break\n",
    "btcusdt_15min_df['Weak Low Tested'] = lows_tested\n",
    "btcusdt_15min_df.tail()"
   ]
  },
  {
   "cell_type": "code",
   "execution_count": 200,
   "id": "367735eb",
   "metadata": {},
   "outputs": [
    {
     "data": {
      "application/vnd.microsoft.datawrangler.viewer.v0+json": {
       "columns": [
        {
         "name": "index",
         "rawType": "int64",
         "type": "integer"
        },
        {
         "name": "timestamp",
         "rawType": "object",
         "type": "string"
        },
        {
         "name": "open",
         "rawType": "float64",
         "type": "float"
        },
        {
         "name": "high",
         "rawType": "float64",
         "type": "float"
        },
        {
         "name": "low",
         "rawType": "float64",
         "type": "float"
        },
        {
         "name": "close",
         "rawType": "float64",
         "type": "float"
        },
        {
         "name": "volume",
         "rawType": "float64",
         "type": "float"
        },
        {
         "name": "bullish_pin_bar",
         "rawType": "bool",
         "type": "boolean"
        },
        {
         "name": "Weak follow up",
         "rawType": "object",
         "type": "string"
        },
        {
         "name": "Weak Low Tested",
         "rawType": "object",
         "type": "string"
        },
        {
         "name": "bearish_pin_bar",
         "rawType": "bool",
         "type": "boolean"
        }
       ],
       "ref": "009cc75b-8bd2-46c5-957d-8fd4c2cd8815",
       "rows": [
        [
         "105114",
         "2025-07-03 18:45:00",
         "109558.0",
         "109637.9",
         "109488.8",
         "109637.8",
         "406.823",
         "False",
         "False",
         "False",
         "False"
        ],
        [
         "105115",
         "2025-07-03 19:00:00",
         "109637.8",
         "109825.0",
         "109581.5",
         "109749.8",
         "1436.947",
         "False",
         "False",
         "False",
         "False"
        ],
        [
         "105116",
         "2025-07-03 19:15:00",
         "109749.8",
         "109865.9",
         "109709.5",
         "109824.9",
         "681.06",
         "False",
         "False",
         "False",
         "False"
        ],
        [
         "105117",
         "2025-07-03 19:30:00",
         "109824.9",
         "109825.0",
         "109620.8",
         "109771.3",
         "582.974",
         "False",
         "False",
         "False",
         "False"
        ],
        [
         "105118",
         "2025-07-03 19:45:00",
         "109771.3",
         "109771.3",
         "109628.0",
         "109743.9",
         "462.942",
         "False",
         "False",
         "False",
         "False"
        ]
       ],
       "shape": {
        "columns": 10,
        "rows": 5
       }
      },
      "text/html": [
       "<div>\n",
       "<style scoped>\n",
       "    .dataframe tbody tr th:only-of-type {\n",
       "        vertical-align: middle;\n",
       "    }\n",
       "\n",
       "    .dataframe tbody tr th {\n",
       "        vertical-align: top;\n",
       "    }\n",
       "\n",
       "    .dataframe thead th {\n",
       "        text-align: right;\n",
       "    }\n",
       "</style>\n",
       "<table border=\"1\" class=\"dataframe\">\n",
       "  <thead>\n",
       "    <tr style=\"text-align: right;\">\n",
       "      <th></th>\n",
       "      <th>timestamp</th>\n",
       "      <th>open</th>\n",
       "      <th>high</th>\n",
       "      <th>low</th>\n",
       "      <th>close</th>\n",
       "      <th>volume</th>\n",
       "      <th>bullish_pin_bar</th>\n",
       "      <th>Weak follow up</th>\n",
       "      <th>Weak Low Tested</th>\n",
       "      <th>bearish_pin_bar</th>\n",
       "    </tr>\n",
       "  </thead>\n",
       "  <tbody>\n",
       "    <tr>\n",
       "      <th>105114</th>\n",
       "      <td>2025-07-03 18:45:00</td>\n",
       "      <td>109558.0</td>\n",
       "      <td>109637.9</td>\n",
       "      <td>109488.8</td>\n",
       "      <td>109637.8</td>\n",
       "      <td>406.823</td>\n",
       "      <td>False</td>\n",
       "      <td>False</td>\n",
       "      <td>False</td>\n",
       "      <td>False</td>\n",
       "    </tr>\n",
       "    <tr>\n",
       "      <th>105115</th>\n",
       "      <td>2025-07-03 19:00:00</td>\n",
       "      <td>109637.8</td>\n",
       "      <td>109825.0</td>\n",
       "      <td>109581.5</td>\n",
       "      <td>109749.8</td>\n",
       "      <td>1436.947</td>\n",
       "      <td>False</td>\n",
       "      <td>False</td>\n",
       "      <td>False</td>\n",
       "      <td>False</td>\n",
       "    </tr>\n",
       "    <tr>\n",
       "      <th>105116</th>\n",
       "      <td>2025-07-03 19:15:00</td>\n",
       "      <td>109749.8</td>\n",
       "      <td>109865.9</td>\n",
       "      <td>109709.5</td>\n",
       "      <td>109824.9</td>\n",
       "      <td>681.060</td>\n",
       "      <td>False</td>\n",
       "      <td>False</td>\n",
       "      <td>False</td>\n",
       "      <td>False</td>\n",
       "    </tr>\n",
       "    <tr>\n",
       "      <th>105117</th>\n",
       "      <td>2025-07-03 19:30:00</td>\n",
       "      <td>109824.9</td>\n",
       "      <td>109825.0</td>\n",
       "      <td>109620.8</td>\n",
       "      <td>109771.3</td>\n",
       "      <td>582.974</td>\n",
       "      <td>False</td>\n",
       "      <td>False</td>\n",
       "      <td>False</td>\n",
       "      <td>False</td>\n",
       "    </tr>\n",
       "    <tr>\n",
       "      <th>105118</th>\n",
       "      <td>2025-07-03 19:45:00</td>\n",
       "      <td>109771.3</td>\n",
       "      <td>109771.3</td>\n",
       "      <td>109628.0</td>\n",
       "      <td>109743.9</td>\n",
       "      <td>462.942</td>\n",
       "      <td>False</td>\n",
       "      <td>False</td>\n",
       "      <td>False</td>\n",
       "      <td>False</td>\n",
       "    </tr>\n",
       "  </tbody>\n",
       "</table>\n",
       "</div>"
      ],
      "text/plain": [
       "                  timestamp      open      high       low     close    volume  \\\n",
       "105114  2025-07-03 18:45:00  109558.0  109637.9  109488.8  109637.8   406.823   \n",
       "105115  2025-07-03 19:00:00  109637.8  109825.0  109581.5  109749.8  1436.947   \n",
       "105116  2025-07-03 19:15:00  109749.8  109865.9  109709.5  109824.9   681.060   \n",
       "105117  2025-07-03 19:30:00  109824.9  109825.0  109620.8  109771.3   582.974   \n",
       "105118  2025-07-03 19:45:00  109771.3  109771.3  109628.0  109743.9   462.942   \n",
       "\n",
       "        bullish_pin_bar Weak follow up Weak Low Tested  bearish_pin_bar  \n",
       "105114            False          False           False            False  \n",
       "105115            False          False           False            False  \n",
       "105116            False          False           False            False  \n",
       "105117            False          False           False            False  \n",
       "105118            False          False           False            False  "
      ]
     },
     "execution_count": 200,
     "metadata": {},
     "output_type": "execute_result"
    }
   ],
   "source": [
    "# Defining bearish pin bars\n",
    "def is_bearish_pin_bar(row):\n",
    "    o_price = row['open']\n",
    "    h_price = row['high']\n",
    "    l_price = row['low']\n",
    "    c_price = row['close']\n",
    "\n",
    "    body = abs(c_price - o_price)\n",
    "    upper_wick = h_price - max(c_price, o_price)\n",
    "    lower_wick = min(o_price, c_price) - l_price\n",
    "    price_range = h_price - l_price\n",
    "    if(price_range == 0):\n",
    "        return False\n",
    "    body_ratio = body/price_range\n",
    "\n",
    "    if(c_price <= o_price):\n",
    "        if(upper_wick > lower_wick and body_ratio < 0.5):\n",
    "            return True\n",
    "        else:\n",
    "            return False\n",
    "    return False\n",
    "\n",
    "btcusdt_15min_df['bearish_pin_bar'] = btcusdt_15min_df.apply(is_bearish_pin_bar, axis=1)\n",
    "btcusdt_15min_df.tail()"
   ]
  },
  {
   "cell_type": "code",
   "execution_count": 201,
   "id": "09f2a078",
   "metadata": {},
   "outputs": [
    {
     "data": {
      "application/vnd.microsoft.datawrangler.viewer.v0+json": {
       "columns": [
        {
         "name": "index",
         "rawType": "int64",
         "type": "integer"
        },
        {
         "name": "timestamp",
         "rawType": "object",
         "type": "string"
        },
        {
         "name": "open",
         "rawType": "float64",
         "type": "float"
        },
        {
         "name": "high",
         "rawType": "float64",
         "type": "float"
        },
        {
         "name": "low",
         "rawType": "float64",
         "type": "float"
        },
        {
         "name": "close",
         "rawType": "float64",
         "type": "float"
        },
        {
         "name": "volume",
         "rawType": "float64",
         "type": "float"
        },
        {
         "name": "bullish_pin_bar",
         "rawType": "bool",
         "type": "boolean"
        },
        {
         "name": "Weak follow up",
         "rawType": "object",
         "type": "string"
        },
        {
         "name": "Weak Low Tested",
         "rawType": "object",
         "type": "string"
        },
        {
         "name": "bearish_pin_bar",
         "rawType": "bool",
         "type": "boolean"
        },
        {
         "name": "Weak follow down",
         "rawType": "object",
         "type": "string"
        }
       ],
       "ref": "fc8f1fb0-546b-48cb-aea2-e7500b1744de",
       "rows": [
        [
         "105114",
         "2025-07-03 18:45:00",
         "109558.0",
         "109637.9",
         "109488.8",
         "109637.8",
         "406.823",
         "False",
         "False",
         "False",
         "False",
         "False"
        ],
        [
         "105115",
         "2025-07-03 19:00:00",
         "109637.8",
         "109825.0",
         "109581.5",
         "109749.8",
         "1436.947",
         "False",
         "False",
         "False",
         "False",
         "False"
        ],
        [
         "105116",
         "2025-07-03 19:15:00",
         "109749.8",
         "109865.9",
         "109709.5",
         "109824.9",
         "681.06",
         "False",
         "False",
         "False",
         "False",
         "False"
        ],
        [
         "105117",
         "2025-07-03 19:30:00",
         "109824.9",
         "109825.0",
         "109620.8",
         "109771.3",
         "582.974",
         "False",
         "False",
         "False",
         "False",
         "False"
        ],
        [
         "105118",
         "2025-07-03 19:45:00",
         "109771.3",
         "109771.3",
         "109628.0",
         "109743.9",
         "462.942",
         "False",
         "False",
         "False",
         "False",
         "False"
        ]
       ],
       "shape": {
        "columns": 11,
        "rows": 5
       }
      },
      "text/html": [
       "<div>\n",
       "<style scoped>\n",
       "    .dataframe tbody tr th:only-of-type {\n",
       "        vertical-align: middle;\n",
       "    }\n",
       "\n",
       "    .dataframe tbody tr th {\n",
       "        vertical-align: top;\n",
       "    }\n",
       "\n",
       "    .dataframe thead th {\n",
       "        text-align: right;\n",
       "    }\n",
       "</style>\n",
       "<table border=\"1\" class=\"dataframe\">\n",
       "  <thead>\n",
       "    <tr style=\"text-align: right;\">\n",
       "      <th></th>\n",
       "      <th>timestamp</th>\n",
       "      <th>open</th>\n",
       "      <th>high</th>\n",
       "      <th>low</th>\n",
       "      <th>close</th>\n",
       "      <th>volume</th>\n",
       "      <th>bullish_pin_bar</th>\n",
       "      <th>Weak follow up</th>\n",
       "      <th>Weak Low Tested</th>\n",
       "      <th>bearish_pin_bar</th>\n",
       "      <th>Weak follow down</th>\n",
       "    </tr>\n",
       "  </thead>\n",
       "  <tbody>\n",
       "    <tr>\n",
       "      <th>105114</th>\n",
       "      <td>2025-07-03 18:45:00</td>\n",
       "      <td>109558.0</td>\n",
       "      <td>109637.9</td>\n",
       "      <td>109488.8</td>\n",
       "      <td>109637.8</td>\n",
       "      <td>406.823</td>\n",
       "      <td>False</td>\n",
       "      <td>False</td>\n",
       "      <td>False</td>\n",
       "      <td>False</td>\n",
       "      <td>False</td>\n",
       "    </tr>\n",
       "    <tr>\n",
       "      <th>105115</th>\n",
       "      <td>2025-07-03 19:00:00</td>\n",
       "      <td>109637.8</td>\n",
       "      <td>109825.0</td>\n",
       "      <td>109581.5</td>\n",
       "      <td>109749.8</td>\n",
       "      <td>1436.947</td>\n",
       "      <td>False</td>\n",
       "      <td>False</td>\n",
       "      <td>False</td>\n",
       "      <td>False</td>\n",
       "      <td>False</td>\n",
       "    </tr>\n",
       "    <tr>\n",
       "      <th>105116</th>\n",
       "      <td>2025-07-03 19:15:00</td>\n",
       "      <td>109749.8</td>\n",
       "      <td>109865.9</td>\n",
       "      <td>109709.5</td>\n",
       "      <td>109824.9</td>\n",
       "      <td>681.060</td>\n",
       "      <td>False</td>\n",
       "      <td>False</td>\n",
       "      <td>False</td>\n",
       "      <td>False</td>\n",
       "      <td>False</td>\n",
       "    </tr>\n",
       "    <tr>\n",
       "      <th>105117</th>\n",
       "      <td>2025-07-03 19:30:00</td>\n",
       "      <td>109824.9</td>\n",
       "      <td>109825.0</td>\n",
       "      <td>109620.8</td>\n",
       "      <td>109771.3</td>\n",
       "      <td>582.974</td>\n",
       "      <td>False</td>\n",
       "      <td>False</td>\n",
       "      <td>False</td>\n",
       "      <td>False</td>\n",
       "      <td>False</td>\n",
       "    </tr>\n",
       "    <tr>\n",
       "      <th>105118</th>\n",
       "      <td>2025-07-03 19:45:00</td>\n",
       "      <td>109771.3</td>\n",
       "      <td>109771.3</td>\n",
       "      <td>109628.0</td>\n",
       "      <td>109743.9</td>\n",
       "      <td>462.942</td>\n",
       "      <td>False</td>\n",
       "      <td>False</td>\n",
       "      <td>False</td>\n",
       "      <td>False</td>\n",
       "      <td>False</td>\n",
       "    </tr>\n",
       "  </tbody>\n",
       "</table>\n",
       "</div>"
      ],
      "text/plain": [
       "                  timestamp      open      high       low     close    volume  \\\n",
       "105114  2025-07-03 18:45:00  109558.0  109637.9  109488.8  109637.8   406.823   \n",
       "105115  2025-07-03 19:00:00  109637.8  109825.0  109581.5  109749.8  1436.947   \n",
       "105116  2025-07-03 19:15:00  109749.8  109865.9  109709.5  109824.9   681.060   \n",
       "105117  2025-07-03 19:30:00  109824.9  109825.0  109620.8  109771.3   582.974   \n",
       "105118  2025-07-03 19:45:00  109771.3  109771.3  109628.0  109743.9   462.942   \n",
       "\n",
       "        bullish_pin_bar Weak follow up Weak Low Tested  bearish_pin_bar  \\\n",
       "105114            False          False           False            False   \n",
       "105115            False          False           False            False   \n",
       "105116            False          False           False            False   \n",
       "105117            False          False           False            False   \n",
       "105118            False          False           False            False   \n",
       "\n",
       "       Weak follow down  \n",
       "105114            False  \n",
       "105115            False  \n",
       "105116            False  \n",
       "105117            False  \n",
       "105118            False  "
      ]
     },
     "execution_count": 201,
     "metadata": {},
     "output_type": "execute_result"
    }
   ],
   "source": [
    "# Checking for weak follow down\n",
    "follow_through = []\n",
    "for i in range(len(btcusdt_15min_df) - 1):\n",
    "    if(btcusdt_15min_df.loc[i, 'bearish_pin_bar']):\n",
    "        pin_bar_volume = btcusdt_15min_df.loc[i, 'volume']\n",
    "        next_bar_volume = btcusdt_15min_df.loc[i+1, 'volume']\n",
    "        pin_bar_move = btcusdt_15min_df.loc[i,'open'] - btcusdt_15min_df.loc[i,'close']\n",
    "        next_bar_move = btcusdt_15min_df.loc[i+1,'open'] - btcusdt_15min_df.loc[i+1,'close']\n",
    "        if(next_bar_move > pin_bar_move and next_bar_volume < pin_bar_volume):\n",
    "            follow_through.append('True')\n",
    "        else:\n",
    "            follow_through.append('False')\n",
    "    else:\n",
    "        follow_through.append('False')\n",
    "follow_through.append('False')\n",
    "btcusdt_15min_df['Weak follow down'] = follow_through\n",
    "btcusdt_15min_df.tail()"
   ]
  },
  {
   "cell_type": "code",
   "execution_count": 202,
   "id": "a8e4e5dd",
   "metadata": {},
   "outputs": [
    {
     "data": {
      "application/vnd.microsoft.datawrangler.viewer.v0+json": {
       "columns": [
        {
         "name": "index",
         "rawType": "int64",
         "type": "integer"
        },
        {
         "name": "timestamp",
         "rawType": "object",
         "type": "string"
        },
        {
         "name": "open",
         "rawType": "float64",
         "type": "float"
        },
        {
         "name": "high",
         "rawType": "float64",
         "type": "float"
        },
        {
         "name": "low",
         "rawType": "float64",
         "type": "float"
        },
        {
         "name": "close",
         "rawType": "float64",
         "type": "float"
        },
        {
         "name": "volume",
         "rawType": "float64",
         "type": "float"
        },
        {
         "name": "bullish_pin_bar",
         "rawType": "bool",
         "type": "boolean"
        },
        {
         "name": "Weak follow up",
         "rawType": "object",
         "type": "string"
        },
        {
         "name": "Weak Low Tested",
         "rawType": "object",
         "type": "string"
        },
        {
         "name": "bearish_pin_bar",
         "rawType": "bool",
         "type": "boolean"
        },
        {
         "name": "Weak follow down",
         "rawType": "object",
         "type": "string"
        },
        {
         "name": "Weak High Tested",
         "rawType": "object",
         "type": "string"
        }
       ],
       "ref": "3a788963-d61f-4cfc-a716-d56f48db17dc",
       "rows": [
        [
         "105114",
         "2025-07-03 18:45:00",
         "109558.0",
         "109637.9",
         "109488.8",
         "109637.8",
         "406.823",
         "False",
         "False",
         "False",
         "False",
         "False",
         "False"
        ],
        [
         "105115",
         "2025-07-03 19:00:00",
         "109637.8",
         "109825.0",
         "109581.5",
         "109749.8",
         "1436.947",
         "False",
         "False",
         "False",
         "False",
         "False",
         "False"
        ],
        [
         "105116",
         "2025-07-03 19:15:00",
         "109749.8",
         "109865.9",
         "109709.5",
         "109824.9",
         "681.06",
         "False",
         "False",
         "False",
         "False",
         "False",
         "False"
        ],
        [
         "105117",
         "2025-07-03 19:30:00",
         "109824.9",
         "109825.0",
         "109620.8",
         "109771.3",
         "582.974",
         "False",
         "False",
         "False",
         "False",
         "False",
         "False"
        ],
        [
         "105118",
         "2025-07-03 19:45:00",
         "109771.3",
         "109771.3",
         "109628.0",
         "109743.9",
         "462.942",
         "False",
         "False",
         "False",
         "False",
         "False",
         "False"
        ]
       ],
       "shape": {
        "columns": 12,
        "rows": 5
       }
      },
      "text/html": [
       "<div>\n",
       "<style scoped>\n",
       "    .dataframe tbody tr th:only-of-type {\n",
       "        vertical-align: middle;\n",
       "    }\n",
       "\n",
       "    .dataframe tbody tr th {\n",
       "        vertical-align: top;\n",
       "    }\n",
       "\n",
       "    .dataframe thead th {\n",
       "        text-align: right;\n",
       "    }\n",
       "</style>\n",
       "<table border=\"1\" class=\"dataframe\">\n",
       "  <thead>\n",
       "    <tr style=\"text-align: right;\">\n",
       "      <th></th>\n",
       "      <th>timestamp</th>\n",
       "      <th>open</th>\n",
       "      <th>high</th>\n",
       "      <th>low</th>\n",
       "      <th>close</th>\n",
       "      <th>volume</th>\n",
       "      <th>bullish_pin_bar</th>\n",
       "      <th>Weak follow up</th>\n",
       "      <th>Weak Low Tested</th>\n",
       "      <th>bearish_pin_bar</th>\n",
       "      <th>Weak follow down</th>\n",
       "      <th>Weak High Tested</th>\n",
       "    </tr>\n",
       "  </thead>\n",
       "  <tbody>\n",
       "    <tr>\n",
       "      <th>105114</th>\n",
       "      <td>2025-07-03 18:45:00</td>\n",
       "      <td>109558.0</td>\n",
       "      <td>109637.9</td>\n",
       "      <td>109488.8</td>\n",
       "      <td>109637.8</td>\n",
       "      <td>406.823</td>\n",
       "      <td>False</td>\n",
       "      <td>False</td>\n",
       "      <td>False</td>\n",
       "      <td>False</td>\n",
       "      <td>False</td>\n",
       "      <td>False</td>\n",
       "    </tr>\n",
       "    <tr>\n",
       "      <th>105115</th>\n",
       "      <td>2025-07-03 19:00:00</td>\n",
       "      <td>109637.8</td>\n",
       "      <td>109825.0</td>\n",
       "      <td>109581.5</td>\n",
       "      <td>109749.8</td>\n",
       "      <td>1436.947</td>\n",
       "      <td>False</td>\n",
       "      <td>False</td>\n",
       "      <td>False</td>\n",
       "      <td>False</td>\n",
       "      <td>False</td>\n",
       "      <td>False</td>\n",
       "    </tr>\n",
       "    <tr>\n",
       "      <th>105116</th>\n",
       "      <td>2025-07-03 19:15:00</td>\n",
       "      <td>109749.8</td>\n",
       "      <td>109865.9</td>\n",
       "      <td>109709.5</td>\n",
       "      <td>109824.9</td>\n",
       "      <td>681.060</td>\n",
       "      <td>False</td>\n",
       "      <td>False</td>\n",
       "      <td>False</td>\n",
       "      <td>False</td>\n",
       "      <td>False</td>\n",
       "      <td>False</td>\n",
       "    </tr>\n",
       "    <tr>\n",
       "      <th>105117</th>\n",
       "      <td>2025-07-03 19:30:00</td>\n",
       "      <td>109824.9</td>\n",
       "      <td>109825.0</td>\n",
       "      <td>109620.8</td>\n",
       "      <td>109771.3</td>\n",
       "      <td>582.974</td>\n",
       "      <td>False</td>\n",
       "      <td>False</td>\n",
       "      <td>False</td>\n",
       "      <td>False</td>\n",
       "      <td>False</td>\n",
       "      <td>False</td>\n",
       "    </tr>\n",
       "    <tr>\n",
       "      <th>105118</th>\n",
       "      <td>2025-07-03 19:45:00</td>\n",
       "      <td>109771.3</td>\n",
       "      <td>109771.3</td>\n",
       "      <td>109628.0</td>\n",
       "      <td>109743.9</td>\n",
       "      <td>462.942</td>\n",
       "      <td>False</td>\n",
       "      <td>False</td>\n",
       "      <td>False</td>\n",
       "      <td>False</td>\n",
       "      <td>False</td>\n",
       "      <td>False</td>\n",
       "    </tr>\n",
       "  </tbody>\n",
       "</table>\n",
       "</div>"
      ],
      "text/plain": [
       "                  timestamp      open      high       low     close    volume  \\\n",
       "105114  2025-07-03 18:45:00  109558.0  109637.9  109488.8  109637.8   406.823   \n",
       "105115  2025-07-03 19:00:00  109637.8  109825.0  109581.5  109749.8  1436.947   \n",
       "105116  2025-07-03 19:15:00  109749.8  109865.9  109709.5  109824.9   681.060   \n",
       "105117  2025-07-03 19:30:00  109824.9  109825.0  109620.8  109771.3   582.974   \n",
       "105118  2025-07-03 19:45:00  109771.3  109771.3  109628.0  109743.9   462.942   \n",
       "\n",
       "        bullish_pin_bar Weak follow up Weak Low Tested  bearish_pin_bar  \\\n",
       "105114            False          False           False            False   \n",
       "105115            False          False           False            False   \n",
       "105116            False          False           False            False   \n",
       "105117            False          False           False            False   \n",
       "105118            False          False           False            False   \n",
       "\n",
       "       Weak follow down Weak High Tested  \n",
       "105114            False            False  \n",
       "105115            False            False  \n",
       "105116            False            False  \n",
       "105117            False            False  \n",
       "105118            False            False  "
      ]
     },
     "execution_count": 202,
     "metadata": {},
     "output_type": "execute_result"
    }
   ],
   "source": [
    "# Checking if highs of weak pin bars got tested\n",
    "highs_tested = ['False']*len(btcusdt_15min_df)\n",
    "for i in range(len(btcusdt_15min_df) - 1):\n",
    "    if(btcusdt_15min_df.loc[i, 'Weak follow down'] == 'True'):\n",
    "        pin_bar_high = btcusdt_15min_df.loc[i, 'high']\n",
    "        for j in range(i+1, len(btcusdt_15min_df)):\n",
    "            if(btcusdt_15min_df.loc[j, 'high'] > pin_bar_high):\n",
    "                highs_tested[i] = 'True'\n",
    "                break\n",
    "btcusdt_15min_df['Weak High Tested'] = highs_tested\n",
    "btcusdt_15min_df.tail()"
   ]
  },
  {
   "cell_type": "code",
   "execution_count": 203,
   "id": "dda8f94a",
   "metadata": {},
   "outputs": [],
   "source": [
    "# Saving the complete dataframe as a csv\n",
    "btcusdt_15min_df.to_csv('b_15min_analyzed.csv')"
   ]
  },
  {
   "cell_type": "code",
   "execution_count": 204,
   "id": "3ca2befb",
   "metadata": {},
   "outputs": [
    {
     "data": {
      "application/vnd.microsoft.datawrangler.viewer.v0+json": {
       "columns": [
        {
         "name": "index",
         "rawType": "int64",
         "type": "integer"
        },
        {
         "name": "timestamp",
         "rawType": "object",
         "type": "string"
        },
        {
         "name": "open",
         "rawType": "float64",
         "type": "float"
        },
        {
         "name": "high",
         "rawType": "float64",
         "type": "float"
        },
        {
         "name": "low",
         "rawType": "float64",
         "type": "float"
        },
        {
         "name": "close",
         "rawType": "float64",
         "type": "float"
        },
        {
         "name": "volume",
         "rawType": "float64",
         "type": "float"
        }
       ],
       "ref": "736e47a0-c931-4545-ae56-ddaf4919090c",
       "rows": [
        [
         "0",
         "2022-07-04 20:15:00",
         "19851.3",
         "19853.6",
         "19823.4",
         "19827.0",
         "483.921"
        ],
        [
         "1",
         "2022-07-04 20:20:00",
         "19827.1",
         "19842.4",
         "19719.5",
         "19746.0",
         "2721.178"
        ],
        [
         "2",
         "2022-07-04 20:25:00",
         "19746.0",
         "19793.6",
         "19736.1",
         "19776.6",
         "1317.099"
        ],
        [
         "3",
         "2022-07-04 20:30:00",
         "19776.7",
         "19776.7",
         "19735.5",
         "19763.2",
         "914.103"
        ],
        [
         "4",
         "2022-07-04 20:35:00",
         "19763.1",
         "19770.1",
         "19740.0",
         "19768.0",
         "666.151"
        ]
       ],
       "shape": {
        "columns": 6,
        "rows": 5
       }
      },
      "text/html": [
       "<div>\n",
       "<style scoped>\n",
       "    .dataframe tbody tr th:only-of-type {\n",
       "        vertical-align: middle;\n",
       "    }\n",
       "\n",
       "    .dataframe tbody tr th {\n",
       "        vertical-align: top;\n",
       "    }\n",
       "\n",
       "    .dataframe thead th {\n",
       "        text-align: right;\n",
       "    }\n",
       "</style>\n",
       "<table border=\"1\" class=\"dataframe\">\n",
       "  <thead>\n",
       "    <tr style=\"text-align: right;\">\n",
       "      <th></th>\n",
       "      <th>timestamp</th>\n",
       "      <th>open</th>\n",
       "      <th>high</th>\n",
       "      <th>low</th>\n",
       "      <th>close</th>\n",
       "      <th>volume</th>\n",
       "    </tr>\n",
       "  </thead>\n",
       "  <tbody>\n",
       "    <tr>\n",
       "      <th>0</th>\n",
       "      <td>2022-07-04 20:15:00</td>\n",
       "      <td>19851.3</td>\n",
       "      <td>19853.6</td>\n",
       "      <td>19823.4</td>\n",
       "      <td>19827.0</td>\n",
       "      <td>483.921</td>\n",
       "    </tr>\n",
       "    <tr>\n",
       "      <th>1</th>\n",
       "      <td>2022-07-04 20:20:00</td>\n",
       "      <td>19827.1</td>\n",
       "      <td>19842.4</td>\n",
       "      <td>19719.5</td>\n",
       "      <td>19746.0</td>\n",
       "      <td>2721.178</td>\n",
       "    </tr>\n",
       "    <tr>\n",
       "      <th>2</th>\n",
       "      <td>2022-07-04 20:25:00</td>\n",
       "      <td>19746.0</td>\n",
       "      <td>19793.6</td>\n",
       "      <td>19736.1</td>\n",
       "      <td>19776.6</td>\n",
       "      <td>1317.099</td>\n",
       "    </tr>\n",
       "    <tr>\n",
       "      <th>3</th>\n",
       "      <td>2022-07-04 20:30:00</td>\n",
       "      <td>19776.7</td>\n",
       "      <td>19776.7</td>\n",
       "      <td>19735.5</td>\n",
       "      <td>19763.2</td>\n",
       "      <td>914.103</td>\n",
       "    </tr>\n",
       "    <tr>\n",
       "      <th>4</th>\n",
       "      <td>2022-07-04 20:35:00</td>\n",
       "      <td>19763.1</td>\n",
       "      <td>19770.1</td>\n",
       "      <td>19740.0</td>\n",
       "      <td>19768.0</td>\n",
       "      <td>666.151</td>\n",
       "    </tr>\n",
       "  </tbody>\n",
       "</table>\n",
       "</div>"
      ],
      "text/plain": [
       "             timestamp     open     high      low    close    volume\n",
       "0  2022-07-04 20:15:00  19851.3  19853.6  19823.4  19827.0   483.921\n",
       "1  2022-07-04 20:20:00  19827.1  19842.4  19719.5  19746.0  2721.178\n",
       "2  2022-07-04 20:25:00  19746.0  19793.6  19736.1  19776.6  1317.099\n",
       "3  2022-07-04 20:30:00  19776.7  19776.7  19735.5  19763.2   914.103\n",
       "4  2022-07-04 20:35:00  19763.1  19770.1  19740.0  19768.0   666.151"
      ]
     },
     "execution_count": 204,
     "metadata": {},
     "output_type": "execute_result"
    }
   ],
   "source": [
    "# Working on 5 minutes time frame\n",
    "btcusdt_5min_data = pd.read_csv('BTCUSDT_5min.csv')\n",
    "btcusdt_5min_df = pd.DataFrame(btcusdt_5min_data)\n",
    "btcusdt_5min_df.head()"
   ]
  },
  {
   "cell_type": "code",
   "execution_count": 205,
   "id": "ea44b8ff",
   "metadata": {},
   "outputs": [
    {
     "data": {
      "application/vnd.microsoft.datawrangler.viewer.v0+json": {
       "columns": [
        {
         "name": "index",
         "rawType": "int64",
         "type": "integer"
        },
        {
         "name": "timestamp",
         "rawType": "object",
         "type": "string"
        },
        {
         "name": "open",
         "rawType": "float64",
         "type": "float"
        },
        {
         "name": "high",
         "rawType": "float64",
         "type": "float"
        },
        {
         "name": "low",
         "rawType": "float64",
         "type": "float"
        },
        {
         "name": "close",
         "rawType": "float64",
         "type": "float"
        },
        {
         "name": "volume",
         "rawType": "float64",
         "type": "float"
        },
        {
         "name": "bullish_pin_bar",
         "rawType": "bool",
         "type": "boolean"
        }
       ],
       "ref": "f9f5b3b9-164f-4626-9ccd-6004f5220e30",
       "rows": [
        [
         "0",
         "2022-07-04 20:15:00",
         "19851.3",
         "19853.6",
         "19823.4",
         "19827.0",
         "483.921",
         "False"
        ],
        [
         "1",
         "2022-07-04 20:20:00",
         "19827.1",
         "19842.4",
         "19719.5",
         "19746.0",
         "2721.178",
         "False"
        ],
        [
         "2",
         "2022-07-04 20:25:00",
         "19746.0",
         "19793.6",
         "19736.1",
         "19776.6",
         "1317.099",
         "False"
        ],
        [
         "3",
         "2022-07-04 20:30:00",
         "19776.7",
         "19776.7",
         "19735.5",
         "19763.2",
         "914.103",
         "False"
        ],
        [
         "4",
         "2022-07-04 20:35:00",
         "19763.1",
         "19770.1",
         "19740.0",
         "19768.0",
         "666.151",
         "True"
        ]
       ],
       "shape": {
        "columns": 7,
        "rows": 5
       }
      },
      "text/html": [
       "<div>\n",
       "<style scoped>\n",
       "    .dataframe tbody tr th:only-of-type {\n",
       "        vertical-align: middle;\n",
       "    }\n",
       "\n",
       "    .dataframe tbody tr th {\n",
       "        vertical-align: top;\n",
       "    }\n",
       "\n",
       "    .dataframe thead th {\n",
       "        text-align: right;\n",
       "    }\n",
       "</style>\n",
       "<table border=\"1\" class=\"dataframe\">\n",
       "  <thead>\n",
       "    <tr style=\"text-align: right;\">\n",
       "      <th></th>\n",
       "      <th>timestamp</th>\n",
       "      <th>open</th>\n",
       "      <th>high</th>\n",
       "      <th>low</th>\n",
       "      <th>close</th>\n",
       "      <th>volume</th>\n",
       "      <th>bullish_pin_bar</th>\n",
       "    </tr>\n",
       "  </thead>\n",
       "  <tbody>\n",
       "    <tr>\n",
       "      <th>0</th>\n",
       "      <td>2022-07-04 20:15:00</td>\n",
       "      <td>19851.3</td>\n",
       "      <td>19853.6</td>\n",
       "      <td>19823.4</td>\n",
       "      <td>19827.0</td>\n",
       "      <td>483.921</td>\n",
       "      <td>False</td>\n",
       "    </tr>\n",
       "    <tr>\n",
       "      <th>1</th>\n",
       "      <td>2022-07-04 20:20:00</td>\n",
       "      <td>19827.1</td>\n",
       "      <td>19842.4</td>\n",
       "      <td>19719.5</td>\n",
       "      <td>19746.0</td>\n",
       "      <td>2721.178</td>\n",
       "      <td>False</td>\n",
       "    </tr>\n",
       "    <tr>\n",
       "      <th>2</th>\n",
       "      <td>2022-07-04 20:25:00</td>\n",
       "      <td>19746.0</td>\n",
       "      <td>19793.6</td>\n",
       "      <td>19736.1</td>\n",
       "      <td>19776.6</td>\n",
       "      <td>1317.099</td>\n",
       "      <td>False</td>\n",
       "    </tr>\n",
       "    <tr>\n",
       "      <th>3</th>\n",
       "      <td>2022-07-04 20:30:00</td>\n",
       "      <td>19776.7</td>\n",
       "      <td>19776.7</td>\n",
       "      <td>19735.5</td>\n",
       "      <td>19763.2</td>\n",
       "      <td>914.103</td>\n",
       "      <td>False</td>\n",
       "    </tr>\n",
       "    <tr>\n",
       "      <th>4</th>\n",
       "      <td>2022-07-04 20:35:00</td>\n",
       "      <td>19763.1</td>\n",
       "      <td>19770.1</td>\n",
       "      <td>19740.0</td>\n",
       "      <td>19768.0</td>\n",
       "      <td>666.151</td>\n",
       "      <td>True</td>\n",
       "    </tr>\n",
       "  </tbody>\n",
       "</table>\n",
       "</div>"
      ],
      "text/plain": [
       "             timestamp     open     high      low    close    volume  \\\n",
       "0  2022-07-04 20:15:00  19851.3  19853.6  19823.4  19827.0   483.921   \n",
       "1  2022-07-04 20:20:00  19827.1  19842.4  19719.5  19746.0  2721.178   \n",
       "2  2022-07-04 20:25:00  19746.0  19793.6  19736.1  19776.6  1317.099   \n",
       "3  2022-07-04 20:30:00  19776.7  19776.7  19735.5  19763.2   914.103   \n",
       "4  2022-07-04 20:35:00  19763.1  19770.1  19740.0  19768.0   666.151   \n",
       "\n",
       "   bullish_pin_bar  \n",
       "0            False  \n",
       "1            False  \n",
       "2            False  \n",
       "3            False  \n",
       "4             True  "
      ]
     },
     "execution_count": 205,
     "metadata": {},
     "output_type": "execute_result"
    }
   ],
   "source": [
    "#Getting the bullish pin bars\n",
    "btcusdt_5min_df['bullish_pin_bar'] = btcusdt_5min_df.apply(is_bullish_pin_bar, axis=1)\n",
    "btcusdt_5min_df.head()"
   ]
  },
  {
   "cell_type": "code",
   "execution_count": 206,
   "id": "bd86e678",
   "metadata": {},
   "outputs": [
    {
     "data": {
      "application/vnd.microsoft.datawrangler.viewer.v0+json": {
       "columns": [
        {
         "name": "index",
         "rawType": "int64",
         "type": "integer"
        },
        {
         "name": "timestamp",
         "rawType": "object",
         "type": "string"
        },
        {
         "name": "open",
         "rawType": "float64",
         "type": "float"
        },
        {
         "name": "high",
         "rawType": "float64",
         "type": "float"
        },
        {
         "name": "low",
         "rawType": "float64",
         "type": "float"
        },
        {
         "name": "close",
         "rawType": "float64",
         "type": "float"
        },
        {
         "name": "volume",
         "rawType": "float64",
         "type": "float"
        },
        {
         "name": "bullish_pin_bar",
         "rawType": "bool",
         "type": "boolean"
        },
        {
         "name": "Weak follow up",
         "rawType": "object",
         "type": "string"
        }
       ],
       "ref": "b57778c4-7824-4760-b991-acc438f85658",
       "rows": [
        [
         "315355",
         "2025-07-03 19:50:00",
         "109687.3",
         "109724.9",
         "109628.0",
         "109686.1",
         "152.176",
         "False",
         "False"
        ],
        [
         "315356",
         "2025-07-03 19:55:00",
         "109686.1",
         "109767.8",
         "109686.1",
         "109743.9",
         "225.817",
         "False",
         "False"
        ],
        [
         "315357",
         "2025-07-03 20:00:00",
         "109743.8",
         "109816.9",
         "109743.8",
         "109813.6",
         "172.753",
         "False",
         "False"
        ],
        [
         "315358",
         "2025-07-03 20:05:00",
         "109813.7",
         "109837.0",
         "109784.7",
         "109836.9",
         "191.596",
         "True",
         "False"
        ],
        [
         "315359",
         "2025-07-03 20:10:00",
         "109836.9",
         "109854.2",
         "109750.2",
         "109766.2",
         "165.509",
         "False",
         "False"
        ]
       ],
       "shape": {
        "columns": 8,
        "rows": 5
       }
      },
      "text/html": [
       "<div>\n",
       "<style scoped>\n",
       "    .dataframe tbody tr th:only-of-type {\n",
       "        vertical-align: middle;\n",
       "    }\n",
       "\n",
       "    .dataframe tbody tr th {\n",
       "        vertical-align: top;\n",
       "    }\n",
       "\n",
       "    .dataframe thead th {\n",
       "        text-align: right;\n",
       "    }\n",
       "</style>\n",
       "<table border=\"1\" class=\"dataframe\">\n",
       "  <thead>\n",
       "    <tr style=\"text-align: right;\">\n",
       "      <th></th>\n",
       "      <th>timestamp</th>\n",
       "      <th>open</th>\n",
       "      <th>high</th>\n",
       "      <th>low</th>\n",
       "      <th>close</th>\n",
       "      <th>volume</th>\n",
       "      <th>bullish_pin_bar</th>\n",
       "      <th>Weak follow up</th>\n",
       "    </tr>\n",
       "  </thead>\n",
       "  <tbody>\n",
       "    <tr>\n",
       "      <th>315355</th>\n",
       "      <td>2025-07-03 19:50:00</td>\n",
       "      <td>109687.3</td>\n",
       "      <td>109724.9</td>\n",
       "      <td>109628.0</td>\n",
       "      <td>109686.1</td>\n",
       "      <td>152.176</td>\n",
       "      <td>False</td>\n",
       "      <td>False</td>\n",
       "    </tr>\n",
       "    <tr>\n",
       "      <th>315356</th>\n",
       "      <td>2025-07-03 19:55:00</td>\n",
       "      <td>109686.1</td>\n",
       "      <td>109767.8</td>\n",
       "      <td>109686.1</td>\n",
       "      <td>109743.9</td>\n",
       "      <td>225.817</td>\n",
       "      <td>False</td>\n",
       "      <td>False</td>\n",
       "    </tr>\n",
       "    <tr>\n",
       "      <th>315357</th>\n",
       "      <td>2025-07-03 20:00:00</td>\n",
       "      <td>109743.8</td>\n",
       "      <td>109816.9</td>\n",
       "      <td>109743.8</td>\n",
       "      <td>109813.6</td>\n",
       "      <td>172.753</td>\n",
       "      <td>False</td>\n",
       "      <td>False</td>\n",
       "    </tr>\n",
       "    <tr>\n",
       "      <th>315358</th>\n",
       "      <td>2025-07-03 20:05:00</td>\n",
       "      <td>109813.7</td>\n",
       "      <td>109837.0</td>\n",
       "      <td>109784.7</td>\n",
       "      <td>109836.9</td>\n",
       "      <td>191.596</td>\n",
       "      <td>True</td>\n",
       "      <td>False</td>\n",
       "    </tr>\n",
       "    <tr>\n",
       "      <th>315359</th>\n",
       "      <td>2025-07-03 20:10:00</td>\n",
       "      <td>109836.9</td>\n",
       "      <td>109854.2</td>\n",
       "      <td>109750.2</td>\n",
       "      <td>109766.2</td>\n",
       "      <td>165.509</td>\n",
       "      <td>False</td>\n",
       "      <td>False</td>\n",
       "    </tr>\n",
       "  </tbody>\n",
       "</table>\n",
       "</div>"
      ],
      "text/plain": [
       "                  timestamp      open      high       low     close   volume  \\\n",
       "315355  2025-07-03 19:50:00  109687.3  109724.9  109628.0  109686.1  152.176   \n",
       "315356  2025-07-03 19:55:00  109686.1  109767.8  109686.1  109743.9  225.817   \n",
       "315357  2025-07-03 20:00:00  109743.8  109816.9  109743.8  109813.6  172.753   \n",
       "315358  2025-07-03 20:05:00  109813.7  109837.0  109784.7  109836.9  191.596   \n",
       "315359  2025-07-03 20:10:00  109836.9  109854.2  109750.2  109766.2  165.509   \n",
       "\n",
       "        bullish_pin_bar Weak follow up  \n",
       "315355            False          False  \n",
       "315356            False          False  \n",
       "315357            False          False  \n",
       "315358             True          False  \n",
       "315359            False          False  "
      ]
     },
     "execution_count": 206,
     "metadata": {},
     "output_type": "execute_result"
    }
   ],
   "source": [
    "# Adding the follow up status to pin bars\n",
    "follow_through = []\n",
    "for i in range(len(btcusdt_5min_df) - 1):\n",
    "    if(btcusdt_5min_df.loc[i, 'bullish_pin_bar']):\n",
    "        pin_bar_volume = btcusdt_5min_df.loc[i, 'volume']\n",
    "        next_bar_volume = btcusdt_5min_df.loc[i+1, 'volume']\n",
    "        pin_bar_move = btcusdt_5min_df.loc[i,'close'] - btcusdt_5min_df.loc[i,'open']\n",
    "        next_bar_move = btcusdt_5min_df.loc[i+1,'close'] - btcusdt_5min_df.loc[i+1,'open']\n",
    "        if(next_bar_move > pin_bar_move and next_bar_volume < pin_bar_volume):\n",
    "            follow_through.append('True')\n",
    "        else:\n",
    "            follow_through.append('False')\n",
    "    else:\n",
    "        follow_through.append('False')\n",
    "follow_through.append('False')\n",
    "btcusdt_5min_df['Weak follow up'] = follow_through\n",
    "btcusdt_5min_df.tail()"
   ]
  },
  {
   "cell_type": "code",
   "execution_count": 207,
   "id": "702911aa",
   "metadata": {},
   "outputs": [
    {
     "data": {
      "application/vnd.microsoft.datawrangler.viewer.v0+json": {
       "columns": [
        {
         "name": "index",
         "rawType": "int64",
         "type": "integer"
        },
        {
         "name": "timestamp",
         "rawType": "object",
         "type": "string"
        },
        {
         "name": "open",
         "rawType": "float64",
         "type": "float"
        },
        {
         "name": "high",
         "rawType": "float64",
         "type": "float"
        },
        {
         "name": "low",
         "rawType": "float64",
         "type": "float"
        },
        {
         "name": "close",
         "rawType": "float64",
         "type": "float"
        },
        {
         "name": "volume",
         "rawType": "float64",
         "type": "float"
        },
        {
         "name": "bullish_pin_bar",
         "rawType": "bool",
         "type": "boolean"
        },
        {
         "name": "Weak follow up",
         "rawType": "object",
         "type": "string"
        },
        {
         "name": "Weak Low Tested",
         "rawType": "object",
         "type": "string"
        }
       ],
       "ref": "21926887-d422-4827-88e6-8120ef7cb1d3",
       "rows": [
        [
         "315355",
         "2025-07-03 19:50:00",
         "109687.3",
         "109724.9",
         "109628.0",
         "109686.1",
         "152.176",
         "False",
         "False",
         "False"
        ],
        [
         "315356",
         "2025-07-03 19:55:00",
         "109686.1",
         "109767.8",
         "109686.1",
         "109743.9",
         "225.817",
         "False",
         "False",
         "False"
        ],
        [
         "315357",
         "2025-07-03 20:00:00",
         "109743.8",
         "109816.9",
         "109743.8",
         "109813.6",
         "172.753",
         "False",
         "False",
         "False"
        ],
        [
         "315358",
         "2025-07-03 20:05:00",
         "109813.7",
         "109837.0",
         "109784.7",
         "109836.9",
         "191.596",
         "True",
         "False",
         "False"
        ],
        [
         "315359",
         "2025-07-03 20:10:00",
         "109836.9",
         "109854.2",
         "109750.2",
         "109766.2",
         "165.509",
         "False",
         "False",
         "False"
        ]
       ],
       "shape": {
        "columns": 9,
        "rows": 5
       }
      },
      "text/html": [
       "<div>\n",
       "<style scoped>\n",
       "    .dataframe tbody tr th:only-of-type {\n",
       "        vertical-align: middle;\n",
       "    }\n",
       "\n",
       "    .dataframe tbody tr th {\n",
       "        vertical-align: top;\n",
       "    }\n",
       "\n",
       "    .dataframe thead th {\n",
       "        text-align: right;\n",
       "    }\n",
       "</style>\n",
       "<table border=\"1\" class=\"dataframe\">\n",
       "  <thead>\n",
       "    <tr style=\"text-align: right;\">\n",
       "      <th></th>\n",
       "      <th>timestamp</th>\n",
       "      <th>open</th>\n",
       "      <th>high</th>\n",
       "      <th>low</th>\n",
       "      <th>close</th>\n",
       "      <th>volume</th>\n",
       "      <th>bullish_pin_bar</th>\n",
       "      <th>Weak follow up</th>\n",
       "      <th>Weak Low Tested</th>\n",
       "    </tr>\n",
       "  </thead>\n",
       "  <tbody>\n",
       "    <tr>\n",
       "      <th>315355</th>\n",
       "      <td>2025-07-03 19:50:00</td>\n",
       "      <td>109687.3</td>\n",
       "      <td>109724.9</td>\n",
       "      <td>109628.0</td>\n",
       "      <td>109686.1</td>\n",
       "      <td>152.176</td>\n",
       "      <td>False</td>\n",
       "      <td>False</td>\n",
       "      <td>False</td>\n",
       "    </tr>\n",
       "    <tr>\n",
       "      <th>315356</th>\n",
       "      <td>2025-07-03 19:55:00</td>\n",
       "      <td>109686.1</td>\n",
       "      <td>109767.8</td>\n",
       "      <td>109686.1</td>\n",
       "      <td>109743.9</td>\n",
       "      <td>225.817</td>\n",
       "      <td>False</td>\n",
       "      <td>False</td>\n",
       "      <td>False</td>\n",
       "    </tr>\n",
       "    <tr>\n",
       "      <th>315357</th>\n",
       "      <td>2025-07-03 20:00:00</td>\n",
       "      <td>109743.8</td>\n",
       "      <td>109816.9</td>\n",
       "      <td>109743.8</td>\n",
       "      <td>109813.6</td>\n",
       "      <td>172.753</td>\n",
       "      <td>False</td>\n",
       "      <td>False</td>\n",
       "      <td>False</td>\n",
       "    </tr>\n",
       "    <tr>\n",
       "      <th>315358</th>\n",
       "      <td>2025-07-03 20:05:00</td>\n",
       "      <td>109813.7</td>\n",
       "      <td>109837.0</td>\n",
       "      <td>109784.7</td>\n",
       "      <td>109836.9</td>\n",
       "      <td>191.596</td>\n",
       "      <td>True</td>\n",
       "      <td>False</td>\n",
       "      <td>False</td>\n",
       "    </tr>\n",
       "    <tr>\n",
       "      <th>315359</th>\n",
       "      <td>2025-07-03 20:10:00</td>\n",
       "      <td>109836.9</td>\n",
       "      <td>109854.2</td>\n",
       "      <td>109750.2</td>\n",
       "      <td>109766.2</td>\n",
       "      <td>165.509</td>\n",
       "      <td>False</td>\n",
       "      <td>False</td>\n",
       "      <td>False</td>\n",
       "    </tr>\n",
       "  </tbody>\n",
       "</table>\n",
       "</div>"
      ],
      "text/plain": [
       "                  timestamp      open      high       low     close   volume  \\\n",
       "315355  2025-07-03 19:50:00  109687.3  109724.9  109628.0  109686.1  152.176   \n",
       "315356  2025-07-03 19:55:00  109686.1  109767.8  109686.1  109743.9  225.817   \n",
       "315357  2025-07-03 20:00:00  109743.8  109816.9  109743.8  109813.6  172.753   \n",
       "315358  2025-07-03 20:05:00  109813.7  109837.0  109784.7  109836.9  191.596   \n",
       "315359  2025-07-03 20:10:00  109836.9  109854.2  109750.2  109766.2  165.509   \n",
       "\n",
       "        bullish_pin_bar Weak follow up Weak Low Tested  \n",
       "315355            False          False           False  \n",
       "315356            False          False           False  \n",
       "315357            False          False           False  \n",
       "315358             True          False           False  \n",
       "315359            False          False           False  "
      ]
     },
     "execution_count": 207,
     "metadata": {},
     "output_type": "execute_result"
    }
   ],
   "source": [
    "# Checking if lows of weak pin bars got tested\n",
    "lows_tested = ['False']*len(btcusdt_5min_df)\n",
    "for i in range(len(btcusdt_5min_df) - 1):\n",
    "    if(btcusdt_5min_df.loc[i, 'Weak follow up'] == 'True'):\n",
    "        pin_bar_low = btcusdt_5min_df.loc[i, 'low']\n",
    "        for j in range(i+1, len(btcusdt_5min_df)):\n",
    "            if(btcusdt_5min_df.loc[j, 'low'] < pin_bar_low):\n",
    "                lows_tested[i] = 'True'\n",
    "                break\n",
    "btcusdt_5min_df['Weak Low Tested'] = lows_tested\n",
    "btcusdt_5min_df.tail()"
   ]
  },
  {
   "cell_type": "code",
   "execution_count": 208,
   "id": "bdc68226",
   "metadata": {},
   "outputs": [
    {
     "data": {
      "application/vnd.microsoft.datawrangler.viewer.v0+json": {
       "columns": [
        {
         "name": "index",
         "rawType": "int64",
         "type": "integer"
        },
        {
         "name": "timestamp",
         "rawType": "object",
         "type": "string"
        },
        {
         "name": "open",
         "rawType": "float64",
         "type": "float"
        },
        {
         "name": "high",
         "rawType": "float64",
         "type": "float"
        },
        {
         "name": "low",
         "rawType": "float64",
         "type": "float"
        },
        {
         "name": "close",
         "rawType": "float64",
         "type": "float"
        },
        {
         "name": "volume",
         "rawType": "float64",
         "type": "float"
        },
        {
         "name": "bullish_pin_bar",
         "rawType": "bool",
         "type": "boolean"
        },
        {
         "name": "Weak follow up",
         "rawType": "object",
         "type": "string"
        },
        {
         "name": "Weak Low Tested",
         "rawType": "object",
         "type": "string"
        },
        {
         "name": "bearish_pin_bar",
         "rawType": "bool",
         "type": "boolean"
        }
       ],
       "ref": "01d47a0b-ad36-4b8c-94aa-df5e53ec9d5d",
       "rows": [
        [
         "315355",
         "2025-07-03 19:50:00",
         "109687.3",
         "109724.9",
         "109628.0",
         "109686.1",
         "152.176",
         "False",
         "False",
         "False",
         "False"
        ],
        [
         "315356",
         "2025-07-03 19:55:00",
         "109686.1",
         "109767.8",
         "109686.1",
         "109743.9",
         "225.817",
         "False",
         "False",
         "False",
         "False"
        ],
        [
         "315357",
         "2025-07-03 20:00:00",
         "109743.8",
         "109816.9",
         "109743.8",
         "109813.6",
         "172.753",
         "False",
         "False",
         "False",
         "False"
        ],
        [
         "315358",
         "2025-07-03 20:05:00",
         "109813.7",
         "109837.0",
         "109784.7",
         "109836.9",
         "191.596",
         "True",
         "False",
         "False",
         "False"
        ],
        [
         "315359",
         "2025-07-03 20:10:00",
         "109836.9",
         "109854.2",
         "109750.2",
         "109766.2",
         "165.509",
         "False",
         "False",
         "False",
         "False"
        ]
       ],
       "shape": {
        "columns": 10,
        "rows": 5
       }
      },
      "text/html": [
       "<div>\n",
       "<style scoped>\n",
       "    .dataframe tbody tr th:only-of-type {\n",
       "        vertical-align: middle;\n",
       "    }\n",
       "\n",
       "    .dataframe tbody tr th {\n",
       "        vertical-align: top;\n",
       "    }\n",
       "\n",
       "    .dataframe thead th {\n",
       "        text-align: right;\n",
       "    }\n",
       "</style>\n",
       "<table border=\"1\" class=\"dataframe\">\n",
       "  <thead>\n",
       "    <tr style=\"text-align: right;\">\n",
       "      <th></th>\n",
       "      <th>timestamp</th>\n",
       "      <th>open</th>\n",
       "      <th>high</th>\n",
       "      <th>low</th>\n",
       "      <th>close</th>\n",
       "      <th>volume</th>\n",
       "      <th>bullish_pin_bar</th>\n",
       "      <th>Weak follow up</th>\n",
       "      <th>Weak Low Tested</th>\n",
       "      <th>bearish_pin_bar</th>\n",
       "    </tr>\n",
       "  </thead>\n",
       "  <tbody>\n",
       "    <tr>\n",
       "      <th>315355</th>\n",
       "      <td>2025-07-03 19:50:00</td>\n",
       "      <td>109687.3</td>\n",
       "      <td>109724.9</td>\n",
       "      <td>109628.0</td>\n",
       "      <td>109686.1</td>\n",
       "      <td>152.176</td>\n",
       "      <td>False</td>\n",
       "      <td>False</td>\n",
       "      <td>False</td>\n",
       "      <td>False</td>\n",
       "    </tr>\n",
       "    <tr>\n",
       "      <th>315356</th>\n",
       "      <td>2025-07-03 19:55:00</td>\n",
       "      <td>109686.1</td>\n",
       "      <td>109767.8</td>\n",
       "      <td>109686.1</td>\n",
       "      <td>109743.9</td>\n",
       "      <td>225.817</td>\n",
       "      <td>False</td>\n",
       "      <td>False</td>\n",
       "      <td>False</td>\n",
       "      <td>False</td>\n",
       "    </tr>\n",
       "    <tr>\n",
       "      <th>315357</th>\n",
       "      <td>2025-07-03 20:00:00</td>\n",
       "      <td>109743.8</td>\n",
       "      <td>109816.9</td>\n",
       "      <td>109743.8</td>\n",
       "      <td>109813.6</td>\n",
       "      <td>172.753</td>\n",
       "      <td>False</td>\n",
       "      <td>False</td>\n",
       "      <td>False</td>\n",
       "      <td>False</td>\n",
       "    </tr>\n",
       "    <tr>\n",
       "      <th>315358</th>\n",
       "      <td>2025-07-03 20:05:00</td>\n",
       "      <td>109813.7</td>\n",
       "      <td>109837.0</td>\n",
       "      <td>109784.7</td>\n",
       "      <td>109836.9</td>\n",
       "      <td>191.596</td>\n",
       "      <td>True</td>\n",
       "      <td>False</td>\n",
       "      <td>False</td>\n",
       "      <td>False</td>\n",
       "    </tr>\n",
       "    <tr>\n",
       "      <th>315359</th>\n",
       "      <td>2025-07-03 20:10:00</td>\n",
       "      <td>109836.9</td>\n",
       "      <td>109854.2</td>\n",
       "      <td>109750.2</td>\n",
       "      <td>109766.2</td>\n",
       "      <td>165.509</td>\n",
       "      <td>False</td>\n",
       "      <td>False</td>\n",
       "      <td>False</td>\n",
       "      <td>False</td>\n",
       "    </tr>\n",
       "  </tbody>\n",
       "</table>\n",
       "</div>"
      ],
      "text/plain": [
       "                  timestamp      open      high       low     close   volume  \\\n",
       "315355  2025-07-03 19:50:00  109687.3  109724.9  109628.0  109686.1  152.176   \n",
       "315356  2025-07-03 19:55:00  109686.1  109767.8  109686.1  109743.9  225.817   \n",
       "315357  2025-07-03 20:00:00  109743.8  109816.9  109743.8  109813.6  172.753   \n",
       "315358  2025-07-03 20:05:00  109813.7  109837.0  109784.7  109836.9  191.596   \n",
       "315359  2025-07-03 20:10:00  109836.9  109854.2  109750.2  109766.2  165.509   \n",
       "\n",
       "        bullish_pin_bar Weak follow up Weak Low Tested  bearish_pin_bar  \n",
       "315355            False          False           False            False  \n",
       "315356            False          False           False            False  \n",
       "315357            False          False           False            False  \n",
       "315358             True          False           False            False  \n",
       "315359            False          False           False            False  "
      ]
     },
     "execution_count": 208,
     "metadata": {},
     "output_type": "execute_result"
    }
   ],
   "source": [
    "#Getting bearish pin bars\n",
    "btcusdt_5min_df['bearish_pin_bar'] = btcusdt_5min_df.apply(is_bearish_pin_bar, axis=1)\n",
    "btcusdt_5min_df.tail()"
   ]
  },
  {
   "cell_type": "code",
   "execution_count": 209,
   "id": "bbf3ae7f",
   "metadata": {},
   "outputs": [
    {
     "data": {
      "application/vnd.microsoft.datawrangler.viewer.v0+json": {
       "columns": [
        {
         "name": "index",
         "rawType": "int64",
         "type": "integer"
        },
        {
         "name": "timestamp",
         "rawType": "object",
         "type": "string"
        },
        {
         "name": "open",
         "rawType": "float64",
         "type": "float"
        },
        {
         "name": "high",
         "rawType": "float64",
         "type": "float"
        },
        {
         "name": "low",
         "rawType": "float64",
         "type": "float"
        },
        {
         "name": "close",
         "rawType": "float64",
         "type": "float"
        },
        {
         "name": "volume",
         "rawType": "float64",
         "type": "float"
        },
        {
         "name": "bullish_pin_bar",
         "rawType": "bool",
         "type": "boolean"
        },
        {
         "name": "Weak follow up",
         "rawType": "object",
         "type": "string"
        },
        {
         "name": "Weak Low Tested",
         "rawType": "object",
         "type": "string"
        },
        {
         "name": "bearish_pin_bar",
         "rawType": "bool",
         "type": "boolean"
        },
        {
         "name": "Weak follow down",
         "rawType": "object",
         "type": "string"
        }
       ],
       "ref": "6de90c3d-edbd-4839-aa99-b92decb2aa76",
       "rows": [
        [
         "315355",
         "2025-07-03 19:50:00",
         "109687.3",
         "109724.9",
         "109628.0",
         "109686.1",
         "152.176",
         "False",
         "False",
         "False",
         "False",
         "False"
        ],
        [
         "315356",
         "2025-07-03 19:55:00",
         "109686.1",
         "109767.8",
         "109686.1",
         "109743.9",
         "225.817",
         "False",
         "False",
         "False",
         "False",
         "False"
        ],
        [
         "315357",
         "2025-07-03 20:00:00",
         "109743.8",
         "109816.9",
         "109743.8",
         "109813.6",
         "172.753",
         "False",
         "False",
         "False",
         "False",
         "False"
        ],
        [
         "315358",
         "2025-07-03 20:05:00",
         "109813.7",
         "109837.0",
         "109784.7",
         "109836.9",
         "191.596",
         "True",
         "False",
         "False",
         "False",
         "False"
        ],
        [
         "315359",
         "2025-07-03 20:10:00",
         "109836.9",
         "109854.2",
         "109750.2",
         "109766.2",
         "165.509",
         "False",
         "False",
         "False",
         "False",
         "False"
        ]
       ],
       "shape": {
        "columns": 11,
        "rows": 5
       }
      },
      "text/html": [
       "<div>\n",
       "<style scoped>\n",
       "    .dataframe tbody tr th:only-of-type {\n",
       "        vertical-align: middle;\n",
       "    }\n",
       "\n",
       "    .dataframe tbody tr th {\n",
       "        vertical-align: top;\n",
       "    }\n",
       "\n",
       "    .dataframe thead th {\n",
       "        text-align: right;\n",
       "    }\n",
       "</style>\n",
       "<table border=\"1\" class=\"dataframe\">\n",
       "  <thead>\n",
       "    <tr style=\"text-align: right;\">\n",
       "      <th></th>\n",
       "      <th>timestamp</th>\n",
       "      <th>open</th>\n",
       "      <th>high</th>\n",
       "      <th>low</th>\n",
       "      <th>close</th>\n",
       "      <th>volume</th>\n",
       "      <th>bullish_pin_bar</th>\n",
       "      <th>Weak follow up</th>\n",
       "      <th>Weak Low Tested</th>\n",
       "      <th>bearish_pin_bar</th>\n",
       "      <th>Weak follow down</th>\n",
       "    </tr>\n",
       "  </thead>\n",
       "  <tbody>\n",
       "    <tr>\n",
       "      <th>315355</th>\n",
       "      <td>2025-07-03 19:50:00</td>\n",
       "      <td>109687.3</td>\n",
       "      <td>109724.9</td>\n",
       "      <td>109628.0</td>\n",
       "      <td>109686.1</td>\n",
       "      <td>152.176</td>\n",
       "      <td>False</td>\n",
       "      <td>False</td>\n",
       "      <td>False</td>\n",
       "      <td>False</td>\n",
       "      <td>False</td>\n",
       "    </tr>\n",
       "    <tr>\n",
       "      <th>315356</th>\n",
       "      <td>2025-07-03 19:55:00</td>\n",
       "      <td>109686.1</td>\n",
       "      <td>109767.8</td>\n",
       "      <td>109686.1</td>\n",
       "      <td>109743.9</td>\n",
       "      <td>225.817</td>\n",
       "      <td>False</td>\n",
       "      <td>False</td>\n",
       "      <td>False</td>\n",
       "      <td>False</td>\n",
       "      <td>False</td>\n",
       "    </tr>\n",
       "    <tr>\n",
       "      <th>315357</th>\n",
       "      <td>2025-07-03 20:00:00</td>\n",
       "      <td>109743.8</td>\n",
       "      <td>109816.9</td>\n",
       "      <td>109743.8</td>\n",
       "      <td>109813.6</td>\n",
       "      <td>172.753</td>\n",
       "      <td>False</td>\n",
       "      <td>False</td>\n",
       "      <td>False</td>\n",
       "      <td>False</td>\n",
       "      <td>False</td>\n",
       "    </tr>\n",
       "    <tr>\n",
       "      <th>315358</th>\n",
       "      <td>2025-07-03 20:05:00</td>\n",
       "      <td>109813.7</td>\n",
       "      <td>109837.0</td>\n",
       "      <td>109784.7</td>\n",
       "      <td>109836.9</td>\n",
       "      <td>191.596</td>\n",
       "      <td>True</td>\n",
       "      <td>False</td>\n",
       "      <td>False</td>\n",
       "      <td>False</td>\n",
       "      <td>False</td>\n",
       "    </tr>\n",
       "    <tr>\n",
       "      <th>315359</th>\n",
       "      <td>2025-07-03 20:10:00</td>\n",
       "      <td>109836.9</td>\n",
       "      <td>109854.2</td>\n",
       "      <td>109750.2</td>\n",
       "      <td>109766.2</td>\n",
       "      <td>165.509</td>\n",
       "      <td>False</td>\n",
       "      <td>False</td>\n",
       "      <td>False</td>\n",
       "      <td>False</td>\n",
       "      <td>False</td>\n",
       "    </tr>\n",
       "  </tbody>\n",
       "</table>\n",
       "</div>"
      ],
      "text/plain": [
       "                  timestamp      open      high       low     close   volume  \\\n",
       "315355  2025-07-03 19:50:00  109687.3  109724.9  109628.0  109686.1  152.176   \n",
       "315356  2025-07-03 19:55:00  109686.1  109767.8  109686.1  109743.9  225.817   \n",
       "315357  2025-07-03 20:00:00  109743.8  109816.9  109743.8  109813.6  172.753   \n",
       "315358  2025-07-03 20:05:00  109813.7  109837.0  109784.7  109836.9  191.596   \n",
       "315359  2025-07-03 20:10:00  109836.9  109854.2  109750.2  109766.2  165.509   \n",
       "\n",
       "        bullish_pin_bar Weak follow up Weak Low Tested  bearish_pin_bar  \\\n",
       "315355            False          False           False            False   \n",
       "315356            False          False           False            False   \n",
       "315357            False          False           False            False   \n",
       "315358             True          False           False            False   \n",
       "315359            False          False           False            False   \n",
       "\n",
       "       Weak follow down  \n",
       "315355            False  \n",
       "315356            False  \n",
       "315357            False  \n",
       "315358            False  \n",
       "315359            False  "
      ]
     },
     "execution_count": 209,
     "metadata": {},
     "output_type": "execute_result"
    }
   ],
   "source": [
    "# Checking for weak follow down\n",
    "follow_through = []\n",
    "for i in range(len(btcusdt_5min_df) - 1):\n",
    "    if(btcusdt_5min_df.loc[i, 'bearish_pin_bar']):\n",
    "        pin_bar_volume = btcusdt_5min_df.loc[i, 'volume']\n",
    "        next_bar_volume = btcusdt_5min_df.loc[i+1, 'volume']\n",
    "        pin_bar_move = btcusdt_5min_df.loc[i,'open'] - btcusdt_5min_df.loc[i,'close']\n",
    "        next_bar_move = btcusdt_5min_df.loc[i+1,'open'] - btcusdt_5min_df.loc[i+1,'close']\n",
    "        if(next_bar_move > pin_bar_move and next_bar_volume < pin_bar_volume):\n",
    "            follow_through.append('True')\n",
    "        else:\n",
    "            follow_through.append('False')\n",
    "    else:\n",
    "        follow_through.append('False')\n",
    "follow_through.append('False')\n",
    "btcusdt_5min_df['Weak follow down'] = follow_through\n",
    "btcusdt_5min_df.tail()"
   ]
  },
  {
   "cell_type": "code",
   "execution_count": 210,
   "id": "cd55ecd7",
   "metadata": {},
   "outputs": [
    {
     "data": {
      "application/vnd.microsoft.datawrangler.viewer.v0+json": {
       "columns": [
        {
         "name": "index",
         "rawType": "int64",
         "type": "integer"
        },
        {
         "name": "timestamp",
         "rawType": "object",
         "type": "string"
        },
        {
         "name": "open",
         "rawType": "float64",
         "type": "float"
        },
        {
         "name": "high",
         "rawType": "float64",
         "type": "float"
        },
        {
         "name": "low",
         "rawType": "float64",
         "type": "float"
        },
        {
         "name": "close",
         "rawType": "float64",
         "type": "float"
        },
        {
         "name": "volume",
         "rawType": "float64",
         "type": "float"
        },
        {
         "name": "bullish_pin_bar",
         "rawType": "bool",
         "type": "boolean"
        },
        {
         "name": "Weak follow up",
         "rawType": "object",
         "type": "string"
        },
        {
         "name": "Weak Low Tested",
         "rawType": "object",
         "type": "string"
        },
        {
         "name": "bearish_pin_bar",
         "rawType": "bool",
         "type": "boolean"
        },
        {
         "name": "Weak follow down",
         "rawType": "object",
         "type": "string"
        },
        {
         "name": "Weak High Tested",
         "rawType": "object",
         "type": "string"
        }
       ],
       "ref": "dc09b606-5c90-4c6d-b274-2fc5bbe3c008",
       "rows": [
        [
         "315355",
         "2025-07-03 19:50:00",
         "109687.3",
         "109724.9",
         "109628.0",
         "109686.1",
         "152.176",
         "False",
         "False",
         "False",
         "False",
         "False",
         "False"
        ],
        [
         "315356",
         "2025-07-03 19:55:00",
         "109686.1",
         "109767.8",
         "109686.1",
         "109743.9",
         "225.817",
         "False",
         "False",
         "False",
         "False",
         "False",
         "False"
        ],
        [
         "315357",
         "2025-07-03 20:00:00",
         "109743.8",
         "109816.9",
         "109743.8",
         "109813.6",
         "172.753",
         "False",
         "False",
         "False",
         "False",
         "False",
         "False"
        ],
        [
         "315358",
         "2025-07-03 20:05:00",
         "109813.7",
         "109837.0",
         "109784.7",
         "109836.9",
         "191.596",
         "True",
         "False",
         "False",
         "False",
         "False",
         "False"
        ],
        [
         "315359",
         "2025-07-03 20:10:00",
         "109836.9",
         "109854.2",
         "109750.2",
         "109766.2",
         "165.509",
         "False",
         "False",
         "False",
         "False",
         "False",
         "False"
        ]
       ],
       "shape": {
        "columns": 12,
        "rows": 5
       }
      },
      "text/html": [
       "<div>\n",
       "<style scoped>\n",
       "    .dataframe tbody tr th:only-of-type {\n",
       "        vertical-align: middle;\n",
       "    }\n",
       "\n",
       "    .dataframe tbody tr th {\n",
       "        vertical-align: top;\n",
       "    }\n",
       "\n",
       "    .dataframe thead th {\n",
       "        text-align: right;\n",
       "    }\n",
       "</style>\n",
       "<table border=\"1\" class=\"dataframe\">\n",
       "  <thead>\n",
       "    <tr style=\"text-align: right;\">\n",
       "      <th></th>\n",
       "      <th>timestamp</th>\n",
       "      <th>open</th>\n",
       "      <th>high</th>\n",
       "      <th>low</th>\n",
       "      <th>close</th>\n",
       "      <th>volume</th>\n",
       "      <th>bullish_pin_bar</th>\n",
       "      <th>Weak follow up</th>\n",
       "      <th>Weak Low Tested</th>\n",
       "      <th>bearish_pin_bar</th>\n",
       "      <th>Weak follow down</th>\n",
       "      <th>Weak High Tested</th>\n",
       "    </tr>\n",
       "  </thead>\n",
       "  <tbody>\n",
       "    <tr>\n",
       "      <th>315355</th>\n",
       "      <td>2025-07-03 19:50:00</td>\n",
       "      <td>109687.3</td>\n",
       "      <td>109724.9</td>\n",
       "      <td>109628.0</td>\n",
       "      <td>109686.1</td>\n",
       "      <td>152.176</td>\n",
       "      <td>False</td>\n",
       "      <td>False</td>\n",
       "      <td>False</td>\n",
       "      <td>False</td>\n",
       "      <td>False</td>\n",
       "      <td>False</td>\n",
       "    </tr>\n",
       "    <tr>\n",
       "      <th>315356</th>\n",
       "      <td>2025-07-03 19:55:00</td>\n",
       "      <td>109686.1</td>\n",
       "      <td>109767.8</td>\n",
       "      <td>109686.1</td>\n",
       "      <td>109743.9</td>\n",
       "      <td>225.817</td>\n",
       "      <td>False</td>\n",
       "      <td>False</td>\n",
       "      <td>False</td>\n",
       "      <td>False</td>\n",
       "      <td>False</td>\n",
       "      <td>False</td>\n",
       "    </tr>\n",
       "    <tr>\n",
       "      <th>315357</th>\n",
       "      <td>2025-07-03 20:00:00</td>\n",
       "      <td>109743.8</td>\n",
       "      <td>109816.9</td>\n",
       "      <td>109743.8</td>\n",
       "      <td>109813.6</td>\n",
       "      <td>172.753</td>\n",
       "      <td>False</td>\n",
       "      <td>False</td>\n",
       "      <td>False</td>\n",
       "      <td>False</td>\n",
       "      <td>False</td>\n",
       "      <td>False</td>\n",
       "    </tr>\n",
       "    <tr>\n",
       "      <th>315358</th>\n",
       "      <td>2025-07-03 20:05:00</td>\n",
       "      <td>109813.7</td>\n",
       "      <td>109837.0</td>\n",
       "      <td>109784.7</td>\n",
       "      <td>109836.9</td>\n",
       "      <td>191.596</td>\n",
       "      <td>True</td>\n",
       "      <td>False</td>\n",
       "      <td>False</td>\n",
       "      <td>False</td>\n",
       "      <td>False</td>\n",
       "      <td>False</td>\n",
       "    </tr>\n",
       "    <tr>\n",
       "      <th>315359</th>\n",
       "      <td>2025-07-03 20:10:00</td>\n",
       "      <td>109836.9</td>\n",
       "      <td>109854.2</td>\n",
       "      <td>109750.2</td>\n",
       "      <td>109766.2</td>\n",
       "      <td>165.509</td>\n",
       "      <td>False</td>\n",
       "      <td>False</td>\n",
       "      <td>False</td>\n",
       "      <td>False</td>\n",
       "      <td>False</td>\n",
       "      <td>False</td>\n",
       "    </tr>\n",
       "  </tbody>\n",
       "</table>\n",
       "</div>"
      ],
      "text/plain": [
       "                  timestamp      open      high       low     close   volume  \\\n",
       "315355  2025-07-03 19:50:00  109687.3  109724.9  109628.0  109686.1  152.176   \n",
       "315356  2025-07-03 19:55:00  109686.1  109767.8  109686.1  109743.9  225.817   \n",
       "315357  2025-07-03 20:00:00  109743.8  109816.9  109743.8  109813.6  172.753   \n",
       "315358  2025-07-03 20:05:00  109813.7  109837.0  109784.7  109836.9  191.596   \n",
       "315359  2025-07-03 20:10:00  109836.9  109854.2  109750.2  109766.2  165.509   \n",
       "\n",
       "        bullish_pin_bar Weak follow up Weak Low Tested  bearish_pin_bar  \\\n",
       "315355            False          False           False            False   \n",
       "315356            False          False           False            False   \n",
       "315357            False          False           False            False   \n",
       "315358             True          False           False            False   \n",
       "315359            False          False           False            False   \n",
       "\n",
       "       Weak follow down Weak High Tested  \n",
       "315355            False            False  \n",
       "315356            False            False  \n",
       "315357            False            False  \n",
       "315358            False            False  \n",
       "315359            False            False  "
      ]
     },
     "execution_count": 210,
     "metadata": {},
     "output_type": "execute_result"
    }
   ],
   "source": [
    "# Checking if highs of weak pin bars got tested\n",
    "highs_tested = ['False']*len(btcusdt_5min_df)\n",
    "for i in range(len(btcusdt_5min_df) - 1):\n",
    "    if(btcusdt_5min_df.loc[i, 'Weak follow down'] == 'True'):\n",
    "        pin_bar_high = btcusdt_5min_df.loc[i, 'high']\n",
    "        for j in range(i+1, len(btcusdt_5min_df)):\n",
    "            if(btcusdt_5min_df.loc[j, 'high'] > pin_bar_high):\n",
    "                highs_tested[i] = 'True'\n",
    "                break\n",
    "btcusdt_5min_df['Weak High Tested'] = highs_tested\n",
    "btcusdt_5min_df.tail()"
   ]
  },
  {
   "cell_type": "code",
   "execution_count": 211,
   "id": "cb28f1b7",
   "metadata": {},
   "outputs": [],
   "source": [
    "# Saving the complete dataframe as a csv\n",
    "btcusdt_5min_df.to_csv('b_5min_analyzed.csv')"
   ]
  },
  {
   "cell_type": "code",
   "execution_count": 212,
   "id": "aa3b9c0d",
   "metadata": {},
   "outputs": [
    {
     "data": {
      "application/vnd.microsoft.datawrangler.viewer.v0+json": {
       "columns": [
        {
         "name": "index",
         "rawType": "int64",
         "type": "integer"
        },
        {
         "name": "timestamp",
         "rawType": "object",
         "type": "string"
        },
        {
         "name": "open",
         "rawType": "float64",
         "type": "float"
        },
        {
         "name": "high",
         "rawType": "float64",
         "type": "float"
        },
        {
         "name": "low",
         "rawType": "float64",
         "type": "float"
        },
        {
         "name": "close",
         "rawType": "float64",
         "type": "float"
        },
        {
         "name": "volume",
         "rawType": "float64",
         "type": "float"
        }
       ],
       "ref": "4a4cd7b2-d9d6-403b-b571-90de00afc5f7",
       "rows": [
        [
         "0",
         "2022-07-04 20:21:00",
         "19817.9",
         "19817.9",
         "19782.8",
         "19786.0",
         "763.841"
        ],
        [
         "1",
         "2022-07-04 20:24:00",
         "19785.9",
         "19785.9",
         "19719.5",
         "19775.9",
         "2424.585"
        ],
        [
         "2",
         "2022-07-04 20:27:00",
         "19776.0",
         "19793.6",
         "19768.2",
         "19776.6",
         "647.572"
        ],
        [
         "3",
         "2022-07-04 20:30:00",
         "19776.7",
         "19776.7",
         "19735.5",
         "19765.2",
         "714.112"
        ],
        [
         "4",
         "2022-07-04 20:33:00",
         "19765.1",
         "19769.6",
         "19754.1",
         "19758.3",
         "249.91"
        ]
       ],
       "shape": {
        "columns": 6,
        "rows": 5
       }
      },
      "text/html": [
       "<div>\n",
       "<style scoped>\n",
       "    .dataframe tbody tr th:only-of-type {\n",
       "        vertical-align: middle;\n",
       "    }\n",
       "\n",
       "    .dataframe tbody tr th {\n",
       "        vertical-align: top;\n",
       "    }\n",
       "\n",
       "    .dataframe thead th {\n",
       "        text-align: right;\n",
       "    }\n",
       "</style>\n",
       "<table border=\"1\" class=\"dataframe\">\n",
       "  <thead>\n",
       "    <tr style=\"text-align: right;\">\n",
       "      <th></th>\n",
       "      <th>timestamp</th>\n",
       "      <th>open</th>\n",
       "      <th>high</th>\n",
       "      <th>low</th>\n",
       "      <th>close</th>\n",
       "      <th>volume</th>\n",
       "    </tr>\n",
       "  </thead>\n",
       "  <tbody>\n",
       "    <tr>\n",
       "      <th>0</th>\n",
       "      <td>2022-07-04 20:21:00</td>\n",
       "      <td>19817.9</td>\n",
       "      <td>19817.9</td>\n",
       "      <td>19782.8</td>\n",
       "      <td>19786.0</td>\n",
       "      <td>763.841</td>\n",
       "    </tr>\n",
       "    <tr>\n",
       "      <th>1</th>\n",
       "      <td>2022-07-04 20:24:00</td>\n",
       "      <td>19785.9</td>\n",
       "      <td>19785.9</td>\n",
       "      <td>19719.5</td>\n",
       "      <td>19775.9</td>\n",
       "      <td>2424.585</td>\n",
       "    </tr>\n",
       "    <tr>\n",
       "      <th>2</th>\n",
       "      <td>2022-07-04 20:27:00</td>\n",
       "      <td>19776.0</td>\n",
       "      <td>19793.6</td>\n",
       "      <td>19768.2</td>\n",
       "      <td>19776.6</td>\n",
       "      <td>647.572</td>\n",
       "    </tr>\n",
       "    <tr>\n",
       "      <th>3</th>\n",
       "      <td>2022-07-04 20:30:00</td>\n",
       "      <td>19776.7</td>\n",
       "      <td>19776.7</td>\n",
       "      <td>19735.5</td>\n",
       "      <td>19765.2</td>\n",
       "      <td>714.112</td>\n",
       "    </tr>\n",
       "    <tr>\n",
       "      <th>4</th>\n",
       "      <td>2022-07-04 20:33:00</td>\n",
       "      <td>19765.1</td>\n",
       "      <td>19769.6</td>\n",
       "      <td>19754.1</td>\n",
       "      <td>19758.3</td>\n",
       "      <td>249.910</td>\n",
       "    </tr>\n",
       "  </tbody>\n",
       "</table>\n",
       "</div>"
      ],
      "text/plain": [
       "             timestamp     open     high      low    close    volume\n",
       "0  2022-07-04 20:21:00  19817.9  19817.9  19782.8  19786.0   763.841\n",
       "1  2022-07-04 20:24:00  19785.9  19785.9  19719.5  19775.9  2424.585\n",
       "2  2022-07-04 20:27:00  19776.0  19793.6  19768.2  19776.6   647.572\n",
       "3  2022-07-04 20:30:00  19776.7  19776.7  19735.5  19765.2   714.112\n",
       "4  2022-07-04 20:33:00  19765.1  19769.6  19754.1  19758.3   249.910"
      ]
     },
     "execution_count": 212,
     "metadata": {},
     "output_type": "execute_result"
    }
   ],
   "source": [
    "# Working on 3 minutes time frame\n",
    "btcusdt_3min_data = pd.read_csv('BTCUSDT_3min.csv')\n",
    "btcusdt_3min_df = pd.DataFrame(btcusdt_3min_data)\n",
    "btcusdt_3min_df.head()"
   ]
  },
  {
   "cell_type": "code",
   "execution_count": 213,
   "id": "c36a3467",
   "metadata": {},
   "outputs": [
    {
     "data": {
      "application/vnd.microsoft.datawrangler.viewer.v0+json": {
       "columns": [
        {
         "name": "index",
         "rawType": "int64",
         "type": "integer"
        },
        {
         "name": "timestamp",
         "rawType": "object",
         "type": "string"
        },
        {
         "name": "open",
         "rawType": "float64",
         "type": "float"
        },
        {
         "name": "high",
         "rawType": "float64",
         "type": "float"
        },
        {
         "name": "low",
         "rawType": "float64",
         "type": "float"
        },
        {
         "name": "close",
         "rawType": "float64",
         "type": "float"
        },
        {
         "name": "volume",
         "rawType": "float64",
         "type": "float"
        },
        {
         "name": "bullish_pin_bar",
         "rawType": "bool",
         "type": "boolean"
        }
       ],
       "ref": "7463a877-b18e-4e63-a42e-4c1353300fda",
       "rows": [
        [
         "0",
         "2022-07-04 20:21:00",
         "19817.9",
         "19817.9",
         "19782.8",
         "19786.0",
         "763.841",
         "False"
        ],
        [
         "1",
         "2022-07-04 20:24:00",
         "19785.9",
         "19785.9",
         "19719.5",
         "19775.9",
         "2424.585",
         "False"
        ],
        [
         "2",
         "2022-07-04 20:27:00",
         "19776.0",
         "19793.6",
         "19768.2",
         "19776.6",
         "647.572",
         "False"
        ],
        [
         "3",
         "2022-07-04 20:30:00",
         "19776.7",
         "19776.7",
         "19735.5",
         "19765.2",
         "714.112",
         "False"
        ],
        [
         "4",
         "2022-07-04 20:33:00",
         "19765.1",
         "19769.6",
         "19754.1",
         "19758.3",
         "249.91",
         "False"
        ]
       ],
       "shape": {
        "columns": 7,
        "rows": 5
       }
      },
      "text/html": [
       "<div>\n",
       "<style scoped>\n",
       "    .dataframe tbody tr th:only-of-type {\n",
       "        vertical-align: middle;\n",
       "    }\n",
       "\n",
       "    .dataframe tbody tr th {\n",
       "        vertical-align: top;\n",
       "    }\n",
       "\n",
       "    .dataframe thead th {\n",
       "        text-align: right;\n",
       "    }\n",
       "</style>\n",
       "<table border=\"1\" class=\"dataframe\">\n",
       "  <thead>\n",
       "    <tr style=\"text-align: right;\">\n",
       "      <th></th>\n",
       "      <th>timestamp</th>\n",
       "      <th>open</th>\n",
       "      <th>high</th>\n",
       "      <th>low</th>\n",
       "      <th>close</th>\n",
       "      <th>volume</th>\n",
       "      <th>bullish_pin_bar</th>\n",
       "    </tr>\n",
       "  </thead>\n",
       "  <tbody>\n",
       "    <tr>\n",
       "      <th>0</th>\n",
       "      <td>2022-07-04 20:21:00</td>\n",
       "      <td>19817.9</td>\n",
       "      <td>19817.9</td>\n",
       "      <td>19782.8</td>\n",
       "      <td>19786.0</td>\n",
       "      <td>763.841</td>\n",
       "      <td>False</td>\n",
       "    </tr>\n",
       "    <tr>\n",
       "      <th>1</th>\n",
       "      <td>2022-07-04 20:24:00</td>\n",
       "      <td>19785.9</td>\n",
       "      <td>19785.9</td>\n",
       "      <td>19719.5</td>\n",
       "      <td>19775.9</td>\n",
       "      <td>2424.585</td>\n",
       "      <td>False</td>\n",
       "    </tr>\n",
       "    <tr>\n",
       "      <th>2</th>\n",
       "      <td>2022-07-04 20:27:00</td>\n",
       "      <td>19776.0</td>\n",
       "      <td>19793.6</td>\n",
       "      <td>19768.2</td>\n",
       "      <td>19776.6</td>\n",
       "      <td>647.572</td>\n",
       "      <td>False</td>\n",
       "    </tr>\n",
       "    <tr>\n",
       "      <th>3</th>\n",
       "      <td>2022-07-04 20:30:00</td>\n",
       "      <td>19776.7</td>\n",
       "      <td>19776.7</td>\n",
       "      <td>19735.5</td>\n",
       "      <td>19765.2</td>\n",
       "      <td>714.112</td>\n",
       "      <td>False</td>\n",
       "    </tr>\n",
       "    <tr>\n",
       "      <th>4</th>\n",
       "      <td>2022-07-04 20:33:00</td>\n",
       "      <td>19765.1</td>\n",
       "      <td>19769.6</td>\n",
       "      <td>19754.1</td>\n",
       "      <td>19758.3</td>\n",
       "      <td>249.910</td>\n",
       "      <td>False</td>\n",
       "    </tr>\n",
       "  </tbody>\n",
       "</table>\n",
       "</div>"
      ],
      "text/plain": [
       "             timestamp     open     high      low    close    volume  \\\n",
       "0  2022-07-04 20:21:00  19817.9  19817.9  19782.8  19786.0   763.841   \n",
       "1  2022-07-04 20:24:00  19785.9  19785.9  19719.5  19775.9  2424.585   \n",
       "2  2022-07-04 20:27:00  19776.0  19793.6  19768.2  19776.6   647.572   \n",
       "3  2022-07-04 20:30:00  19776.7  19776.7  19735.5  19765.2   714.112   \n",
       "4  2022-07-04 20:33:00  19765.1  19769.6  19754.1  19758.3   249.910   \n",
       "\n",
       "   bullish_pin_bar  \n",
       "0            False  \n",
       "1            False  \n",
       "2            False  \n",
       "3            False  \n",
       "4            False  "
      ]
     },
     "execution_count": 213,
     "metadata": {},
     "output_type": "execute_result"
    }
   ],
   "source": [
    "#Getting the bullish pin bars\n",
    "btcusdt_3min_df['bullish_pin_bar'] = btcusdt_3min_df.apply(is_bullish_pin_bar, axis=1)\n",
    "btcusdt_3min_df.head()"
   ]
  },
  {
   "cell_type": "code",
   "execution_count": 214,
   "id": "e27cb1f5",
   "metadata": {},
   "outputs": [
    {
     "data": {
      "application/vnd.microsoft.datawrangler.viewer.v0+json": {
       "columns": [
        {
         "name": "index",
         "rawType": "int64",
         "type": "integer"
        },
        {
         "name": "timestamp",
         "rawType": "object",
         "type": "string"
        },
        {
         "name": "open",
         "rawType": "float64",
         "type": "float"
        },
        {
         "name": "high",
         "rawType": "float64",
         "type": "float"
        },
        {
         "name": "low",
         "rawType": "float64",
         "type": "float"
        },
        {
         "name": "close",
         "rawType": "float64",
         "type": "float"
        },
        {
         "name": "volume",
         "rawType": "float64",
         "type": "float"
        },
        {
         "name": "bullish_pin_bar",
         "rawType": "bool",
         "type": "boolean"
        },
        {
         "name": "Weak follow up",
         "rawType": "object",
         "type": "string"
        }
       ],
       "ref": "6f147b61-e253-4899-bc92-ac7687c1be13",
       "rows": [
        [
         "525596",
         "2025-07-03 20:09:00",
         "109801.6",
         "109837.2",
         "109801.6",
         "109816.2",
         "97.989",
         "False",
         "False"
        ],
        [
         "525597",
         "2025-07-03 20:12:00",
         "109816.3",
         "109854.2",
         "109750.2",
         "109766.2",
         "119.961",
         "False",
         "False"
        ],
        [
         "525598",
         "2025-07-03 20:15:00",
         "109766.2",
         "109781.9",
         "109711.2",
         "109781.9",
         "84.919",
         "True",
         "False"
        ],
        [
         "525599",
         "2025-07-03 20:18:00",
         "109781.8",
         "109804.9",
         "109725.0",
         "109725.0",
         "77.384",
         "False",
         "False"
        ],
        [
         "525600",
         "2025-07-03 20:21:00",
         "109725.0",
         "109797.1",
         "109725.0",
         "109747.1",
         "88.842",
         "False",
         "False"
        ]
       ],
       "shape": {
        "columns": 8,
        "rows": 5
       }
      },
      "text/html": [
       "<div>\n",
       "<style scoped>\n",
       "    .dataframe tbody tr th:only-of-type {\n",
       "        vertical-align: middle;\n",
       "    }\n",
       "\n",
       "    .dataframe tbody tr th {\n",
       "        vertical-align: top;\n",
       "    }\n",
       "\n",
       "    .dataframe thead th {\n",
       "        text-align: right;\n",
       "    }\n",
       "</style>\n",
       "<table border=\"1\" class=\"dataframe\">\n",
       "  <thead>\n",
       "    <tr style=\"text-align: right;\">\n",
       "      <th></th>\n",
       "      <th>timestamp</th>\n",
       "      <th>open</th>\n",
       "      <th>high</th>\n",
       "      <th>low</th>\n",
       "      <th>close</th>\n",
       "      <th>volume</th>\n",
       "      <th>bullish_pin_bar</th>\n",
       "      <th>Weak follow up</th>\n",
       "    </tr>\n",
       "  </thead>\n",
       "  <tbody>\n",
       "    <tr>\n",
       "      <th>525596</th>\n",
       "      <td>2025-07-03 20:09:00</td>\n",
       "      <td>109801.6</td>\n",
       "      <td>109837.2</td>\n",
       "      <td>109801.6</td>\n",
       "      <td>109816.2</td>\n",
       "      <td>97.989</td>\n",
       "      <td>False</td>\n",
       "      <td>False</td>\n",
       "    </tr>\n",
       "    <tr>\n",
       "      <th>525597</th>\n",
       "      <td>2025-07-03 20:12:00</td>\n",
       "      <td>109816.3</td>\n",
       "      <td>109854.2</td>\n",
       "      <td>109750.2</td>\n",
       "      <td>109766.2</td>\n",
       "      <td>119.961</td>\n",
       "      <td>False</td>\n",
       "      <td>False</td>\n",
       "    </tr>\n",
       "    <tr>\n",
       "      <th>525598</th>\n",
       "      <td>2025-07-03 20:15:00</td>\n",
       "      <td>109766.2</td>\n",
       "      <td>109781.9</td>\n",
       "      <td>109711.2</td>\n",
       "      <td>109781.9</td>\n",
       "      <td>84.919</td>\n",
       "      <td>True</td>\n",
       "      <td>False</td>\n",
       "    </tr>\n",
       "    <tr>\n",
       "      <th>525599</th>\n",
       "      <td>2025-07-03 20:18:00</td>\n",
       "      <td>109781.8</td>\n",
       "      <td>109804.9</td>\n",
       "      <td>109725.0</td>\n",
       "      <td>109725.0</td>\n",
       "      <td>77.384</td>\n",
       "      <td>False</td>\n",
       "      <td>False</td>\n",
       "    </tr>\n",
       "    <tr>\n",
       "      <th>525600</th>\n",
       "      <td>2025-07-03 20:21:00</td>\n",
       "      <td>109725.0</td>\n",
       "      <td>109797.1</td>\n",
       "      <td>109725.0</td>\n",
       "      <td>109747.1</td>\n",
       "      <td>88.842</td>\n",
       "      <td>False</td>\n",
       "      <td>False</td>\n",
       "    </tr>\n",
       "  </tbody>\n",
       "</table>\n",
       "</div>"
      ],
      "text/plain": [
       "                  timestamp      open      high       low     close   volume  \\\n",
       "525596  2025-07-03 20:09:00  109801.6  109837.2  109801.6  109816.2   97.989   \n",
       "525597  2025-07-03 20:12:00  109816.3  109854.2  109750.2  109766.2  119.961   \n",
       "525598  2025-07-03 20:15:00  109766.2  109781.9  109711.2  109781.9   84.919   \n",
       "525599  2025-07-03 20:18:00  109781.8  109804.9  109725.0  109725.0   77.384   \n",
       "525600  2025-07-03 20:21:00  109725.0  109797.1  109725.0  109747.1   88.842   \n",
       "\n",
       "        bullish_pin_bar Weak follow up  \n",
       "525596            False          False  \n",
       "525597            False          False  \n",
       "525598             True          False  \n",
       "525599            False          False  \n",
       "525600            False          False  "
      ]
     },
     "execution_count": 214,
     "metadata": {},
     "output_type": "execute_result"
    }
   ],
   "source": [
    "# Adding the follow up status to pin bars\n",
    "follow_through = []\n",
    "for i in range(len(btcusdt_3min_df) - 1):\n",
    "    if(btcusdt_3min_df.loc[i, 'bullish_pin_bar']):\n",
    "        pin_bar_volume = btcusdt_3min_df.loc[i, 'volume']\n",
    "        next_bar_volume = btcusdt_3min_df.loc[i+1, 'volume']\n",
    "        pin_bar_move = btcusdt_3min_df.loc[i,'close'] - btcusdt_3min_df.loc[i,'open']\n",
    "        next_bar_move = btcusdt_3min_df.loc[i+1,'close'] - btcusdt_3min_df.loc[i+1,'open']\n",
    "        if(next_bar_move > pin_bar_move and next_bar_volume < pin_bar_volume):\n",
    "            follow_through.append('True')\n",
    "        else:\n",
    "            follow_through.append('False')\n",
    "    else:\n",
    "        follow_through.append('False')\n",
    "follow_through.append('False')\n",
    "btcusdt_3min_df['Weak follow up'] = follow_through\n",
    "btcusdt_3min_df.tail()"
   ]
  },
  {
   "cell_type": "code",
   "execution_count": 215,
   "id": "e3cf1f65",
   "metadata": {},
   "outputs": [
    {
     "data": {
      "application/vnd.microsoft.datawrangler.viewer.v0+json": {
       "columns": [
        {
         "name": "index",
         "rawType": "int64",
         "type": "integer"
        },
        {
         "name": "timestamp",
         "rawType": "object",
         "type": "string"
        },
        {
         "name": "open",
         "rawType": "float64",
         "type": "float"
        },
        {
         "name": "high",
         "rawType": "float64",
         "type": "float"
        },
        {
         "name": "low",
         "rawType": "float64",
         "type": "float"
        },
        {
         "name": "close",
         "rawType": "float64",
         "type": "float"
        },
        {
         "name": "volume",
         "rawType": "float64",
         "type": "float"
        },
        {
         "name": "bullish_pin_bar",
         "rawType": "bool",
         "type": "boolean"
        },
        {
         "name": "Weak follow up",
         "rawType": "object",
         "type": "string"
        },
        {
         "name": "Weak Low Tested",
         "rawType": "object",
         "type": "string"
        }
       ],
       "ref": "d8d53059-59b0-4118-8fab-97d8404ee550",
       "rows": [
        [
         "525596",
         "2025-07-03 20:09:00",
         "109801.6",
         "109837.2",
         "109801.6",
         "109816.2",
         "97.989",
         "False",
         "False",
         "False"
        ],
        [
         "525597",
         "2025-07-03 20:12:00",
         "109816.3",
         "109854.2",
         "109750.2",
         "109766.2",
         "119.961",
         "False",
         "False",
         "False"
        ],
        [
         "525598",
         "2025-07-03 20:15:00",
         "109766.2",
         "109781.9",
         "109711.2",
         "109781.9",
         "84.919",
         "True",
         "False",
         "False"
        ],
        [
         "525599",
         "2025-07-03 20:18:00",
         "109781.8",
         "109804.9",
         "109725.0",
         "109725.0",
         "77.384",
         "False",
         "False",
         "False"
        ],
        [
         "525600",
         "2025-07-03 20:21:00",
         "109725.0",
         "109797.1",
         "109725.0",
         "109747.1",
         "88.842",
         "False",
         "False",
         "False"
        ]
       ],
       "shape": {
        "columns": 9,
        "rows": 5
       }
      },
      "text/html": [
       "<div>\n",
       "<style scoped>\n",
       "    .dataframe tbody tr th:only-of-type {\n",
       "        vertical-align: middle;\n",
       "    }\n",
       "\n",
       "    .dataframe tbody tr th {\n",
       "        vertical-align: top;\n",
       "    }\n",
       "\n",
       "    .dataframe thead th {\n",
       "        text-align: right;\n",
       "    }\n",
       "</style>\n",
       "<table border=\"1\" class=\"dataframe\">\n",
       "  <thead>\n",
       "    <tr style=\"text-align: right;\">\n",
       "      <th></th>\n",
       "      <th>timestamp</th>\n",
       "      <th>open</th>\n",
       "      <th>high</th>\n",
       "      <th>low</th>\n",
       "      <th>close</th>\n",
       "      <th>volume</th>\n",
       "      <th>bullish_pin_bar</th>\n",
       "      <th>Weak follow up</th>\n",
       "      <th>Weak Low Tested</th>\n",
       "    </tr>\n",
       "  </thead>\n",
       "  <tbody>\n",
       "    <tr>\n",
       "      <th>525596</th>\n",
       "      <td>2025-07-03 20:09:00</td>\n",
       "      <td>109801.6</td>\n",
       "      <td>109837.2</td>\n",
       "      <td>109801.6</td>\n",
       "      <td>109816.2</td>\n",
       "      <td>97.989</td>\n",
       "      <td>False</td>\n",
       "      <td>False</td>\n",
       "      <td>False</td>\n",
       "    </tr>\n",
       "    <tr>\n",
       "      <th>525597</th>\n",
       "      <td>2025-07-03 20:12:00</td>\n",
       "      <td>109816.3</td>\n",
       "      <td>109854.2</td>\n",
       "      <td>109750.2</td>\n",
       "      <td>109766.2</td>\n",
       "      <td>119.961</td>\n",
       "      <td>False</td>\n",
       "      <td>False</td>\n",
       "      <td>False</td>\n",
       "    </tr>\n",
       "    <tr>\n",
       "      <th>525598</th>\n",
       "      <td>2025-07-03 20:15:00</td>\n",
       "      <td>109766.2</td>\n",
       "      <td>109781.9</td>\n",
       "      <td>109711.2</td>\n",
       "      <td>109781.9</td>\n",
       "      <td>84.919</td>\n",
       "      <td>True</td>\n",
       "      <td>False</td>\n",
       "      <td>False</td>\n",
       "    </tr>\n",
       "    <tr>\n",
       "      <th>525599</th>\n",
       "      <td>2025-07-03 20:18:00</td>\n",
       "      <td>109781.8</td>\n",
       "      <td>109804.9</td>\n",
       "      <td>109725.0</td>\n",
       "      <td>109725.0</td>\n",
       "      <td>77.384</td>\n",
       "      <td>False</td>\n",
       "      <td>False</td>\n",
       "      <td>False</td>\n",
       "    </tr>\n",
       "    <tr>\n",
       "      <th>525600</th>\n",
       "      <td>2025-07-03 20:21:00</td>\n",
       "      <td>109725.0</td>\n",
       "      <td>109797.1</td>\n",
       "      <td>109725.0</td>\n",
       "      <td>109747.1</td>\n",
       "      <td>88.842</td>\n",
       "      <td>False</td>\n",
       "      <td>False</td>\n",
       "      <td>False</td>\n",
       "    </tr>\n",
       "  </tbody>\n",
       "</table>\n",
       "</div>"
      ],
      "text/plain": [
       "                  timestamp      open      high       low     close   volume  \\\n",
       "525596  2025-07-03 20:09:00  109801.6  109837.2  109801.6  109816.2   97.989   \n",
       "525597  2025-07-03 20:12:00  109816.3  109854.2  109750.2  109766.2  119.961   \n",
       "525598  2025-07-03 20:15:00  109766.2  109781.9  109711.2  109781.9   84.919   \n",
       "525599  2025-07-03 20:18:00  109781.8  109804.9  109725.0  109725.0   77.384   \n",
       "525600  2025-07-03 20:21:00  109725.0  109797.1  109725.0  109747.1   88.842   \n",
       "\n",
       "        bullish_pin_bar Weak follow up Weak Low Tested  \n",
       "525596            False          False           False  \n",
       "525597            False          False           False  \n",
       "525598             True          False           False  \n",
       "525599            False          False           False  \n",
       "525600            False          False           False  "
      ]
     },
     "execution_count": 215,
     "metadata": {},
     "output_type": "execute_result"
    }
   ],
   "source": [
    "# Checking if lows of weak pin bars got tested\n",
    "lows_tested = ['False']*len(btcusdt_3min_df)\n",
    "for i in range(len(btcusdt_3min_df) - 1):\n",
    "    if(btcusdt_3min_df.loc[i, 'Weak follow up'] == 'True'):\n",
    "        pin_bar_low = btcusdt_3min_df.loc[i, 'low']\n",
    "        for j in range(i+1, len(btcusdt_3min_df)):\n",
    "            if(btcusdt_3min_df.loc[j, 'low'] < pin_bar_low):\n",
    "                lows_tested[i] = 'True'\n",
    "                break\n",
    "btcusdt_3min_df['Weak Low Tested'] = lows_tested\n",
    "btcusdt_3min_df.tail()"
   ]
  },
  {
   "cell_type": "code",
   "execution_count": 216,
   "id": "bfd4029c",
   "metadata": {},
   "outputs": [
    {
     "data": {
      "application/vnd.microsoft.datawrangler.viewer.v0+json": {
       "columns": [
        {
         "name": "index",
         "rawType": "int64",
         "type": "integer"
        },
        {
         "name": "timestamp",
         "rawType": "object",
         "type": "string"
        },
        {
         "name": "open",
         "rawType": "float64",
         "type": "float"
        },
        {
         "name": "high",
         "rawType": "float64",
         "type": "float"
        },
        {
         "name": "low",
         "rawType": "float64",
         "type": "float"
        },
        {
         "name": "close",
         "rawType": "float64",
         "type": "float"
        },
        {
         "name": "volume",
         "rawType": "float64",
         "type": "float"
        },
        {
         "name": "bullish_pin_bar",
         "rawType": "bool",
         "type": "boolean"
        },
        {
         "name": "Weak follow up",
         "rawType": "object",
         "type": "string"
        },
        {
         "name": "Weak Low Tested",
         "rawType": "object",
         "type": "string"
        },
        {
         "name": "bearish_pin_bar",
         "rawType": "bool",
         "type": "boolean"
        }
       ],
       "ref": "3f12c8d4-f22a-4fc8-a5de-026cf17d1ba2",
       "rows": [
        [
         "525596",
         "2025-07-03 20:09:00",
         "109801.6",
         "109837.2",
         "109801.6",
         "109816.2",
         "97.989",
         "False",
         "False",
         "False",
         "False"
        ],
        [
         "525597",
         "2025-07-03 20:12:00",
         "109816.3",
         "109854.2",
         "109750.2",
         "109766.2",
         "119.961",
         "False",
         "False",
         "False",
         "True"
        ],
        [
         "525598",
         "2025-07-03 20:15:00",
         "109766.2",
         "109781.9",
         "109711.2",
         "109781.9",
         "84.919",
         "True",
         "False",
         "False",
         "False"
        ],
        [
         "525599",
         "2025-07-03 20:18:00",
         "109781.8",
         "109804.9",
         "109725.0",
         "109725.0",
         "77.384",
         "False",
         "False",
         "False",
         "False"
        ],
        [
         "525600",
         "2025-07-03 20:21:00",
         "109725.0",
         "109797.1",
         "109725.0",
         "109747.1",
         "88.842",
         "False",
         "False",
         "False",
         "False"
        ]
       ],
       "shape": {
        "columns": 10,
        "rows": 5
       }
      },
      "text/html": [
       "<div>\n",
       "<style scoped>\n",
       "    .dataframe tbody tr th:only-of-type {\n",
       "        vertical-align: middle;\n",
       "    }\n",
       "\n",
       "    .dataframe tbody tr th {\n",
       "        vertical-align: top;\n",
       "    }\n",
       "\n",
       "    .dataframe thead th {\n",
       "        text-align: right;\n",
       "    }\n",
       "</style>\n",
       "<table border=\"1\" class=\"dataframe\">\n",
       "  <thead>\n",
       "    <tr style=\"text-align: right;\">\n",
       "      <th></th>\n",
       "      <th>timestamp</th>\n",
       "      <th>open</th>\n",
       "      <th>high</th>\n",
       "      <th>low</th>\n",
       "      <th>close</th>\n",
       "      <th>volume</th>\n",
       "      <th>bullish_pin_bar</th>\n",
       "      <th>Weak follow up</th>\n",
       "      <th>Weak Low Tested</th>\n",
       "      <th>bearish_pin_bar</th>\n",
       "    </tr>\n",
       "  </thead>\n",
       "  <tbody>\n",
       "    <tr>\n",
       "      <th>525596</th>\n",
       "      <td>2025-07-03 20:09:00</td>\n",
       "      <td>109801.6</td>\n",
       "      <td>109837.2</td>\n",
       "      <td>109801.6</td>\n",
       "      <td>109816.2</td>\n",
       "      <td>97.989</td>\n",
       "      <td>False</td>\n",
       "      <td>False</td>\n",
       "      <td>False</td>\n",
       "      <td>False</td>\n",
       "    </tr>\n",
       "    <tr>\n",
       "      <th>525597</th>\n",
       "      <td>2025-07-03 20:12:00</td>\n",
       "      <td>109816.3</td>\n",
       "      <td>109854.2</td>\n",
       "      <td>109750.2</td>\n",
       "      <td>109766.2</td>\n",
       "      <td>119.961</td>\n",
       "      <td>False</td>\n",
       "      <td>False</td>\n",
       "      <td>False</td>\n",
       "      <td>True</td>\n",
       "    </tr>\n",
       "    <tr>\n",
       "      <th>525598</th>\n",
       "      <td>2025-07-03 20:15:00</td>\n",
       "      <td>109766.2</td>\n",
       "      <td>109781.9</td>\n",
       "      <td>109711.2</td>\n",
       "      <td>109781.9</td>\n",
       "      <td>84.919</td>\n",
       "      <td>True</td>\n",
       "      <td>False</td>\n",
       "      <td>False</td>\n",
       "      <td>False</td>\n",
       "    </tr>\n",
       "    <tr>\n",
       "      <th>525599</th>\n",
       "      <td>2025-07-03 20:18:00</td>\n",
       "      <td>109781.8</td>\n",
       "      <td>109804.9</td>\n",
       "      <td>109725.0</td>\n",
       "      <td>109725.0</td>\n",
       "      <td>77.384</td>\n",
       "      <td>False</td>\n",
       "      <td>False</td>\n",
       "      <td>False</td>\n",
       "      <td>False</td>\n",
       "    </tr>\n",
       "    <tr>\n",
       "      <th>525600</th>\n",
       "      <td>2025-07-03 20:21:00</td>\n",
       "      <td>109725.0</td>\n",
       "      <td>109797.1</td>\n",
       "      <td>109725.0</td>\n",
       "      <td>109747.1</td>\n",
       "      <td>88.842</td>\n",
       "      <td>False</td>\n",
       "      <td>False</td>\n",
       "      <td>False</td>\n",
       "      <td>False</td>\n",
       "    </tr>\n",
       "  </tbody>\n",
       "</table>\n",
       "</div>"
      ],
      "text/plain": [
       "                  timestamp      open      high       low     close   volume  \\\n",
       "525596  2025-07-03 20:09:00  109801.6  109837.2  109801.6  109816.2   97.989   \n",
       "525597  2025-07-03 20:12:00  109816.3  109854.2  109750.2  109766.2  119.961   \n",
       "525598  2025-07-03 20:15:00  109766.2  109781.9  109711.2  109781.9   84.919   \n",
       "525599  2025-07-03 20:18:00  109781.8  109804.9  109725.0  109725.0   77.384   \n",
       "525600  2025-07-03 20:21:00  109725.0  109797.1  109725.0  109747.1   88.842   \n",
       "\n",
       "        bullish_pin_bar Weak follow up Weak Low Tested  bearish_pin_bar  \n",
       "525596            False          False           False            False  \n",
       "525597            False          False           False             True  \n",
       "525598             True          False           False            False  \n",
       "525599            False          False           False            False  \n",
       "525600            False          False           False            False  "
      ]
     },
     "execution_count": 216,
     "metadata": {},
     "output_type": "execute_result"
    }
   ],
   "source": [
    "#Getting bearish pin bars\n",
    "btcusdt_3min_df['bearish_pin_bar'] = btcusdt_3min_df.apply(is_bearish_pin_bar, axis=1)\n",
    "btcusdt_3min_df.tail()"
   ]
  },
  {
   "cell_type": "code",
   "execution_count": 217,
   "id": "81fe6c54",
   "metadata": {},
   "outputs": [
    {
     "data": {
      "application/vnd.microsoft.datawrangler.viewer.v0+json": {
       "columns": [
        {
         "name": "index",
         "rawType": "int64",
         "type": "integer"
        },
        {
         "name": "timestamp",
         "rawType": "object",
         "type": "string"
        },
        {
         "name": "open",
         "rawType": "float64",
         "type": "float"
        },
        {
         "name": "high",
         "rawType": "float64",
         "type": "float"
        },
        {
         "name": "low",
         "rawType": "float64",
         "type": "float"
        },
        {
         "name": "close",
         "rawType": "float64",
         "type": "float"
        },
        {
         "name": "volume",
         "rawType": "float64",
         "type": "float"
        },
        {
         "name": "bullish_pin_bar",
         "rawType": "bool",
         "type": "boolean"
        },
        {
         "name": "Weak follow up",
         "rawType": "object",
         "type": "string"
        },
        {
         "name": "Weak Low Tested",
         "rawType": "object",
         "type": "string"
        },
        {
         "name": "bearish_pin_bar",
         "rawType": "bool",
         "type": "boolean"
        },
        {
         "name": "Weak follow down",
         "rawType": "object",
         "type": "string"
        }
       ],
       "ref": "84d11104-ae9b-4f27-93a9-bc3f426052d5",
       "rows": [
        [
         "525596",
         "2025-07-03 20:09:00",
         "109801.6",
         "109837.2",
         "109801.6",
         "109816.2",
         "97.989",
         "False",
         "False",
         "False",
         "False",
         "False"
        ],
        [
         "525597",
         "2025-07-03 20:12:00",
         "109816.3",
         "109854.2",
         "109750.2",
         "109766.2",
         "119.961",
         "False",
         "False",
         "False",
         "True",
         "False"
        ],
        [
         "525598",
         "2025-07-03 20:15:00",
         "109766.2",
         "109781.9",
         "109711.2",
         "109781.9",
         "84.919",
         "True",
         "False",
         "False",
         "False",
         "False"
        ],
        [
         "525599",
         "2025-07-03 20:18:00",
         "109781.8",
         "109804.9",
         "109725.0",
         "109725.0",
         "77.384",
         "False",
         "False",
         "False",
         "False",
         "False"
        ],
        [
         "525600",
         "2025-07-03 20:21:00",
         "109725.0",
         "109797.1",
         "109725.0",
         "109747.1",
         "88.842",
         "False",
         "False",
         "False",
         "False",
         "False"
        ]
       ],
       "shape": {
        "columns": 11,
        "rows": 5
       }
      },
      "text/html": [
       "<div>\n",
       "<style scoped>\n",
       "    .dataframe tbody tr th:only-of-type {\n",
       "        vertical-align: middle;\n",
       "    }\n",
       "\n",
       "    .dataframe tbody tr th {\n",
       "        vertical-align: top;\n",
       "    }\n",
       "\n",
       "    .dataframe thead th {\n",
       "        text-align: right;\n",
       "    }\n",
       "</style>\n",
       "<table border=\"1\" class=\"dataframe\">\n",
       "  <thead>\n",
       "    <tr style=\"text-align: right;\">\n",
       "      <th></th>\n",
       "      <th>timestamp</th>\n",
       "      <th>open</th>\n",
       "      <th>high</th>\n",
       "      <th>low</th>\n",
       "      <th>close</th>\n",
       "      <th>volume</th>\n",
       "      <th>bullish_pin_bar</th>\n",
       "      <th>Weak follow up</th>\n",
       "      <th>Weak Low Tested</th>\n",
       "      <th>bearish_pin_bar</th>\n",
       "      <th>Weak follow down</th>\n",
       "    </tr>\n",
       "  </thead>\n",
       "  <tbody>\n",
       "    <tr>\n",
       "      <th>525596</th>\n",
       "      <td>2025-07-03 20:09:00</td>\n",
       "      <td>109801.6</td>\n",
       "      <td>109837.2</td>\n",
       "      <td>109801.6</td>\n",
       "      <td>109816.2</td>\n",
       "      <td>97.989</td>\n",
       "      <td>False</td>\n",
       "      <td>False</td>\n",
       "      <td>False</td>\n",
       "      <td>False</td>\n",
       "      <td>False</td>\n",
       "    </tr>\n",
       "    <tr>\n",
       "      <th>525597</th>\n",
       "      <td>2025-07-03 20:12:00</td>\n",
       "      <td>109816.3</td>\n",
       "      <td>109854.2</td>\n",
       "      <td>109750.2</td>\n",
       "      <td>109766.2</td>\n",
       "      <td>119.961</td>\n",
       "      <td>False</td>\n",
       "      <td>False</td>\n",
       "      <td>False</td>\n",
       "      <td>True</td>\n",
       "      <td>False</td>\n",
       "    </tr>\n",
       "    <tr>\n",
       "      <th>525598</th>\n",
       "      <td>2025-07-03 20:15:00</td>\n",
       "      <td>109766.2</td>\n",
       "      <td>109781.9</td>\n",
       "      <td>109711.2</td>\n",
       "      <td>109781.9</td>\n",
       "      <td>84.919</td>\n",
       "      <td>True</td>\n",
       "      <td>False</td>\n",
       "      <td>False</td>\n",
       "      <td>False</td>\n",
       "      <td>False</td>\n",
       "    </tr>\n",
       "    <tr>\n",
       "      <th>525599</th>\n",
       "      <td>2025-07-03 20:18:00</td>\n",
       "      <td>109781.8</td>\n",
       "      <td>109804.9</td>\n",
       "      <td>109725.0</td>\n",
       "      <td>109725.0</td>\n",
       "      <td>77.384</td>\n",
       "      <td>False</td>\n",
       "      <td>False</td>\n",
       "      <td>False</td>\n",
       "      <td>False</td>\n",
       "      <td>False</td>\n",
       "    </tr>\n",
       "    <tr>\n",
       "      <th>525600</th>\n",
       "      <td>2025-07-03 20:21:00</td>\n",
       "      <td>109725.0</td>\n",
       "      <td>109797.1</td>\n",
       "      <td>109725.0</td>\n",
       "      <td>109747.1</td>\n",
       "      <td>88.842</td>\n",
       "      <td>False</td>\n",
       "      <td>False</td>\n",
       "      <td>False</td>\n",
       "      <td>False</td>\n",
       "      <td>False</td>\n",
       "    </tr>\n",
       "  </tbody>\n",
       "</table>\n",
       "</div>"
      ],
      "text/plain": [
       "                  timestamp      open      high       low     close   volume  \\\n",
       "525596  2025-07-03 20:09:00  109801.6  109837.2  109801.6  109816.2   97.989   \n",
       "525597  2025-07-03 20:12:00  109816.3  109854.2  109750.2  109766.2  119.961   \n",
       "525598  2025-07-03 20:15:00  109766.2  109781.9  109711.2  109781.9   84.919   \n",
       "525599  2025-07-03 20:18:00  109781.8  109804.9  109725.0  109725.0   77.384   \n",
       "525600  2025-07-03 20:21:00  109725.0  109797.1  109725.0  109747.1   88.842   \n",
       "\n",
       "        bullish_pin_bar Weak follow up Weak Low Tested  bearish_pin_bar  \\\n",
       "525596            False          False           False            False   \n",
       "525597            False          False           False             True   \n",
       "525598             True          False           False            False   \n",
       "525599            False          False           False            False   \n",
       "525600            False          False           False            False   \n",
       "\n",
       "       Weak follow down  \n",
       "525596            False  \n",
       "525597            False  \n",
       "525598            False  \n",
       "525599            False  \n",
       "525600            False  "
      ]
     },
     "execution_count": 217,
     "metadata": {},
     "output_type": "execute_result"
    }
   ],
   "source": [
    "# Checking for weak follow down\n",
    "follow_through = []\n",
    "for i in range(len(btcusdt_3min_df) - 1):\n",
    "    if(btcusdt_3min_df.loc[i, 'bearish_pin_bar']):\n",
    "        pin_bar_volume = btcusdt_3min_df.loc[i, 'volume']\n",
    "        next_bar_volume = btcusdt_3min_df.loc[i+1, 'volume']\n",
    "        pin_bar_move = btcusdt_3min_df.loc[i,'open'] - btcusdt_3min_df.loc[i,'close']\n",
    "        next_bar_move = btcusdt_3min_df.loc[i+1,'open'] - btcusdt_3min_df.loc[i+1,'close']\n",
    "        if(next_bar_move > pin_bar_move and next_bar_volume < pin_bar_volume):\n",
    "            follow_through.append('True')\n",
    "        else:\n",
    "            follow_through.append('False')\n",
    "    else:\n",
    "        follow_through.append('False')\n",
    "follow_through.append('False')\n",
    "btcusdt_3min_df['Weak follow down'] = follow_through\n",
    "btcusdt_3min_df.tail()"
   ]
  },
  {
   "cell_type": "code",
   "execution_count": 218,
   "id": "ebbd2b29",
   "metadata": {},
   "outputs": [
    {
     "data": {
      "application/vnd.microsoft.datawrangler.viewer.v0+json": {
       "columns": [
        {
         "name": "index",
         "rawType": "int64",
         "type": "integer"
        },
        {
         "name": "timestamp",
         "rawType": "object",
         "type": "string"
        },
        {
         "name": "open",
         "rawType": "float64",
         "type": "float"
        },
        {
         "name": "high",
         "rawType": "float64",
         "type": "float"
        },
        {
         "name": "low",
         "rawType": "float64",
         "type": "float"
        },
        {
         "name": "close",
         "rawType": "float64",
         "type": "float"
        },
        {
         "name": "volume",
         "rawType": "float64",
         "type": "float"
        },
        {
         "name": "bullish_pin_bar",
         "rawType": "bool",
         "type": "boolean"
        },
        {
         "name": "Weak follow up",
         "rawType": "object",
         "type": "string"
        },
        {
         "name": "Weak Low Tested",
         "rawType": "object",
         "type": "string"
        },
        {
         "name": "bearish_pin_bar",
         "rawType": "bool",
         "type": "boolean"
        },
        {
         "name": "Weak follow down",
         "rawType": "object",
         "type": "string"
        },
        {
         "name": "Weak High Tested",
         "rawType": "object",
         "type": "string"
        }
       ],
       "ref": "7a4baa00-43aa-4610-8008-4746810d20b4",
       "rows": [
        [
         "525596",
         "2025-07-03 20:09:00",
         "109801.6",
         "109837.2",
         "109801.6",
         "109816.2",
         "97.989",
         "False",
         "False",
         "False",
         "False",
         "False",
         "False"
        ],
        [
         "525597",
         "2025-07-03 20:12:00",
         "109816.3",
         "109854.2",
         "109750.2",
         "109766.2",
         "119.961",
         "False",
         "False",
         "False",
         "True",
         "False",
         "False"
        ],
        [
         "525598",
         "2025-07-03 20:15:00",
         "109766.2",
         "109781.9",
         "109711.2",
         "109781.9",
         "84.919",
         "True",
         "False",
         "False",
         "False",
         "False",
         "False"
        ],
        [
         "525599",
         "2025-07-03 20:18:00",
         "109781.8",
         "109804.9",
         "109725.0",
         "109725.0",
         "77.384",
         "False",
         "False",
         "False",
         "False",
         "False",
         "False"
        ],
        [
         "525600",
         "2025-07-03 20:21:00",
         "109725.0",
         "109797.1",
         "109725.0",
         "109747.1",
         "88.842",
         "False",
         "False",
         "False",
         "False",
         "False",
         "False"
        ]
       ],
       "shape": {
        "columns": 12,
        "rows": 5
       }
      },
      "text/html": [
       "<div>\n",
       "<style scoped>\n",
       "    .dataframe tbody tr th:only-of-type {\n",
       "        vertical-align: middle;\n",
       "    }\n",
       "\n",
       "    .dataframe tbody tr th {\n",
       "        vertical-align: top;\n",
       "    }\n",
       "\n",
       "    .dataframe thead th {\n",
       "        text-align: right;\n",
       "    }\n",
       "</style>\n",
       "<table border=\"1\" class=\"dataframe\">\n",
       "  <thead>\n",
       "    <tr style=\"text-align: right;\">\n",
       "      <th></th>\n",
       "      <th>timestamp</th>\n",
       "      <th>open</th>\n",
       "      <th>high</th>\n",
       "      <th>low</th>\n",
       "      <th>close</th>\n",
       "      <th>volume</th>\n",
       "      <th>bullish_pin_bar</th>\n",
       "      <th>Weak follow up</th>\n",
       "      <th>Weak Low Tested</th>\n",
       "      <th>bearish_pin_bar</th>\n",
       "      <th>Weak follow down</th>\n",
       "      <th>Weak High Tested</th>\n",
       "    </tr>\n",
       "  </thead>\n",
       "  <tbody>\n",
       "    <tr>\n",
       "      <th>525596</th>\n",
       "      <td>2025-07-03 20:09:00</td>\n",
       "      <td>109801.6</td>\n",
       "      <td>109837.2</td>\n",
       "      <td>109801.6</td>\n",
       "      <td>109816.2</td>\n",
       "      <td>97.989</td>\n",
       "      <td>False</td>\n",
       "      <td>False</td>\n",
       "      <td>False</td>\n",
       "      <td>False</td>\n",
       "      <td>False</td>\n",
       "      <td>False</td>\n",
       "    </tr>\n",
       "    <tr>\n",
       "      <th>525597</th>\n",
       "      <td>2025-07-03 20:12:00</td>\n",
       "      <td>109816.3</td>\n",
       "      <td>109854.2</td>\n",
       "      <td>109750.2</td>\n",
       "      <td>109766.2</td>\n",
       "      <td>119.961</td>\n",
       "      <td>False</td>\n",
       "      <td>False</td>\n",
       "      <td>False</td>\n",
       "      <td>True</td>\n",
       "      <td>False</td>\n",
       "      <td>False</td>\n",
       "    </tr>\n",
       "    <tr>\n",
       "      <th>525598</th>\n",
       "      <td>2025-07-03 20:15:00</td>\n",
       "      <td>109766.2</td>\n",
       "      <td>109781.9</td>\n",
       "      <td>109711.2</td>\n",
       "      <td>109781.9</td>\n",
       "      <td>84.919</td>\n",
       "      <td>True</td>\n",
       "      <td>False</td>\n",
       "      <td>False</td>\n",
       "      <td>False</td>\n",
       "      <td>False</td>\n",
       "      <td>False</td>\n",
       "    </tr>\n",
       "    <tr>\n",
       "      <th>525599</th>\n",
       "      <td>2025-07-03 20:18:00</td>\n",
       "      <td>109781.8</td>\n",
       "      <td>109804.9</td>\n",
       "      <td>109725.0</td>\n",
       "      <td>109725.0</td>\n",
       "      <td>77.384</td>\n",
       "      <td>False</td>\n",
       "      <td>False</td>\n",
       "      <td>False</td>\n",
       "      <td>False</td>\n",
       "      <td>False</td>\n",
       "      <td>False</td>\n",
       "    </tr>\n",
       "    <tr>\n",
       "      <th>525600</th>\n",
       "      <td>2025-07-03 20:21:00</td>\n",
       "      <td>109725.0</td>\n",
       "      <td>109797.1</td>\n",
       "      <td>109725.0</td>\n",
       "      <td>109747.1</td>\n",
       "      <td>88.842</td>\n",
       "      <td>False</td>\n",
       "      <td>False</td>\n",
       "      <td>False</td>\n",
       "      <td>False</td>\n",
       "      <td>False</td>\n",
       "      <td>False</td>\n",
       "    </tr>\n",
       "  </tbody>\n",
       "</table>\n",
       "</div>"
      ],
      "text/plain": [
       "                  timestamp      open      high       low     close   volume  \\\n",
       "525596  2025-07-03 20:09:00  109801.6  109837.2  109801.6  109816.2   97.989   \n",
       "525597  2025-07-03 20:12:00  109816.3  109854.2  109750.2  109766.2  119.961   \n",
       "525598  2025-07-03 20:15:00  109766.2  109781.9  109711.2  109781.9   84.919   \n",
       "525599  2025-07-03 20:18:00  109781.8  109804.9  109725.0  109725.0   77.384   \n",
       "525600  2025-07-03 20:21:00  109725.0  109797.1  109725.0  109747.1   88.842   \n",
       "\n",
       "        bullish_pin_bar Weak follow up Weak Low Tested  bearish_pin_bar  \\\n",
       "525596            False          False           False            False   \n",
       "525597            False          False           False             True   \n",
       "525598             True          False           False            False   \n",
       "525599            False          False           False            False   \n",
       "525600            False          False           False            False   \n",
       "\n",
       "       Weak follow down Weak High Tested  \n",
       "525596            False            False  \n",
       "525597            False            False  \n",
       "525598            False            False  \n",
       "525599            False            False  \n",
       "525600            False            False  "
      ]
     },
     "execution_count": 218,
     "metadata": {},
     "output_type": "execute_result"
    }
   ],
   "source": [
    "# Checking if highs of weak pin bars got tested\n",
    "highs_tested = ['False']*len(btcusdt_3min_df)\n",
    "for i in range(len(btcusdt_3min_df) - 1):\n",
    "    if(btcusdt_3min_df.loc[i, 'Weak follow down'] == 'True'):\n",
    "        pin_bar_high = btcusdt_3min_df.loc[i, 'high']\n",
    "        for j in range(i+1, len(btcusdt_3min_df)):\n",
    "            if(btcusdt_3min_df.loc[j, 'high'] > pin_bar_high):\n",
    "                highs_tested[i] = 'True'\n",
    "                break\n",
    "btcusdt_3min_df['Weak High Tested'] = highs_tested\n",
    "btcusdt_3min_df.tail()"
   ]
  },
  {
   "cell_type": "code",
   "execution_count": 219,
   "id": "836ea853",
   "metadata": {},
   "outputs": [],
   "source": [
    "# Saving the complete dataframe as a csv\n",
    "btcusdt_3min_df.to_csv('b_3min_analyzed.csv')"
   ]
  },
  {
   "cell_type": "code",
   "execution_count": 220,
   "id": "d7bd7a9c",
   "metadata": {},
   "outputs": [
    {
     "data": {
      "application/vnd.microsoft.datawrangler.viewer.v0+json": {
       "columns": [
        {
         "name": "index",
         "rawType": "int64",
         "type": "integer"
        },
        {
         "name": "timestamp",
         "rawType": "object",
         "type": "string"
        },
        {
         "name": "open",
         "rawType": "float64",
         "type": "float"
        },
        {
         "name": "high",
         "rawType": "float64",
         "type": "float"
        },
        {
         "name": "low",
         "rawType": "float64",
         "type": "float"
        },
        {
         "name": "close",
         "rawType": "float64",
         "type": "float"
        },
        {
         "name": "volume",
         "rawType": "float64",
         "type": "float"
        }
       ],
       "ref": "2680f844-8b4c-414a-8cc8-37024b9af5b9",
       "rows": [
        [
         "0",
         "2022-07-04 20:45:00",
         "1119.19",
         "1124.05",
         "1118.5",
         "1121.29",
         "27557.359"
        ],
        [
         "1",
         "2022-07-04 21:00:00",
         "1121.29",
         "1123.41",
         "1119.14",
         "1123.36",
         "17761.827"
        ],
        [
         "2",
         "2022-07-04 21:15:00",
         "1123.35",
         "1125.17",
         "1120.46",
         "1120.86",
         "17180.641"
        ],
        [
         "3",
         "2022-07-04 21:30:00",
         "1120.86",
         "1134.23",
         "1120.3",
         "1126.59",
         "49539.554"
        ],
        [
         "4",
         "2022-07-04 21:45:00",
         "1126.59",
         "1150.0",
         "1126.13",
         "1134.54",
         "99346.667"
        ]
       ],
       "shape": {
        "columns": 6,
        "rows": 5
       }
      },
      "text/html": [
       "<div>\n",
       "<style scoped>\n",
       "    .dataframe tbody tr th:only-of-type {\n",
       "        vertical-align: middle;\n",
       "    }\n",
       "\n",
       "    .dataframe tbody tr th {\n",
       "        vertical-align: top;\n",
       "    }\n",
       "\n",
       "    .dataframe thead th {\n",
       "        text-align: right;\n",
       "    }\n",
       "</style>\n",
       "<table border=\"1\" class=\"dataframe\">\n",
       "  <thead>\n",
       "    <tr style=\"text-align: right;\">\n",
       "      <th></th>\n",
       "      <th>timestamp</th>\n",
       "      <th>open</th>\n",
       "      <th>high</th>\n",
       "      <th>low</th>\n",
       "      <th>close</th>\n",
       "      <th>volume</th>\n",
       "    </tr>\n",
       "  </thead>\n",
       "  <tbody>\n",
       "    <tr>\n",
       "      <th>0</th>\n",
       "      <td>2022-07-04 20:45:00</td>\n",
       "      <td>1119.19</td>\n",
       "      <td>1124.05</td>\n",
       "      <td>1118.50</td>\n",
       "      <td>1121.29</td>\n",
       "      <td>27557.359</td>\n",
       "    </tr>\n",
       "    <tr>\n",
       "      <th>1</th>\n",
       "      <td>2022-07-04 21:00:00</td>\n",
       "      <td>1121.29</td>\n",
       "      <td>1123.41</td>\n",
       "      <td>1119.14</td>\n",
       "      <td>1123.36</td>\n",
       "      <td>17761.827</td>\n",
       "    </tr>\n",
       "    <tr>\n",
       "      <th>2</th>\n",
       "      <td>2022-07-04 21:15:00</td>\n",
       "      <td>1123.35</td>\n",
       "      <td>1125.17</td>\n",
       "      <td>1120.46</td>\n",
       "      <td>1120.86</td>\n",
       "      <td>17180.641</td>\n",
       "    </tr>\n",
       "    <tr>\n",
       "      <th>3</th>\n",
       "      <td>2022-07-04 21:30:00</td>\n",
       "      <td>1120.86</td>\n",
       "      <td>1134.23</td>\n",
       "      <td>1120.30</td>\n",
       "      <td>1126.59</td>\n",
       "      <td>49539.554</td>\n",
       "    </tr>\n",
       "    <tr>\n",
       "      <th>4</th>\n",
       "      <td>2022-07-04 21:45:00</td>\n",
       "      <td>1126.59</td>\n",
       "      <td>1150.00</td>\n",
       "      <td>1126.13</td>\n",
       "      <td>1134.54</td>\n",
       "      <td>99346.667</td>\n",
       "    </tr>\n",
       "  </tbody>\n",
       "</table>\n",
       "</div>"
      ],
      "text/plain": [
       "             timestamp     open     high      low    close     volume\n",
       "0  2022-07-04 20:45:00  1119.19  1124.05  1118.50  1121.29  27557.359\n",
       "1  2022-07-04 21:00:00  1121.29  1123.41  1119.14  1123.36  17761.827\n",
       "2  2022-07-04 21:15:00  1123.35  1125.17  1120.46  1120.86  17180.641\n",
       "3  2022-07-04 21:30:00  1120.86  1134.23  1120.30  1126.59  49539.554\n",
       "4  2022-07-04 21:45:00  1126.59  1150.00  1126.13  1134.54  99346.667"
      ]
     },
     "execution_count": 220,
     "metadata": {},
     "output_type": "execute_result"
    }
   ],
   "source": [
    "# Starting with ethusdt 15 minutes\n",
    "ethusdt_15min_data = pd.read_csv('ETHUSDT_15min.csv')\n",
    "ethusdt_15min_df = pd.DataFrame(ethusdt_15min_data)\n",
    "ethusdt_15min_df.head()"
   ]
  },
  {
   "cell_type": "code",
   "execution_count": 221,
   "id": "0cf68ef6",
   "metadata": {},
   "outputs": [
    {
     "data": {
      "application/vnd.microsoft.datawrangler.viewer.v0+json": {
       "columns": [
        {
         "name": "index",
         "rawType": "int64",
         "type": "integer"
        },
        {
         "name": "timestamp",
         "rawType": "object",
         "type": "string"
        },
        {
         "name": "open",
         "rawType": "float64",
         "type": "float"
        },
        {
         "name": "high",
         "rawType": "float64",
         "type": "float"
        },
        {
         "name": "low",
         "rawType": "float64",
         "type": "float"
        },
        {
         "name": "close",
         "rawType": "float64",
         "type": "float"
        },
        {
         "name": "volume",
         "rawType": "float64",
         "type": "float"
        },
        {
         "name": "bullish_pin_bar",
         "rawType": "bool",
         "type": "boolean"
        }
       ],
       "ref": "06b029a8-c039-4508-ba28-e52bf09eff76",
       "rows": [
        [
         "0",
         "2022-07-04 20:45:00",
         "1119.19",
         "1124.05",
         "1118.5",
         "1121.29",
         "27557.359",
         "False"
        ],
        [
         "1",
         "2022-07-04 21:00:00",
         "1121.29",
         "1123.41",
         "1119.14",
         "1123.36",
         "17761.827",
         "True"
        ],
        [
         "2",
         "2022-07-04 21:15:00",
         "1123.35",
         "1125.17",
         "1120.46",
         "1120.86",
         "17180.641",
         "False"
        ],
        [
         "3",
         "2022-07-04 21:30:00",
         "1120.86",
         "1134.23",
         "1120.3",
         "1126.59",
         "49539.554",
         "False"
        ],
        [
         "4",
         "2022-07-04 21:45:00",
         "1126.59",
         "1150.0",
         "1126.13",
         "1134.54",
         "99346.667",
         "False"
        ]
       ],
       "shape": {
        "columns": 7,
        "rows": 5
       }
      },
      "text/html": [
       "<div>\n",
       "<style scoped>\n",
       "    .dataframe tbody tr th:only-of-type {\n",
       "        vertical-align: middle;\n",
       "    }\n",
       "\n",
       "    .dataframe tbody tr th {\n",
       "        vertical-align: top;\n",
       "    }\n",
       "\n",
       "    .dataframe thead th {\n",
       "        text-align: right;\n",
       "    }\n",
       "</style>\n",
       "<table border=\"1\" class=\"dataframe\">\n",
       "  <thead>\n",
       "    <tr style=\"text-align: right;\">\n",
       "      <th></th>\n",
       "      <th>timestamp</th>\n",
       "      <th>open</th>\n",
       "      <th>high</th>\n",
       "      <th>low</th>\n",
       "      <th>close</th>\n",
       "      <th>volume</th>\n",
       "      <th>bullish_pin_bar</th>\n",
       "    </tr>\n",
       "  </thead>\n",
       "  <tbody>\n",
       "    <tr>\n",
       "      <th>0</th>\n",
       "      <td>2022-07-04 20:45:00</td>\n",
       "      <td>1119.19</td>\n",
       "      <td>1124.05</td>\n",
       "      <td>1118.50</td>\n",
       "      <td>1121.29</td>\n",
       "      <td>27557.359</td>\n",
       "      <td>False</td>\n",
       "    </tr>\n",
       "    <tr>\n",
       "      <th>1</th>\n",
       "      <td>2022-07-04 21:00:00</td>\n",
       "      <td>1121.29</td>\n",
       "      <td>1123.41</td>\n",
       "      <td>1119.14</td>\n",
       "      <td>1123.36</td>\n",
       "      <td>17761.827</td>\n",
       "      <td>True</td>\n",
       "    </tr>\n",
       "    <tr>\n",
       "      <th>2</th>\n",
       "      <td>2022-07-04 21:15:00</td>\n",
       "      <td>1123.35</td>\n",
       "      <td>1125.17</td>\n",
       "      <td>1120.46</td>\n",
       "      <td>1120.86</td>\n",
       "      <td>17180.641</td>\n",
       "      <td>False</td>\n",
       "    </tr>\n",
       "    <tr>\n",
       "      <th>3</th>\n",
       "      <td>2022-07-04 21:30:00</td>\n",
       "      <td>1120.86</td>\n",
       "      <td>1134.23</td>\n",
       "      <td>1120.30</td>\n",
       "      <td>1126.59</td>\n",
       "      <td>49539.554</td>\n",
       "      <td>False</td>\n",
       "    </tr>\n",
       "    <tr>\n",
       "      <th>4</th>\n",
       "      <td>2022-07-04 21:45:00</td>\n",
       "      <td>1126.59</td>\n",
       "      <td>1150.00</td>\n",
       "      <td>1126.13</td>\n",
       "      <td>1134.54</td>\n",
       "      <td>99346.667</td>\n",
       "      <td>False</td>\n",
       "    </tr>\n",
       "  </tbody>\n",
       "</table>\n",
       "</div>"
      ],
      "text/plain": [
       "             timestamp     open     high      low    close     volume  \\\n",
       "0  2022-07-04 20:45:00  1119.19  1124.05  1118.50  1121.29  27557.359   \n",
       "1  2022-07-04 21:00:00  1121.29  1123.41  1119.14  1123.36  17761.827   \n",
       "2  2022-07-04 21:15:00  1123.35  1125.17  1120.46  1120.86  17180.641   \n",
       "3  2022-07-04 21:30:00  1120.86  1134.23  1120.30  1126.59  49539.554   \n",
       "4  2022-07-04 21:45:00  1126.59  1150.00  1126.13  1134.54  99346.667   \n",
       "\n",
       "   bullish_pin_bar  \n",
       "0            False  \n",
       "1             True  \n",
       "2            False  \n",
       "3            False  \n",
       "4            False  "
      ]
     },
     "execution_count": 221,
     "metadata": {},
     "output_type": "execute_result"
    }
   ],
   "source": [
    "# Getting bullish bars \n",
    "ethusdt_15min_df['bullish_pin_bar'] = ethusdt_15min_df.apply(is_bullish_pin_bar, axis=1)\n",
    "ethusdt_15min_df.head()"
   ]
  },
  {
   "cell_type": "code",
   "execution_count": 222,
   "id": "69823479",
   "metadata": {},
   "outputs": [
    {
     "data": {
      "application/vnd.microsoft.datawrangler.viewer.v0+json": {
       "columns": [
        {
         "name": "index",
         "rawType": "int64",
         "type": "integer"
        },
        {
         "name": "timestamp",
         "rawType": "object",
         "type": "string"
        },
        {
         "name": "open",
         "rawType": "float64",
         "type": "float"
        },
        {
         "name": "high",
         "rawType": "float64",
         "type": "float"
        },
        {
         "name": "low",
         "rawType": "float64",
         "type": "float"
        },
        {
         "name": "close",
         "rawType": "float64",
         "type": "float"
        },
        {
         "name": "volume",
         "rawType": "float64",
         "type": "float"
        },
        {
         "name": "bullish_pin_bar",
         "rawType": "bool",
         "type": "boolean"
        },
        {
         "name": "Weak follow up",
         "rawType": "object",
         "type": "string"
        }
       ],
       "ref": "ffb6058d-0a76-4e78-849d-281d26234c93",
       "rows": [
        [
         "105114",
         "2025-07-03 19:15:00",
         "2588.6",
         "2590.85",
         "2587.03",
         "2587.13",
         "19852.263",
         "False",
         "False"
        ],
        [
         "105115",
         "2025-07-03 19:30:00",
         "2587.13",
         "2587.43",
         "2580.53",
         "2584.6",
         "18774.145",
         "False",
         "False"
        ],
        [
         "105116",
         "2025-07-03 19:45:00",
         "2584.59",
         "2586.4",
         "2582.44",
         "2584.63",
         "12267.453",
         "True",
         "False"
        ],
        [
         "105117",
         "2025-07-03 20:00:00",
         "2584.63",
         "2592.63",
         "2584.1",
         "2588.91",
         "21872.346",
         "False",
         "False"
        ],
        [
         "105118",
         "2025-07-03 20:15:00",
         "2588.91",
         "2595.54",
         "2586.82",
         "2593.61",
         "23658.499",
         "False",
         "False"
        ]
       ],
       "shape": {
        "columns": 8,
        "rows": 5
       }
      },
      "text/html": [
       "<div>\n",
       "<style scoped>\n",
       "    .dataframe tbody tr th:only-of-type {\n",
       "        vertical-align: middle;\n",
       "    }\n",
       "\n",
       "    .dataframe tbody tr th {\n",
       "        vertical-align: top;\n",
       "    }\n",
       "\n",
       "    .dataframe thead th {\n",
       "        text-align: right;\n",
       "    }\n",
       "</style>\n",
       "<table border=\"1\" class=\"dataframe\">\n",
       "  <thead>\n",
       "    <tr style=\"text-align: right;\">\n",
       "      <th></th>\n",
       "      <th>timestamp</th>\n",
       "      <th>open</th>\n",
       "      <th>high</th>\n",
       "      <th>low</th>\n",
       "      <th>close</th>\n",
       "      <th>volume</th>\n",
       "      <th>bullish_pin_bar</th>\n",
       "      <th>Weak follow up</th>\n",
       "    </tr>\n",
       "  </thead>\n",
       "  <tbody>\n",
       "    <tr>\n",
       "      <th>105114</th>\n",
       "      <td>2025-07-03 19:15:00</td>\n",
       "      <td>2588.60</td>\n",
       "      <td>2590.85</td>\n",
       "      <td>2587.03</td>\n",
       "      <td>2587.13</td>\n",
       "      <td>19852.263</td>\n",
       "      <td>False</td>\n",
       "      <td>False</td>\n",
       "    </tr>\n",
       "    <tr>\n",
       "      <th>105115</th>\n",
       "      <td>2025-07-03 19:30:00</td>\n",
       "      <td>2587.13</td>\n",
       "      <td>2587.43</td>\n",
       "      <td>2580.53</td>\n",
       "      <td>2584.60</td>\n",
       "      <td>18774.145</td>\n",
       "      <td>False</td>\n",
       "      <td>False</td>\n",
       "    </tr>\n",
       "    <tr>\n",
       "      <th>105116</th>\n",
       "      <td>2025-07-03 19:45:00</td>\n",
       "      <td>2584.59</td>\n",
       "      <td>2586.40</td>\n",
       "      <td>2582.44</td>\n",
       "      <td>2584.63</td>\n",
       "      <td>12267.453</td>\n",
       "      <td>True</td>\n",
       "      <td>False</td>\n",
       "    </tr>\n",
       "    <tr>\n",
       "      <th>105117</th>\n",
       "      <td>2025-07-03 20:00:00</td>\n",
       "      <td>2584.63</td>\n",
       "      <td>2592.63</td>\n",
       "      <td>2584.10</td>\n",
       "      <td>2588.91</td>\n",
       "      <td>21872.346</td>\n",
       "      <td>False</td>\n",
       "      <td>False</td>\n",
       "    </tr>\n",
       "    <tr>\n",
       "      <th>105118</th>\n",
       "      <td>2025-07-03 20:15:00</td>\n",
       "      <td>2588.91</td>\n",
       "      <td>2595.54</td>\n",
       "      <td>2586.82</td>\n",
       "      <td>2593.61</td>\n",
       "      <td>23658.499</td>\n",
       "      <td>False</td>\n",
       "      <td>False</td>\n",
       "    </tr>\n",
       "  </tbody>\n",
       "</table>\n",
       "</div>"
      ],
      "text/plain": [
       "                  timestamp     open     high      low    close     volume  \\\n",
       "105114  2025-07-03 19:15:00  2588.60  2590.85  2587.03  2587.13  19852.263   \n",
       "105115  2025-07-03 19:30:00  2587.13  2587.43  2580.53  2584.60  18774.145   \n",
       "105116  2025-07-03 19:45:00  2584.59  2586.40  2582.44  2584.63  12267.453   \n",
       "105117  2025-07-03 20:00:00  2584.63  2592.63  2584.10  2588.91  21872.346   \n",
       "105118  2025-07-03 20:15:00  2588.91  2595.54  2586.82  2593.61  23658.499   \n",
       "\n",
       "        bullish_pin_bar Weak follow up  \n",
       "105114            False          False  \n",
       "105115            False          False  \n",
       "105116             True          False  \n",
       "105117            False          False  \n",
       "105118            False          False  "
      ]
     },
     "execution_count": 222,
     "metadata": {},
     "output_type": "execute_result"
    }
   ],
   "source": [
    "# Adding the follow up status to pin bars\n",
    "follow_through = []\n",
    "for i in range(len(ethusdt_15min_df) - 1):\n",
    "    if(ethusdt_15min_df.loc[i, 'bullish_pin_bar']):\n",
    "        pin_bar_volume = ethusdt_15min_df.loc[i, 'volume']\n",
    "        next_bar_volume = ethusdt_15min_df.loc[i+1, 'volume']\n",
    "        pin_bar_move = ethusdt_15min_df.loc[i,'close'] - ethusdt_15min_df.loc[i,'open']\n",
    "        next_bar_move = ethusdt_15min_df.loc[i+1,'close'] - ethusdt_15min_df.loc[i+1,'open']\n",
    "        if(next_bar_move > pin_bar_move and next_bar_volume < pin_bar_volume):\n",
    "            follow_through.append('True')\n",
    "        else:\n",
    "            follow_through.append('False')\n",
    "    else:\n",
    "        follow_through.append('False')\n",
    "follow_through.append('False')\n",
    "ethusdt_15min_df['Weak follow up'] = follow_through\n",
    "ethusdt_15min_df.tail()"
   ]
  },
  {
   "cell_type": "code",
   "execution_count": 223,
   "id": "a41b029a",
   "metadata": {},
   "outputs": [
    {
     "data": {
      "application/vnd.microsoft.datawrangler.viewer.v0+json": {
       "columns": [
        {
         "name": "index",
         "rawType": "int64",
         "type": "integer"
        },
        {
         "name": "timestamp",
         "rawType": "object",
         "type": "string"
        },
        {
         "name": "open",
         "rawType": "float64",
         "type": "float"
        },
        {
         "name": "high",
         "rawType": "float64",
         "type": "float"
        },
        {
         "name": "low",
         "rawType": "float64",
         "type": "float"
        },
        {
         "name": "close",
         "rawType": "float64",
         "type": "float"
        },
        {
         "name": "volume",
         "rawType": "float64",
         "type": "float"
        },
        {
         "name": "bullish_pin_bar",
         "rawType": "bool",
         "type": "boolean"
        },
        {
         "name": "Weak follow up",
         "rawType": "object",
         "type": "string"
        },
        {
         "name": "Weak Low Tested",
         "rawType": "object",
         "type": "string"
        }
       ],
       "ref": "d2ae406f-35d9-40dd-a267-ecc95ce21b18",
       "rows": [
        [
         "105114",
         "2025-07-03 19:15:00",
         "2588.6",
         "2590.85",
         "2587.03",
         "2587.13",
         "19852.263",
         "False",
         "False",
         "False"
        ],
        [
         "105115",
         "2025-07-03 19:30:00",
         "2587.13",
         "2587.43",
         "2580.53",
         "2584.6",
         "18774.145",
         "False",
         "False",
         "False"
        ],
        [
         "105116",
         "2025-07-03 19:45:00",
         "2584.59",
         "2586.4",
         "2582.44",
         "2584.63",
         "12267.453",
         "True",
         "False",
         "False"
        ],
        [
         "105117",
         "2025-07-03 20:00:00",
         "2584.63",
         "2592.63",
         "2584.1",
         "2588.91",
         "21872.346",
         "False",
         "False",
         "False"
        ],
        [
         "105118",
         "2025-07-03 20:15:00",
         "2588.91",
         "2595.54",
         "2586.82",
         "2593.61",
         "23658.499",
         "False",
         "False",
         "False"
        ]
       ],
       "shape": {
        "columns": 9,
        "rows": 5
       }
      },
      "text/html": [
       "<div>\n",
       "<style scoped>\n",
       "    .dataframe tbody tr th:only-of-type {\n",
       "        vertical-align: middle;\n",
       "    }\n",
       "\n",
       "    .dataframe tbody tr th {\n",
       "        vertical-align: top;\n",
       "    }\n",
       "\n",
       "    .dataframe thead th {\n",
       "        text-align: right;\n",
       "    }\n",
       "</style>\n",
       "<table border=\"1\" class=\"dataframe\">\n",
       "  <thead>\n",
       "    <tr style=\"text-align: right;\">\n",
       "      <th></th>\n",
       "      <th>timestamp</th>\n",
       "      <th>open</th>\n",
       "      <th>high</th>\n",
       "      <th>low</th>\n",
       "      <th>close</th>\n",
       "      <th>volume</th>\n",
       "      <th>bullish_pin_bar</th>\n",
       "      <th>Weak follow up</th>\n",
       "      <th>Weak Low Tested</th>\n",
       "    </tr>\n",
       "  </thead>\n",
       "  <tbody>\n",
       "    <tr>\n",
       "      <th>105114</th>\n",
       "      <td>2025-07-03 19:15:00</td>\n",
       "      <td>2588.60</td>\n",
       "      <td>2590.85</td>\n",
       "      <td>2587.03</td>\n",
       "      <td>2587.13</td>\n",
       "      <td>19852.263</td>\n",
       "      <td>False</td>\n",
       "      <td>False</td>\n",
       "      <td>False</td>\n",
       "    </tr>\n",
       "    <tr>\n",
       "      <th>105115</th>\n",
       "      <td>2025-07-03 19:30:00</td>\n",
       "      <td>2587.13</td>\n",
       "      <td>2587.43</td>\n",
       "      <td>2580.53</td>\n",
       "      <td>2584.60</td>\n",
       "      <td>18774.145</td>\n",
       "      <td>False</td>\n",
       "      <td>False</td>\n",
       "      <td>False</td>\n",
       "    </tr>\n",
       "    <tr>\n",
       "      <th>105116</th>\n",
       "      <td>2025-07-03 19:45:00</td>\n",
       "      <td>2584.59</td>\n",
       "      <td>2586.40</td>\n",
       "      <td>2582.44</td>\n",
       "      <td>2584.63</td>\n",
       "      <td>12267.453</td>\n",
       "      <td>True</td>\n",
       "      <td>False</td>\n",
       "      <td>False</td>\n",
       "    </tr>\n",
       "    <tr>\n",
       "      <th>105117</th>\n",
       "      <td>2025-07-03 20:00:00</td>\n",
       "      <td>2584.63</td>\n",
       "      <td>2592.63</td>\n",
       "      <td>2584.10</td>\n",
       "      <td>2588.91</td>\n",
       "      <td>21872.346</td>\n",
       "      <td>False</td>\n",
       "      <td>False</td>\n",
       "      <td>False</td>\n",
       "    </tr>\n",
       "    <tr>\n",
       "      <th>105118</th>\n",
       "      <td>2025-07-03 20:15:00</td>\n",
       "      <td>2588.91</td>\n",
       "      <td>2595.54</td>\n",
       "      <td>2586.82</td>\n",
       "      <td>2593.61</td>\n",
       "      <td>23658.499</td>\n",
       "      <td>False</td>\n",
       "      <td>False</td>\n",
       "      <td>False</td>\n",
       "    </tr>\n",
       "  </tbody>\n",
       "</table>\n",
       "</div>"
      ],
      "text/plain": [
       "                  timestamp     open     high      low    close     volume  \\\n",
       "105114  2025-07-03 19:15:00  2588.60  2590.85  2587.03  2587.13  19852.263   \n",
       "105115  2025-07-03 19:30:00  2587.13  2587.43  2580.53  2584.60  18774.145   \n",
       "105116  2025-07-03 19:45:00  2584.59  2586.40  2582.44  2584.63  12267.453   \n",
       "105117  2025-07-03 20:00:00  2584.63  2592.63  2584.10  2588.91  21872.346   \n",
       "105118  2025-07-03 20:15:00  2588.91  2595.54  2586.82  2593.61  23658.499   \n",
       "\n",
       "        bullish_pin_bar Weak follow up Weak Low Tested  \n",
       "105114            False          False           False  \n",
       "105115            False          False           False  \n",
       "105116             True          False           False  \n",
       "105117            False          False           False  \n",
       "105118            False          False           False  "
      ]
     },
     "execution_count": 223,
     "metadata": {},
     "output_type": "execute_result"
    }
   ],
   "source": [
    "# Checking if lows of weak pin bars got tested\n",
    "lows_tested = ['False']*len(ethusdt_15min_df)\n",
    "for i in range(len(ethusdt_15min_df) - 1):\n",
    "    if(ethusdt_15min_df.loc[i, 'Weak follow up'] == 'True'):\n",
    "        pin_bar_low = ethusdt_15min_df.loc[i, 'low']\n",
    "        for j in range(i+1, len(ethusdt_15min_df)):\n",
    "            if(ethusdt_15min_df.loc[j, 'low'] < pin_bar_low):\n",
    "                lows_tested[i] = 'True'\n",
    "                break\n",
    "ethusdt_15min_df['Weak Low Tested'] = lows_tested\n",
    "ethusdt_15min_df.tail()"
   ]
  },
  {
   "cell_type": "code",
   "execution_count": 224,
   "id": "dbc0441b",
   "metadata": {},
   "outputs": [
    {
     "data": {
      "application/vnd.microsoft.datawrangler.viewer.v0+json": {
       "columns": [
        {
         "name": "index",
         "rawType": "int64",
         "type": "integer"
        },
        {
         "name": "timestamp",
         "rawType": "object",
         "type": "string"
        },
        {
         "name": "open",
         "rawType": "float64",
         "type": "float"
        },
        {
         "name": "high",
         "rawType": "float64",
         "type": "float"
        },
        {
         "name": "low",
         "rawType": "float64",
         "type": "float"
        },
        {
         "name": "close",
         "rawType": "float64",
         "type": "float"
        },
        {
         "name": "volume",
         "rawType": "float64",
         "type": "float"
        },
        {
         "name": "bullish_pin_bar",
         "rawType": "bool",
         "type": "boolean"
        },
        {
         "name": "Weak follow up",
         "rawType": "object",
         "type": "string"
        },
        {
         "name": "Weak Low Tested",
         "rawType": "object",
         "type": "string"
        },
        {
         "name": "bearish_pin_bar",
         "rawType": "bool",
         "type": "boolean"
        }
       ],
       "ref": "8e0f545a-f18e-4f7f-82cb-eb9b528a6497",
       "rows": [
        [
         "0",
         "2022-07-04 20:45:00",
         "1119.19",
         "1124.05",
         "1118.5",
         "1121.29",
         "27557.359",
         "False",
         "False",
         "False",
         "False"
        ],
        [
         "1",
         "2022-07-04 21:00:00",
         "1121.29",
         "1123.41",
         "1119.14",
         "1123.36",
         "17761.827",
         "True",
         "False",
         "False",
         "False"
        ],
        [
         "2",
         "2022-07-04 21:15:00",
         "1123.35",
         "1125.17",
         "1120.46",
         "1120.86",
         "17180.641",
         "False",
         "False",
         "False",
         "False"
        ],
        [
         "3",
         "2022-07-04 21:30:00",
         "1120.86",
         "1134.23",
         "1120.3",
         "1126.59",
         "49539.554",
         "False",
         "False",
         "False",
         "False"
        ],
        [
         "4",
         "2022-07-04 21:45:00",
         "1126.59",
         "1150.0",
         "1126.13",
         "1134.54",
         "99346.667",
         "False",
         "False",
         "False",
         "False"
        ]
       ],
       "shape": {
        "columns": 10,
        "rows": 5
       }
      },
      "text/html": [
       "<div>\n",
       "<style scoped>\n",
       "    .dataframe tbody tr th:only-of-type {\n",
       "        vertical-align: middle;\n",
       "    }\n",
       "\n",
       "    .dataframe tbody tr th {\n",
       "        vertical-align: top;\n",
       "    }\n",
       "\n",
       "    .dataframe thead th {\n",
       "        text-align: right;\n",
       "    }\n",
       "</style>\n",
       "<table border=\"1\" class=\"dataframe\">\n",
       "  <thead>\n",
       "    <tr style=\"text-align: right;\">\n",
       "      <th></th>\n",
       "      <th>timestamp</th>\n",
       "      <th>open</th>\n",
       "      <th>high</th>\n",
       "      <th>low</th>\n",
       "      <th>close</th>\n",
       "      <th>volume</th>\n",
       "      <th>bullish_pin_bar</th>\n",
       "      <th>Weak follow up</th>\n",
       "      <th>Weak Low Tested</th>\n",
       "      <th>bearish_pin_bar</th>\n",
       "    </tr>\n",
       "  </thead>\n",
       "  <tbody>\n",
       "    <tr>\n",
       "      <th>0</th>\n",
       "      <td>2022-07-04 20:45:00</td>\n",
       "      <td>1119.19</td>\n",
       "      <td>1124.05</td>\n",
       "      <td>1118.50</td>\n",
       "      <td>1121.29</td>\n",
       "      <td>27557.359</td>\n",
       "      <td>False</td>\n",
       "      <td>False</td>\n",
       "      <td>False</td>\n",
       "      <td>False</td>\n",
       "    </tr>\n",
       "    <tr>\n",
       "      <th>1</th>\n",
       "      <td>2022-07-04 21:00:00</td>\n",
       "      <td>1121.29</td>\n",
       "      <td>1123.41</td>\n",
       "      <td>1119.14</td>\n",
       "      <td>1123.36</td>\n",
       "      <td>17761.827</td>\n",
       "      <td>True</td>\n",
       "      <td>False</td>\n",
       "      <td>False</td>\n",
       "      <td>False</td>\n",
       "    </tr>\n",
       "    <tr>\n",
       "      <th>2</th>\n",
       "      <td>2022-07-04 21:15:00</td>\n",
       "      <td>1123.35</td>\n",
       "      <td>1125.17</td>\n",
       "      <td>1120.46</td>\n",
       "      <td>1120.86</td>\n",
       "      <td>17180.641</td>\n",
       "      <td>False</td>\n",
       "      <td>False</td>\n",
       "      <td>False</td>\n",
       "      <td>False</td>\n",
       "    </tr>\n",
       "    <tr>\n",
       "      <th>3</th>\n",
       "      <td>2022-07-04 21:30:00</td>\n",
       "      <td>1120.86</td>\n",
       "      <td>1134.23</td>\n",
       "      <td>1120.30</td>\n",
       "      <td>1126.59</td>\n",
       "      <td>49539.554</td>\n",
       "      <td>False</td>\n",
       "      <td>False</td>\n",
       "      <td>False</td>\n",
       "      <td>False</td>\n",
       "    </tr>\n",
       "    <tr>\n",
       "      <th>4</th>\n",
       "      <td>2022-07-04 21:45:00</td>\n",
       "      <td>1126.59</td>\n",
       "      <td>1150.00</td>\n",
       "      <td>1126.13</td>\n",
       "      <td>1134.54</td>\n",
       "      <td>99346.667</td>\n",
       "      <td>False</td>\n",
       "      <td>False</td>\n",
       "      <td>False</td>\n",
       "      <td>False</td>\n",
       "    </tr>\n",
       "  </tbody>\n",
       "</table>\n",
       "</div>"
      ],
      "text/plain": [
       "             timestamp     open     high      low    close     volume  \\\n",
       "0  2022-07-04 20:45:00  1119.19  1124.05  1118.50  1121.29  27557.359   \n",
       "1  2022-07-04 21:00:00  1121.29  1123.41  1119.14  1123.36  17761.827   \n",
       "2  2022-07-04 21:15:00  1123.35  1125.17  1120.46  1120.86  17180.641   \n",
       "3  2022-07-04 21:30:00  1120.86  1134.23  1120.30  1126.59  49539.554   \n",
       "4  2022-07-04 21:45:00  1126.59  1150.00  1126.13  1134.54  99346.667   \n",
       "\n",
       "   bullish_pin_bar Weak follow up Weak Low Tested  bearish_pin_bar  \n",
       "0            False          False           False            False  \n",
       "1             True          False           False            False  \n",
       "2            False          False           False            False  \n",
       "3            False          False           False            False  \n",
       "4            False          False           False            False  "
      ]
     },
     "execution_count": 224,
     "metadata": {},
     "output_type": "execute_result"
    }
   ],
   "source": [
    "#Getting weak bearish pin bars\n",
    "ethusdt_15min_df['bearish_pin_bar'] = ethusdt_15min_df.apply(is_bearish_pin_bar, axis=1)\n",
    "ethusdt_15min_df.head()"
   ]
  },
  {
   "cell_type": "code",
   "execution_count": 225,
   "id": "d14607cf",
   "metadata": {},
   "outputs": [
    {
     "data": {
      "application/vnd.microsoft.datawrangler.viewer.v0+json": {
       "columns": [
        {
         "name": "index",
         "rawType": "int64",
         "type": "integer"
        },
        {
         "name": "timestamp",
         "rawType": "object",
         "type": "string"
        },
        {
         "name": "open",
         "rawType": "float64",
         "type": "float"
        },
        {
         "name": "high",
         "rawType": "float64",
         "type": "float"
        },
        {
         "name": "low",
         "rawType": "float64",
         "type": "float"
        },
        {
         "name": "close",
         "rawType": "float64",
         "type": "float"
        },
        {
         "name": "volume",
         "rawType": "float64",
         "type": "float"
        },
        {
         "name": "bullish_pin_bar",
         "rawType": "bool",
         "type": "boolean"
        },
        {
         "name": "Weak follow up",
         "rawType": "object",
         "type": "string"
        },
        {
         "name": "Weak Low Tested",
         "rawType": "object",
         "type": "string"
        },
        {
         "name": "bearish_pin_bar",
         "rawType": "bool",
         "type": "boolean"
        },
        {
         "name": "Weak follow down",
         "rawType": "object",
         "type": "string"
        }
       ],
       "ref": "41d74613-5aa2-4e58-b3c2-3c15abad2405",
       "rows": [
        [
         "105114",
         "2025-07-03 19:15:00",
         "2588.6",
         "2590.85",
         "2587.03",
         "2587.13",
         "19852.263",
         "False",
         "False",
         "False",
         "True",
         "True"
        ],
        [
         "105115",
         "2025-07-03 19:30:00",
         "2587.13",
         "2587.43",
         "2580.53",
         "2584.6",
         "18774.145",
         "False",
         "False",
         "False",
         "False",
         "False"
        ],
        [
         "105116",
         "2025-07-03 19:45:00",
         "2584.59",
         "2586.4",
         "2582.44",
         "2584.63",
         "12267.453",
         "True",
         "False",
         "False",
         "False",
         "False"
        ],
        [
         "105117",
         "2025-07-03 20:00:00",
         "2584.63",
         "2592.63",
         "2584.1",
         "2588.91",
         "21872.346",
         "False",
         "False",
         "False",
         "False",
         "False"
        ],
        [
         "105118",
         "2025-07-03 20:15:00",
         "2588.91",
         "2595.54",
         "2586.82",
         "2593.61",
         "23658.499",
         "False",
         "False",
         "False",
         "False",
         "False"
        ]
       ],
       "shape": {
        "columns": 11,
        "rows": 5
       }
      },
      "text/html": [
       "<div>\n",
       "<style scoped>\n",
       "    .dataframe tbody tr th:only-of-type {\n",
       "        vertical-align: middle;\n",
       "    }\n",
       "\n",
       "    .dataframe tbody tr th {\n",
       "        vertical-align: top;\n",
       "    }\n",
       "\n",
       "    .dataframe thead th {\n",
       "        text-align: right;\n",
       "    }\n",
       "</style>\n",
       "<table border=\"1\" class=\"dataframe\">\n",
       "  <thead>\n",
       "    <tr style=\"text-align: right;\">\n",
       "      <th></th>\n",
       "      <th>timestamp</th>\n",
       "      <th>open</th>\n",
       "      <th>high</th>\n",
       "      <th>low</th>\n",
       "      <th>close</th>\n",
       "      <th>volume</th>\n",
       "      <th>bullish_pin_bar</th>\n",
       "      <th>Weak follow up</th>\n",
       "      <th>Weak Low Tested</th>\n",
       "      <th>bearish_pin_bar</th>\n",
       "      <th>Weak follow down</th>\n",
       "    </tr>\n",
       "  </thead>\n",
       "  <tbody>\n",
       "    <tr>\n",
       "      <th>105114</th>\n",
       "      <td>2025-07-03 19:15:00</td>\n",
       "      <td>2588.60</td>\n",
       "      <td>2590.85</td>\n",
       "      <td>2587.03</td>\n",
       "      <td>2587.13</td>\n",
       "      <td>19852.263</td>\n",
       "      <td>False</td>\n",
       "      <td>False</td>\n",
       "      <td>False</td>\n",
       "      <td>True</td>\n",
       "      <td>True</td>\n",
       "    </tr>\n",
       "    <tr>\n",
       "      <th>105115</th>\n",
       "      <td>2025-07-03 19:30:00</td>\n",
       "      <td>2587.13</td>\n",
       "      <td>2587.43</td>\n",
       "      <td>2580.53</td>\n",
       "      <td>2584.60</td>\n",
       "      <td>18774.145</td>\n",
       "      <td>False</td>\n",
       "      <td>False</td>\n",
       "      <td>False</td>\n",
       "      <td>False</td>\n",
       "      <td>False</td>\n",
       "    </tr>\n",
       "    <tr>\n",
       "      <th>105116</th>\n",
       "      <td>2025-07-03 19:45:00</td>\n",
       "      <td>2584.59</td>\n",
       "      <td>2586.40</td>\n",
       "      <td>2582.44</td>\n",
       "      <td>2584.63</td>\n",
       "      <td>12267.453</td>\n",
       "      <td>True</td>\n",
       "      <td>False</td>\n",
       "      <td>False</td>\n",
       "      <td>False</td>\n",
       "      <td>False</td>\n",
       "    </tr>\n",
       "    <tr>\n",
       "      <th>105117</th>\n",
       "      <td>2025-07-03 20:00:00</td>\n",
       "      <td>2584.63</td>\n",
       "      <td>2592.63</td>\n",
       "      <td>2584.10</td>\n",
       "      <td>2588.91</td>\n",
       "      <td>21872.346</td>\n",
       "      <td>False</td>\n",
       "      <td>False</td>\n",
       "      <td>False</td>\n",
       "      <td>False</td>\n",
       "      <td>False</td>\n",
       "    </tr>\n",
       "    <tr>\n",
       "      <th>105118</th>\n",
       "      <td>2025-07-03 20:15:00</td>\n",
       "      <td>2588.91</td>\n",
       "      <td>2595.54</td>\n",
       "      <td>2586.82</td>\n",
       "      <td>2593.61</td>\n",
       "      <td>23658.499</td>\n",
       "      <td>False</td>\n",
       "      <td>False</td>\n",
       "      <td>False</td>\n",
       "      <td>False</td>\n",
       "      <td>False</td>\n",
       "    </tr>\n",
       "  </tbody>\n",
       "</table>\n",
       "</div>"
      ],
      "text/plain": [
       "                  timestamp     open     high      low    close     volume  \\\n",
       "105114  2025-07-03 19:15:00  2588.60  2590.85  2587.03  2587.13  19852.263   \n",
       "105115  2025-07-03 19:30:00  2587.13  2587.43  2580.53  2584.60  18774.145   \n",
       "105116  2025-07-03 19:45:00  2584.59  2586.40  2582.44  2584.63  12267.453   \n",
       "105117  2025-07-03 20:00:00  2584.63  2592.63  2584.10  2588.91  21872.346   \n",
       "105118  2025-07-03 20:15:00  2588.91  2595.54  2586.82  2593.61  23658.499   \n",
       "\n",
       "        bullish_pin_bar Weak follow up Weak Low Tested  bearish_pin_bar  \\\n",
       "105114            False          False           False             True   \n",
       "105115            False          False           False            False   \n",
       "105116             True          False           False            False   \n",
       "105117            False          False           False            False   \n",
       "105118            False          False           False            False   \n",
       "\n",
       "       Weak follow down  \n",
       "105114             True  \n",
       "105115            False  \n",
       "105116            False  \n",
       "105117            False  \n",
       "105118            False  "
      ]
     },
     "execution_count": 225,
     "metadata": {},
     "output_type": "execute_result"
    }
   ],
   "source": [
    "# Checking for weak follow down\n",
    "follow_through = []\n",
    "for i in range(len(ethusdt_15min_df) - 1):\n",
    "    if(ethusdt_15min_df.loc[i, 'bearish_pin_bar']):\n",
    "        pin_bar_volume = ethusdt_15min_df.loc[i, 'volume']\n",
    "        next_bar_volume = ethusdt_15min_df.loc[i+1, 'volume']\n",
    "        pin_bar_move = ethusdt_15min_df.loc[i,'open'] - ethusdt_15min_df.loc[i,'close']\n",
    "        next_bar_move = ethusdt_15min_df.loc[i+1,'open'] - ethusdt_15min_df.loc[i+1,'close']\n",
    "        if(next_bar_move > pin_bar_move and next_bar_volume < pin_bar_volume):\n",
    "            follow_through.append('True')\n",
    "        else:\n",
    "            follow_through.append('False')\n",
    "    else:\n",
    "        follow_through.append('False')\n",
    "follow_through.append('False')\n",
    "ethusdt_15min_df['Weak follow down'] = follow_through\n",
    "ethusdt_15min_df.tail()"
   ]
  },
  {
   "cell_type": "code",
   "execution_count": 226,
   "id": "3ed44e88",
   "metadata": {},
   "outputs": [
    {
     "data": {
      "application/vnd.microsoft.datawrangler.viewer.v0+json": {
       "columns": [
        {
         "name": "index",
         "rawType": "int64",
         "type": "integer"
        },
        {
         "name": "timestamp",
         "rawType": "object",
         "type": "string"
        },
        {
         "name": "open",
         "rawType": "float64",
         "type": "float"
        },
        {
         "name": "high",
         "rawType": "float64",
         "type": "float"
        },
        {
         "name": "low",
         "rawType": "float64",
         "type": "float"
        },
        {
         "name": "close",
         "rawType": "float64",
         "type": "float"
        },
        {
         "name": "volume",
         "rawType": "float64",
         "type": "float"
        },
        {
         "name": "bullish_pin_bar",
         "rawType": "bool",
         "type": "boolean"
        },
        {
         "name": "Weak follow up",
         "rawType": "object",
         "type": "string"
        },
        {
         "name": "Weak Low Tested",
         "rawType": "object",
         "type": "string"
        },
        {
         "name": "bearish_pin_bar",
         "rawType": "bool",
         "type": "boolean"
        },
        {
         "name": "Weak follow down",
         "rawType": "object",
         "type": "string"
        },
        {
         "name": "Weak High Tested",
         "rawType": "object",
         "type": "string"
        }
       ],
       "ref": "c4259dda-7d3b-4a96-bac1-b5d93d37298c",
       "rows": [
        [
         "105114",
         "2025-07-03 19:15:00",
         "2588.6",
         "2590.85",
         "2587.03",
         "2587.13",
         "19852.263",
         "False",
         "False",
         "False",
         "True",
         "True",
         "True"
        ],
        [
         "105115",
         "2025-07-03 19:30:00",
         "2587.13",
         "2587.43",
         "2580.53",
         "2584.6",
         "18774.145",
         "False",
         "False",
         "False",
         "False",
         "False",
         "False"
        ],
        [
         "105116",
         "2025-07-03 19:45:00",
         "2584.59",
         "2586.4",
         "2582.44",
         "2584.63",
         "12267.453",
         "True",
         "False",
         "False",
         "False",
         "False",
         "False"
        ],
        [
         "105117",
         "2025-07-03 20:00:00",
         "2584.63",
         "2592.63",
         "2584.1",
         "2588.91",
         "21872.346",
         "False",
         "False",
         "False",
         "False",
         "False",
         "False"
        ],
        [
         "105118",
         "2025-07-03 20:15:00",
         "2588.91",
         "2595.54",
         "2586.82",
         "2593.61",
         "23658.499",
         "False",
         "False",
         "False",
         "False",
         "False",
         "False"
        ]
       ],
       "shape": {
        "columns": 12,
        "rows": 5
       }
      },
      "text/html": [
       "<div>\n",
       "<style scoped>\n",
       "    .dataframe tbody tr th:only-of-type {\n",
       "        vertical-align: middle;\n",
       "    }\n",
       "\n",
       "    .dataframe tbody tr th {\n",
       "        vertical-align: top;\n",
       "    }\n",
       "\n",
       "    .dataframe thead th {\n",
       "        text-align: right;\n",
       "    }\n",
       "</style>\n",
       "<table border=\"1\" class=\"dataframe\">\n",
       "  <thead>\n",
       "    <tr style=\"text-align: right;\">\n",
       "      <th></th>\n",
       "      <th>timestamp</th>\n",
       "      <th>open</th>\n",
       "      <th>high</th>\n",
       "      <th>low</th>\n",
       "      <th>close</th>\n",
       "      <th>volume</th>\n",
       "      <th>bullish_pin_bar</th>\n",
       "      <th>Weak follow up</th>\n",
       "      <th>Weak Low Tested</th>\n",
       "      <th>bearish_pin_bar</th>\n",
       "      <th>Weak follow down</th>\n",
       "      <th>Weak High Tested</th>\n",
       "    </tr>\n",
       "  </thead>\n",
       "  <tbody>\n",
       "    <tr>\n",
       "      <th>105114</th>\n",
       "      <td>2025-07-03 19:15:00</td>\n",
       "      <td>2588.60</td>\n",
       "      <td>2590.85</td>\n",
       "      <td>2587.03</td>\n",
       "      <td>2587.13</td>\n",
       "      <td>19852.263</td>\n",
       "      <td>False</td>\n",
       "      <td>False</td>\n",
       "      <td>False</td>\n",
       "      <td>True</td>\n",
       "      <td>True</td>\n",
       "      <td>True</td>\n",
       "    </tr>\n",
       "    <tr>\n",
       "      <th>105115</th>\n",
       "      <td>2025-07-03 19:30:00</td>\n",
       "      <td>2587.13</td>\n",
       "      <td>2587.43</td>\n",
       "      <td>2580.53</td>\n",
       "      <td>2584.60</td>\n",
       "      <td>18774.145</td>\n",
       "      <td>False</td>\n",
       "      <td>False</td>\n",
       "      <td>False</td>\n",
       "      <td>False</td>\n",
       "      <td>False</td>\n",
       "      <td>False</td>\n",
       "    </tr>\n",
       "    <tr>\n",
       "      <th>105116</th>\n",
       "      <td>2025-07-03 19:45:00</td>\n",
       "      <td>2584.59</td>\n",
       "      <td>2586.40</td>\n",
       "      <td>2582.44</td>\n",
       "      <td>2584.63</td>\n",
       "      <td>12267.453</td>\n",
       "      <td>True</td>\n",
       "      <td>False</td>\n",
       "      <td>False</td>\n",
       "      <td>False</td>\n",
       "      <td>False</td>\n",
       "      <td>False</td>\n",
       "    </tr>\n",
       "    <tr>\n",
       "      <th>105117</th>\n",
       "      <td>2025-07-03 20:00:00</td>\n",
       "      <td>2584.63</td>\n",
       "      <td>2592.63</td>\n",
       "      <td>2584.10</td>\n",
       "      <td>2588.91</td>\n",
       "      <td>21872.346</td>\n",
       "      <td>False</td>\n",
       "      <td>False</td>\n",
       "      <td>False</td>\n",
       "      <td>False</td>\n",
       "      <td>False</td>\n",
       "      <td>False</td>\n",
       "    </tr>\n",
       "    <tr>\n",
       "      <th>105118</th>\n",
       "      <td>2025-07-03 20:15:00</td>\n",
       "      <td>2588.91</td>\n",
       "      <td>2595.54</td>\n",
       "      <td>2586.82</td>\n",
       "      <td>2593.61</td>\n",
       "      <td>23658.499</td>\n",
       "      <td>False</td>\n",
       "      <td>False</td>\n",
       "      <td>False</td>\n",
       "      <td>False</td>\n",
       "      <td>False</td>\n",
       "      <td>False</td>\n",
       "    </tr>\n",
       "  </tbody>\n",
       "</table>\n",
       "</div>"
      ],
      "text/plain": [
       "                  timestamp     open     high      low    close     volume  \\\n",
       "105114  2025-07-03 19:15:00  2588.60  2590.85  2587.03  2587.13  19852.263   \n",
       "105115  2025-07-03 19:30:00  2587.13  2587.43  2580.53  2584.60  18774.145   \n",
       "105116  2025-07-03 19:45:00  2584.59  2586.40  2582.44  2584.63  12267.453   \n",
       "105117  2025-07-03 20:00:00  2584.63  2592.63  2584.10  2588.91  21872.346   \n",
       "105118  2025-07-03 20:15:00  2588.91  2595.54  2586.82  2593.61  23658.499   \n",
       "\n",
       "        bullish_pin_bar Weak follow up Weak Low Tested  bearish_pin_bar  \\\n",
       "105114            False          False           False             True   \n",
       "105115            False          False           False            False   \n",
       "105116             True          False           False            False   \n",
       "105117            False          False           False            False   \n",
       "105118            False          False           False            False   \n",
       "\n",
       "       Weak follow down Weak High Tested  \n",
       "105114             True             True  \n",
       "105115            False            False  \n",
       "105116            False            False  \n",
       "105117            False            False  \n",
       "105118            False            False  "
      ]
     },
     "execution_count": 226,
     "metadata": {},
     "output_type": "execute_result"
    }
   ],
   "source": [
    "# Checking if highs of weak pin bars got tested\n",
    "highs_tested = ['False']*len(ethusdt_15min_df)\n",
    "for i in range(len(ethusdt_15min_df) - 1):\n",
    "    if(ethusdt_15min_df.loc[i, 'Weak follow down'] == 'True'):\n",
    "        pin_bar_high = ethusdt_15min_df.loc[i, 'high']\n",
    "        for j in range(i+1, len(ethusdt_15min_df)):\n",
    "            if(ethusdt_15min_df.loc[j, 'high'] > pin_bar_high):\n",
    "                highs_tested[i] = 'True'\n",
    "                break\n",
    "ethusdt_15min_df['Weak High Tested'] = highs_tested\n",
    "ethusdt_15min_df.tail()"
   ]
  },
  {
   "cell_type": "code",
   "execution_count": 227,
   "id": "ac6e5722",
   "metadata": {},
   "outputs": [],
   "source": [
    "#Saving the data frame into csv\n",
    "ethusdt_15min_df.to_csv('e_15min_analyzed.csv')"
   ]
  },
  {
   "cell_type": "code",
   "execution_count": 228,
   "id": "f4941e12",
   "metadata": {},
   "outputs": [
    {
     "data": {
      "application/vnd.microsoft.datawrangler.viewer.v0+json": {
       "columns": [
        {
         "name": "index",
         "rawType": "int64",
         "type": "integer"
        },
        {
         "name": "timestamp",
         "rawType": "object",
         "type": "string"
        },
        {
         "name": "open",
         "rawType": "float64",
         "type": "float"
        },
        {
         "name": "high",
         "rawType": "float64",
         "type": "float"
        },
        {
         "name": "low",
         "rawType": "float64",
         "type": "float"
        },
        {
         "name": "close",
         "rawType": "float64",
         "type": "float"
        },
        {
         "name": "volume",
         "rawType": "float64",
         "type": "float"
        }
       ],
       "ref": "41d5fbcb-a9c9-44a1-bcf5-5a98671cbd07",
       "rows": [
        [
         "0",
         "2022-07-04 20:35:00",
         "1118.56",
         "1119.46",
         "1117.58",
         "1118.89",
         "5259.76"
        ],
        [
         "1",
         "2022-07-04 20:40:00",
         "1118.89",
         "1119.43",
         "1117.32",
         "1119.2",
         "7271.598"
        ],
        [
         "2",
         "2022-07-04 20:45:00",
         "1119.19",
         "1122.6",
         "1118.5",
         "1121.56",
         "14192.02"
        ],
        [
         "3",
         "2022-07-04 20:50:00",
         "1121.56",
         "1124.05",
         "1121.54",
         "1122.78",
         "6814.047"
        ],
        [
         "4",
         "2022-07-04 20:55:00",
         "1122.77",
         "1123.0",
         "1120.32",
         "1121.29",
         "6551.292"
        ]
       ],
       "shape": {
        "columns": 6,
        "rows": 5
       }
      },
      "text/html": [
       "<div>\n",
       "<style scoped>\n",
       "    .dataframe tbody tr th:only-of-type {\n",
       "        vertical-align: middle;\n",
       "    }\n",
       "\n",
       "    .dataframe tbody tr th {\n",
       "        vertical-align: top;\n",
       "    }\n",
       "\n",
       "    .dataframe thead th {\n",
       "        text-align: right;\n",
       "    }\n",
       "</style>\n",
       "<table border=\"1\" class=\"dataframe\">\n",
       "  <thead>\n",
       "    <tr style=\"text-align: right;\">\n",
       "      <th></th>\n",
       "      <th>timestamp</th>\n",
       "      <th>open</th>\n",
       "      <th>high</th>\n",
       "      <th>low</th>\n",
       "      <th>close</th>\n",
       "      <th>volume</th>\n",
       "    </tr>\n",
       "  </thead>\n",
       "  <tbody>\n",
       "    <tr>\n",
       "      <th>0</th>\n",
       "      <td>2022-07-04 20:35:00</td>\n",
       "      <td>1118.56</td>\n",
       "      <td>1119.46</td>\n",
       "      <td>1117.58</td>\n",
       "      <td>1118.89</td>\n",
       "      <td>5259.760</td>\n",
       "    </tr>\n",
       "    <tr>\n",
       "      <th>1</th>\n",
       "      <td>2022-07-04 20:40:00</td>\n",
       "      <td>1118.89</td>\n",
       "      <td>1119.43</td>\n",
       "      <td>1117.32</td>\n",
       "      <td>1119.20</td>\n",
       "      <td>7271.598</td>\n",
       "    </tr>\n",
       "    <tr>\n",
       "      <th>2</th>\n",
       "      <td>2022-07-04 20:45:00</td>\n",
       "      <td>1119.19</td>\n",
       "      <td>1122.60</td>\n",
       "      <td>1118.50</td>\n",
       "      <td>1121.56</td>\n",
       "      <td>14192.020</td>\n",
       "    </tr>\n",
       "    <tr>\n",
       "      <th>3</th>\n",
       "      <td>2022-07-04 20:50:00</td>\n",
       "      <td>1121.56</td>\n",
       "      <td>1124.05</td>\n",
       "      <td>1121.54</td>\n",
       "      <td>1122.78</td>\n",
       "      <td>6814.047</td>\n",
       "    </tr>\n",
       "    <tr>\n",
       "      <th>4</th>\n",
       "      <td>2022-07-04 20:55:00</td>\n",
       "      <td>1122.77</td>\n",
       "      <td>1123.00</td>\n",
       "      <td>1120.32</td>\n",
       "      <td>1121.29</td>\n",
       "      <td>6551.292</td>\n",
       "    </tr>\n",
       "  </tbody>\n",
       "</table>\n",
       "</div>"
      ],
      "text/plain": [
       "             timestamp     open     high      low    close     volume\n",
       "0  2022-07-04 20:35:00  1118.56  1119.46  1117.58  1118.89   5259.760\n",
       "1  2022-07-04 20:40:00  1118.89  1119.43  1117.32  1119.20   7271.598\n",
       "2  2022-07-04 20:45:00  1119.19  1122.60  1118.50  1121.56  14192.020\n",
       "3  2022-07-04 20:50:00  1121.56  1124.05  1121.54  1122.78   6814.047\n",
       "4  2022-07-04 20:55:00  1122.77  1123.00  1120.32  1121.29   6551.292"
      ]
     },
     "execution_count": 228,
     "metadata": {},
     "output_type": "execute_result"
    }
   ],
   "source": [
    "#Starting the analysis for 5 minutes in ETHUSDT\n",
    "ethusdt_5min_data = pd.read_csv('ETHUSDT_5min.csv')\n",
    "ethusdt_5min_df = pd.DataFrame(ethusdt_5min_data)\n",
    "ethusdt_5min_df.head()"
   ]
  },
  {
   "cell_type": "code",
   "execution_count": 229,
   "id": "545b4796",
   "metadata": {},
   "outputs": [
    {
     "data": {
      "application/vnd.microsoft.datawrangler.viewer.v0+json": {
       "columns": [
        {
         "name": "index",
         "rawType": "int64",
         "type": "integer"
        },
        {
         "name": "timestamp",
         "rawType": "object",
         "type": "string"
        },
        {
         "name": "open",
         "rawType": "float64",
         "type": "float"
        },
        {
         "name": "high",
         "rawType": "float64",
         "type": "float"
        },
        {
         "name": "low",
         "rawType": "float64",
         "type": "float"
        },
        {
         "name": "close",
         "rawType": "float64",
         "type": "float"
        },
        {
         "name": "volume",
         "rawType": "float64",
         "type": "float"
        },
        {
         "name": "bullish_pin_bar",
         "rawType": "bool",
         "type": "boolean"
        }
       ],
       "ref": "ffa7ea54-7c8a-45f8-8fad-7f959d3f17a8",
       "rows": [
        [
         "0",
         "2022-07-04 20:35:00",
         "1118.56",
         "1119.46",
         "1117.58",
         "1118.89",
         "5259.76",
         "True"
        ],
        [
         "1",
         "2022-07-04 20:40:00",
         "1118.89",
         "1119.43",
         "1117.32",
         "1119.2",
         "7271.598",
         "True"
        ],
        [
         "2",
         "2022-07-04 20:45:00",
         "1119.19",
         "1122.6",
         "1118.5",
         "1121.56",
         "14192.02",
         "False"
        ],
        [
         "3",
         "2022-07-04 20:50:00",
         "1121.56",
         "1124.05",
         "1121.54",
         "1122.78",
         "6814.047",
         "False"
        ],
        [
         "4",
         "2022-07-04 20:55:00",
         "1122.77",
         "1123.0",
         "1120.32",
         "1121.29",
         "6551.292",
         "False"
        ]
       ],
       "shape": {
        "columns": 7,
        "rows": 5
       }
      },
      "text/html": [
       "<div>\n",
       "<style scoped>\n",
       "    .dataframe tbody tr th:only-of-type {\n",
       "        vertical-align: middle;\n",
       "    }\n",
       "\n",
       "    .dataframe tbody tr th {\n",
       "        vertical-align: top;\n",
       "    }\n",
       "\n",
       "    .dataframe thead th {\n",
       "        text-align: right;\n",
       "    }\n",
       "</style>\n",
       "<table border=\"1\" class=\"dataframe\">\n",
       "  <thead>\n",
       "    <tr style=\"text-align: right;\">\n",
       "      <th></th>\n",
       "      <th>timestamp</th>\n",
       "      <th>open</th>\n",
       "      <th>high</th>\n",
       "      <th>low</th>\n",
       "      <th>close</th>\n",
       "      <th>volume</th>\n",
       "      <th>bullish_pin_bar</th>\n",
       "    </tr>\n",
       "  </thead>\n",
       "  <tbody>\n",
       "    <tr>\n",
       "      <th>0</th>\n",
       "      <td>2022-07-04 20:35:00</td>\n",
       "      <td>1118.56</td>\n",
       "      <td>1119.46</td>\n",
       "      <td>1117.58</td>\n",
       "      <td>1118.89</td>\n",
       "      <td>5259.760</td>\n",
       "      <td>True</td>\n",
       "    </tr>\n",
       "    <tr>\n",
       "      <th>1</th>\n",
       "      <td>2022-07-04 20:40:00</td>\n",
       "      <td>1118.89</td>\n",
       "      <td>1119.43</td>\n",
       "      <td>1117.32</td>\n",
       "      <td>1119.20</td>\n",
       "      <td>7271.598</td>\n",
       "      <td>True</td>\n",
       "    </tr>\n",
       "    <tr>\n",
       "      <th>2</th>\n",
       "      <td>2022-07-04 20:45:00</td>\n",
       "      <td>1119.19</td>\n",
       "      <td>1122.60</td>\n",
       "      <td>1118.50</td>\n",
       "      <td>1121.56</td>\n",
       "      <td>14192.020</td>\n",
       "      <td>False</td>\n",
       "    </tr>\n",
       "    <tr>\n",
       "      <th>3</th>\n",
       "      <td>2022-07-04 20:50:00</td>\n",
       "      <td>1121.56</td>\n",
       "      <td>1124.05</td>\n",
       "      <td>1121.54</td>\n",
       "      <td>1122.78</td>\n",
       "      <td>6814.047</td>\n",
       "      <td>False</td>\n",
       "    </tr>\n",
       "    <tr>\n",
       "      <th>4</th>\n",
       "      <td>2022-07-04 20:55:00</td>\n",
       "      <td>1122.77</td>\n",
       "      <td>1123.00</td>\n",
       "      <td>1120.32</td>\n",
       "      <td>1121.29</td>\n",
       "      <td>6551.292</td>\n",
       "      <td>False</td>\n",
       "    </tr>\n",
       "  </tbody>\n",
       "</table>\n",
       "</div>"
      ],
      "text/plain": [
       "             timestamp     open     high      low    close     volume  \\\n",
       "0  2022-07-04 20:35:00  1118.56  1119.46  1117.58  1118.89   5259.760   \n",
       "1  2022-07-04 20:40:00  1118.89  1119.43  1117.32  1119.20   7271.598   \n",
       "2  2022-07-04 20:45:00  1119.19  1122.60  1118.50  1121.56  14192.020   \n",
       "3  2022-07-04 20:50:00  1121.56  1124.05  1121.54  1122.78   6814.047   \n",
       "4  2022-07-04 20:55:00  1122.77  1123.00  1120.32  1121.29   6551.292   \n",
       "\n",
       "   bullish_pin_bar  \n",
       "0             True  \n",
       "1             True  \n",
       "2            False  \n",
       "3            False  \n",
       "4            False  "
      ]
     },
     "execution_count": 229,
     "metadata": {},
     "output_type": "execute_result"
    }
   ],
   "source": [
    "#Getting the weak bullish pin bars\n",
    "ethusdt_5min_df['bullish_pin_bar'] = ethusdt_5min_df.apply(is_bullish_pin_bar, axis=1)\n",
    "ethusdt_5min_df.head()"
   ]
  },
  {
   "cell_type": "code",
   "execution_count": 230,
   "id": "9bd0e29d",
   "metadata": {},
   "outputs": [
    {
     "data": {
      "application/vnd.microsoft.datawrangler.viewer.v0+json": {
       "columns": [
        {
         "name": "index",
         "rawType": "int64",
         "type": "integer"
        },
        {
         "name": "timestamp",
         "rawType": "object",
         "type": "string"
        },
        {
         "name": "open",
         "rawType": "float64",
         "type": "float"
        },
        {
         "name": "high",
         "rawType": "float64",
         "type": "float"
        },
        {
         "name": "low",
         "rawType": "float64",
         "type": "float"
        },
        {
         "name": "close",
         "rawType": "float64",
         "type": "float"
        },
        {
         "name": "volume",
         "rawType": "float64",
         "type": "float"
        },
        {
         "name": "bullish_pin_bar",
         "rawType": "bool",
         "type": "boolean"
        },
        {
         "name": "Weak follow up",
         "rawType": "object",
         "type": "string"
        }
       ],
       "ref": "af0bf6fd-6f74-4333-8569-4ec2729e400b",
       "rows": [
        [
         "315355",
         "2025-07-03 20:10:00",
         "2590.0",
         "2592.63",
         "2587.5",
         "2588.91",
         "11477.755",
         "False",
         "False"
        ],
        [
         "315356",
         "2025-07-03 20:15:00",
         "2588.91",
         "2590.91",
         "2586.82",
         "2590.78",
         "5668.784",
         "True",
         "False"
        ],
        [
         "315357",
         "2025-07-03 20:20:00",
         "2590.77",
         "2592.23",
         "2589.41",
         "2591.36",
         "6041.607",
         "True",
         "False"
        ],
        [
         "315358",
         "2025-07-03 20:25:00",
         "2591.36",
         "2595.54",
         "2591.35",
         "2593.61",
         "11948.108",
         "False",
         "False"
        ],
        [
         "315359",
         "2025-07-03 20:30:00",
         "2593.62",
         "2593.88",
         "2591.42",
         "2591.68",
         "4993.554",
         "False",
         "False"
        ]
       ],
       "shape": {
        "columns": 8,
        "rows": 5
       }
      },
      "text/html": [
       "<div>\n",
       "<style scoped>\n",
       "    .dataframe tbody tr th:only-of-type {\n",
       "        vertical-align: middle;\n",
       "    }\n",
       "\n",
       "    .dataframe tbody tr th {\n",
       "        vertical-align: top;\n",
       "    }\n",
       "\n",
       "    .dataframe thead th {\n",
       "        text-align: right;\n",
       "    }\n",
       "</style>\n",
       "<table border=\"1\" class=\"dataframe\">\n",
       "  <thead>\n",
       "    <tr style=\"text-align: right;\">\n",
       "      <th></th>\n",
       "      <th>timestamp</th>\n",
       "      <th>open</th>\n",
       "      <th>high</th>\n",
       "      <th>low</th>\n",
       "      <th>close</th>\n",
       "      <th>volume</th>\n",
       "      <th>bullish_pin_bar</th>\n",
       "      <th>Weak follow up</th>\n",
       "    </tr>\n",
       "  </thead>\n",
       "  <tbody>\n",
       "    <tr>\n",
       "      <th>315355</th>\n",
       "      <td>2025-07-03 20:10:00</td>\n",
       "      <td>2590.00</td>\n",
       "      <td>2592.63</td>\n",
       "      <td>2587.50</td>\n",
       "      <td>2588.91</td>\n",
       "      <td>11477.755</td>\n",
       "      <td>False</td>\n",
       "      <td>False</td>\n",
       "    </tr>\n",
       "    <tr>\n",
       "      <th>315356</th>\n",
       "      <td>2025-07-03 20:15:00</td>\n",
       "      <td>2588.91</td>\n",
       "      <td>2590.91</td>\n",
       "      <td>2586.82</td>\n",
       "      <td>2590.78</td>\n",
       "      <td>5668.784</td>\n",
       "      <td>True</td>\n",
       "      <td>False</td>\n",
       "    </tr>\n",
       "    <tr>\n",
       "      <th>315357</th>\n",
       "      <td>2025-07-03 20:20:00</td>\n",
       "      <td>2590.77</td>\n",
       "      <td>2592.23</td>\n",
       "      <td>2589.41</td>\n",
       "      <td>2591.36</td>\n",
       "      <td>6041.607</td>\n",
       "      <td>True</td>\n",
       "      <td>False</td>\n",
       "    </tr>\n",
       "    <tr>\n",
       "      <th>315358</th>\n",
       "      <td>2025-07-03 20:25:00</td>\n",
       "      <td>2591.36</td>\n",
       "      <td>2595.54</td>\n",
       "      <td>2591.35</td>\n",
       "      <td>2593.61</td>\n",
       "      <td>11948.108</td>\n",
       "      <td>False</td>\n",
       "      <td>False</td>\n",
       "    </tr>\n",
       "    <tr>\n",
       "      <th>315359</th>\n",
       "      <td>2025-07-03 20:30:00</td>\n",
       "      <td>2593.62</td>\n",
       "      <td>2593.88</td>\n",
       "      <td>2591.42</td>\n",
       "      <td>2591.68</td>\n",
       "      <td>4993.554</td>\n",
       "      <td>False</td>\n",
       "      <td>False</td>\n",
       "    </tr>\n",
       "  </tbody>\n",
       "</table>\n",
       "</div>"
      ],
      "text/plain": [
       "                  timestamp     open     high      low    close     volume  \\\n",
       "315355  2025-07-03 20:10:00  2590.00  2592.63  2587.50  2588.91  11477.755   \n",
       "315356  2025-07-03 20:15:00  2588.91  2590.91  2586.82  2590.78   5668.784   \n",
       "315357  2025-07-03 20:20:00  2590.77  2592.23  2589.41  2591.36   6041.607   \n",
       "315358  2025-07-03 20:25:00  2591.36  2595.54  2591.35  2593.61  11948.108   \n",
       "315359  2025-07-03 20:30:00  2593.62  2593.88  2591.42  2591.68   4993.554   \n",
       "\n",
       "        bullish_pin_bar Weak follow up  \n",
       "315355            False          False  \n",
       "315356             True          False  \n",
       "315357             True          False  \n",
       "315358            False          False  \n",
       "315359            False          False  "
      ]
     },
     "execution_count": 230,
     "metadata": {},
     "output_type": "execute_result"
    }
   ],
   "source": [
    "#Finding the weak follow ups\n",
    "follow_through = []\n",
    "for i in range(len(ethusdt_5min_df) - 1):\n",
    "    if(ethusdt_5min_df.loc[i, 'bullish_pin_bar']):\n",
    "        pin_bar_volume = ethusdt_5min_df.loc[i, 'volume']\n",
    "        next_bar_volume = ethusdt_5min_df.loc[i+1, 'volume']\n",
    "        pin_bar_move = ethusdt_5min_df.loc[i,'close'] - ethusdt_5min_df.loc[i,'open']\n",
    "        next_bar_move = ethusdt_5min_df.loc[i+1,'close'] - ethusdt_5min_df.loc[i+1,'open']\n",
    "        if(next_bar_move > pin_bar_move and next_bar_volume < pin_bar_volume):\n",
    "            follow_through.append('True')\n",
    "        else:\n",
    "            follow_through.append('False')\n",
    "    else:\n",
    "        follow_through.append('False')\n",
    "follow_through.append('False')\n",
    "ethusdt_5min_df['Weak follow up'] = follow_through\n",
    "ethusdt_5min_df.tail()"
   ]
  },
  {
   "cell_type": "code",
   "execution_count": 231,
   "id": "6e785401",
   "metadata": {},
   "outputs": [
    {
     "data": {
      "application/vnd.microsoft.datawrangler.viewer.v0+json": {
       "columns": [
        {
         "name": "index",
         "rawType": "int64",
         "type": "integer"
        },
        {
         "name": "timestamp",
         "rawType": "object",
         "type": "string"
        },
        {
         "name": "open",
         "rawType": "float64",
         "type": "float"
        },
        {
         "name": "high",
         "rawType": "float64",
         "type": "float"
        },
        {
         "name": "low",
         "rawType": "float64",
         "type": "float"
        },
        {
         "name": "close",
         "rawType": "float64",
         "type": "float"
        },
        {
         "name": "volume",
         "rawType": "float64",
         "type": "float"
        },
        {
         "name": "bullish_pin_bar",
         "rawType": "bool",
         "type": "boolean"
        },
        {
         "name": "Weak follow up",
         "rawType": "object",
         "type": "string"
        },
        {
         "name": "Weak Low Tested",
         "rawType": "object",
         "type": "string"
        }
       ],
       "ref": "d73e3b6a-d915-4f28-b3b1-03bbff1a7a5b",
       "rows": [
        [
         "315355",
         "2025-07-03 20:10:00",
         "2590.0",
         "2592.63",
         "2587.5",
         "2588.91",
         "11477.755",
         "False",
         "False",
         "False"
        ],
        [
         "315356",
         "2025-07-03 20:15:00",
         "2588.91",
         "2590.91",
         "2586.82",
         "2590.78",
         "5668.784",
         "True",
         "False",
         "False"
        ],
        [
         "315357",
         "2025-07-03 20:20:00",
         "2590.77",
         "2592.23",
         "2589.41",
         "2591.36",
         "6041.607",
         "True",
         "False",
         "False"
        ],
        [
         "315358",
         "2025-07-03 20:25:00",
         "2591.36",
         "2595.54",
         "2591.35",
         "2593.61",
         "11948.108",
         "False",
         "False",
         "False"
        ],
        [
         "315359",
         "2025-07-03 20:30:00",
         "2593.62",
         "2593.88",
         "2591.42",
         "2591.68",
         "4993.554",
         "False",
         "False",
         "False"
        ]
       ],
       "shape": {
        "columns": 9,
        "rows": 5
       }
      },
      "text/html": [
       "<div>\n",
       "<style scoped>\n",
       "    .dataframe tbody tr th:only-of-type {\n",
       "        vertical-align: middle;\n",
       "    }\n",
       "\n",
       "    .dataframe tbody tr th {\n",
       "        vertical-align: top;\n",
       "    }\n",
       "\n",
       "    .dataframe thead th {\n",
       "        text-align: right;\n",
       "    }\n",
       "</style>\n",
       "<table border=\"1\" class=\"dataframe\">\n",
       "  <thead>\n",
       "    <tr style=\"text-align: right;\">\n",
       "      <th></th>\n",
       "      <th>timestamp</th>\n",
       "      <th>open</th>\n",
       "      <th>high</th>\n",
       "      <th>low</th>\n",
       "      <th>close</th>\n",
       "      <th>volume</th>\n",
       "      <th>bullish_pin_bar</th>\n",
       "      <th>Weak follow up</th>\n",
       "      <th>Weak Low Tested</th>\n",
       "    </tr>\n",
       "  </thead>\n",
       "  <tbody>\n",
       "    <tr>\n",
       "      <th>315355</th>\n",
       "      <td>2025-07-03 20:10:00</td>\n",
       "      <td>2590.00</td>\n",
       "      <td>2592.63</td>\n",
       "      <td>2587.50</td>\n",
       "      <td>2588.91</td>\n",
       "      <td>11477.755</td>\n",
       "      <td>False</td>\n",
       "      <td>False</td>\n",
       "      <td>False</td>\n",
       "    </tr>\n",
       "    <tr>\n",
       "      <th>315356</th>\n",
       "      <td>2025-07-03 20:15:00</td>\n",
       "      <td>2588.91</td>\n",
       "      <td>2590.91</td>\n",
       "      <td>2586.82</td>\n",
       "      <td>2590.78</td>\n",
       "      <td>5668.784</td>\n",
       "      <td>True</td>\n",
       "      <td>False</td>\n",
       "      <td>False</td>\n",
       "    </tr>\n",
       "    <tr>\n",
       "      <th>315357</th>\n",
       "      <td>2025-07-03 20:20:00</td>\n",
       "      <td>2590.77</td>\n",
       "      <td>2592.23</td>\n",
       "      <td>2589.41</td>\n",
       "      <td>2591.36</td>\n",
       "      <td>6041.607</td>\n",
       "      <td>True</td>\n",
       "      <td>False</td>\n",
       "      <td>False</td>\n",
       "    </tr>\n",
       "    <tr>\n",
       "      <th>315358</th>\n",
       "      <td>2025-07-03 20:25:00</td>\n",
       "      <td>2591.36</td>\n",
       "      <td>2595.54</td>\n",
       "      <td>2591.35</td>\n",
       "      <td>2593.61</td>\n",
       "      <td>11948.108</td>\n",
       "      <td>False</td>\n",
       "      <td>False</td>\n",
       "      <td>False</td>\n",
       "    </tr>\n",
       "    <tr>\n",
       "      <th>315359</th>\n",
       "      <td>2025-07-03 20:30:00</td>\n",
       "      <td>2593.62</td>\n",
       "      <td>2593.88</td>\n",
       "      <td>2591.42</td>\n",
       "      <td>2591.68</td>\n",
       "      <td>4993.554</td>\n",
       "      <td>False</td>\n",
       "      <td>False</td>\n",
       "      <td>False</td>\n",
       "    </tr>\n",
       "  </tbody>\n",
       "</table>\n",
       "</div>"
      ],
      "text/plain": [
       "                  timestamp     open     high      low    close     volume  \\\n",
       "315355  2025-07-03 20:10:00  2590.00  2592.63  2587.50  2588.91  11477.755   \n",
       "315356  2025-07-03 20:15:00  2588.91  2590.91  2586.82  2590.78   5668.784   \n",
       "315357  2025-07-03 20:20:00  2590.77  2592.23  2589.41  2591.36   6041.607   \n",
       "315358  2025-07-03 20:25:00  2591.36  2595.54  2591.35  2593.61  11948.108   \n",
       "315359  2025-07-03 20:30:00  2593.62  2593.88  2591.42  2591.68   4993.554   \n",
       "\n",
       "        bullish_pin_bar Weak follow up Weak Low Tested  \n",
       "315355            False          False           False  \n",
       "315356             True          False           False  \n",
       "315357             True          False           False  \n",
       "315358            False          False           False  \n",
       "315359            False          False           False  "
      ]
     },
     "execution_count": 231,
     "metadata": {},
     "output_type": "execute_result"
    }
   ],
   "source": [
    "# Checking if lows of weak pin bars got tested\n",
    "lows_tested = ['False']*len(ethusdt_5min_df)\n",
    "for i in range(len(ethusdt_5min_df) - 1):\n",
    "    if(ethusdt_5min_df.loc[i, 'Weak follow up'] == 'True'):\n",
    "        pin_bar_low = ethusdt_5min_df.loc[i, 'low']\n",
    "        for j in range(i+1, len(ethusdt_5min_df)):\n",
    "            if(ethusdt_5min_df.loc[j, 'low'] < pin_bar_low):\n",
    "                lows_tested[i] = 'True'\n",
    "                break\n",
    "ethusdt_5min_df['Weak Low Tested'] = lows_tested\n",
    "ethusdt_5min_df.tail()"
   ]
  },
  {
   "cell_type": "code",
   "execution_count": 232,
   "id": "6639ade7",
   "metadata": {},
   "outputs": [
    {
     "data": {
      "application/vnd.microsoft.datawrangler.viewer.v0+json": {
       "columns": [
        {
         "name": "index",
         "rawType": "int64",
         "type": "integer"
        },
        {
         "name": "timestamp",
         "rawType": "object",
         "type": "string"
        },
        {
         "name": "open",
         "rawType": "float64",
         "type": "float"
        },
        {
         "name": "high",
         "rawType": "float64",
         "type": "float"
        },
        {
         "name": "low",
         "rawType": "float64",
         "type": "float"
        },
        {
         "name": "close",
         "rawType": "float64",
         "type": "float"
        },
        {
         "name": "volume",
         "rawType": "float64",
         "type": "float"
        },
        {
         "name": "bullish_pin_bar",
         "rawType": "bool",
         "type": "boolean"
        },
        {
         "name": "Weak follow up",
         "rawType": "object",
         "type": "string"
        },
        {
         "name": "Weak Low Tested",
         "rawType": "object",
         "type": "string"
        },
        {
         "name": "bearish_pin_bar",
         "rawType": "bool",
         "type": "boolean"
        }
       ],
       "ref": "321789b5-8530-4fa7-a9e2-77c2a4340743",
       "rows": [
        [
         "0",
         "2022-07-04 20:35:00",
         "1118.56",
         "1119.46",
         "1117.58",
         "1118.89",
         "5259.76",
         "True",
         "False",
         "False",
         "False"
        ],
        [
         "1",
         "2022-07-04 20:40:00",
         "1118.89",
         "1119.43",
         "1117.32",
         "1119.2",
         "7271.598",
         "True",
         "False",
         "False",
         "False"
        ],
        [
         "2",
         "2022-07-04 20:45:00",
         "1119.19",
         "1122.6",
         "1118.5",
         "1121.56",
         "14192.02",
         "False",
         "False",
         "False",
         "False"
        ],
        [
         "3",
         "2022-07-04 20:50:00",
         "1121.56",
         "1124.05",
         "1121.54",
         "1122.78",
         "6814.047",
         "False",
         "False",
         "False",
         "False"
        ],
        [
         "4",
         "2022-07-04 20:55:00",
         "1122.77",
         "1123.0",
         "1120.32",
         "1121.29",
         "6551.292",
         "False",
         "False",
         "False",
         "False"
        ]
       ],
       "shape": {
        "columns": 10,
        "rows": 5
       }
      },
      "text/html": [
       "<div>\n",
       "<style scoped>\n",
       "    .dataframe tbody tr th:only-of-type {\n",
       "        vertical-align: middle;\n",
       "    }\n",
       "\n",
       "    .dataframe tbody tr th {\n",
       "        vertical-align: top;\n",
       "    }\n",
       "\n",
       "    .dataframe thead th {\n",
       "        text-align: right;\n",
       "    }\n",
       "</style>\n",
       "<table border=\"1\" class=\"dataframe\">\n",
       "  <thead>\n",
       "    <tr style=\"text-align: right;\">\n",
       "      <th></th>\n",
       "      <th>timestamp</th>\n",
       "      <th>open</th>\n",
       "      <th>high</th>\n",
       "      <th>low</th>\n",
       "      <th>close</th>\n",
       "      <th>volume</th>\n",
       "      <th>bullish_pin_bar</th>\n",
       "      <th>Weak follow up</th>\n",
       "      <th>Weak Low Tested</th>\n",
       "      <th>bearish_pin_bar</th>\n",
       "    </tr>\n",
       "  </thead>\n",
       "  <tbody>\n",
       "    <tr>\n",
       "      <th>0</th>\n",
       "      <td>2022-07-04 20:35:00</td>\n",
       "      <td>1118.56</td>\n",
       "      <td>1119.46</td>\n",
       "      <td>1117.58</td>\n",
       "      <td>1118.89</td>\n",
       "      <td>5259.760</td>\n",
       "      <td>True</td>\n",
       "      <td>False</td>\n",
       "      <td>False</td>\n",
       "      <td>False</td>\n",
       "    </tr>\n",
       "    <tr>\n",
       "      <th>1</th>\n",
       "      <td>2022-07-04 20:40:00</td>\n",
       "      <td>1118.89</td>\n",
       "      <td>1119.43</td>\n",
       "      <td>1117.32</td>\n",
       "      <td>1119.20</td>\n",
       "      <td>7271.598</td>\n",
       "      <td>True</td>\n",
       "      <td>False</td>\n",
       "      <td>False</td>\n",
       "      <td>False</td>\n",
       "    </tr>\n",
       "    <tr>\n",
       "      <th>2</th>\n",
       "      <td>2022-07-04 20:45:00</td>\n",
       "      <td>1119.19</td>\n",
       "      <td>1122.60</td>\n",
       "      <td>1118.50</td>\n",
       "      <td>1121.56</td>\n",
       "      <td>14192.020</td>\n",
       "      <td>False</td>\n",
       "      <td>False</td>\n",
       "      <td>False</td>\n",
       "      <td>False</td>\n",
       "    </tr>\n",
       "    <tr>\n",
       "      <th>3</th>\n",
       "      <td>2022-07-04 20:50:00</td>\n",
       "      <td>1121.56</td>\n",
       "      <td>1124.05</td>\n",
       "      <td>1121.54</td>\n",
       "      <td>1122.78</td>\n",
       "      <td>6814.047</td>\n",
       "      <td>False</td>\n",
       "      <td>False</td>\n",
       "      <td>False</td>\n",
       "      <td>False</td>\n",
       "    </tr>\n",
       "    <tr>\n",
       "      <th>4</th>\n",
       "      <td>2022-07-04 20:55:00</td>\n",
       "      <td>1122.77</td>\n",
       "      <td>1123.00</td>\n",
       "      <td>1120.32</td>\n",
       "      <td>1121.29</td>\n",
       "      <td>6551.292</td>\n",
       "      <td>False</td>\n",
       "      <td>False</td>\n",
       "      <td>False</td>\n",
       "      <td>False</td>\n",
       "    </tr>\n",
       "  </tbody>\n",
       "</table>\n",
       "</div>"
      ],
      "text/plain": [
       "             timestamp     open     high      low    close     volume  \\\n",
       "0  2022-07-04 20:35:00  1118.56  1119.46  1117.58  1118.89   5259.760   \n",
       "1  2022-07-04 20:40:00  1118.89  1119.43  1117.32  1119.20   7271.598   \n",
       "2  2022-07-04 20:45:00  1119.19  1122.60  1118.50  1121.56  14192.020   \n",
       "3  2022-07-04 20:50:00  1121.56  1124.05  1121.54  1122.78   6814.047   \n",
       "4  2022-07-04 20:55:00  1122.77  1123.00  1120.32  1121.29   6551.292   \n",
       "\n",
       "   bullish_pin_bar Weak follow up Weak Low Tested  bearish_pin_bar  \n",
       "0             True          False           False            False  \n",
       "1             True          False           False            False  \n",
       "2            False          False           False            False  \n",
       "3            False          False           False            False  \n",
       "4            False          False           False            False  "
      ]
     },
     "execution_count": 232,
     "metadata": {},
     "output_type": "execute_result"
    }
   ],
   "source": [
    "#Getting bearish pin bars\n",
    "ethusdt_5min_df['bearish_pin_bar'] = ethusdt_5min_df.apply(is_bearish_pin_bar, axis=1)\n",
    "ethusdt_5min_df.head()"
   ]
  },
  {
   "cell_type": "code",
   "execution_count": 233,
   "id": "64b203a4",
   "metadata": {},
   "outputs": [
    {
     "data": {
      "application/vnd.microsoft.datawrangler.viewer.v0+json": {
       "columns": [
        {
         "name": "index",
         "rawType": "int64",
         "type": "integer"
        },
        {
         "name": "timestamp",
         "rawType": "object",
         "type": "string"
        },
        {
         "name": "open",
         "rawType": "float64",
         "type": "float"
        },
        {
         "name": "high",
         "rawType": "float64",
         "type": "float"
        },
        {
         "name": "low",
         "rawType": "float64",
         "type": "float"
        },
        {
         "name": "close",
         "rawType": "float64",
         "type": "float"
        },
        {
         "name": "volume",
         "rawType": "float64",
         "type": "float"
        },
        {
         "name": "bullish_pin_bar",
         "rawType": "bool",
         "type": "boolean"
        },
        {
         "name": "Weak follow up",
         "rawType": "object",
         "type": "string"
        },
        {
         "name": "Weak Low Tested",
         "rawType": "object",
         "type": "string"
        },
        {
         "name": "bearish_pin_bar",
         "rawType": "bool",
         "type": "boolean"
        },
        {
         "name": "Weak follow down",
         "rawType": "object",
         "type": "string"
        }
       ],
       "ref": "027b53c8-b44a-4554-bdf8-a9df87a59a5c",
       "rows": [
        [
         "315355",
         "2025-07-03 20:10:00",
         "2590.0",
         "2592.63",
         "2587.5",
         "2588.91",
         "11477.755",
         "False",
         "False",
         "False",
         "True",
         "False"
        ],
        [
         "315356",
         "2025-07-03 20:15:00",
         "2588.91",
         "2590.91",
         "2586.82",
         "2590.78",
         "5668.784",
         "True",
         "False",
         "False",
         "False",
         "False"
        ],
        [
         "315357",
         "2025-07-03 20:20:00",
         "2590.77",
         "2592.23",
         "2589.41",
         "2591.36",
         "6041.607",
         "True",
         "False",
         "False",
         "False",
         "False"
        ],
        [
         "315358",
         "2025-07-03 20:25:00",
         "2591.36",
         "2595.54",
         "2591.35",
         "2593.61",
         "11948.108",
         "False",
         "False",
         "False",
         "False",
         "False"
        ],
        [
         "315359",
         "2025-07-03 20:30:00",
         "2593.62",
         "2593.88",
         "2591.42",
         "2591.68",
         "4993.554",
         "False",
         "False",
         "False",
         "False",
         "False"
        ]
       ],
       "shape": {
        "columns": 11,
        "rows": 5
       }
      },
      "text/html": [
       "<div>\n",
       "<style scoped>\n",
       "    .dataframe tbody tr th:only-of-type {\n",
       "        vertical-align: middle;\n",
       "    }\n",
       "\n",
       "    .dataframe tbody tr th {\n",
       "        vertical-align: top;\n",
       "    }\n",
       "\n",
       "    .dataframe thead th {\n",
       "        text-align: right;\n",
       "    }\n",
       "</style>\n",
       "<table border=\"1\" class=\"dataframe\">\n",
       "  <thead>\n",
       "    <tr style=\"text-align: right;\">\n",
       "      <th></th>\n",
       "      <th>timestamp</th>\n",
       "      <th>open</th>\n",
       "      <th>high</th>\n",
       "      <th>low</th>\n",
       "      <th>close</th>\n",
       "      <th>volume</th>\n",
       "      <th>bullish_pin_bar</th>\n",
       "      <th>Weak follow up</th>\n",
       "      <th>Weak Low Tested</th>\n",
       "      <th>bearish_pin_bar</th>\n",
       "      <th>Weak follow down</th>\n",
       "    </tr>\n",
       "  </thead>\n",
       "  <tbody>\n",
       "    <tr>\n",
       "      <th>315355</th>\n",
       "      <td>2025-07-03 20:10:00</td>\n",
       "      <td>2590.00</td>\n",
       "      <td>2592.63</td>\n",
       "      <td>2587.50</td>\n",
       "      <td>2588.91</td>\n",
       "      <td>11477.755</td>\n",
       "      <td>False</td>\n",
       "      <td>False</td>\n",
       "      <td>False</td>\n",
       "      <td>True</td>\n",
       "      <td>False</td>\n",
       "    </tr>\n",
       "    <tr>\n",
       "      <th>315356</th>\n",
       "      <td>2025-07-03 20:15:00</td>\n",
       "      <td>2588.91</td>\n",
       "      <td>2590.91</td>\n",
       "      <td>2586.82</td>\n",
       "      <td>2590.78</td>\n",
       "      <td>5668.784</td>\n",
       "      <td>True</td>\n",
       "      <td>False</td>\n",
       "      <td>False</td>\n",
       "      <td>False</td>\n",
       "      <td>False</td>\n",
       "    </tr>\n",
       "    <tr>\n",
       "      <th>315357</th>\n",
       "      <td>2025-07-03 20:20:00</td>\n",
       "      <td>2590.77</td>\n",
       "      <td>2592.23</td>\n",
       "      <td>2589.41</td>\n",
       "      <td>2591.36</td>\n",
       "      <td>6041.607</td>\n",
       "      <td>True</td>\n",
       "      <td>False</td>\n",
       "      <td>False</td>\n",
       "      <td>False</td>\n",
       "      <td>False</td>\n",
       "    </tr>\n",
       "    <tr>\n",
       "      <th>315358</th>\n",
       "      <td>2025-07-03 20:25:00</td>\n",
       "      <td>2591.36</td>\n",
       "      <td>2595.54</td>\n",
       "      <td>2591.35</td>\n",
       "      <td>2593.61</td>\n",
       "      <td>11948.108</td>\n",
       "      <td>False</td>\n",
       "      <td>False</td>\n",
       "      <td>False</td>\n",
       "      <td>False</td>\n",
       "      <td>False</td>\n",
       "    </tr>\n",
       "    <tr>\n",
       "      <th>315359</th>\n",
       "      <td>2025-07-03 20:30:00</td>\n",
       "      <td>2593.62</td>\n",
       "      <td>2593.88</td>\n",
       "      <td>2591.42</td>\n",
       "      <td>2591.68</td>\n",
       "      <td>4993.554</td>\n",
       "      <td>False</td>\n",
       "      <td>False</td>\n",
       "      <td>False</td>\n",
       "      <td>False</td>\n",
       "      <td>False</td>\n",
       "    </tr>\n",
       "  </tbody>\n",
       "</table>\n",
       "</div>"
      ],
      "text/plain": [
       "                  timestamp     open     high      low    close     volume  \\\n",
       "315355  2025-07-03 20:10:00  2590.00  2592.63  2587.50  2588.91  11477.755   \n",
       "315356  2025-07-03 20:15:00  2588.91  2590.91  2586.82  2590.78   5668.784   \n",
       "315357  2025-07-03 20:20:00  2590.77  2592.23  2589.41  2591.36   6041.607   \n",
       "315358  2025-07-03 20:25:00  2591.36  2595.54  2591.35  2593.61  11948.108   \n",
       "315359  2025-07-03 20:30:00  2593.62  2593.88  2591.42  2591.68   4993.554   \n",
       "\n",
       "        bullish_pin_bar Weak follow up Weak Low Tested  bearish_pin_bar  \\\n",
       "315355            False          False           False             True   \n",
       "315356             True          False           False            False   \n",
       "315357             True          False           False            False   \n",
       "315358            False          False           False            False   \n",
       "315359            False          False           False            False   \n",
       "\n",
       "       Weak follow down  \n",
       "315355            False  \n",
       "315356            False  \n",
       "315357            False  \n",
       "315358            False  \n",
       "315359            False  "
      ]
     },
     "execution_count": 233,
     "metadata": {},
     "output_type": "execute_result"
    }
   ],
   "source": [
    "#Checking for weak follow down\n",
    "follow_through = []\n",
    "for i in range(len(ethusdt_5min_df) - 1):\n",
    "    if(ethusdt_5min_df.loc[i, 'bearish_pin_bar']):\n",
    "        pin_bar_volume = ethusdt_5min_df.loc[i, 'volume']\n",
    "        next_bar_volume = ethusdt_5min_df.loc[i+1, 'volume']\n",
    "        pin_bar_move = ethusdt_5min_df.loc[i,'open'] - ethusdt_5min_df.loc[i,'close']\n",
    "        next_bar_move = ethusdt_5min_df.loc[i+1,'open'] - ethusdt_5min_df.loc[i+1,'close']\n",
    "        if(next_bar_move > pin_bar_move and next_bar_volume < pin_bar_volume):\n",
    "            follow_through.append('True')\n",
    "        else:\n",
    "            follow_through.append('False')\n",
    "    else:\n",
    "        follow_through.append('False')\n",
    "follow_through.append('False')\n",
    "ethusdt_5min_df['Weak follow down'] = follow_through\n",
    "ethusdt_5min_df.tail()"
   ]
  },
  {
   "cell_type": "code",
   "execution_count": 234,
   "id": "2b8b4c0e",
   "metadata": {},
   "outputs": [
    {
     "data": {
      "application/vnd.microsoft.datawrangler.viewer.v0+json": {
       "columns": [
        {
         "name": "index",
         "rawType": "int64",
         "type": "integer"
        },
        {
         "name": "timestamp",
         "rawType": "object",
         "type": "string"
        },
        {
         "name": "open",
         "rawType": "float64",
         "type": "float"
        },
        {
         "name": "high",
         "rawType": "float64",
         "type": "float"
        },
        {
         "name": "low",
         "rawType": "float64",
         "type": "float"
        },
        {
         "name": "close",
         "rawType": "float64",
         "type": "float"
        },
        {
         "name": "volume",
         "rawType": "float64",
         "type": "float"
        },
        {
         "name": "bullish_pin_bar",
         "rawType": "bool",
         "type": "boolean"
        },
        {
         "name": "Weak follow up",
         "rawType": "object",
         "type": "string"
        },
        {
         "name": "Weak Low Tested",
         "rawType": "object",
         "type": "string"
        },
        {
         "name": "bearish_pin_bar",
         "rawType": "bool",
         "type": "boolean"
        },
        {
         "name": "Weak follow down",
         "rawType": "object",
         "type": "string"
        },
        {
         "name": "Weak High Tested",
         "rawType": "object",
         "type": "string"
        }
       ],
       "ref": "27d76bd2-29e7-44d9-92a2-d87fdcee163a",
       "rows": [
        [
         "315355",
         "2025-07-03 20:10:00",
         "2590.0",
         "2592.63",
         "2587.5",
         "2588.91",
         "11477.755",
         "False",
         "False",
         "False",
         "True",
         "False",
         "False"
        ],
        [
         "315356",
         "2025-07-03 20:15:00",
         "2588.91",
         "2590.91",
         "2586.82",
         "2590.78",
         "5668.784",
         "True",
         "False",
         "False",
         "False",
         "False",
         "False"
        ],
        [
         "315357",
         "2025-07-03 20:20:00",
         "2590.77",
         "2592.23",
         "2589.41",
         "2591.36",
         "6041.607",
         "True",
         "False",
         "False",
         "False",
         "False",
         "False"
        ],
        [
         "315358",
         "2025-07-03 20:25:00",
         "2591.36",
         "2595.54",
         "2591.35",
         "2593.61",
         "11948.108",
         "False",
         "False",
         "False",
         "False",
         "False",
         "False"
        ],
        [
         "315359",
         "2025-07-03 20:30:00",
         "2593.62",
         "2593.88",
         "2591.42",
         "2591.68",
         "4993.554",
         "False",
         "False",
         "False",
         "False",
         "False",
         "False"
        ]
       ],
       "shape": {
        "columns": 12,
        "rows": 5
       }
      },
      "text/html": [
       "<div>\n",
       "<style scoped>\n",
       "    .dataframe tbody tr th:only-of-type {\n",
       "        vertical-align: middle;\n",
       "    }\n",
       "\n",
       "    .dataframe tbody tr th {\n",
       "        vertical-align: top;\n",
       "    }\n",
       "\n",
       "    .dataframe thead th {\n",
       "        text-align: right;\n",
       "    }\n",
       "</style>\n",
       "<table border=\"1\" class=\"dataframe\">\n",
       "  <thead>\n",
       "    <tr style=\"text-align: right;\">\n",
       "      <th></th>\n",
       "      <th>timestamp</th>\n",
       "      <th>open</th>\n",
       "      <th>high</th>\n",
       "      <th>low</th>\n",
       "      <th>close</th>\n",
       "      <th>volume</th>\n",
       "      <th>bullish_pin_bar</th>\n",
       "      <th>Weak follow up</th>\n",
       "      <th>Weak Low Tested</th>\n",
       "      <th>bearish_pin_bar</th>\n",
       "      <th>Weak follow down</th>\n",
       "      <th>Weak High Tested</th>\n",
       "    </tr>\n",
       "  </thead>\n",
       "  <tbody>\n",
       "    <tr>\n",
       "      <th>315355</th>\n",
       "      <td>2025-07-03 20:10:00</td>\n",
       "      <td>2590.00</td>\n",
       "      <td>2592.63</td>\n",
       "      <td>2587.50</td>\n",
       "      <td>2588.91</td>\n",
       "      <td>11477.755</td>\n",
       "      <td>False</td>\n",
       "      <td>False</td>\n",
       "      <td>False</td>\n",
       "      <td>True</td>\n",
       "      <td>False</td>\n",
       "      <td>False</td>\n",
       "    </tr>\n",
       "    <tr>\n",
       "      <th>315356</th>\n",
       "      <td>2025-07-03 20:15:00</td>\n",
       "      <td>2588.91</td>\n",
       "      <td>2590.91</td>\n",
       "      <td>2586.82</td>\n",
       "      <td>2590.78</td>\n",
       "      <td>5668.784</td>\n",
       "      <td>True</td>\n",
       "      <td>False</td>\n",
       "      <td>False</td>\n",
       "      <td>False</td>\n",
       "      <td>False</td>\n",
       "      <td>False</td>\n",
       "    </tr>\n",
       "    <tr>\n",
       "      <th>315357</th>\n",
       "      <td>2025-07-03 20:20:00</td>\n",
       "      <td>2590.77</td>\n",
       "      <td>2592.23</td>\n",
       "      <td>2589.41</td>\n",
       "      <td>2591.36</td>\n",
       "      <td>6041.607</td>\n",
       "      <td>True</td>\n",
       "      <td>False</td>\n",
       "      <td>False</td>\n",
       "      <td>False</td>\n",
       "      <td>False</td>\n",
       "      <td>False</td>\n",
       "    </tr>\n",
       "    <tr>\n",
       "      <th>315358</th>\n",
       "      <td>2025-07-03 20:25:00</td>\n",
       "      <td>2591.36</td>\n",
       "      <td>2595.54</td>\n",
       "      <td>2591.35</td>\n",
       "      <td>2593.61</td>\n",
       "      <td>11948.108</td>\n",
       "      <td>False</td>\n",
       "      <td>False</td>\n",
       "      <td>False</td>\n",
       "      <td>False</td>\n",
       "      <td>False</td>\n",
       "      <td>False</td>\n",
       "    </tr>\n",
       "    <tr>\n",
       "      <th>315359</th>\n",
       "      <td>2025-07-03 20:30:00</td>\n",
       "      <td>2593.62</td>\n",
       "      <td>2593.88</td>\n",
       "      <td>2591.42</td>\n",
       "      <td>2591.68</td>\n",
       "      <td>4993.554</td>\n",
       "      <td>False</td>\n",
       "      <td>False</td>\n",
       "      <td>False</td>\n",
       "      <td>False</td>\n",
       "      <td>False</td>\n",
       "      <td>False</td>\n",
       "    </tr>\n",
       "  </tbody>\n",
       "</table>\n",
       "</div>"
      ],
      "text/plain": [
       "                  timestamp     open     high      low    close     volume  \\\n",
       "315355  2025-07-03 20:10:00  2590.00  2592.63  2587.50  2588.91  11477.755   \n",
       "315356  2025-07-03 20:15:00  2588.91  2590.91  2586.82  2590.78   5668.784   \n",
       "315357  2025-07-03 20:20:00  2590.77  2592.23  2589.41  2591.36   6041.607   \n",
       "315358  2025-07-03 20:25:00  2591.36  2595.54  2591.35  2593.61  11948.108   \n",
       "315359  2025-07-03 20:30:00  2593.62  2593.88  2591.42  2591.68   4993.554   \n",
       "\n",
       "        bullish_pin_bar Weak follow up Weak Low Tested  bearish_pin_bar  \\\n",
       "315355            False          False           False             True   \n",
       "315356             True          False           False            False   \n",
       "315357             True          False           False            False   \n",
       "315358            False          False           False            False   \n",
       "315359            False          False           False            False   \n",
       "\n",
       "       Weak follow down Weak High Tested  \n",
       "315355            False            False  \n",
       "315356            False            False  \n",
       "315357            False            False  \n",
       "315358            False            False  \n",
       "315359            False            False  "
      ]
     },
     "execution_count": 234,
     "metadata": {},
     "output_type": "execute_result"
    }
   ],
   "source": [
    "# Checking if highs of weak pin bars got tested\n",
    "highs_tested = ['False']*len(ethusdt_5min_df)\n",
    "for i in range(len(ethusdt_5min_df) - 1):\n",
    "    if(ethusdt_5min_df.loc[i, 'Weak follow down'] == 'True'):\n",
    "        pin_bar_high = ethusdt_5min_df.loc[i, 'high']\n",
    "        for j in range(i+1, len(ethusdt_5min_df)):\n",
    "            if(ethusdt_5min_df.loc[j, 'high'] > pin_bar_high):\n",
    "                highs_tested[i] = 'True'\n",
    "                break\n",
    "ethusdt_5min_df['Weak High Tested'] = highs_tested\n",
    "ethusdt_5min_df.tail()"
   ]
  },
  {
   "cell_type": "code",
   "execution_count": 235,
   "id": "d07e2739",
   "metadata": {},
   "outputs": [],
   "source": [
    "#Saving the data frame into csv\n",
    "ethusdt_5min_df.to_csv('e_5min_analyzed.csv')"
   ]
  },
  {
   "cell_type": "code",
   "execution_count": 236,
   "id": "4190efd9",
   "metadata": {},
   "outputs": [
    {
     "data": {
      "application/vnd.microsoft.datawrangler.viewer.v0+json": {
       "columns": [
        {
         "name": "index",
         "rawType": "int64",
         "type": "integer"
        },
        {
         "name": "timestamp",
         "rawType": "object",
         "type": "string"
        },
        {
         "name": "open",
         "rawType": "float64",
         "type": "float"
        },
        {
         "name": "high",
         "rawType": "float64",
         "type": "float"
        },
        {
         "name": "low",
         "rawType": "float64",
         "type": "float"
        },
        {
         "name": "close",
         "rawType": "float64",
         "type": "float"
        },
        {
         "name": "volume",
         "rawType": "float64",
         "type": "float"
        }
       ],
       "ref": "86aa5be5-4e82-47fb-b556-31a94f55760c",
       "rows": [
        [
         "0",
         "2022-07-04 20:30:00",
         "1119.96",
         "1120.08",
         "1117.43",
         "1118.92",
         "5457.249"
        ],
        [
         "1",
         "2022-07-04 20:33:00",
         "1118.92",
         "1119.27",
         "1118.26",
         "1118.44",
         "2651.778"
        ],
        [
         "2",
         "2022-07-04 20:36:00",
         "1118.44",
         "1118.73",
         "1117.58",
         "1117.95",
         "2811.788"
        ],
        [
         "3",
         "2022-07-04 20:39:00",
         "1117.95",
         "1119.46",
         "1117.69",
         "1118.23",
         "3746.213"
        ],
        [
         "4",
         "2022-07-04 20:42:00",
         "1118.23",
         "1119.43",
         "1117.32",
         "1119.2",
         "5090.926"
        ]
       ],
       "shape": {
        "columns": 6,
        "rows": 5
       }
      },
      "text/html": [
       "<div>\n",
       "<style scoped>\n",
       "    .dataframe tbody tr th:only-of-type {\n",
       "        vertical-align: middle;\n",
       "    }\n",
       "\n",
       "    .dataframe tbody tr th {\n",
       "        vertical-align: top;\n",
       "    }\n",
       "\n",
       "    .dataframe thead th {\n",
       "        text-align: right;\n",
       "    }\n",
       "</style>\n",
       "<table border=\"1\" class=\"dataframe\">\n",
       "  <thead>\n",
       "    <tr style=\"text-align: right;\">\n",
       "      <th></th>\n",
       "      <th>timestamp</th>\n",
       "      <th>open</th>\n",
       "      <th>high</th>\n",
       "      <th>low</th>\n",
       "      <th>close</th>\n",
       "      <th>volume</th>\n",
       "    </tr>\n",
       "  </thead>\n",
       "  <tbody>\n",
       "    <tr>\n",
       "      <th>0</th>\n",
       "      <td>2022-07-04 20:30:00</td>\n",
       "      <td>1119.96</td>\n",
       "      <td>1120.08</td>\n",
       "      <td>1117.43</td>\n",
       "      <td>1118.92</td>\n",
       "      <td>5457.249</td>\n",
       "    </tr>\n",
       "    <tr>\n",
       "      <th>1</th>\n",
       "      <td>2022-07-04 20:33:00</td>\n",
       "      <td>1118.92</td>\n",
       "      <td>1119.27</td>\n",
       "      <td>1118.26</td>\n",
       "      <td>1118.44</td>\n",
       "      <td>2651.778</td>\n",
       "    </tr>\n",
       "    <tr>\n",
       "      <th>2</th>\n",
       "      <td>2022-07-04 20:36:00</td>\n",
       "      <td>1118.44</td>\n",
       "      <td>1118.73</td>\n",
       "      <td>1117.58</td>\n",
       "      <td>1117.95</td>\n",
       "      <td>2811.788</td>\n",
       "    </tr>\n",
       "    <tr>\n",
       "      <th>3</th>\n",
       "      <td>2022-07-04 20:39:00</td>\n",
       "      <td>1117.95</td>\n",
       "      <td>1119.46</td>\n",
       "      <td>1117.69</td>\n",
       "      <td>1118.23</td>\n",
       "      <td>3746.213</td>\n",
       "    </tr>\n",
       "    <tr>\n",
       "      <th>4</th>\n",
       "      <td>2022-07-04 20:42:00</td>\n",
       "      <td>1118.23</td>\n",
       "      <td>1119.43</td>\n",
       "      <td>1117.32</td>\n",
       "      <td>1119.20</td>\n",
       "      <td>5090.926</td>\n",
       "    </tr>\n",
       "  </tbody>\n",
       "</table>\n",
       "</div>"
      ],
      "text/plain": [
       "             timestamp     open     high      low    close    volume\n",
       "0  2022-07-04 20:30:00  1119.96  1120.08  1117.43  1118.92  5457.249\n",
       "1  2022-07-04 20:33:00  1118.92  1119.27  1118.26  1118.44  2651.778\n",
       "2  2022-07-04 20:36:00  1118.44  1118.73  1117.58  1117.95  2811.788\n",
       "3  2022-07-04 20:39:00  1117.95  1119.46  1117.69  1118.23  3746.213\n",
       "4  2022-07-04 20:42:00  1118.23  1119.43  1117.32  1119.20  5090.926"
      ]
     },
     "execution_count": 236,
     "metadata": {},
     "output_type": "execute_result"
    }
   ],
   "source": [
    "#Starting with 3 minutes time frame in ETHUSDT\n",
    "ethusdt_3min_data = pd.read_csv('ETHUSDT_3min.csv')\n",
    "ethusdt_3min_df = pd.DataFrame(ethusdt_3min_data)\n",
    "ethusdt_3min_df.head()"
   ]
  },
  {
   "cell_type": "code",
   "execution_count": 237,
   "id": "f8aba055",
   "metadata": {},
   "outputs": [
    {
     "data": {
      "application/vnd.microsoft.datawrangler.viewer.v0+json": {
       "columns": [
        {
         "name": "index",
         "rawType": "int64",
         "type": "integer"
        },
        {
         "name": "timestamp",
         "rawType": "object",
         "type": "string"
        },
        {
         "name": "open",
         "rawType": "float64",
         "type": "float"
        },
        {
         "name": "high",
         "rawType": "float64",
         "type": "float"
        },
        {
         "name": "low",
         "rawType": "float64",
         "type": "float"
        },
        {
         "name": "close",
         "rawType": "float64",
         "type": "float"
        },
        {
         "name": "volume",
         "rawType": "float64",
         "type": "float"
        },
        {
         "name": "bullish_pin_bar",
         "rawType": "bool",
         "type": "boolean"
        }
       ],
       "ref": "838d4e31-124c-42e9-8572-5d4cef450dc7",
       "rows": [
        [
         "0",
         "2022-07-04 20:30:00",
         "1119.96",
         "1120.08",
         "1117.43",
         "1118.92",
         "5457.249",
         "False"
        ],
        [
         "1",
         "2022-07-04 20:33:00",
         "1118.92",
         "1119.27",
         "1118.26",
         "1118.44",
         "2651.778",
         "False"
        ],
        [
         "2",
         "2022-07-04 20:36:00",
         "1118.44",
         "1118.73",
         "1117.58",
         "1117.95",
         "2811.788",
         "False"
        ],
        [
         "3",
         "2022-07-04 20:39:00",
         "1117.95",
         "1119.46",
         "1117.69",
         "1118.23",
         "3746.213",
         "False"
        ],
        [
         "4",
         "2022-07-04 20:42:00",
         "1118.23",
         "1119.43",
         "1117.32",
         "1119.2",
         "5090.926",
         "True"
        ]
       ],
       "shape": {
        "columns": 7,
        "rows": 5
       }
      },
      "text/html": [
       "<div>\n",
       "<style scoped>\n",
       "    .dataframe tbody tr th:only-of-type {\n",
       "        vertical-align: middle;\n",
       "    }\n",
       "\n",
       "    .dataframe tbody tr th {\n",
       "        vertical-align: top;\n",
       "    }\n",
       "\n",
       "    .dataframe thead th {\n",
       "        text-align: right;\n",
       "    }\n",
       "</style>\n",
       "<table border=\"1\" class=\"dataframe\">\n",
       "  <thead>\n",
       "    <tr style=\"text-align: right;\">\n",
       "      <th></th>\n",
       "      <th>timestamp</th>\n",
       "      <th>open</th>\n",
       "      <th>high</th>\n",
       "      <th>low</th>\n",
       "      <th>close</th>\n",
       "      <th>volume</th>\n",
       "      <th>bullish_pin_bar</th>\n",
       "    </tr>\n",
       "  </thead>\n",
       "  <tbody>\n",
       "    <tr>\n",
       "      <th>0</th>\n",
       "      <td>2022-07-04 20:30:00</td>\n",
       "      <td>1119.96</td>\n",
       "      <td>1120.08</td>\n",
       "      <td>1117.43</td>\n",
       "      <td>1118.92</td>\n",
       "      <td>5457.249</td>\n",
       "      <td>False</td>\n",
       "    </tr>\n",
       "    <tr>\n",
       "      <th>1</th>\n",
       "      <td>2022-07-04 20:33:00</td>\n",
       "      <td>1118.92</td>\n",
       "      <td>1119.27</td>\n",
       "      <td>1118.26</td>\n",
       "      <td>1118.44</td>\n",
       "      <td>2651.778</td>\n",
       "      <td>False</td>\n",
       "    </tr>\n",
       "    <tr>\n",
       "      <th>2</th>\n",
       "      <td>2022-07-04 20:36:00</td>\n",
       "      <td>1118.44</td>\n",
       "      <td>1118.73</td>\n",
       "      <td>1117.58</td>\n",
       "      <td>1117.95</td>\n",
       "      <td>2811.788</td>\n",
       "      <td>False</td>\n",
       "    </tr>\n",
       "    <tr>\n",
       "      <th>3</th>\n",
       "      <td>2022-07-04 20:39:00</td>\n",
       "      <td>1117.95</td>\n",
       "      <td>1119.46</td>\n",
       "      <td>1117.69</td>\n",
       "      <td>1118.23</td>\n",
       "      <td>3746.213</td>\n",
       "      <td>False</td>\n",
       "    </tr>\n",
       "    <tr>\n",
       "      <th>4</th>\n",
       "      <td>2022-07-04 20:42:00</td>\n",
       "      <td>1118.23</td>\n",
       "      <td>1119.43</td>\n",
       "      <td>1117.32</td>\n",
       "      <td>1119.20</td>\n",
       "      <td>5090.926</td>\n",
       "      <td>True</td>\n",
       "    </tr>\n",
       "  </tbody>\n",
       "</table>\n",
       "</div>"
      ],
      "text/plain": [
       "             timestamp     open     high      low    close    volume  \\\n",
       "0  2022-07-04 20:30:00  1119.96  1120.08  1117.43  1118.92  5457.249   \n",
       "1  2022-07-04 20:33:00  1118.92  1119.27  1118.26  1118.44  2651.778   \n",
       "2  2022-07-04 20:36:00  1118.44  1118.73  1117.58  1117.95  2811.788   \n",
       "3  2022-07-04 20:39:00  1117.95  1119.46  1117.69  1118.23  3746.213   \n",
       "4  2022-07-04 20:42:00  1118.23  1119.43  1117.32  1119.20  5090.926   \n",
       "\n",
       "   bullish_pin_bar  \n",
       "0            False  \n",
       "1            False  \n",
       "2            False  \n",
       "3            False  \n",
       "4             True  "
      ]
     },
     "execution_count": 237,
     "metadata": {},
     "output_type": "execute_result"
    }
   ],
   "source": [
    "#Getting the bullish pin bars\n",
    "ethusdt_3min_df['bullish_pin_bar'] = ethusdt_3min_df.apply(is_bullish_pin_bar, axis=1)\n",
    "ethusdt_3min_df.head()"
   ]
  },
  {
   "cell_type": "code",
   "execution_count": 238,
   "id": "ed8ca500",
   "metadata": {},
   "outputs": [
    {
     "data": {
      "application/vnd.microsoft.datawrangler.viewer.v0+json": {
       "columns": [
        {
         "name": "index",
         "rawType": "int64",
         "type": "integer"
        },
        {
         "name": "timestamp",
         "rawType": "object",
         "type": "string"
        },
        {
         "name": "open",
         "rawType": "float64",
         "type": "float"
        },
        {
         "name": "high",
         "rawType": "float64",
         "type": "float"
        },
        {
         "name": "low",
         "rawType": "float64",
         "type": "float"
        },
        {
         "name": "close",
         "rawType": "float64",
         "type": "float"
        },
        {
         "name": "volume",
         "rawType": "float64",
         "type": "float"
        },
        {
         "name": "bullish_pin_bar",
         "rawType": "bool",
         "type": "boolean"
        },
        {
         "name": "Weak follow up",
         "rawType": "object",
         "type": "string"
        }
       ],
       "ref": "92ef9553-feef-47dc-9ba8-7fef80c3a5ef",
       "rows": [
        [
         "525596",
         "2025-07-03 20:18:00",
         "2589.8",
         "2592.23",
         "2589.1",
         "2589.63",
         "3256.317",
         "False",
         "False"
        ],
        [
         "525597",
         "2025-07-03 20:21:00",
         "2589.64",
         "2591.95",
         "2589.5",
         "2589.78",
         "3865.435",
         "False",
         "False"
        ],
        [
         "525598",
         "2025-07-03 20:24:00",
         "2589.77",
         "2593.77",
         "2589.75",
         "2592.43",
         "5697.873",
         "False",
         "False"
        ],
        [
         "525599",
         "2025-07-03 20:27:00",
         "2592.43",
         "2595.54",
         "2592.3",
         "2593.61",
         "7126.433",
         "False",
         "False"
        ],
        [
         "525600",
         "2025-07-03 20:30:00",
         "2593.62",
         "2593.88",
         "2592.21",
         "2592.22",
         "2624.863",
         "False",
         "False"
        ]
       ],
       "shape": {
        "columns": 8,
        "rows": 5
       }
      },
      "text/html": [
       "<div>\n",
       "<style scoped>\n",
       "    .dataframe tbody tr th:only-of-type {\n",
       "        vertical-align: middle;\n",
       "    }\n",
       "\n",
       "    .dataframe tbody tr th {\n",
       "        vertical-align: top;\n",
       "    }\n",
       "\n",
       "    .dataframe thead th {\n",
       "        text-align: right;\n",
       "    }\n",
       "</style>\n",
       "<table border=\"1\" class=\"dataframe\">\n",
       "  <thead>\n",
       "    <tr style=\"text-align: right;\">\n",
       "      <th></th>\n",
       "      <th>timestamp</th>\n",
       "      <th>open</th>\n",
       "      <th>high</th>\n",
       "      <th>low</th>\n",
       "      <th>close</th>\n",
       "      <th>volume</th>\n",
       "      <th>bullish_pin_bar</th>\n",
       "      <th>Weak follow up</th>\n",
       "    </tr>\n",
       "  </thead>\n",
       "  <tbody>\n",
       "    <tr>\n",
       "      <th>525596</th>\n",
       "      <td>2025-07-03 20:18:00</td>\n",
       "      <td>2589.80</td>\n",
       "      <td>2592.23</td>\n",
       "      <td>2589.10</td>\n",
       "      <td>2589.63</td>\n",
       "      <td>3256.317</td>\n",
       "      <td>False</td>\n",
       "      <td>False</td>\n",
       "    </tr>\n",
       "    <tr>\n",
       "      <th>525597</th>\n",
       "      <td>2025-07-03 20:21:00</td>\n",
       "      <td>2589.64</td>\n",
       "      <td>2591.95</td>\n",
       "      <td>2589.50</td>\n",
       "      <td>2589.78</td>\n",
       "      <td>3865.435</td>\n",
       "      <td>False</td>\n",
       "      <td>False</td>\n",
       "    </tr>\n",
       "    <tr>\n",
       "      <th>525598</th>\n",
       "      <td>2025-07-03 20:24:00</td>\n",
       "      <td>2589.77</td>\n",
       "      <td>2593.77</td>\n",
       "      <td>2589.75</td>\n",
       "      <td>2592.43</td>\n",
       "      <td>5697.873</td>\n",
       "      <td>False</td>\n",
       "      <td>False</td>\n",
       "    </tr>\n",
       "    <tr>\n",
       "      <th>525599</th>\n",
       "      <td>2025-07-03 20:27:00</td>\n",
       "      <td>2592.43</td>\n",
       "      <td>2595.54</td>\n",
       "      <td>2592.30</td>\n",
       "      <td>2593.61</td>\n",
       "      <td>7126.433</td>\n",
       "      <td>False</td>\n",
       "      <td>False</td>\n",
       "    </tr>\n",
       "    <tr>\n",
       "      <th>525600</th>\n",
       "      <td>2025-07-03 20:30:00</td>\n",
       "      <td>2593.62</td>\n",
       "      <td>2593.88</td>\n",
       "      <td>2592.21</td>\n",
       "      <td>2592.22</td>\n",
       "      <td>2624.863</td>\n",
       "      <td>False</td>\n",
       "      <td>False</td>\n",
       "    </tr>\n",
       "  </tbody>\n",
       "</table>\n",
       "</div>"
      ],
      "text/plain": [
       "                  timestamp     open     high      low    close    volume  \\\n",
       "525596  2025-07-03 20:18:00  2589.80  2592.23  2589.10  2589.63  3256.317   \n",
       "525597  2025-07-03 20:21:00  2589.64  2591.95  2589.50  2589.78  3865.435   \n",
       "525598  2025-07-03 20:24:00  2589.77  2593.77  2589.75  2592.43  5697.873   \n",
       "525599  2025-07-03 20:27:00  2592.43  2595.54  2592.30  2593.61  7126.433   \n",
       "525600  2025-07-03 20:30:00  2593.62  2593.88  2592.21  2592.22  2624.863   \n",
       "\n",
       "        bullish_pin_bar Weak follow up  \n",
       "525596            False          False  \n",
       "525597            False          False  \n",
       "525598            False          False  \n",
       "525599            False          False  \n",
       "525600            False          False  "
      ]
     },
     "execution_count": 238,
     "metadata": {},
     "output_type": "execute_result"
    }
   ],
   "source": [
    "#Finding weak follow ups\n",
    "follow_through = []\n",
    "for i in range(len(ethusdt_3min_df) - 1):\n",
    "    if(ethusdt_3min_df.loc[i, 'bullish_pin_bar']):\n",
    "        pin_bar_volume = ethusdt_3min_df.loc[i, 'volume']\n",
    "        next_bar_volume = ethusdt_3min_df.loc[i+1, 'volume']\n",
    "        pin_bar_move = ethusdt_3min_df.loc[i,'close'] - ethusdt_3min_df.loc[i,'open']\n",
    "        next_bar_move = ethusdt_3min_df.loc[i+1,'close'] - ethusdt_3min_df.loc[i+1,'open']\n",
    "        if(next_bar_move > pin_bar_move and next_bar_volume < pin_bar_volume):\n",
    "            follow_through.append('True')\n",
    "        else:\n",
    "            follow_through.append('False')\n",
    "    else:\n",
    "        follow_through.append('False')\n",
    "follow_through.append('False')\n",
    "ethusdt_3min_df['Weak follow up'] = follow_through\n",
    "ethusdt_3min_df.tail()"
   ]
  },
  {
   "cell_type": "code",
   "execution_count": 239,
   "id": "a432e32d",
   "metadata": {},
   "outputs": [
    {
     "data": {
      "application/vnd.microsoft.datawrangler.viewer.v0+json": {
       "columns": [
        {
         "name": "index",
         "rawType": "int64",
         "type": "integer"
        },
        {
         "name": "timestamp",
         "rawType": "object",
         "type": "string"
        },
        {
         "name": "open",
         "rawType": "float64",
         "type": "float"
        },
        {
         "name": "high",
         "rawType": "float64",
         "type": "float"
        },
        {
         "name": "low",
         "rawType": "float64",
         "type": "float"
        },
        {
         "name": "close",
         "rawType": "float64",
         "type": "float"
        },
        {
         "name": "volume",
         "rawType": "float64",
         "type": "float"
        },
        {
         "name": "bullish_pin_bar",
         "rawType": "bool",
         "type": "boolean"
        },
        {
         "name": "Weak follow up",
         "rawType": "object",
         "type": "string"
        },
        {
         "name": "Weak Low Tested",
         "rawType": "object",
         "type": "string"
        }
       ],
       "ref": "9ad3742b-cf85-448d-9775-83b05ce95256",
       "rows": [
        [
         "525596",
         "2025-07-03 20:18:00",
         "2589.8",
         "2592.23",
         "2589.1",
         "2589.63",
         "3256.317",
         "False",
         "False",
         "False"
        ],
        [
         "525597",
         "2025-07-03 20:21:00",
         "2589.64",
         "2591.95",
         "2589.5",
         "2589.78",
         "3865.435",
         "False",
         "False",
         "False"
        ],
        [
         "525598",
         "2025-07-03 20:24:00",
         "2589.77",
         "2593.77",
         "2589.75",
         "2592.43",
         "5697.873",
         "False",
         "False",
         "False"
        ],
        [
         "525599",
         "2025-07-03 20:27:00",
         "2592.43",
         "2595.54",
         "2592.3",
         "2593.61",
         "7126.433",
         "False",
         "False",
         "False"
        ],
        [
         "525600",
         "2025-07-03 20:30:00",
         "2593.62",
         "2593.88",
         "2592.21",
         "2592.22",
         "2624.863",
         "False",
         "False",
         "False"
        ]
       ],
       "shape": {
        "columns": 9,
        "rows": 5
       }
      },
      "text/html": [
       "<div>\n",
       "<style scoped>\n",
       "    .dataframe tbody tr th:only-of-type {\n",
       "        vertical-align: middle;\n",
       "    }\n",
       "\n",
       "    .dataframe tbody tr th {\n",
       "        vertical-align: top;\n",
       "    }\n",
       "\n",
       "    .dataframe thead th {\n",
       "        text-align: right;\n",
       "    }\n",
       "</style>\n",
       "<table border=\"1\" class=\"dataframe\">\n",
       "  <thead>\n",
       "    <tr style=\"text-align: right;\">\n",
       "      <th></th>\n",
       "      <th>timestamp</th>\n",
       "      <th>open</th>\n",
       "      <th>high</th>\n",
       "      <th>low</th>\n",
       "      <th>close</th>\n",
       "      <th>volume</th>\n",
       "      <th>bullish_pin_bar</th>\n",
       "      <th>Weak follow up</th>\n",
       "      <th>Weak Low Tested</th>\n",
       "    </tr>\n",
       "  </thead>\n",
       "  <tbody>\n",
       "    <tr>\n",
       "      <th>525596</th>\n",
       "      <td>2025-07-03 20:18:00</td>\n",
       "      <td>2589.80</td>\n",
       "      <td>2592.23</td>\n",
       "      <td>2589.10</td>\n",
       "      <td>2589.63</td>\n",
       "      <td>3256.317</td>\n",
       "      <td>False</td>\n",
       "      <td>False</td>\n",
       "      <td>False</td>\n",
       "    </tr>\n",
       "    <tr>\n",
       "      <th>525597</th>\n",
       "      <td>2025-07-03 20:21:00</td>\n",
       "      <td>2589.64</td>\n",
       "      <td>2591.95</td>\n",
       "      <td>2589.50</td>\n",
       "      <td>2589.78</td>\n",
       "      <td>3865.435</td>\n",
       "      <td>False</td>\n",
       "      <td>False</td>\n",
       "      <td>False</td>\n",
       "    </tr>\n",
       "    <tr>\n",
       "      <th>525598</th>\n",
       "      <td>2025-07-03 20:24:00</td>\n",
       "      <td>2589.77</td>\n",
       "      <td>2593.77</td>\n",
       "      <td>2589.75</td>\n",
       "      <td>2592.43</td>\n",
       "      <td>5697.873</td>\n",
       "      <td>False</td>\n",
       "      <td>False</td>\n",
       "      <td>False</td>\n",
       "    </tr>\n",
       "    <tr>\n",
       "      <th>525599</th>\n",
       "      <td>2025-07-03 20:27:00</td>\n",
       "      <td>2592.43</td>\n",
       "      <td>2595.54</td>\n",
       "      <td>2592.30</td>\n",
       "      <td>2593.61</td>\n",
       "      <td>7126.433</td>\n",
       "      <td>False</td>\n",
       "      <td>False</td>\n",
       "      <td>False</td>\n",
       "    </tr>\n",
       "    <tr>\n",
       "      <th>525600</th>\n",
       "      <td>2025-07-03 20:30:00</td>\n",
       "      <td>2593.62</td>\n",
       "      <td>2593.88</td>\n",
       "      <td>2592.21</td>\n",
       "      <td>2592.22</td>\n",
       "      <td>2624.863</td>\n",
       "      <td>False</td>\n",
       "      <td>False</td>\n",
       "      <td>False</td>\n",
       "    </tr>\n",
       "  </tbody>\n",
       "</table>\n",
       "</div>"
      ],
      "text/plain": [
       "                  timestamp     open     high      low    close    volume  \\\n",
       "525596  2025-07-03 20:18:00  2589.80  2592.23  2589.10  2589.63  3256.317   \n",
       "525597  2025-07-03 20:21:00  2589.64  2591.95  2589.50  2589.78  3865.435   \n",
       "525598  2025-07-03 20:24:00  2589.77  2593.77  2589.75  2592.43  5697.873   \n",
       "525599  2025-07-03 20:27:00  2592.43  2595.54  2592.30  2593.61  7126.433   \n",
       "525600  2025-07-03 20:30:00  2593.62  2593.88  2592.21  2592.22  2624.863   \n",
       "\n",
       "        bullish_pin_bar Weak follow up Weak Low Tested  \n",
       "525596            False          False           False  \n",
       "525597            False          False           False  \n",
       "525598            False          False           False  \n",
       "525599            False          False           False  \n",
       "525600            False          False           False  "
      ]
     },
     "execution_count": 239,
     "metadata": {},
     "output_type": "execute_result"
    }
   ],
   "source": [
    "# Checking if lows of weak pin bars got tested\n",
    "lows_tested = ['False']*len(ethusdt_3min_df)\n",
    "for i in range(len(ethusdt_3min_df) - 1):\n",
    "    if(ethusdt_3min_df.loc[i, 'Weak follow up'] == 'True'):\n",
    "        pin_bar_low = ethusdt_3min_df.loc[i, 'low']\n",
    "        for j in range(i+1, len(ethusdt_3min_df)):\n",
    "            if(ethusdt_3min_df.loc[j, 'low'] < pin_bar_low):\n",
    "                lows_tested[i] = 'True'\n",
    "                break\n",
    "ethusdt_3min_df['Weak Low Tested'] = lows_tested\n",
    "ethusdt_3min_df.tail()"
   ]
  },
  {
   "cell_type": "code",
   "execution_count": 240,
   "id": "f052a843",
   "metadata": {},
   "outputs": [
    {
     "data": {
      "application/vnd.microsoft.datawrangler.viewer.v0+json": {
       "columns": [
        {
         "name": "index",
         "rawType": "int64",
         "type": "integer"
        },
        {
         "name": "timestamp",
         "rawType": "object",
         "type": "string"
        },
        {
         "name": "open",
         "rawType": "float64",
         "type": "float"
        },
        {
         "name": "high",
         "rawType": "float64",
         "type": "float"
        },
        {
         "name": "low",
         "rawType": "float64",
         "type": "float"
        },
        {
         "name": "close",
         "rawType": "float64",
         "type": "float"
        },
        {
         "name": "volume",
         "rawType": "float64",
         "type": "float"
        },
        {
         "name": "bullish_pin_bar",
         "rawType": "bool",
         "type": "boolean"
        },
        {
         "name": "Weak follow up",
         "rawType": "object",
         "type": "string"
        },
        {
         "name": "Weak Low Tested",
         "rawType": "object",
         "type": "string"
        },
        {
         "name": "bearish_pin_bar",
         "rawType": "bool",
         "type": "boolean"
        }
       ],
       "ref": "66c2772c-307d-4b89-97ae-9352d95b80dc",
       "rows": [
        [
         "0",
         "2022-07-04 20:30:00",
         "1119.96",
         "1120.08",
         "1117.43",
         "1118.92",
         "5457.249",
         "False",
         "False",
         "False",
         "False"
        ],
        [
         "1",
         "2022-07-04 20:33:00",
         "1118.92",
         "1119.27",
         "1118.26",
         "1118.44",
         "2651.778",
         "False",
         "False",
         "False",
         "True"
        ],
        [
         "2",
         "2022-07-04 20:36:00",
         "1118.44",
         "1118.73",
         "1117.58",
         "1117.95",
         "2811.788",
         "False",
         "False",
         "False",
         "False"
        ],
        [
         "3",
         "2022-07-04 20:39:00",
         "1117.95",
         "1119.46",
         "1117.69",
         "1118.23",
         "3746.213",
         "False",
         "False",
         "False",
         "False"
        ],
        [
         "4",
         "2022-07-04 20:42:00",
         "1118.23",
         "1119.43",
         "1117.32",
         "1119.2",
         "5090.926",
         "True",
         "False",
         "False",
         "False"
        ]
       ],
       "shape": {
        "columns": 10,
        "rows": 5
       }
      },
      "text/html": [
       "<div>\n",
       "<style scoped>\n",
       "    .dataframe tbody tr th:only-of-type {\n",
       "        vertical-align: middle;\n",
       "    }\n",
       "\n",
       "    .dataframe tbody tr th {\n",
       "        vertical-align: top;\n",
       "    }\n",
       "\n",
       "    .dataframe thead th {\n",
       "        text-align: right;\n",
       "    }\n",
       "</style>\n",
       "<table border=\"1\" class=\"dataframe\">\n",
       "  <thead>\n",
       "    <tr style=\"text-align: right;\">\n",
       "      <th></th>\n",
       "      <th>timestamp</th>\n",
       "      <th>open</th>\n",
       "      <th>high</th>\n",
       "      <th>low</th>\n",
       "      <th>close</th>\n",
       "      <th>volume</th>\n",
       "      <th>bullish_pin_bar</th>\n",
       "      <th>Weak follow up</th>\n",
       "      <th>Weak Low Tested</th>\n",
       "      <th>bearish_pin_bar</th>\n",
       "    </tr>\n",
       "  </thead>\n",
       "  <tbody>\n",
       "    <tr>\n",
       "      <th>0</th>\n",
       "      <td>2022-07-04 20:30:00</td>\n",
       "      <td>1119.96</td>\n",
       "      <td>1120.08</td>\n",
       "      <td>1117.43</td>\n",
       "      <td>1118.92</td>\n",
       "      <td>5457.249</td>\n",
       "      <td>False</td>\n",
       "      <td>False</td>\n",
       "      <td>False</td>\n",
       "      <td>False</td>\n",
       "    </tr>\n",
       "    <tr>\n",
       "      <th>1</th>\n",
       "      <td>2022-07-04 20:33:00</td>\n",
       "      <td>1118.92</td>\n",
       "      <td>1119.27</td>\n",
       "      <td>1118.26</td>\n",
       "      <td>1118.44</td>\n",
       "      <td>2651.778</td>\n",
       "      <td>False</td>\n",
       "      <td>False</td>\n",
       "      <td>False</td>\n",
       "      <td>True</td>\n",
       "    </tr>\n",
       "    <tr>\n",
       "      <th>2</th>\n",
       "      <td>2022-07-04 20:36:00</td>\n",
       "      <td>1118.44</td>\n",
       "      <td>1118.73</td>\n",
       "      <td>1117.58</td>\n",
       "      <td>1117.95</td>\n",
       "      <td>2811.788</td>\n",
       "      <td>False</td>\n",
       "      <td>False</td>\n",
       "      <td>False</td>\n",
       "      <td>False</td>\n",
       "    </tr>\n",
       "    <tr>\n",
       "      <th>3</th>\n",
       "      <td>2022-07-04 20:39:00</td>\n",
       "      <td>1117.95</td>\n",
       "      <td>1119.46</td>\n",
       "      <td>1117.69</td>\n",
       "      <td>1118.23</td>\n",
       "      <td>3746.213</td>\n",
       "      <td>False</td>\n",
       "      <td>False</td>\n",
       "      <td>False</td>\n",
       "      <td>False</td>\n",
       "    </tr>\n",
       "    <tr>\n",
       "      <th>4</th>\n",
       "      <td>2022-07-04 20:42:00</td>\n",
       "      <td>1118.23</td>\n",
       "      <td>1119.43</td>\n",
       "      <td>1117.32</td>\n",
       "      <td>1119.20</td>\n",
       "      <td>5090.926</td>\n",
       "      <td>True</td>\n",
       "      <td>False</td>\n",
       "      <td>False</td>\n",
       "      <td>False</td>\n",
       "    </tr>\n",
       "  </tbody>\n",
       "</table>\n",
       "</div>"
      ],
      "text/plain": [
       "             timestamp     open     high      low    close    volume  \\\n",
       "0  2022-07-04 20:30:00  1119.96  1120.08  1117.43  1118.92  5457.249   \n",
       "1  2022-07-04 20:33:00  1118.92  1119.27  1118.26  1118.44  2651.778   \n",
       "2  2022-07-04 20:36:00  1118.44  1118.73  1117.58  1117.95  2811.788   \n",
       "3  2022-07-04 20:39:00  1117.95  1119.46  1117.69  1118.23  3746.213   \n",
       "4  2022-07-04 20:42:00  1118.23  1119.43  1117.32  1119.20  5090.926   \n",
       "\n",
       "   bullish_pin_bar Weak follow up Weak Low Tested  bearish_pin_bar  \n",
       "0            False          False           False            False  \n",
       "1            False          False           False             True  \n",
       "2            False          False           False            False  \n",
       "3            False          False           False            False  \n",
       "4             True          False           False            False  "
      ]
     },
     "execution_count": 240,
     "metadata": {},
     "output_type": "execute_result"
    }
   ],
   "source": [
    "#Getting bearish pin bars\n",
    "ethusdt_3min_df['bearish_pin_bar'] = ethusdt_3min_df.apply(is_bearish_pin_bar, axis=1)\n",
    "ethusdt_3min_df.head()"
   ]
  },
  {
   "cell_type": "code",
   "execution_count": 241,
   "id": "81628c5d",
   "metadata": {},
   "outputs": [
    {
     "data": {
      "application/vnd.microsoft.datawrangler.viewer.v0+json": {
       "columns": [
        {
         "name": "index",
         "rawType": "int64",
         "type": "integer"
        },
        {
         "name": "timestamp",
         "rawType": "object",
         "type": "string"
        },
        {
         "name": "open",
         "rawType": "float64",
         "type": "float"
        },
        {
         "name": "high",
         "rawType": "float64",
         "type": "float"
        },
        {
         "name": "low",
         "rawType": "float64",
         "type": "float"
        },
        {
         "name": "close",
         "rawType": "float64",
         "type": "float"
        },
        {
         "name": "volume",
         "rawType": "float64",
         "type": "float"
        },
        {
         "name": "bullish_pin_bar",
         "rawType": "bool",
         "type": "boolean"
        },
        {
         "name": "Weak follow up",
         "rawType": "object",
         "type": "string"
        },
        {
         "name": "Weak Low Tested",
         "rawType": "object",
         "type": "string"
        },
        {
         "name": "bearish_pin_bar",
         "rawType": "bool",
         "type": "boolean"
        },
        {
         "name": "Weak follow down",
         "rawType": "object",
         "type": "string"
        }
       ],
       "ref": "193b4e3c-3300-4f42-9967-215038fee460",
       "rows": [
        [
         "525596",
         "2025-07-03 20:18:00",
         "2589.8",
         "2592.23",
         "2589.1",
         "2589.63",
         "3256.317",
         "False",
         "False",
         "False",
         "True",
         "False"
        ],
        [
         "525597",
         "2025-07-03 20:21:00",
         "2589.64",
         "2591.95",
         "2589.5",
         "2589.78",
         "3865.435",
         "False",
         "False",
         "False",
         "False",
         "False"
        ],
        [
         "525598",
         "2025-07-03 20:24:00",
         "2589.77",
         "2593.77",
         "2589.75",
         "2592.43",
         "5697.873",
         "False",
         "False",
         "False",
         "False",
         "False"
        ],
        [
         "525599",
         "2025-07-03 20:27:00",
         "2592.43",
         "2595.54",
         "2592.3",
         "2593.61",
         "7126.433",
         "False",
         "False",
         "False",
         "False",
         "False"
        ],
        [
         "525600",
         "2025-07-03 20:30:00",
         "2593.62",
         "2593.88",
         "2592.21",
         "2592.22",
         "2624.863",
         "False",
         "False",
         "False",
         "False",
         "False"
        ]
       ],
       "shape": {
        "columns": 11,
        "rows": 5
       }
      },
      "text/html": [
       "<div>\n",
       "<style scoped>\n",
       "    .dataframe tbody tr th:only-of-type {\n",
       "        vertical-align: middle;\n",
       "    }\n",
       "\n",
       "    .dataframe tbody tr th {\n",
       "        vertical-align: top;\n",
       "    }\n",
       "\n",
       "    .dataframe thead th {\n",
       "        text-align: right;\n",
       "    }\n",
       "</style>\n",
       "<table border=\"1\" class=\"dataframe\">\n",
       "  <thead>\n",
       "    <tr style=\"text-align: right;\">\n",
       "      <th></th>\n",
       "      <th>timestamp</th>\n",
       "      <th>open</th>\n",
       "      <th>high</th>\n",
       "      <th>low</th>\n",
       "      <th>close</th>\n",
       "      <th>volume</th>\n",
       "      <th>bullish_pin_bar</th>\n",
       "      <th>Weak follow up</th>\n",
       "      <th>Weak Low Tested</th>\n",
       "      <th>bearish_pin_bar</th>\n",
       "      <th>Weak follow down</th>\n",
       "    </tr>\n",
       "  </thead>\n",
       "  <tbody>\n",
       "    <tr>\n",
       "      <th>525596</th>\n",
       "      <td>2025-07-03 20:18:00</td>\n",
       "      <td>2589.80</td>\n",
       "      <td>2592.23</td>\n",
       "      <td>2589.10</td>\n",
       "      <td>2589.63</td>\n",
       "      <td>3256.317</td>\n",
       "      <td>False</td>\n",
       "      <td>False</td>\n",
       "      <td>False</td>\n",
       "      <td>True</td>\n",
       "      <td>False</td>\n",
       "    </tr>\n",
       "    <tr>\n",
       "      <th>525597</th>\n",
       "      <td>2025-07-03 20:21:00</td>\n",
       "      <td>2589.64</td>\n",
       "      <td>2591.95</td>\n",
       "      <td>2589.50</td>\n",
       "      <td>2589.78</td>\n",
       "      <td>3865.435</td>\n",
       "      <td>False</td>\n",
       "      <td>False</td>\n",
       "      <td>False</td>\n",
       "      <td>False</td>\n",
       "      <td>False</td>\n",
       "    </tr>\n",
       "    <tr>\n",
       "      <th>525598</th>\n",
       "      <td>2025-07-03 20:24:00</td>\n",
       "      <td>2589.77</td>\n",
       "      <td>2593.77</td>\n",
       "      <td>2589.75</td>\n",
       "      <td>2592.43</td>\n",
       "      <td>5697.873</td>\n",
       "      <td>False</td>\n",
       "      <td>False</td>\n",
       "      <td>False</td>\n",
       "      <td>False</td>\n",
       "      <td>False</td>\n",
       "    </tr>\n",
       "    <tr>\n",
       "      <th>525599</th>\n",
       "      <td>2025-07-03 20:27:00</td>\n",
       "      <td>2592.43</td>\n",
       "      <td>2595.54</td>\n",
       "      <td>2592.30</td>\n",
       "      <td>2593.61</td>\n",
       "      <td>7126.433</td>\n",
       "      <td>False</td>\n",
       "      <td>False</td>\n",
       "      <td>False</td>\n",
       "      <td>False</td>\n",
       "      <td>False</td>\n",
       "    </tr>\n",
       "    <tr>\n",
       "      <th>525600</th>\n",
       "      <td>2025-07-03 20:30:00</td>\n",
       "      <td>2593.62</td>\n",
       "      <td>2593.88</td>\n",
       "      <td>2592.21</td>\n",
       "      <td>2592.22</td>\n",
       "      <td>2624.863</td>\n",
       "      <td>False</td>\n",
       "      <td>False</td>\n",
       "      <td>False</td>\n",
       "      <td>False</td>\n",
       "      <td>False</td>\n",
       "    </tr>\n",
       "  </tbody>\n",
       "</table>\n",
       "</div>"
      ],
      "text/plain": [
       "                  timestamp     open     high      low    close    volume  \\\n",
       "525596  2025-07-03 20:18:00  2589.80  2592.23  2589.10  2589.63  3256.317   \n",
       "525597  2025-07-03 20:21:00  2589.64  2591.95  2589.50  2589.78  3865.435   \n",
       "525598  2025-07-03 20:24:00  2589.77  2593.77  2589.75  2592.43  5697.873   \n",
       "525599  2025-07-03 20:27:00  2592.43  2595.54  2592.30  2593.61  7126.433   \n",
       "525600  2025-07-03 20:30:00  2593.62  2593.88  2592.21  2592.22  2624.863   \n",
       "\n",
       "        bullish_pin_bar Weak follow up Weak Low Tested  bearish_pin_bar  \\\n",
       "525596            False          False           False             True   \n",
       "525597            False          False           False            False   \n",
       "525598            False          False           False            False   \n",
       "525599            False          False           False            False   \n",
       "525600            False          False           False            False   \n",
       "\n",
       "       Weak follow down  \n",
       "525596            False  \n",
       "525597            False  \n",
       "525598            False  \n",
       "525599            False  \n",
       "525600            False  "
      ]
     },
     "execution_count": 241,
     "metadata": {},
     "output_type": "execute_result"
    }
   ],
   "source": [
    "#Finding weak follow downs\n",
    "follow_through = []\n",
    "for i in range(len(ethusdt_3min_df) - 1):\n",
    "    if(ethusdt_3min_df.loc[i, 'bearish_pin_bar']):\n",
    "        pin_bar_volume = ethusdt_3min_df.loc[i, 'volume']\n",
    "        next_bar_volume = ethusdt_3min_df.loc[i+1, 'volume']\n",
    "        pin_bar_move = ethusdt_3min_df.loc[i,'open'] - ethusdt_3min_df.loc[i,'close']\n",
    "        next_bar_move = ethusdt_3min_df.loc[i+1,'open'] - ethusdt_3min_df.loc[i+1,'close']\n",
    "        if(next_bar_move > pin_bar_move and next_bar_volume < pin_bar_volume):\n",
    "            follow_through.append('True')\n",
    "        else:\n",
    "            follow_through.append('False')\n",
    "    else:\n",
    "        follow_through.append('False')\n",
    "follow_through.append('False')\n",
    "ethusdt_3min_df['Weak follow down'] = follow_through\n",
    "ethusdt_3min_df.tail()"
   ]
  },
  {
   "cell_type": "code",
   "execution_count": 242,
   "id": "ada3f6cc",
   "metadata": {},
   "outputs": [
    {
     "data": {
      "application/vnd.microsoft.datawrangler.viewer.v0+json": {
       "columns": [
        {
         "name": "index",
         "rawType": "int64",
         "type": "integer"
        },
        {
         "name": "timestamp",
         "rawType": "object",
         "type": "string"
        },
        {
         "name": "open",
         "rawType": "float64",
         "type": "float"
        },
        {
         "name": "high",
         "rawType": "float64",
         "type": "float"
        },
        {
         "name": "low",
         "rawType": "float64",
         "type": "float"
        },
        {
         "name": "close",
         "rawType": "float64",
         "type": "float"
        },
        {
         "name": "volume",
         "rawType": "float64",
         "type": "float"
        },
        {
         "name": "bullish_pin_bar",
         "rawType": "bool",
         "type": "boolean"
        },
        {
         "name": "Weak follow up",
         "rawType": "object",
         "type": "string"
        },
        {
         "name": "Weak Low Tested",
         "rawType": "object",
         "type": "string"
        },
        {
         "name": "bearish_pin_bar",
         "rawType": "bool",
         "type": "boolean"
        },
        {
         "name": "Weak follow down",
         "rawType": "object",
         "type": "string"
        },
        {
         "name": "Weak High Tested",
         "rawType": "object",
         "type": "string"
        }
       ],
       "ref": "7307394d-6cc0-48ed-b06e-1a1a3a569c04",
       "rows": [
        [
         "525596",
         "2025-07-03 20:18:00",
         "2589.8",
         "2592.23",
         "2589.1",
         "2589.63",
         "3256.317",
         "False",
         "False",
         "False",
         "True",
         "False",
         "False"
        ],
        [
         "525597",
         "2025-07-03 20:21:00",
         "2589.64",
         "2591.95",
         "2589.5",
         "2589.78",
         "3865.435",
         "False",
         "False",
         "False",
         "False",
         "False",
         "False"
        ],
        [
         "525598",
         "2025-07-03 20:24:00",
         "2589.77",
         "2593.77",
         "2589.75",
         "2592.43",
         "5697.873",
         "False",
         "False",
         "False",
         "False",
         "False",
         "False"
        ],
        [
         "525599",
         "2025-07-03 20:27:00",
         "2592.43",
         "2595.54",
         "2592.3",
         "2593.61",
         "7126.433",
         "False",
         "False",
         "False",
         "False",
         "False",
         "False"
        ],
        [
         "525600",
         "2025-07-03 20:30:00",
         "2593.62",
         "2593.88",
         "2592.21",
         "2592.22",
         "2624.863",
         "False",
         "False",
         "False",
         "False",
         "False",
         "False"
        ]
       ],
       "shape": {
        "columns": 12,
        "rows": 5
       }
      },
      "text/html": [
       "<div>\n",
       "<style scoped>\n",
       "    .dataframe tbody tr th:only-of-type {\n",
       "        vertical-align: middle;\n",
       "    }\n",
       "\n",
       "    .dataframe tbody tr th {\n",
       "        vertical-align: top;\n",
       "    }\n",
       "\n",
       "    .dataframe thead th {\n",
       "        text-align: right;\n",
       "    }\n",
       "</style>\n",
       "<table border=\"1\" class=\"dataframe\">\n",
       "  <thead>\n",
       "    <tr style=\"text-align: right;\">\n",
       "      <th></th>\n",
       "      <th>timestamp</th>\n",
       "      <th>open</th>\n",
       "      <th>high</th>\n",
       "      <th>low</th>\n",
       "      <th>close</th>\n",
       "      <th>volume</th>\n",
       "      <th>bullish_pin_bar</th>\n",
       "      <th>Weak follow up</th>\n",
       "      <th>Weak Low Tested</th>\n",
       "      <th>bearish_pin_bar</th>\n",
       "      <th>Weak follow down</th>\n",
       "      <th>Weak High Tested</th>\n",
       "    </tr>\n",
       "  </thead>\n",
       "  <tbody>\n",
       "    <tr>\n",
       "      <th>525596</th>\n",
       "      <td>2025-07-03 20:18:00</td>\n",
       "      <td>2589.80</td>\n",
       "      <td>2592.23</td>\n",
       "      <td>2589.10</td>\n",
       "      <td>2589.63</td>\n",
       "      <td>3256.317</td>\n",
       "      <td>False</td>\n",
       "      <td>False</td>\n",
       "      <td>False</td>\n",
       "      <td>True</td>\n",
       "      <td>False</td>\n",
       "      <td>False</td>\n",
       "    </tr>\n",
       "    <tr>\n",
       "      <th>525597</th>\n",
       "      <td>2025-07-03 20:21:00</td>\n",
       "      <td>2589.64</td>\n",
       "      <td>2591.95</td>\n",
       "      <td>2589.50</td>\n",
       "      <td>2589.78</td>\n",
       "      <td>3865.435</td>\n",
       "      <td>False</td>\n",
       "      <td>False</td>\n",
       "      <td>False</td>\n",
       "      <td>False</td>\n",
       "      <td>False</td>\n",
       "      <td>False</td>\n",
       "    </tr>\n",
       "    <tr>\n",
       "      <th>525598</th>\n",
       "      <td>2025-07-03 20:24:00</td>\n",
       "      <td>2589.77</td>\n",
       "      <td>2593.77</td>\n",
       "      <td>2589.75</td>\n",
       "      <td>2592.43</td>\n",
       "      <td>5697.873</td>\n",
       "      <td>False</td>\n",
       "      <td>False</td>\n",
       "      <td>False</td>\n",
       "      <td>False</td>\n",
       "      <td>False</td>\n",
       "      <td>False</td>\n",
       "    </tr>\n",
       "    <tr>\n",
       "      <th>525599</th>\n",
       "      <td>2025-07-03 20:27:00</td>\n",
       "      <td>2592.43</td>\n",
       "      <td>2595.54</td>\n",
       "      <td>2592.30</td>\n",
       "      <td>2593.61</td>\n",
       "      <td>7126.433</td>\n",
       "      <td>False</td>\n",
       "      <td>False</td>\n",
       "      <td>False</td>\n",
       "      <td>False</td>\n",
       "      <td>False</td>\n",
       "      <td>False</td>\n",
       "    </tr>\n",
       "    <tr>\n",
       "      <th>525600</th>\n",
       "      <td>2025-07-03 20:30:00</td>\n",
       "      <td>2593.62</td>\n",
       "      <td>2593.88</td>\n",
       "      <td>2592.21</td>\n",
       "      <td>2592.22</td>\n",
       "      <td>2624.863</td>\n",
       "      <td>False</td>\n",
       "      <td>False</td>\n",
       "      <td>False</td>\n",
       "      <td>False</td>\n",
       "      <td>False</td>\n",
       "      <td>False</td>\n",
       "    </tr>\n",
       "  </tbody>\n",
       "</table>\n",
       "</div>"
      ],
      "text/plain": [
       "                  timestamp     open     high      low    close    volume  \\\n",
       "525596  2025-07-03 20:18:00  2589.80  2592.23  2589.10  2589.63  3256.317   \n",
       "525597  2025-07-03 20:21:00  2589.64  2591.95  2589.50  2589.78  3865.435   \n",
       "525598  2025-07-03 20:24:00  2589.77  2593.77  2589.75  2592.43  5697.873   \n",
       "525599  2025-07-03 20:27:00  2592.43  2595.54  2592.30  2593.61  7126.433   \n",
       "525600  2025-07-03 20:30:00  2593.62  2593.88  2592.21  2592.22  2624.863   \n",
       "\n",
       "        bullish_pin_bar Weak follow up Weak Low Tested  bearish_pin_bar  \\\n",
       "525596            False          False           False             True   \n",
       "525597            False          False           False            False   \n",
       "525598            False          False           False            False   \n",
       "525599            False          False           False            False   \n",
       "525600            False          False           False            False   \n",
       "\n",
       "       Weak follow down Weak High Tested  \n",
       "525596            False            False  \n",
       "525597            False            False  \n",
       "525598            False            False  \n",
       "525599            False            False  \n",
       "525600            False            False  "
      ]
     },
     "execution_count": 242,
     "metadata": {},
     "output_type": "execute_result"
    }
   ],
   "source": [
    "# Checking if highs of weak pin bars got tested\n",
    "highs_tested = ['False']*len(ethusdt_3min_df)\n",
    "for i in range(len(ethusdt_3min_df) - 1):\n",
    "    if(ethusdt_3min_df.loc[i, 'Weak follow down'] == 'True'):\n",
    "        pin_bar_high = ethusdt_3min_df.loc[i, 'high']\n",
    "        for j in range(i+1, len(ethusdt_3min_df)):\n",
    "            if(ethusdt_3min_df.loc[j, 'high'] > pin_bar_high):\n",
    "                highs_tested[i] = 'True'\n",
    "                break\n",
    "ethusdt_3min_df['Weak High Tested'] = highs_tested\n",
    "ethusdt_3min_df.tail()"
   ]
  },
  {
   "cell_type": "code",
   "execution_count": 243,
   "id": "f80d0d12",
   "metadata": {},
   "outputs": [],
   "source": [
    "#Saving Data frame to csv\n",
    "ethusdt_3min_df.to_csv('e_3min_analyzed.csv')"
   ]
  }
 ],
 "metadata": {
  "kernelspec": {
   "display_name": "myvenv",
   "language": "python",
   "name": "python3"
  },
  "language_info": {
   "codemirror_mode": {
    "name": "ipython",
    "version": 3
   },
   "file_extension": ".py",
   "mimetype": "text/x-python",
   "name": "python",
   "nbconvert_exporter": "python",
   "pygments_lexer": "ipython3",
   "version": "3.13.2"
  }
 },
 "nbformat": 4,
 "nbformat_minor": 5
}
