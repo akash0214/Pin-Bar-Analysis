{
 "cells": [
  {
   "cell_type": "markdown",
   "id": "380c485b",
   "metadata": {},
   "source": [
    "Weak Pin Bar: The volumes on a pin bar are important but the most important thing which determines if the pin bar is weak or not is the follow up bar and it's volume.\n",
    "\n",
    "Hypothesis: If the follow up bar gives greater move than the pin bar but the volume was lower than the pin bar then, the low of the pin bar should get tested. This testing depends on the time frame of the pin bar. The results can be seen more quickly on intraday time frames so, we will be using 3, 5, and 15 minutes time frames on BTCUSDT and ETHUSDT futures contracts."
   ]
  },
  {
   "cell_type": "code",
   "execution_count": 1,
   "id": "a3d6892a",
   "metadata": {},
   "outputs": [],
   "source": [
    "import pandas as pd\n",
    "import numpy as np\n",
    "import matplotlib.pyplot as plt\n",
    "import seaborn as sns"
   ]
  },
  {
   "cell_type": "code",
   "execution_count": null,
   "id": "102928fb",
   "metadata": {},
   "outputs": [
    {
     "data": {
      "application/vnd.microsoft.datawrangler.viewer.v0+json": {
       "columns": [
        {
         "name": "index",
         "rawType": "int64",
         "type": "integer"
        },
        {
         "name": "timestamp",
         "rawType": "object",
         "type": "string"
        },
        {
         "name": "open",
         "rawType": "float64",
         "type": "float"
        },
        {
         "name": "high",
         "rawType": "float64",
         "type": "float"
        },
        {
         "name": "low",
         "rawType": "float64",
         "type": "float"
        },
        {
         "name": "close",
         "rawType": "float64",
         "type": "float"
        },
        {
         "name": "volume",
         "rawType": "float64",
         "type": "float"
        }
       ],
       "ref": "310c920c-40a3-431f-8053-a4059bb833dd",
       "rows": [
        [
         "315356",
         "2025-07-03 19:55:00",
         "109686.1",
         "109767.8",
         "109686.1",
         "109743.9",
         "225.817"
        ],
        [
         "315357",
         "2025-07-03 20:00:00",
         "109743.8",
         "109816.9",
         "109743.8",
         "109813.6",
         "172.753"
        ],
        [
         "315358",
         "2025-07-03 20:05:00",
         "109813.7",
         "109837.0",
         "109784.7",
         "109836.9",
         "191.596"
        ],
        [
         "315359",
         "2025-07-03 20:10:00",
         "109836.9",
         "109854.2",
         "109750.2",
         "109766.2",
         "165.509"
        ],
        [
         "315360",
         "2025-07-03 20:15:00",
         "109766.2",
         "109792.4",
         "109711.2",
         "109792.4",
         "85.964"
        ]
       ],
       "shape": {
        "columns": 6,
        "rows": 5
       }
      },
      "text/html": [
       "<div>\n",
       "<style scoped>\n",
       "    .dataframe tbody tr th:only-of-type {\n",
       "        vertical-align: middle;\n",
       "    }\n",
       "\n",
       "    .dataframe tbody tr th {\n",
       "        vertical-align: top;\n",
       "    }\n",
       "\n",
       "    .dataframe thead th {\n",
       "        text-align: right;\n",
       "    }\n",
       "</style>\n",
       "<table border=\"1\" class=\"dataframe\">\n",
       "  <thead>\n",
       "    <tr style=\"text-align: right;\">\n",
       "      <th></th>\n",
       "      <th>timestamp</th>\n",
       "      <th>open</th>\n",
       "      <th>high</th>\n",
       "      <th>low</th>\n",
       "      <th>close</th>\n",
       "      <th>volume</th>\n",
       "    </tr>\n",
       "  </thead>\n",
       "  <tbody>\n",
       "    <tr>\n",
       "      <th>315356</th>\n",
       "      <td>2025-07-03 19:55:00</td>\n",
       "      <td>109686.1</td>\n",
       "      <td>109767.8</td>\n",
       "      <td>109686.1</td>\n",
       "      <td>109743.9</td>\n",
       "      <td>225.817</td>\n",
       "    </tr>\n",
       "    <tr>\n",
       "      <th>315357</th>\n",
       "      <td>2025-07-03 20:00:00</td>\n",
       "      <td>109743.8</td>\n",
       "      <td>109816.9</td>\n",
       "      <td>109743.8</td>\n",
       "      <td>109813.6</td>\n",
       "      <td>172.753</td>\n",
       "    </tr>\n",
       "    <tr>\n",
       "      <th>315358</th>\n",
       "      <td>2025-07-03 20:05:00</td>\n",
       "      <td>109813.7</td>\n",
       "      <td>109837.0</td>\n",
       "      <td>109784.7</td>\n",
       "      <td>109836.9</td>\n",
       "      <td>191.596</td>\n",
       "    </tr>\n",
       "    <tr>\n",
       "      <th>315359</th>\n",
       "      <td>2025-07-03 20:10:00</td>\n",
       "      <td>109836.9</td>\n",
       "      <td>109854.2</td>\n",
       "      <td>109750.2</td>\n",
       "      <td>109766.2</td>\n",
       "      <td>165.509</td>\n",
       "    </tr>\n",
       "    <tr>\n",
       "      <th>315360</th>\n",
       "      <td>2025-07-03 20:15:00</td>\n",
       "      <td>109766.2</td>\n",
       "      <td>109792.4</td>\n",
       "      <td>109711.2</td>\n",
       "      <td>109792.4</td>\n",
       "      <td>85.964</td>\n",
       "    </tr>\n",
       "  </tbody>\n",
       "</table>\n",
       "</div>"
      ],
      "text/plain": [
       "                  timestamp      open      high       low     close   volume\n",
       "315356  2025-07-03 19:55:00  109686.1  109767.8  109686.1  109743.9  225.817\n",
       "315357  2025-07-03 20:00:00  109743.8  109816.9  109743.8  109813.6  172.753\n",
       "315358  2025-07-03 20:05:00  109813.7  109837.0  109784.7  109836.9  191.596\n",
       "315359  2025-07-03 20:10:00  109836.9  109854.2  109750.2  109766.2  165.509\n",
       "315360  2025-07-03 20:15:00  109766.2  109792.4  109711.2  109792.4   85.964"
      ]
     },
     "execution_count": 6,
     "metadata": {},
     "output_type": "execute_result"
    }
   ],
   "source": [
    "btcusdt_15min_data = pd.read_csv(\"BTCUSDT_3min.csv\")\n",
    "btcusdt_15min_df = pd.DataFrame(btcusdt_15min_data)\n",
    "btcusdt_15min_df.tail()"
   ]
  },
  {
   "cell_type": "code",
   "execution_count": null,
   "id": "8e083e6e",
   "metadata": {},
   "outputs": [],
   "source": []
  }
 ],
 "metadata": {
  "kernelspec": {
   "display_name": "myvenv",
   "language": "python",
   "name": "python3"
  },
  "language_info": {
   "codemirror_mode": {
    "name": "ipython",
    "version": 3
   },
   "file_extension": ".py",
   "mimetype": "text/x-python",
   "name": "python",
   "nbconvert_exporter": "python",
   "pygments_lexer": "ipython3",
   "version": "3.13.2"
  }
 },
 "nbformat": 4,
 "nbformat_minor": 5
}
