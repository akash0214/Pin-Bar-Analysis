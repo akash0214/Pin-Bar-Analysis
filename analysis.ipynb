{
 "cells": [
  {
   "cell_type": "markdown",
   "id": "380c485b",
   "metadata": {},
   "source": [
    "Weak Pin Bar: The volumes on a pin bar are important but the most important thing which determines if the pin bar is weak or not is the follow up bar and it's volume.\n",
    "\n",
    "Hypothesis: If the follow up bar gives greater move than the pin bar but the volume was lower than the pin bar then, the low of the pin bar should get tested. This testing depends on the time frame of the pin bar. The results can be seen more quickly on intraday time frames so, we will be using 3, 5, and 15 minutes time frames on BTCUSDT and ETHUSDT futures contracts."
   ]
  },
  {
   "cell_type": "code",
   "execution_count": 104,
   "id": "a3d6892a",
   "metadata": {},
   "outputs": [],
   "source": [
    "import pandas as pd\n",
    "import numpy as np\n",
    "import matplotlib.pyplot as plt\n",
    "import seaborn as sns"
   ]
  },
  {
   "cell_type": "code",
   "execution_count": 105,
   "id": "102928fb",
   "metadata": {},
   "outputs": [
    {
     "data": {
      "application/vnd.microsoft.datawrangler.viewer.v0+json": {
       "columns": [
        {
         "name": "index",
         "rawType": "int64",
         "type": "integer"
        },
        {
         "name": "timestamp",
         "rawType": "object",
         "type": "string"
        },
        {
         "name": "open",
         "rawType": "float64",
         "type": "float"
        },
        {
         "name": "high",
         "rawType": "float64",
         "type": "float"
        },
        {
         "name": "low",
         "rawType": "float64",
         "type": "float"
        },
        {
         "name": "close",
         "rawType": "float64",
         "type": "float"
        },
        {
         "name": "volume",
         "rawType": "float64",
         "type": "float"
        }
       ],
       "ref": "2b68b702-9ec9-45bb-bce1-8489733f0438",
       "rows": [
        [
         "0",
         "2022-07-04 20:15:00",
         "19851.3",
         "19853.6",
         "19719.5",
         "19776.6",
         "4522.198"
        ],
        [
         "1",
         "2022-07-04 20:30:00",
         "19776.7",
         "19779.3",
         "19735.5",
         "19758.5",
         "2417.909"
        ],
        [
         "2",
         "2022-07-04 20:45:00",
         "19758.5",
         "19809.2",
         "19745.7",
         "19774.4",
         "2972.344"
        ],
        [
         "3",
         "2022-07-04 21:00:00",
         "19774.3",
         "19790.0",
         "19740.4",
         "19789.9",
         "3271.586"
        ],
        [
         "4",
         "2022-07-04 21:15:00",
         "19789.9",
         "19811.4",
         "19768.3",
         "19773.8",
         "2151.42"
        ]
       ],
       "shape": {
        "columns": 6,
        "rows": 5
       }
      },
      "text/html": [
       "<div>\n",
       "<style scoped>\n",
       "    .dataframe tbody tr th:only-of-type {\n",
       "        vertical-align: middle;\n",
       "    }\n",
       "\n",
       "    .dataframe tbody tr th {\n",
       "        vertical-align: top;\n",
       "    }\n",
       "\n",
       "    .dataframe thead th {\n",
       "        text-align: right;\n",
       "    }\n",
       "</style>\n",
       "<table border=\"1\" class=\"dataframe\">\n",
       "  <thead>\n",
       "    <tr style=\"text-align: right;\">\n",
       "      <th></th>\n",
       "      <th>timestamp</th>\n",
       "      <th>open</th>\n",
       "      <th>high</th>\n",
       "      <th>low</th>\n",
       "      <th>close</th>\n",
       "      <th>volume</th>\n",
       "    </tr>\n",
       "  </thead>\n",
       "  <tbody>\n",
       "    <tr>\n",
       "      <th>0</th>\n",
       "      <td>2022-07-04 20:15:00</td>\n",
       "      <td>19851.3</td>\n",
       "      <td>19853.6</td>\n",
       "      <td>19719.5</td>\n",
       "      <td>19776.6</td>\n",
       "      <td>4522.198</td>\n",
       "    </tr>\n",
       "    <tr>\n",
       "      <th>1</th>\n",
       "      <td>2022-07-04 20:30:00</td>\n",
       "      <td>19776.7</td>\n",
       "      <td>19779.3</td>\n",
       "      <td>19735.5</td>\n",
       "      <td>19758.5</td>\n",
       "      <td>2417.909</td>\n",
       "    </tr>\n",
       "    <tr>\n",
       "      <th>2</th>\n",
       "      <td>2022-07-04 20:45:00</td>\n",
       "      <td>19758.5</td>\n",
       "      <td>19809.2</td>\n",
       "      <td>19745.7</td>\n",
       "      <td>19774.4</td>\n",
       "      <td>2972.344</td>\n",
       "    </tr>\n",
       "    <tr>\n",
       "      <th>3</th>\n",
       "      <td>2022-07-04 21:00:00</td>\n",
       "      <td>19774.3</td>\n",
       "      <td>19790.0</td>\n",
       "      <td>19740.4</td>\n",
       "      <td>19789.9</td>\n",
       "      <td>3271.586</td>\n",
       "    </tr>\n",
       "    <tr>\n",
       "      <th>4</th>\n",
       "      <td>2022-07-04 21:15:00</td>\n",
       "      <td>19789.9</td>\n",
       "      <td>19811.4</td>\n",
       "      <td>19768.3</td>\n",
       "      <td>19773.8</td>\n",
       "      <td>2151.420</td>\n",
       "    </tr>\n",
       "  </tbody>\n",
       "</table>\n",
       "</div>"
      ],
      "text/plain": [
       "             timestamp     open     high      low    close    volume\n",
       "0  2022-07-04 20:15:00  19851.3  19853.6  19719.5  19776.6  4522.198\n",
       "1  2022-07-04 20:30:00  19776.7  19779.3  19735.5  19758.5  2417.909\n",
       "2  2022-07-04 20:45:00  19758.5  19809.2  19745.7  19774.4  2972.344\n",
       "3  2022-07-04 21:00:00  19774.3  19790.0  19740.4  19789.9  3271.586\n",
       "4  2022-07-04 21:15:00  19789.9  19811.4  19768.3  19773.8  2151.420"
      ]
     },
     "execution_count": 105,
     "metadata": {},
     "output_type": "execute_result"
    }
   ],
   "source": [
    "# Working on 15 minutes time frame\n",
    "btcusdt_15min_data = pd.read_csv(\"BTCUSDT_15min.csv\")\n",
    "btcusdt_15min_df = pd.DataFrame(btcusdt_15min_data)\n",
    "btcusdt_15min_df.head()"
   ]
  },
  {
   "cell_type": "markdown",
   "id": "f6a53364",
   "metadata": {},
   "source": [
    "Checking for bullish pin bars on 15 minutes bars of BTCUSDT Futures"
   ]
  },
  {
   "cell_type": "code",
   "execution_count": 106,
   "id": "8e083e6e",
   "metadata": {},
   "outputs": [
    {
     "data": {
      "application/vnd.microsoft.datawrangler.viewer.v0+json": {
       "columns": [
        {
         "name": "index",
         "rawType": "int64",
         "type": "integer"
        },
        {
         "name": "timestamp",
         "rawType": "object",
         "type": "string"
        },
        {
         "name": "open",
         "rawType": "float64",
         "type": "float"
        },
        {
         "name": "high",
         "rawType": "float64",
         "type": "float"
        },
        {
         "name": "low",
         "rawType": "float64",
         "type": "float"
        },
        {
         "name": "close",
         "rawType": "float64",
         "type": "float"
        },
        {
         "name": "volume",
         "rawType": "float64",
         "type": "float"
        },
        {
         "name": "bullish_pin_bar",
         "rawType": "bool",
         "type": "boolean"
        }
       ],
       "ref": "6f7f33c3-5284-432e-bf9a-fa0cfcb3ef4f",
       "rows": [
        [
         "0",
         "2022-07-04 20:15:00",
         "19851.3",
         "19853.6",
         "19719.5",
         "19776.6",
         "4522.198",
         "False"
        ],
        [
         "1",
         "2022-07-04 20:30:00",
         "19776.7",
         "19779.3",
         "19735.5",
         "19758.5",
         "2417.909",
         "False"
        ],
        [
         "2",
         "2022-07-04 20:45:00",
         "19758.5",
         "19809.2",
         "19745.7",
         "19774.4",
         "2972.344",
         "False"
        ],
        [
         "3",
         "2022-07-04 21:00:00",
         "19774.3",
         "19790.0",
         "19740.4",
         "19789.9",
         "3271.586",
         "True"
        ],
        [
         "4",
         "2022-07-04 21:15:00",
         "19789.9",
         "19811.4",
         "19768.3",
         "19773.8",
         "2151.42",
         "False"
        ]
       ],
       "shape": {
        "columns": 7,
        "rows": 5
       }
      },
      "text/html": [
       "<div>\n",
       "<style scoped>\n",
       "    .dataframe tbody tr th:only-of-type {\n",
       "        vertical-align: middle;\n",
       "    }\n",
       "\n",
       "    .dataframe tbody tr th {\n",
       "        vertical-align: top;\n",
       "    }\n",
       "\n",
       "    .dataframe thead th {\n",
       "        text-align: right;\n",
       "    }\n",
       "</style>\n",
       "<table border=\"1\" class=\"dataframe\">\n",
       "  <thead>\n",
       "    <tr style=\"text-align: right;\">\n",
       "      <th></th>\n",
       "      <th>timestamp</th>\n",
       "      <th>open</th>\n",
       "      <th>high</th>\n",
       "      <th>low</th>\n",
       "      <th>close</th>\n",
       "      <th>volume</th>\n",
       "      <th>bullish_pin_bar</th>\n",
       "    </tr>\n",
       "  </thead>\n",
       "  <tbody>\n",
       "    <tr>\n",
       "      <th>0</th>\n",
       "      <td>2022-07-04 20:15:00</td>\n",
       "      <td>19851.3</td>\n",
       "      <td>19853.6</td>\n",
       "      <td>19719.5</td>\n",
       "      <td>19776.6</td>\n",
       "      <td>4522.198</td>\n",
       "      <td>False</td>\n",
       "    </tr>\n",
       "    <tr>\n",
       "      <th>1</th>\n",
       "      <td>2022-07-04 20:30:00</td>\n",
       "      <td>19776.7</td>\n",
       "      <td>19779.3</td>\n",
       "      <td>19735.5</td>\n",
       "      <td>19758.5</td>\n",
       "      <td>2417.909</td>\n",
       "      <td>False</td>\n",
       "    </tr>\n",
       "    <tr>\n",
       "      <th>2</th>\n",
       "      <td>2022-07-04 20:45:00</td>\n",
       "      <td>19758.5</td>\n",
       "      <td>19809.2</td>\n",
       "      <td>19745.7</td>\n",
       "      <td>19774.4</td>\n",
       "      <td>2972.344</td>\n",
       "      <td>False</td>\n",
       "    </tr>\n",
       "    <tr>\n",
       "      <th>3</th>\n",
       "      <td>2022-07-04 21:00:00</td>\n",
       "      <td>19774.3</td>\n",
       "      <td>19790.0</td>\n",
       "      <td>19740.4</td>\n",
       "      <td>19789.9</td>\n",
       "      <td>3271.586</td>\n",
       "      <td>True</td>\n",
       "    </tr>\n",
       "    <tr>\n",
       "      <th>4</th>\n",
       "      <td>2022-07-04 21:15:00</td>\n",
       "      <td>19789.9</td>\n",
       "      <td>19811.4</td>\n",
       "      <td>19768.3</td>\n",
       "      <td>19773.8</td>\n",
       "      <td>2151.420</td>\n",
       "      <td>False</td>\n",
       "    </tr>\n",
       "  </tbody>\n",
       "</table>\n",
       "</div>"
      ],
      "text/plain": [
       "             timestamp     open     high      low    close    volume  \\\n",
       "0  2022-07-04 20:15:00  19851.3  19853.6  19719.5  19776.6  4522.198   \n",
       "1  2022-07-04 20:30:00  19776.7  19779.3  19735.5  19758.5  2417.909   \n",
       "2  2022-07-04 20:45:00  19758.5  19809.2  19745.7  19774.4  2972.344   \n",
       "3  2022-07-04 21:00:00  19774.3  19790.0  19740.4  19789.9  3271.586   \n",
       "4  2022-07-04 21:15:00  19789.9  19811.4  19768.3  19773.8  2151.420   \n",
       "\n",
       "   bullish_pin_bar  \n",
       "0            False  \n",
       "1            False  \n",
       "2            False  \n",
       "3             True  \n",
       "4            False  "
      ]
     },
     "execution_count": 106,
     "metadata": {},
     "output_type": "execute_result"
    }
   ],
   "source": [
    "# Defining function to identify bullish pin bars\n",
    "def is_bullish_pin_bar(row):\n",
    "    o_price = row['open']\n",
    "    h_price = row['high']\n",
    "    l_price = row['low']\n",
    "    c_price = row['close']\n",
    "\n",
    "    body = abs(c_price - o_price)\n",
    "    upper_wick = h_price - max(c_price, o_price)\n",
    "    lower_wick = min(o_price, c_price) - l_price\n",
    "    price_range = h_price - l_price\n",
    "    if(price_range == 0):\n",
    "        return False\n",
    "    body_ratio = body/price_range\n",
    "\n",
    "    if(c_price >= o_price):\n",
    "        if(upper_wick < lower_wick and body_ratio < 0.5):\n",
    "            return True\n",
    "        else:\n",
    "            return False\n",
    "    return False\n",
    "\n",
    "btcusdt_15min_df['bullish_pin_bar'] = btcusdt_15min_df.apply(is_bullish_pin_bar, axis=1)\n",
    "btcusdt_15min_df.head()"
   ]
  },
  {
   "cell_type": "code",
   "execution_count": 107,
   "id": "8014eaca",
   "metadata": {},
   "outputs": [
    {
     "data": {
      "application/vnd.microsoft.datawrangler.viewer.v0+json": {
       "columns": [
        {
         "name": "index",
         "rawType": "int64",
         "type": "integer"
        },
        {
         "name": "timestamp",
         "rawType": "object",
         "type": "string"
        },
        {
         "name": "open",
         "rawType": "float64",
         "type": "float"
        },
        {
         "name": "high",
         "rawType": "float64",
         "type": "float"
        },
        {
         "name": "low",
         "rawType": "float64",
         "type": "float"
        },
        {
         "name": "close",
         "rawType": "float64",
         "type": "float"
        },
        {
         "name": "volume",
         "rawType": "float64",
         "type": "float"
        },
        {
         "name": "bullish_pin_bar",
         "rawType": "bool",
         "type": "boolean"
        },
        {
         "name": "Weak follow up",
         "rawType": "object",
         "type": "string"
        }
       ],
       "ref": "1bc38bdf-658f-477b-9651-68420063c9c8",
       "rows": [
        [
         "105114",
         "2025-07-03 18:45:00",
         "109558.0",
         "109637.9",
         "109488.8",
         "109637.8",
         "406.823",
         "False",
         "False"
        ],
        [
         "105115",
         "2025-07-03 19:00:00",
         "109637.8",
         "109825.0",
         "109581.5",
         "109749.8",
         "1436.947",
         "False",
         "False"
        ],
        [
         "105116",
         "2025-07-03 19:15:00",
         "109749.8",
         "109865.9",
         "109709.5",
         "109824.9",
         "681.06",
         "False",
         "False"
        ],
        [
         "105117",
         "2025-07-03 19:30:00",
         "109824.9",
         "109825.0",
         "109620.8",
         "109771.3",
         "582.974",
         "False",
         "False"
        ],
        [
         "105118",
         "2025-07-03 19:45:00",
         "109771.3",
         "109771.3",
         "109628.0",
         "109743.9",
         "462.942",
         "False",
         "False"
        ]
       ],
       "shape": {
        "columns": 8,
        "rows": 5
       }
      },
      "text/html": [
       "<div>\n",
       "<style scoped>\n",
       "    .dataframe tbody tr th:only-of-type {\n",
       "        vertical-align: middle;\n",
       "    }\n",
       "\n",
       "    .dataframe tbody tr th {\n",
       "        vertical-align: top;\n",
       "    }\n",
       "\n",
       "    .dataframe thead th {\n",
       "        text-align: right;\n",
       "    }\n",
       "</style>\n",
       "<table border=\"1\" class=\"dataframe\">\n",
       "  <thead>\n",
       "    <tr style=\"text-align: right;\">\n",
       "      <th></th>\n",
       "      <th>timestamp</th>\n",
       "      <th>open</th>\n",
       "      <th>high</th>\n",
       "      <th>low</th>\n",
       "      <th>close</th>\n",
       "      <th>volume</th>\n",
       "      <th>bullish_pin_bar</th>\n",
       "      <th>Weak follow up</th>\n",
       "    </tr>\n",
       "  </thead>\n",
       "  <tbody>\n",
       "    <tr>\n",
       "      <th>105114</th>\n",
       "      <td>2025-07-03 18:45:00</td>\n",
       "      <td>109558.0</td>\n",
       "      <td>109637.9</td>\n",
       "      <td>109488.8</td>\n",
       "      <td>109637.8</td>\n",
       "      <td>406.823</td>\n",
       "      <td>False</td>\n",
       "      <td>False</td>\n",
       "    </tr>\n",
       "    <tr>\n",
       "      <th>105115</th>\n",
       "      <td>2025-07-03 19:00:00</td>\n",
       "      <td>109637.8</td>\n",
       "      <td>109825.0</td>\n",
       "      <td>109581.5</td>\n",
       "      <td>109749.8</td>\n",
       "      <td>1436.947</td>\n",
       "      <td>False</td>\n",
       "      <td>False</td>\n",
       "    </tr>\n",
       "    <tr>\n",
       "      <th>105116</th>\n",
       "      <td>2025-07-03 19:15:00</td>\n",
       "      <td>109749.8</td>\n",
       "      <td>109865.9</td>\n",
       "      <td>109709.5</td>\n",
       "      <td>109824.9</td>\n",
       "      <td>681.060</td>\n",
       "      <td>False</td>\n",
       "      <td>False</td>\n",
       "    </tr>\n",
       "    <tr>\n",
       "      <th>105117</th>\n",
       "      <td>2025-07-03 19:30:00</td>\n",
       "      <td>109824.9</td>\n",
       "      <td>109825.0</td>\n",
       "      <td>109620.8</td>\n",
       "      <td>109771.3</td>\n",
       "      <td>582.974</td>\n",
       "      <td>False</td>\n",
       "      <td>False</td>\n",
       "    </tr>\n",
       "    <tr>\n",
       "      <th>105118</th>\n",
       "      <td>2025-07-03 19:45:00</td>\n",
       "      <td>109771.3</td>\n",
       "      <td>109771.3</td>\n",
       "      <td>109628.0</td>\n",
       "      <td>109743.9</td>\n",
       "      <td>462.942</td>\n",
       "      <td>False</td>\n",
       "      <td>False</td>\n",
       "    </tr>\n",
       "  </tbody>\n",
       "</table>\n",
       "</div>"
      ],
      "text/plain": [
       "                  timestamp      open      high       low     close    volume  \\\n",
       "105114  2025-07-03 18:45:00  109558.0  109637.9  109488.8  109637.8   406.823   \n",
       "105115  2025-07-03 19:00:00  109637.8  109825.0  109581.5  109749.8  1436.947   \n",
       "105116  2025-07-03 19:15:00  109749.8  109865.9  109709.5  109824.9   681.060   \n",
       "105117  2025-07-03 19:30:00  109824.9  109825.0  109620.8  109771.3   582.974   \n",
       "105118  2025-07-03 19:45:00  109771.3  109771.3  109628.0  109743.9   462.942   \n",
       "\n",
       "        bullish_pin_bar Weak follow up  \n",
       "105114            False          False  \n",
       "105115            False          False  \n",
       "105116            False          False  \n",
       "105117            False          False  \n",
       "105118            False          False  "
      ]
     },
     "execution_count": 107,
     "metadata": {},
     "output_type": "execute_result"
    }
   ],
   "source": [
    "# Adding the follow up status to pin bars\n",
    "follow_through = []\n",
    "for i in range(len(btcusdt_15min_df) - 1):\n",
    "    if(btcusdt_15min_df.loc[i, 'bullish_pin_bar']):\n",
    "        pin_bar_volume = btcusdt_15min_df.loc[i, 'volume']\n",
    "        next_bar_volume = btcusdt_15min_df.loc[i+1, 'volume']\n",
    "        pin_bar_move = btcusdt_15min_df.loc[i,'close'] - btcusdt_15min_df.loc[i,'open']\n",
    "        next_bar_move = btcusdt_15min_df.loc[i+1,'close'] - btcusdt_15min_df.loc[i+1,'open']\n",
    "        if(next_bar_move > pin_bar_move and next_bar_volume < pin_bar_volume):\n",
    "            follow_through.append('True')\n",
    "        else:\n",
    "            follow_through.append('False')\n",
    "    else:\n",
    "        follow_through.append('False')\n",
    "follow_through.append('False')\n",
    "btcusdt_15min_df['Weak follow up'] = follow_through\n",
    "btcusdt_15min_df.tail()"
   ]
  },
  {
   "cell_type": "code",
   "execution_count": 108,
   "id": "48ec9e76",
   "metadata": {},
   "outputs": [
    {
     "data": {
      "application/vnd.microsoft.datawrangler.viewer.v0+json": {
       "columns": [
        {
         "name": "index",
         "rawType": "int64",
         "type": "integer"
        },
        {
         "name": "timestamp",
         "rawType": "object",
         "type": "string"
        },
        {
         "name": "open",
         "rawType": "float64",
         "type": "float"
        },
        {
         "name": "high",
         "rawType": "float64",
         "type": "float"
        },
        {
         "name": "low",
         "rawType": "float64",
         "type": "float"
        },
        {
         "name": "close",
         "rawType": "float64",
         "type": "float"
        },
        {
         "name": "volume",
         "rawType": "float64",
         "type": "float"
        },
        {
         "name": "bullish_pin_bar",
         "rawType": "bool",
         "type": "boolean"
        },
        {
         "name": "Weak follow up",
         "rawType": "object",
         "type": "string"
        },
        {
         "name": "Weak Low Tested",
         "rawType": "object",
         "type": "string"
        }
       ],
       "ref": "04fc502d-0cc8-474b-9eb2-d68dad309e38",
       "rows": [
        [
         "105114",
         "2025-07-03 18:45:00",
         "109558.0",
         "109637.9",
         "109488.8",
         "109637.8",
         "406.823",
         "False",
         "False",
         "False"
        ],
        [
         "105115",
         "2025-07-03 19:00:00",
         "109637.8",
         "109825.0",
         "109581.5",
         "109749.8",
         "1436.947",
         "False",
         "False",
         "False"
        ],
        [
         "105116",
         "2025-07-03 19:15:00",
         "109749.8",
         "109865.9",
         "109709.5",
         "109824.9",
         "681.06",
         "False",
         "False",
         "False"
        ],
        [
         "105117",
         "2025-07-03 19:30:00",
         "109824.9",
         "109825.0",
         "109620.8",
         "109771.3",
         "582.974",
         "False",
         "False",
         "False"
        ],
        [
         "105118",
         "2025-07-03 19:45:00",
         "109771.3",
         "109771.3",
         "109628.0",
         "109743.9",
         "462.942",
         "False",
         "False",
         "False"
        ]
       ],
       "shape": {
        "columns": 9,
        "rows": 5
       }
      },
      "text/html": [
       "<div>\n",
       "<style scoped>\n",
       "    .dataframe tbody tr th:only-of-type {\n",
       "        vertical-align: middle;\n",
       "    }\n",
       "\n",
       "    .dataframe tbody tr th {\n",
       "        vertical-align: top;\n",
       "    }\n",
       "\n",
       "    .dataframe thead th {\n",
       "        text-align: right;\n",
       "    }\n",
       "</style>\n",
       "<table border=\"1\" class=\"dataframe\">\n",
       "  <thead>\n",
       "    <tr style=\"text-align: right;\">\n",
       "      <th></th>\n",
       "      <th>timestamp</th>\n",
       "      <th>open</th>\n",
       "      <th>high</th>\n",
       "      <th>low</th>\n",
       "      <th>close</th>\n",
       "      <th>volume</th>\n",
       "      <th>bullish_pin_bar</th>\n",
       "      <th>Weak follow up</th>\n",
       "      <th>Weak Low Tested</th>\n",
       "    </tr>\n",
       "  </thead>\n",
       "  <tbody>\n",
       "    <tr>\n",
       "      <th>105114</th>\n",
       "      <td>2025-07-03 18:45:00</td>\n",
       "      <td>109558.0</td>\n",
       "      <td>109637.9</td>\n",
       "      <td>109488.8</td>\n",
       "      <td>109637.8</td>\n",
       "      <td>406.823</td>\n",
       "      <td>False</td>\n",
       "      <td>False</td>\n",
       "      <td>False</td>\n",
       "    </tr>\n",
       "    <tr>\n",
       "      <th>105115</th>\n",
       "      <td>2025-07-03 19:00:00</td>\n",
       "      <td>109637.8</td>\n",
       "      <td>109825.0</td>\n",
       "      <td>109581.5</td>\n",
       "      <td>109749.8</td>\n",
       "      <td>1436.947</td>\n",
       "      <td>False</td>\n",
       "      <td>False</td>\n",
       "      <td>False</td>\n",
       "    </tr>\n",
       "    <tr>\n",
       "      <th>105116</th>\n",
       "      <td>2025-07-03 19:15:00</td>\n",
       "      <td>109749.8</td>\n",
       "      <td>109865.9</td>\n",
       "      <td>109709.5</td>\n",
       "      <td>109824.9</td>\n",
       "      <td>681.060</td>\n",
       "      <td>False</td>\n",
       "      <td>False</td>\n",
       "      <td>False</td>\n",
       "    </tr>\n",
       "    <tr>\n",
       "      <th>105117</th>\n",
       "      <td>2025-07-03 19:30:00</td>\n",
       "      <td>109824.9</td>\n",
       "      <td>109825.0</td>\n",
       "      <td>109620.8</td>\n",
       "      <td>109771.3</td>\n",
       "      <td>582.974</td>\n",
       "      <td>False</td>\n",
       "      <td>False</td>\n",
       "      <td>False</td>\n",
       "    </tr>\n",
       "    <tr>\n",
       "      <th>105118</th>\n",
       "      <td>2025-07-03 19:45:00</td>\n",
       "      <td>109771.3</td>\n",
       "      <td>109771.3</td>\n",
       "      <td>109628.0</td>\n",
       "      <td>109743.9</td>\n",
       "      <td>462.942</td>\n",
       "      <td>False</td>\n",
       "      <td>False</td>\n",
       "      <td>False</td>\n",
       "    </tr>\n",
       "  </tbody>\n",
       "</table>\n",
       "</div>"
      ],
      "text/plain": [
       "                  timestamp      open      high       low     close    volume  \\\n",
       "105114  2025-07-03 18:45:00  109558.0  109637.9  109488.8  109637.8   406.823   \n",
       "105115  2025-07-03 19:00:00  109637.8  109825.0  109581.5  109749.8  1436.947   \n",
       "105116  2025-07-03 19:15:00  109749.8  109865.9  109709.5  109824.9   681.060   \n",
       "105117  2025-07-03 19:30:00  109824.9  109825.0  109620.8  109771.3   582.974   \n",
       "105118  2025-07-03 19:45:00  109771.3  109771.3  109628.0  109743.9   462.942   \n",
       "\n",
       "        bullish_pin_bar Weak follow up Weak Low Tested  \n",
       "105114            False          False           False  \n",
       "105115            False          False           False  \n",
       "105116            False          False           False  \n",
       "105117            False          False           False  \n",
       "105118            False          False           False  "
      ]
     },
     "execution_count": 108,
     "metadata": {},
     "output_type": "execute_result"
    }
   ],
   "source": [
    "# Checking if lows of weak pin bars got tested\n",
    "lows_tested = ['False']*len(btcusdt_15min_df)\n",
    "for i in range(len(btcusdt_15min_df) - 1):\n",
    "    if(btcusdt_15min_df.loc[i, 'Weak follow up'] == 'True'):\n",
    "        pin_bar_low = btcusdt_15min_df.loc[i, 'low']\n",
    "        for j in range(i+1, len(btcusdt_15min_df)):\n",
    "            if(btcusdt_15min_df.loc[j, 'low'] < pin_bar_low):\n",
    "                lows_tested[i] = 'True'\n",
    "                break\n",
    "btcusdt_15min_df['Weak Low Tested'] = lows_tested\n",
    "btcusdt_15min_df.tail()"
   ]
  },
  {
   "cell_type": "code",
   "execution_count": 109,
   "id": "367735eb",
   "metadata": {},
   "outputs": [
    {
     "data": {
      "application/vnd.microsoft.datawrangler.viewer.v0+json": {
       "columns": [
        {
         "name": "index",
         "rawType": "int64",
         "type": "integer"
        },
        {
         "name": "timestamp",
         "rawType": "object",
         "type": "string"
        },
        {
         "name": "open",
         "rawType": "float64",
         "type": "float"
        },
        {
         "name": "high",
         "rawType": "float64",
         "type": "float"
        },
        {
         "name": "low",
         "rawType": "float64",
         "type": "float"
        },
        {
         "name": "close",
         "rawType": "float64",
         "type": "float"
        },
        {
         "name": "volume",
         "rawType": "float64",
         "type": "float"
        },
        {
         "name": "bullish_pin_bar",
         "rawType": "bool",
         "type": "boolean"
        },
        {
         "name": "Weak follow up",
         "rawType": "object",
         "type": "string"
        },
        {
         "name": "Weak Low Tested",
         "rawType": "object",
         "type": "string"
        },
        {
         "name": "bearish_pin_bar",
         "rawType": "bool",
         "type": "boolean"
        }
       ],
       "ref": "ca3a2de9-b082-411b-8e06-a9f93463152f",
       "rows": [
        [
         "105114",
         "2025-07-03 18:45:00",
         "109558.0",
         "109637.9",
         "109488.8",
         "109637.8",
         "406.823",
         "False",
         "False",
         "False",
         "False"
        ],
        [
         "105115",
         "2025-07-03 19:00:00",
         "109637.8",
         "109825.0",
         "109581.5",
         "109749.8",
         "1436.947",
         "False",
         "False",
         "False",
         "False"
        ],
        [
         "105116",
         "2025-07-03 19:15:00",
         "109749.8",
         "109865.9",
         "109709.5",
         "109824.9",
         "681.06",
         "False",
         "False",
         "False",
         "False"
        ],
        [
         "105117",
         "2025-07-03 19:30:00",
         "109824.9",
         "109825.0",
         "109620.8",
         "109771.3",
         "582.974",
         "False",
         "False",
         "False",
         "False"
        ],
        [
         "105118",
         "2025-07-03 19:45:00",
         "109771.3",
         "109771.3",
         "109628.0",
         "109743.9",
         "462.942",
         "False",
         "False",
         "False",
         "False"
        ]
       ],
       "shape": {
        "columns": 10,
        "rows": 5
       }
      },
      "text/html": [
       "<div>\n",
       "<style scoped>\n",
       "    .dataframe tbody tr th:only-of-type {\n",
       "        vertical-align: middle;\n",
       "    }\n",
       "\n",
       "    .dataframe tbody tr th {\n",
       "        vertical-align: top;\n",
       "    }\n",
       "\n",
       "    .dataframe thead th {\n",
       "        text-align: right;\n",
       "    }\n",
       "</style>\n",
       "<table border=\"1\" class=\"dataframe\">\n",
       "  <thead>\n",
       "    <tr style=\"text-align: right;\">\n",
       "      <th></th>\n",
       "      <th>timestamp</th>\n",
       "      <th>open</th>\n",
       "      <th>high</th>\n",
       "      <th>low</th>\n",
       "      <th>close</th>\n",
       "      <th>volume</th>\n",
       "      <th>bullish_pin_bar</th>\n",
       "      <th>Weak follow up</th>\n",
       "      <th>Weak Low Tested</th>\n",
       "      <th>bearish_pin_bar</th>\n",
       "    </tr>\n",
       "  </thead>\n",
       "  <tbody>\n",
       "    <tr>\n",
       "      <th>105114</th>\n",
       "      <td>2025-07-03 18:45:00</td>\n",
       "      <td>109558.0</td>\n",
       "      <td>109637.9</td>\n",
       "      <td>109488.8</td>\n",
       "      <td>109637.8</td>\n",
       "      <td>406.823</td>\n",
       "      <td>False</td>\n",
       "      <td>False</td>\n",
       "      <td>False</td>\n",
       "      <td>False</td>\n",
       "    </tr>\n",
       "    <tr>\n",
       "      <th>105115</th>\n",
       "      <td>2025-07-03 19:00:00</td>\n",
       "      <td>109637.8</td>\n",
       "      <td>109825.0</td>\n",
       "      <td>109581.5</td>\n",
       "      <td>109749.8</td>\n",
       "      <td>1436.947</td>\n",
       "      <td>False</td>\n",
       "      <td>False</td>\n",
       "      <td>False</td>\n",
       "      <td>False</td>\n",
       "    </tr>\n",
       "    <tr>\n",
       "      <th>105116</th>\n",
       "      <td>2025-07-03 19:15:00</td>\n",
       "      <td>109749.8</td>\n",
       "      <td>109865.9</td>\n",
       "      <td>109709.5</td>\n",
       "      <td>109824.9</td>\n",
       "      <td>681.060</td>\n",
       "      <td>False</td>\n",
       "      <td>False</td>\n",
       "      <td>False</td>\n",
       "      <td>False</td>\n",
       "    </tr>\n",
       "    <tr>\n",
       "      <th>105117</th>\n",
       "      <td>2025-07-03 19:30:00</td>\n",
       "      <td>109824.9</td>\n",
       "      <td>109825.0</td>\n",
       "      <td>109620.8</td>\n",
       "      <td>109771.3</td>\n",
       "      <td>582.974</td>\n",
       "      <td>False</td>\n",
       "      <td>False</td>\n",
       "      <td>False</td>\n",
       "      <td>False</td>\n",
       "    </tr>\n",
       "    <tr>\n",
       "      <th>105118</th>\n",
       "      <td>2025-07-03 19:45:00</td>\n",
       "      <td>109771.3</td>\n",
       "      <td>109771.3</td>\n",
       "      <td>109628.0</td>\n",
       "      <td>109743.9</td>\n",
       "      <td>462.942</td>\n",
       "      <td>False</td>\n",
       "      <td>False</td>\n",
       "      <td>False</td>\n",
       "      <td>False</td>\n",
       "    </tr>\n",
       "  </tbody>\n",
       "</table>\n",
       "</div>"
      ],
      "text/plain": [
       "                  timestamp      open      high       low     close    volume  \\\n",
       "105114  2025-07-03 18:45:00  109558.0  109637.9  109488.8  109637.8   406.823   \n",
       "105115  2025-07-03 19:00:00  109637.8  109825.0  109581.5  109749.8  1436.947   \n",
       "105116  2025-07-03 19:15:00  109749.8  109865.9  109709.5  109824.9   681.060   \n",
       "105117  2025-07-03 19:30:00  109824.9  109825.0  109620.8  109771.3   582.974   \n",
       "105118  2025-07-03 19:45:00  109771.3  109771.3  109628.0  109743.9   462.942   \n",
       "\n",
       "        bullish_pin_bar Weak follow up Weak Low Tested  bearish_pin_bar  \n",
       "105114            False          False           False            False  \n",
       "105115            False          False           False            False  \n",
       "105116            False          False           False            False  \n",
       "105117            False          False           False            False  \n",
       "105118            False          False           False            False  "
      ]
     },
     "execution_count": 109,
     "metadata": {},
     "output_type": "execute_result"
    }
   ],
   "source": [
    "# Defining bearish pin bars\n",
    "def is_bearish_pin_bar(row):\n",
    "    o_price = row['open']\n",
    "    h_price = row['high']\n",
    "    l_price = row['low']\n",
    "    c_price = row['close']\n",
    "\n",
    "    body = abs(c_price - o_price)\n",
    "    upper_wick = h_price - max(c_price, o_price)\n",
    "    lower_wick = min(o_price, c_price) - l_price\n",
    "    price_range = h_price - l_price\n",
    "    if(price_range == 0):\n",
    "        return False\n",
    "    body_ratio = body/price_range\n",
    "\n",
    "    if(c_price <= o_price):\n",
    "        if(upper_wick > lower_wick and body_ratio < 0.5):\n",
    "            return True\n",
    "        else:\n",
    "            return False\n",
    "    return False\n",
    "\n",
    "btcusdt_15min_df['bearish_pin_bar'] = btcusdt_15min_df.apply(is_bearish_pin_bar, axis=1)\n",
    "btcusdt_15min_df.tail()"
   ]
  },
  {
   "cell_type": "code",
   "execution_count": 110,
   "id": "09f2a078",
   "metadata": {},
   "outputs": [
    {
     "data": {
      "application/vnd.microsoft.datawrangler.viewer.v0+json": {
       "columns": [
        {
         "name": "index",
         "rawType": "int64",
         "type": "integer"
        },
        {
         "name": "timestamp",
         "rawType": "object",
         "type": "string"
        },
        {
         "name": "open",
         "rawType": "float64",
         "type": "float"
        },
        {
         "name": "high",
         "rawType": "float64",
         "type": "float"
        },
        {
         "name": "low",
         "rawType": "float64",
         "type": "float"
        },
        {
         "name": "close",
         "rawType": "float64",
         "type": "float"
        },
        {
         "name": "volume",
         "rawType": "float64",
         "type": "float"
        },
        {
         "name": "bullish_pin_bar",
         "rawType": "bool",
         "type": "boolean"
        },
        {
         "name": "Weak follow up",
         "rawType": "object",
         "type": "string"
        },
        {
         "name": "Weak Low Tested",
         "rawType": "object",
         "type": "string"
        },
        {
         "name": "bearish_pin_bar",
         "rawType": "bool",
         "type": "boolean"
        },
        {
         "name": "Weak follow down",
         "rawType": "object",
         "type": "string"
        }
       ],
       "ref": "64424f8e-1b34-4523-bb9c-bf29d84a0095",
       "rows": [
        [
         "105114",
         "2025-07-03 18:45:00",
         "109558.0",
         "109637.9",
         "109488.8",
         "109637.8",
         "406.823",
         "False",
         "False",
         "False",
         "False",
         "False"
        ],
        [
         "105115",
         "2025-07-03 19:00:00",
         "109637.8",
         "109825.0",
         "109581.5",
         "109749.8",
         "1436.947",
         "False",
         "False",
         "False",
         "False",
         "False"
        ],
        [
         "105116",
         "2025-07-03 19:15:00",
         "109749.8",
         "109865.9",
         "109709.5",
         "109824.9",
         "681.06",
         "False",
         "False",
         "False",
         "False",
         "False"
        ],
        [
         "105117",
         "2025-07-03 19:30:00",
         "109824.9",
         "109825.0",
         "109620.8",
         "109771.3",
         "582.974",
         "False",
         "False",
         "False",
         "False",
         "False"
        ],
        [
         "105118",
         "2025-07-03 19:45:00",
         "109771.3",
         "109771.3",
         "109628.0",
         "109743.9",
         "462.942",
         "False",
         "False",
         "False",
         "False",
         "False"
        ]
       ],
       "shape": {
        "columns": 11,
        "rows": 5
       }
      },
      "text/html": [
       "<div>\n",
       "<style scoped>\n",
       "    .dataframe tbody tr th:only-of-type {\n",
       "        vertical-align: middle;\n",
       "    }\n",
       "\n",
       "    .dataframe tbody tr th {\n",
       "        vertical-align: top;\n",
       "    }\n",
       "\n",
       "    .dataframe thead th {\n",
       "        text-align: right;\n",
       "    }\n",
       "</style>\n",
       "<table border=\"1\" class=\"dataframe\">\n",
       "  <thead>\n",
       "    <tr style=\"text-align: right;\">\n",
       "      <th></th>\n",
       "      <th>timestamp</th>\n",
       "      <th>open</th>\n",
       "      <th>high</th>\n",
       "      <th>low</th>\n",
       "      <th>close</th>\n",
       "      <th>volume</th>\n",
       "      <th>bullish_pin_bar</th>\n",
       "      <th>Weak follow up</th>\n",
       "      <th>Weak Low Tested</th>\n",
       "      <th>bearish_pin_bar</th>\n",
       "      <th>Weak follow down</th>\n",
       "    </tr>\n",
       "  </thead>\n",
       "  <tbody>\n",
       "    <tr>\n",
       "      <th>105114</th>\n",
       "      <td>2025-07-03 18:45:00</td>\n",
       "      <td>109558.0</td>\n",
       "      <td>109637.9</td>\n",
       "      <td>109488.8</td>\n",
       "      <td>109637.8</td>\n",
       "      <td>406.823</td>\n",
       "      <td>False</td>\n",
       "      <td>False</td>\n",
       "      <td>False</td>\n",
       "      <td>False</td>\n",
       "      <td>False</td>\n",
       "    </tr>\n",
       "    <tr>\n",
       "      <th>105115</th>\n",
       "      <td>2025-07-03 19:00:00</td>\n",
       "      <td>109637.8</td>\n",
       "      <td>109825.0</td>\n",
       "      <td>109581.5</td>\n",
       "      <td>109749.8</td>\n",
       "      <td>1436.947</td>\n",
       "      <td>False</td>\n",
       "      <td>False</td>\n",
       "      <td>False</td>\n",
       "      <td>False</td>\n",
       "      <td>False</td>\n",
       "    </tr>\n",
       "    <tr>\n",
       "      <th>105116</th>\n",
       "      <td>2025-07-03 19:15:00</td>\n",
       "      <td>109749.8</td>\n",
       "      <td>109865.9</td>\n",
       "      <td>109709.5</td>\n",
       "      <td>109824.9</td>\n",
       "      <td>681.060</td>\n",
       "      <td>False</td>\n",
       "      <td>False</td>\n",
       "      <td>False</td>\n",
       "      <td>False</td>\n",
       "      <td>False</td>\n",
       "    </tr>\n",
       "    <tr>\n",
       "      <th>105117</th>\n",
       "      <td>2025-07-03 19:30:00</td>\n",
       "      <td>109824.9</td>\n",
       "      <td>109825.0</td>\n",
       "      <td>109620.8</td>\n",
       "      <td>109771.3</td>\n",
       "      <td>582.974</td>\n",
       "      <td>False</td>\n",
       "      <td>False</td>\n",
       "      <td>False</td>\n",
       "      <td>False</td>\n",
       "      <td>False</td>\n",
       "    </tr>\n",
       "    <tr>\n",
       "      <th>105118</th>\n",
       "      <td>2025-07-03 19:45:00</td>\n",
       "      <td>109771.3</td>\n",
       "      <td>109771.3</td>\n",
       "      <td>109628.0</td>\n",
       "      <td>109743.9</td>\n",
       "      <td>462.942</td>\n",
       "      <td>False</td>\n",
       "      <td>False</td>\n",
       "      <td>False</td>\n",
       "      <td>False</td>\n",
       "      <td>False</td>\n",
       "    </tr>\n",
       "  </tbody>\n",
       "</table>\n",
       "</div>"
      ],
      "text/plain": [
       "                  timestamp      open      high       low     close    volume  \\\n",
       "105114  2025-07-03 18:45:00  109558.0  109637.9  109488.8  109637.8   406.823   \n",
       "105115  2025-07-03 19:00:00  109637.8  109825.0  109581.5  109749.8  1436.947   \n",
       "105116  2025-07-03 19:15:00  109749.8  109865.9  109709.5  109824.9   681.060   \n",
       "105117  2025-07-03 19:30:00  109824.9  109825.0  109620.8  109771.3   582.974   \n",
       "105118  2025-07-03 19:45:00  109771.3  109771.3  109628.0  109743.9   462.942   \n",
       "\n",
       "        bullish_pin_bar Weak follow up Weak Low Tested  bearish_pin_bar  \\\n",
       "105114            False          False           False            False   \n",
       "105115            False          False           False            False   \n",
       "105116            False          False           False            False   \n",
       "105117            False          False           False            False   \n",
       "105118            False          False           False            False   \n",
       "\n",
       "       Weak follow down  \n",
       "105114            False  \n",
       "105115            False  \n",
       "105116            False  \n",
       "105117            False  \n",
       "105118            False  "
      ]
     },
     "execution_count": 110,
     "metadata": {},
     "output_type": "execute_result"
    }
   ],
   "source": [
    "# Checking for weak follow down\n",
    "follow_through = []\n",
    "for i in range(len(btcusdt_15min_df) - 1):\n",
    "    if(btcusdt_15min_df.loc[i, 'bearish_pin_bar']):\n",
    "        pin_bar_volume = btcusdt_15min_df.loc[i, 'volume']\n",
    "        next_bar_volume = btcusdt_15min_df.loc[i+1, 'volume']\n",
    "        pin_bar_move = btcusdt_15min_df.loc[i,'open'] - btcusdt_15min_df.loc[i,'close']\n",
    "        next_bar_move = btcusdt_15min_df.loc[i+1,'open'] - btcusdt_15min_df.loc[i+1,'close']\n",
    "        if(next_bar_move > pin_bar_move and next_bar_volume < pin_bar_volume):\n",
    "            follow_through.append('True')\n",
    "        else:\n",
    "            follow_through.append('False')\n",
    "    else:\n",
    "        follow_through.append('False')\n",
    "follow_through.append('False')\n",
    "btcusdt_15min_df['Weak follow down'] = follow_through\n",
    "btcusdt_15min_df.tail()"
   ]
  },
  {
   "cell_type": "code",
   "execution_count": 111,
   "id": "a8e4e5dd",
   "metadata": {},
   "outputs": [
    {
     "data": {
      "application/vnd.microsoft.datawrangler.viewer.v0+json": {
       "columns": [
        {
         "name": "index",
         "rawType": "int64",
         "type": "integer"
        },
        {
         "name": "timestamp",
         "rawType": "object",
         "type": "string"
        },
        {
         "name": "open",
         "rawType": "float64",
         "type": "float"
        },
        {
         "name": "high",
         "rawType": "float64",
         "type": "float"
        },
        {
         "name": "low",
         "rawType": "float64",
         "type": "float"
        },
        {
         "name": "close",
         "rawType": "float64",
         "type": "float"
        },
        {
         "name": "volume",
         "rawType": "float64",
         "type": "float"
        },
        {
         "name": "bullish_pin_bar",
         "rawType": "bool",
         "type": "boolean"
        },
        {
         "name": "Weak follow up",
         "rawType": "object",
         "type": "string"
        },
        {
         "name": "Weak Low Tested",
         "rawType": "object",
         "type": "string"
        },
        {
         "name": "bearish_pin_bar",
         "rawType": "bool",
         "type": "boolean"
        },
        {
         "name": "Weak follow down",
         "rawType": "object",
         "type": "string"
        },
        {
         "name": "Weak High Tested",
         "rawType": "object",
         "type": "string"
        }
       ],
       "ref": "45a1f3e3-8560-4458-8205-fc6deb5f8b70",
       "rows": [
        [
         "105114",
         "2025-07-03 18:45:00",
         "109558.0",
         "109637.9",
         "109488.8",
         "109637.8",
         "406.823",
         "False",
         "False",
         "False",
         "False",
         "False",
         "False"
        ],
        [
         "105115",
         "2025-07-03 19:00:00",
         "109637.8",
         "109825.0",
         "109581.5",
         "109749.8",
         "1436.947",
         "False",
         "False",
         "False",
         "False",
         "False",
         "False"
        ],
        [
         "105116",
         "2025-07-03 19:15:00",
         "109749.8",
         "109865.9",
         "109709.5",
         "109824.9",
         "681.06",
         "False",
         "False",
         "False",
         "False",
         "False",
         "False"
        ],
        [
         "105117",
         "2025-07-03 19:30:00",
         "109824.9",
         "109825.0",
         "109620.8",
         "109771.3",
         "582.974",
         "False",
         "False",
         "False",
         "False",
         "False",
         "False"
        ],
        [
         "105118",
         "2025-07-03 19:45:00",
         "109771.3",
         "109771.3",
         "109628.0",
         "109743.9",
         "462.942",
         "False",
         "False",
         "False",
         "False",
         "False",
         "False"
        ]
       ],
       "shape": {
        "columns": 12,
        "rows": 5
       }
      },
      "text/html": [
       "<div>\n",
       "<style scoped>\n",
       "    .dataframe tbody tr th:only-of-type {\n",
       "        vertical-align: middle;\n",
       "    }\n",
       "\n",
       "    .dataframe tbody tr th {\n",
       "        vertical-align: top;\n",
       "    }\n",
       "\n",
       "    .dataframe thead th {\n",
       "        text-align: right;\n",
       "    }\n",
       "</style>\n",
       "<table border=\"1\" class=\"dataframe\">\n",
       "  <thead>\n",
       "    <tr style=\"text-align: right;\">\n",
       "      <th></th>\n",
       "      <th>timestamp</th>\n",
       "      <th>open</th>\n",
       "      <th>high</th>\n",
       "      <th>low</th>\n",
       "      <th>close</th>\n",
       "      <th>volume</th>\n",
       "      <th>bullish_pin_bar</th>\n",
       "      <th>Weak follow up</th>\n",
       "      <th>Weak Low Tested</th>\n",
       "      <th>bearish_pin_bar</th>\n",
       "      <th>Weak follow down</th>\n",
       "      <th>Weak High Tested</th>\n",
       "    </tr>\n",
       "  </thead>\n",
       "  <tbody>\n",
       "    <tr>\n",
       "      <th>105114</th>\n",
       "      <td>2025-07-03 18:45:00</td>\n",
       "      <td>109558.0</td>\n",
       "      <td>109637.9</td>\n",
       "      <td>109488.8</td>\n",
       "      <td>109637.8</td>\n",
       "      <td>406.823</td>\n",
       "      <td>False</td>\n",
       "      <td>False</td>\n",
       "      <td>False</td>\n",
       "      <td>False</td>\n",
       "      <td>False</td>\n",
       "      <td>False</td>\n",
       "    </tr>\n",
       "    <tr>\n",
       "      <th>105115</th>\n",
       "      <td>2025-07-03 19:00:00</td>\n",
       "      <td>109637.8</td>\n",
       "      <td>109825.0</td>\n",
       "      <td>109581.5</td>\n",
       "      <td>109749.8</td>\n",
       "      <td>1436.947</td>\n",
       "      <td>False</td>\n",
       "      <td>False</td>\n",
       "      <td>False</td>\n",
       "      <td>False</td>\n",
       "      <td>False</td>\n",
       "      <td>False</td>\n",
       "    </tr>\n",
       "    <tr>\n",
       "      <th>105116</th>\n",
       "      <td>2025-07-03 19:15:00</td>\n",
       "      <td>109749.8</td>\n",
       "      <td>109865.9</td>\n",
       "      <td>109709.5</td>\n",
       "      <td>109824.9</td>\n",
       "      <td>681.060</td>\n",
       "      <td>False</td>\n",
       "      <td>False</td>\n",
       "      <td>False</td>\n",
       "      <td>False</td>\n",
       "      <td>False</td>\n",
       "      <td>False</td>\n",
       "    </tr>\n",
       "    <tr>\n",
       "      <th>105117</th>\n",
       "      <td>2025-07-03 19:30:00</td>\n",
       "      <td>109824.9</td>\n",
       "      <td>109825.0</td>\n",
       "      <td>109620.8</td>\n",
       "      <td>109771.3</td>\n",
       "      <td>582.974</td>\n",
       "      <td>False</td>\n",
       "      <td>False</td>\n",
       "      <td>False</td>\n",
       "      <td>False</td>\n",
       "      <td>False</td>\n",
       "      <td>False</td>\n",
       "    </tr>\n",
       "    <tr>\n",
       "      <th>105118</th>\n",
       "      <td>2025-07-03 19:45:00</td>\n",
       "      <td>109771.3</td>\n",
       "      <td>109771.3</td>\n",
       "      <td>109628.0</td>\n",
       "      <td>109743.9</td>\n",
       "      <td>462.942</td>\n",
       "      <td>False</td>\n",
       "      <td>False</td>\n",
       "      <td>False</td>\n",
       "      <td>False</td>\n",
       "      <td>False</td>\n",
       "      <td>False</td>\n",
       "    </tr>\n",
       "  </tbody>\n",
       "</table>\n",
       "</div>"
      ],
      "text/plain": [
       "                  timestamp      open      high       low     close    volume  \\\n",
       "105114  2025-07-03 18:45:00  109558.0  109637.9  109488.8  109637.8   406.823   \n",
       "105115  2025-07-03 19:00:00  109637.8  109825.0  109581.5  109749.8  1436.947   \n",
       "105116  2025-07-03 19:15:00  109749.8  109865.9  109709.5  109824.9   681.060   \n",
       "105117  2025-07-03 19:30:00  109824.9  109825.0  109620.8  109771.3   582.974   \n",
       "105118  2025-07-03 19:45:00  109771.3  109771.3  109628.0  109743.9   462.942   \n",
       "\n",
       "        bullish_pin_bar Weak follow up Weak Low Tested  bearish_pin_bar  \\\n",
       "105114            False          False           False            False   \n",
       "105115            False          False           False            False   \n",
       "105116            False          False           False            False   \n",
       "105117            False          False           False            False   \n",
       "105118            False          False           False            False   \n",
       "\n",
       "       Weak follow down Weak High Tested  \n",
       "105114            False            False  \n",
       "105115            False            False  \n",
       "105116            False            False  \n",
       "105117            False            False  \n",
       "105118            False            False  "
      ]
     },
     "execution_count": 111,
     "metadata": {},
     "output_type": "execute_result"
    }
   ],
   "source": [
    "# Checking if highs of weak pin bars got tested\n",
    "highs_tested = ['False']*len(btcusdt_15min_df)\n",
    "for i in range(len(btcusdt_15min_df) - 1):\n",
    "    if(btcusdt_15min_df.loc[i, 'Weak follow down'] == 'True'):\n",
    "        pin_bar_high = btcusdt_15min_df.loc[i, 'high']\n",
    "        for j in range(i+1, len(btcusdt_15min_df)):\n",
    "            if(btcusdt_15min_df.loc[j, 'high'] > pin_bar_high):\n",
    "                highs_tested[i] = 'True'\n",
    "                break\n",
    "btcusdt_15min_df['Weak High Tested'] = highs_tested\n",
    "btcusdt_15min_df.tail()"
   ]
  },
  {
   "cell_type": "code",
   "execution_count": 112,
   "id": "dda8f94a",
   "metadata": {},
   "outputs": [],
   "source": [
    "# Saving the complete dataframe as a csv\n",
    "btcusdt_15min_df.to_csv('b_15min_analyzed.csv')"
   ]
  },
  {
   "cell_type": "code",
   "execution_count": 113,
   "id": "3ca2befb",
   "metadata": {},
   "outputs": [
    {
     "data": {
      "application/vnd.microsoft.datawrangler.viewer.v0+json": {
       "columns": [
        {
         "name": "index",
         "rawType": "int64",
         "type": "integer"
        },
        {
         "name": "timestamp",
         "rawType": "object",
         "type": "string"
        },
        {
         "name": "open",
         "rawType": "float64",
         "type": "float"
        },
        {
         "name": "high",
         "rawType": "float64",
         "type": "float"
        },
        {
         "name": "low",
         "rawType": "float64",
         "type": "float"
        },
        {
         "name": "close",
         "rawType": "float64",
         "type": "float"
        },
        {
         "name": "volume",
         "rawType": "float64",
         "type": "float"
        }
       ],
       "ref": "9410018a-7794-4d1f-9b4e-4871c1864cf3",
       "rows": [
        [
         "0",
         "2022-07-04 20:15:00",
         "19851.3",
         "19853.6",
         "19823.4",
         "19827.0",
         "483.921"
        ],
        [
         "1",
         "2022-07-04 20:20:00",
         "19827.1",
         "19842.4",
         "19719.5",
         "19746.0",
         "2721.178"
        ],
        [
         "2",
         "2022-07-04 20:25:00",
         "19746.0",
         "19793.6",
         "19736.1",
         "19776.6",
         "1317.099"
        ],
        [
         "3",
         "2022-07-04 20:30:00",
         "19776.7",
         "19776.7",
         "19735.5",
         "19763.2",
         "914.103"
        ],
        [
         "4",
         "2022-07-04 20:35:00",
         "19763.1",
         "19770.1",
         "19740.0",
         "19768.0",
         "666.151"
        ]
       ],
       "shape": {
        "columns": 6,
        "rows": 5
       }
      },
      "text/html": [
       "<div>\n",
       "<style scoped>\n",
       "    .dataframe tbody tr th:only-of-type {\n",
       "        vertical-align: middle;\n",
       "    }\n",
       "\n",
       "    .dataframe tbody tr th {\n",
       "        vertical-align: top;\n",
       "    }\n",
       "\n",
       "    .dataframe thead th {\n",
       "        text-align: right;\n",
       "    }\n",
       "</style>\n",
       "<table border=\"1\" class=\"dataframe\">\n",
       "  <thead>\n",
       "    <tr style=\"text-align: right;\">\n",
       "      <th></th>\n",
       "      <th>timestamp</th>\n",
       "      <th>open</th>\n",
       "      <th>high</th>\n",
       "      <th>low</th>\n",
       "      <th>close</th>\n",
       "      <th>volume</th>\n",
       "    </tr>\n",
       "  </thead>\n",
       "  <tbody>\n",
       "    <tr>\n",
       "      <th>0</th>\n",
       "      <td>2022-07-04 20:15:00</td>\n",
       "      <td>19851.3</td>\n",
       "      <td>19853.6</td>\n",
       "      <td>19823.4</td>\n",
       "      <td>19827.0</td>\n",
       "      <td>483.921</td>\n",
       "    </tr>\n",
       "    <tr>\n",
       "      <th>1</th>\n",
       "      <td>2022-07-04 20:20:00</td>\n",
       "      <td>19827.1</td>\n",
       "      <td>19842.4</td>\n",
       "      <td>19719.5</td>\n",
       "      <td>19746.0</td>\n",
       "      <td>2721.178</td>\n",
       "    </tr>\n",
       "    <tr>\n",
       "      <th>2</th>\n",
       "      <td>2022-07-04 20:25:00</td>\n",
       "      <td>19746.0</td>\n",
       "      <td>19793.6</td>\n",
       "      <td>19736.1</td>\n",
       "      <td>19776.6</td>\n",
       "      <td>1317.099</td>\n",
       "    </tr>\n",
       "    <tr>\n",
       "      <th>3</th>\n",
       "      <td>2022-07-04 20:30:00</td>\n",
       "      <td>19776.7</td>\n",
       "      <td>19776.7</td>\n",
       "      <td>19735.5</td>\n",
       "      <td>19763.2</td>\n",
       "      <td>914.103</td>\n",
       "    </tr>\n",
       "    <tr>\n",
       "      <th>4</th>\n",
       "      <td>2022-07-04 20:35:00</td>\n",
       "      <td>19763.1</td>\n",
       "      <td>19770.1</td>\n",
       "      <td>19740.0</td>\n",
       "      <td>19768.0</td>\n",
       "      <td>666.151</td>\n",
       "    </tr>\n",
       "  </tbody>\n",
       "</table>\n",
       "</div>"
      ],
      "text/plain": [
       "             timestamp     open     high      low    close    volume\n",
       "0  2022-07-04 20:15:00  19851.3  19853.6  19823.4  19827.0   483.921\n",
       "1  2022-07-04 20:20:00  19827.1  19842.4  19719.5  19746.0  2721.178\n",
       "2  2022-07-04 20:25:00  19746.0  19793.6  19736.1  19776.6  1317.099\n",
       "3  2022-07-04 20:30:00  19776.7  19776.7  19735.5  19763.2   914.103\n",
       "4  2022-07-04 20:35:00  19763.1  19770.1  19740.0  19768.0   666.151"
      ]
     },
     "execution_count": 113,
     "metadata": {},
     "output_type": "execute_result"
    }
   ],
   "source": [
    "# Working on 5 minutes time frame\n",
    "btcusdt_5min_data = pd.read_csv('BTCUSDT_5min.csv')\n",
    "btcusdt_5min_df = pd.DataFrame(btcusdt_5min_data)\n",
    "btcusdt_5min_df.head()"
   ]
  },
  {
   "cell_type": "code",
   "execution_count": 114,
   "id": "ea44b8ff",
   "metadata": {},
   "outputs": [
    {
     "data": {
      "application/vnd.microsoft.datawrangler.viewer.v0+json": {
       "columns": [
        {
         "name": "index",
         "rawType": "int64",
         "type": "integer"
        },
        {
         "name": "timestamp",
         "rawType": "object",
         "type": "string"
        },
        {
         "name": "open",
         "rawType": "float64",
         "type": "float"
        },
        {
         "name": "high",
         "rawType": "float64",
         "type": "float"
        },
        {
         "name": "low",
         "rawType": "float64",
         "type": "float"
        },
        {
         "name": "close",
         "rawType": "float64",
         "type": "float"
        },
        {
         "name": "volume",
         "rawType": "float64",
         "type": "float"
        },
        {
         "name": "bullish_pin_bar",
         "rawType": "bool",
         "type": "boolean"
        }
       ],
       "ref": "0132f62d-46e3-4761-b7c9-e666d7d9673e",
       "rows": [
        [
         "0",
         "2022-07-04 20:15:00",
         "19851.3",
         "19853.6",
         "19823.4",
         "19827.0",
         "483.921",
         "False"
        ],
        [
         "1",
         "2022-07-04 20:20:00",
         "19827.1",
         "19842.4",
         "19719.5",
         "19746.0",
         "2721.178",
         "False"
        ],
        [
         "2",
         "2022-07-04 20:25:00",
         "19746.0",
         "19793.6",
         "19736.1",
         "19776.6",
         "1317.099",
         "False"
        ],
        [
         "3",
         "2022-07-04 20:30:00",
         "19776.7",
         "19776.7",
         "19735.5",
         "19763.2",
         "914.103",
         "False"
        ],
        [
         "4",
         "2022-07-04 20:35:00",
         "19763.1",
         "19770.1",
         "19740.0",
         "19768.0",
         "666.151",
         "True"
        ]
       ],
       "shape": {
        "columns": 7,
        "rows": 5
       }
      },
      "text/html": [
       "<div>\n",
       "<style scoped>\n",
       "    .dataframe tbody tr th:only-of-type {\n",
       "        vertical-align: middle;\n",
       "    }\n",
       "\n",
       "    .dataframe tbody tr th {\n",
       "        vertical-align: top;\n",
       "    }\n",
       "\n",
       "    .dataframe thead th {\n",
       "        text-align: right;\n",
       "    }\n",
       "</style>\n",
       "<table border=\"1\" class=\"dataframe\">\n",
       "  <thead>\n",
       "    <tr style=\"text-align: right;\">\n",
       "      <th></th>\n",
       "      <th>timestamp</th>\n",
       "      <th>open</th>\n",
       "      <th>high</th>\n",
       "      <th>low</th>\n",
       "      <th>close</th>\n",
       "      <th>volume</th>\n",
       "      <th>bullish_pin_bar</th>\n",
       "    </tr>\n",
       "  </thead>\n",
       "  <tbody>\n",
       "    <tr>\n",
       "      <th>0</th>\n",
       "      <td>2022-07-04 20:15:00</td>\n",
       "      <td>19851.3</td>\n",
       "      <td>19853.6</td>\n",
       "      <td>19823.4</td>\n",
       "      <td>19827.0</td>\n",
       "      <td>483.921</td>\n",
       "      <td>False</td>\n",
       "    </tr>\n",
       "    <tr>\n",
       "      <th>1</th>\n",
       "      <td>2022-07-04 20:20:00</td>\n",
       "      <td>19827.1</td>\n",
       "      <td>19842.4</td>\n",
       "      <td>19719.5</td>\n",
       "      <td>19746.0</td>\n",
       "      <td>2721.178</td>\n",
       "      <td>False</td>\n",
       "    </tr>\n",
       "    <tr>\n",
       "      <th>2</th>\n",
       "      <td>2022-07-04 20:25:00</td>\n",
       "      <td>19746.0</td>\n",
       "      <td>19793.6</td>\n",
       "      <td>19736.1</td>\n",
       "      <td>19776.6</td>\n",
       "      <td>1317.099</td>\n",
       "      <td>False</td>\n",
       "    </tr>\n",
       "    <tr>\n",
       "      <th>3</th>\n",
       "      <td>2022-07-04 20:30:00</td>\n",
       "      <td>19776.7</td>\n",
       "      <td>19776.7</td>\n",
       "      <td>19735.5</td>\n",
       "      <td>19763.2</td>\n",
       "      <td>914.103</td>\n",
       "      <td>False</td>\n",
       "    </tr>\n",
       "    <tr>\n",
       "      <th>4</th>\n",
       "      <td>2022-07-04 20:35:00</td>\n",
       "      <td>19763.1</td>\n",
       "      <td>19770.1</td>\n",
       "      <td>19740.0</td>\n",
       "      <td>19768.0</td>\n",
       "      <td>666.151</td>\n",
       "      <td>True</td>\n",
       "    </tr>\n",
       "  </tbody>\n",
       "</table>\n",
       "</div>"
      ],
      "text/plain": [
       "             timestamp     open     high      low    close    volume  \\\n",
       "0  2022-07-04 20:15:00  19851.3  19853.6  19823.4  19827.0   483.921   \n",
       "1  2022-07-04 20:20:00  19827.1  19842.4  19719.5  19746.0  2721.178   \n",
       "2  2022-07-04 20:25:00  19746.0  19793.6  19736.1  19776.6  1317.099   \n",
       "3  2022-07-04 20:30:00  19776.7  19776.7  19735.5  19763.2   914.103   \n",
       "4  2022-07-04 20:35:00  19763.1  19770.1  19740.0  19768.0   666.151   \n",
       "\n",
       "   bullish_pin_bar  \n",
       "0            False  \n",
       "1            False  \n",
       "2            False  \n",
       "3            False  \n",
       "4             True  "
      ]
     },
     "execution_count": 114,
     "metadata": {},
     "output_type": "execute_result"
    }
   ],
   "source": [
    "#Getting the bullish pin bars\n",
    "btcusdt_5min_df['bullish_pin_bar'] = btcusdt_5min_df.apply(is_bullish_pin_bar, axis=1)\n",
    "btcusdt_5min_df.head()"
   ]
  },
  {
   "cell_type": "code",
   "execution_count": 115,
   "id": "bd86e678",
   "metadata": {},
   "outputs": [
    {
     "data": {
      "application/vnd.microsoft.datawrangler.viewer.v0+json": {
       "columns": [
        {
         "name": "index",
         "rawType": "int64",
         "type": "integer"
        },
        {
         "name": "timestamp",
         "rawType": "object",
         "type": "string"
        },
        {
         "name": "open",
         "rawType": "float64",
         "type": "float"
        },
        {
         "name": "high",
         "rawType": "float64",
         "type": "float"
        },
        {
         "name": "low",
         "rawType": "float64",
         "type": "float"
        },
        {
         "name": "close",
         "rawType": "float64",
         "type": "float"
        },
        {
         "name": "volume",
         "rawType": "float64",
         "type": "float"
        },
        {
         "name": "bullish_pin_bar",
         "rawType": "bool",
         "type": "boolean"
        },
        {
         "name": "Weak follow up",
         "rawType": "object",
         "type": "string"
        }
       ],
       "ref": "f7fa98dd-63d0-4d37-b87a-cfa89f454672",
       "rows": [
        [
         "315355",
         "2025-07-03 19:50:00",
         "109687.3",
         "109724.9",
         "109628.0",
         "109686.1",
         "152.176",
         "False",
         "False"
        ],
        [
         "315356",
         "2025-07-03 19:55:00",
         "109686.1",
         "109767.8",
         "109686.1",
         "109743.9",
         "225.817",
         "False",
         "False"
        ],
        [
         "315357",
         "2025-07-03 20:00:00",
         "109743.8",
         "109816.9",
         "109743.8",
         "109813.6",
         "172.753",
         "False",
         "False"
        ],
        [
         "315358",
         "2025-07-03 20:05:00",
         "109813.7",
         "109837.0",
         "109784.7",
         "109836.9",
         "191.596",
         "True",
         "False"
        ],
        [
         "315359",
         "2025-07-03 20:10:00",
         "109836.9",
         "109854.2",
         "109750.2",
         "109766.2",
         "165.509",
         "False",
         "False"
        ]
       ],
       "shape": {
        "columns": 8,
        "rows": 5
       }
      },
      "text/html": [
       "<div>\n",
       "<style scoped>\n",
       "    .dataframe tbody tr th:only-of-type {\n",
       "        vertical-align: middle;\n",
       "    }\n",
       "\n",
       "    .dataframe tbody tr th {\n",
       "        vertical-align: top;\n",
       "    }\n",
       "\n",
       "    .dataframe thead th {\n",
       "        text-align: right;\n",
       "    }\n",
       "</style>\n",
       "<table border=\"1\" class=\"dataframe\">\n",
       "  <thead>\n",
       "    <tr style=\"text-align: right;\">\n",
       "      <th></th>\n",
       "      <th>timestamp</th>\n",
       "      <th>open</th>\n",
       "      <th>high</th>\n",
       "      <th>low</th>\n",
       "      <th>close</th>\n",
       "      <th>volume</th>\n",
       "      <th>bullish_pin_bar</th>\n",
       "      <th>Weak follow up</th>\n",
       "    </tr>\n",
       "  </thead>\n",
       "  <tbody>\n",
       "    <tr>\n",
       "      <th>315355</th>\n",
       "      <td>2025-07-03 19:50:00</td>\n",
       "      <td>109687.3</td>\n",
       "      <td>109724.9</td>\n",
       "      <td>109628.0</td>\n",
       "      <td>109686.1</td>\n",
       "      <td>152.176</td>\n",
       "      <td>False</td>\n",
       "      <td>False</td>\n",
       "    </tr>\n",
       "    <tr>\n",
       "      <th>315356</th>\n",
       "      <td>2025-07-03 19:55:00</td>\n",
       "      <td>109686.1</td>\n",
       "      <td>109767.8</td>\n",
       "      <td>109686.1</td>\n",
       "      <td>109743.9</td>\n",
       "      <td>225.817</td>\n",
       "      <td>False</td>\n",
       "      <td>False</td>\n",
       "    </tr>\n",
       "    <tr>\n",
       "      <th>315357</th>\n",
       "      <td>2025-07-03 20:00:00</td>\n",
       "      <td>109743.8</td>\n",
       "      <td>109816.9</td>\n",
       "      <td>109743.8</td>\n",
       "      <td>109813.6</td>\n",
       "      <td>172.753</td>\n",
       "      <td>False</td>\n",
       "      <td>False</td>\n",
       "    </tr>\n",
       "    <tr>\n",
       "      <th>315358</th>\n",
       "      <td>2025-07-03 20:05:00</td>\n",
       "      <td>109813.7</td>\n",
       "      <td>109837.0</td>\n",
       "      <td>109784.7</td>\n",
       "      <td>109836.9</td>\n",
       "      <td>191.596</td>\n",
       "      <td>True</td>\n",
       "      <td>False</td>\n",
       "    </tr>\n",
       "    <tr>\n",
       "      <th>315359</th>\n",
       "      <td>2025-07-03 20:10:00</td>\n",
       "      <td>109836.9</td>\n",
       "      <td>109854.2</td>\n",
       "      <td>109750.2</td>\n",
       "      <td>109766.2</td>\n",
       "      <td>165.509</td>\n",
       "      <td>False</td>\n",
       "      <td>False</td>\n",
       "    </tr>\n",
       "  </tbody>\n",
       "</table>\n",
       "</div>"
      ],
      "text/plain": [
       "                  timestamp      open      high       low     close   volume  \\\n",
       "315355  2025-07-03 19:50:00  109687.3  109724.9  109628.0  109686.1  152.176   \n",
       "315356  2025-07-03 19:55:00  109686.1  109767.8  109686.1  109743.9  225.817   \n",
       "315357  2025-07-03 20:00:00  109743.8  109816.9  109743.8  109813.6  172.753   \n",
       "315358  2025-07-03 20:05:00  109813.7  109837.0  109784.7  109836.9  191.596   \n",
       "315359  2025-07-03 20:10:00  109836.9  109854.2  109750.2  109766.2  165.509   \n",
       "\n",
       "        bullish_pin_bar Weak follow up  \n",
       "315355            False          False  \n",
       "315356            False          False  \n",
       "315357            False          False  \n",
       "315358             True          False  \n",
       "315359            False          False  "
      ]
     },
     "execution_count": 115,
     "metadata": {},
     "output_type": "execute_result"
    }
   ],
   "source": [
    "# Adding the follow up status to pin bars\n",
    "follow_through = []\n",
    "for i in range(len(btcusdt_5min_df) - 1):\n",
    "    if(btcusdt_5min_df.loc[i, 'bullish_pin_bar']):\n",
    "        pin_bar_volume = btcusdt_5min_df.loc[i, 'volume']\n",
    "        next_bar_volume = btcusdt_5min_df.loc[i+1, 'volume']\n",
    "        pin_bar_move = btcusdt_5min_df.loc[i,'close'] - btcusdt_5min_df.loc[i,'open']\n",
    "        next_bar_move = btcusdt_5min_df.loc[i+1,'close'] - btcusdt_5min_df.loc[i+1,'open']\n",
    "        if(next_bar_move > pin_bar_move and next_bar_volume < pin_bar_volume):\n",
    "            follow_through.append('True')\n",
    "        else:\n",
    "            follow_through.append('False')\n",
    "    else:\n",
    "        follow_through.append('False')\n",
    "follow_through.append('False')\n",
    "btcusdt_5min_df['Weak follow up'] = follow_through\n",
    "btcusdt_5min_df.tail()"
   ]
  },
  {
   "cell_type": "code",
   "execution_count": 116,
   "id": "702911aa",
   "metadata": {},
   "outputs": [
    {
     "data": {
      "application/vnd.microsoft.datawrangler.viewer.v0+json": {
       "columns": [
        {
         "name": "index",
         "rawType": "int64",
         "type": "integer"
        },
        {
         "name": "timestamp",
         "rawType": "object",
         "type": "string"
        },
        {
         "name": "open",
         "rawType": "float64",
         "type": "float"
        },
        {
         "name": "high",
         "rawType": "float64",
         "type": "float"
        },
        {
         "name": "low",
         "rawType": "float64",
         "type": "float"
        },
        {
         "name": "close",
         "rawType": "float64",
         "type": "float"
        },
        {
         "name": "volume",
         "rawType": "float64",
         "type": "float"
        },
        {
         "name": "bullish_pin_bar",
         "rawType": "bool",
         "type": "boolean"
        },
        {
         "name": "Weak follow up",
         "rawType": "object",
         "type": "string"
        },
        {
         "name": "Weak Low Tested",
         "rawType": "object",
         "type": "string"
        }
       ],
       "ref": "5b76a551-9b82-4e96-9164-dc8931c8ef52",
       "rows": [
        [
         "315355",
         "2025-07-03 19:50:00",
         "109687.3",
         "109724.9",
         "109628.0",
         "109686.1",
         "152.176",
         "False",
         "False",
         "False"
        ],
        [
         "315356",
         "2025-07-03 19:55:00",
         "109686.1",
         "109767.8",
         "109686.1",
         "109743.9",
         "225.817",
         "False",
         "False",
         "False"
        ],
        [
         "315357",
         "2025-07-03 20:00:00",
         "109743.8",
         "109816.9",
         "109743.8",
         "109813.6",
         "172.753",
         "False",
         "False",
         "False"
        ],
        [
         "315358",
         "2025-07-03 20:05:00",
         "109813.7",
         "109837.0",
         "109784.7",
         "109836.9",
         "191.596",
         "True",
         "False",
         "False"
        ],
        [
         "315359",
         "2025-07-03 20:10:00",
         "109836.9",
         "109854.2",
         "109750.2",
         "109766.2",
         "165.509",
         "False",
         "False",
         "False"
        ]
       ],
       "shape": {
        "columns": 9,
        "rows": 5
       }
      },
      "text/html": [
       "<div>\n",
       "<style scoped>\n",
       "    .dataframe tbody tr th:only-of-type {\n",
       "        vertical-align: middle;\n",
       "    }\n",
       "\n",
       "    .dataframe tbody tr th {\n",
       "        vertical-align: top;\n",
       "    }\n",
       "\n",
       "    .dataframe thead th {\n",
       "        text-align: right;\n",
       "    }\n",
       "</style>\n",
       "<table border=\"1\" class=\"dataframe\">\n",
       "  <thead>\n",
       "    <tr style=\"text-align: right;\">\n",
       "      <th></th>\n",
       "      <th>timestamp</th>\n",
       "      <th>open</th>\n",
       "      <th>high</th>\n",
       "      <th>low</th>\n",
       "      <th>close</th>\n",
       "      <th>volume</th>\n",
       "      <th>bullish_pin_bar</th>\n",
       "      <th>Weak follow up</th>\n",
       "      <th>Weak Low Tested</th>\n",
       "    </tr>\n",
       "  </thead>\n",
       "  <tbody>\n",
       "    <tr>\n",
       "      <th>315355</th>\n",
       "      <td>2025-07-03 19:50:00</td>\n",
       "      <td>109687.3</td>\n",
       "      <td>109724.9</td>\n",
       "      <td>109628.0</td>\n",
       "      <td>109686.1</td>\n",
       "      <td>152.176</td>\n",
       "      <td>False</td>\n",
       "      <td>False</td>\n",
       "      <td>False</td>\n",
       "    </tr>\n",
       "    <tr>\n",
       "      <th>315356</th>\n",
       "      <td>2025-07-03 19:55:00</td>\n",
       "      <td>109686.1</td>\n",
       "      <td>109767.8</td>\n",
       "      <td>109686.1</td>\n",
       "      <td>109743.9</td>\n",
       "      <td>225.817</td>\n",
       "      <td>False</td>\n",
       "      <td>False</td>\n",
       "      <td>False</td>\n",
       "    </tr>\n",
       "    <tr>\n",
       "      <th>315357</th>\n",
       "      <td>2025-07-03 20:00:00</td>\n",
       "      <td>109743.8</td>\n",
       "      <td>109816.9</td>\n",
       "      <td>109743.8</td>\n",
       "      <td>109813.6</td>\n",
       "      <td>172.753</td>\n",
       "      <td>False</td>\n",
       "      <td>False</td>\n",
       "      <td>False</td>\n",
       "    </tr>\n",
       "    <tr>\n",
       "      <th>315358</th>\n",
       "      <td>2025-07-03 20:05:00</td>\n",
       "      <td>109813.7</td>\n",
       "      <td>109837.0</td>\n",
       "      <td>109784.7</td>\n",
       "      <td>109836.9</td>\n",
       "      <td>191.596</td>\n",
       "      <td>True</td>\n",
       "      <td>False</td>\n",
       "      <td>False</td>\n",
       "    </tr>\n",
       "    <tr>\n",
       "      <th>315359</th>\n",
       "      <td>2025-07-03 20:10:00</td>\n",
       "      <td>109836.9</td>\n",
       "      <td>109854.2</td>\n",
       "      <td>109750.2</td>\n",
       "      <td>109766.2</td>\n",
       "      <td>165.509</td>\n",
       "      <td>False</td>\n",
       "      <td>False</td>\n",
       "      <td>False</td>\n",
       "    </tr>\n",
       "  </tbody>\n",
       "</table>\n",
       "</div>"
      ],
      "text/plain": [
       "                  timestamp      open      high       low     close   volume  \\\n",
       "315355  2025-07-03 19:50:00  109687.3  109724.9  109628.0  109686.1  152.176   \n",
       "315356  2025-07-03 19:55:00  109686.1  109767.8  109686.1  109743.9  225.817   \n",
       "315357  2025-07-03 20:00:00  109743.8  109816.9  109743.8  109813.6  172.753   \n",
       "315358  2025-07-03 20:05:00  109813.7  109837.0  109784.7  109836.9  191.596   \n",
       "315359  2025-07-03 20:10:00  109836.9  109854.2  109750.2  109766.2  165.509   \n",
       "\n",
       "        bullish_pin_bar Weak follow up Weak Low Tested  \n",
       "315355            False          False           False  \n",
       "315356            False          False           False  \n",
       "315357            False          False           False  \n",
       "315358             True          False           False  \n",
       "315359            False          False           False  "
      ]
     },
     "execution_count": 116,
     "metadata": {},
     "output_type": "execute_result"
    }
   ],
   "source": [
    "# Checking if lows of weak pin bars got tested\n",
    "lows_tested = ['False']*len(btcusdt_5min_df)\n",
    "for i in range(len(btcusdt_5min_df) - 1):\n",
    "    if(btcusdt_5min_df.loc[i, 'Weak follow up'] == 'True'):\n",
    "        pin_bar_low = btcusdt_5min_df.loc[i, 'low']\n",
    "        for j in range(i+1, len(btcusdt_5min_df)):\n",
    "            if(btcusdt_5min_df.loc[j, 'low'] < pin_bar_low):\n",
    "                lows_tested[i] = 'True'\n",
    "                break\n",
    "btcusdt_5min_df['Weak Low Tested'] = lows_tested\n",
    "btcusdt_5min_df.tail()"
   ]
  },
  {
   "cell_type": "code",
   "execution_count": 117,
   "id": "bdc68226",
   "metadata": {},
   "outputs": [
    {
     "data": {
      "application/vnd.microsoft.datawrangler.viewer.v0+json": {
       "columns": [
        {
         "name": "index",
         "rawType": "int64",
         "type": "integer"
        },
        {
         "name": "timestamp",
         "rawType": "object",
         "type": "string"
        },
        {
         "name": "open",
         "rawType": "float64",
         "type": "float"
        },
        {
         "name": "high",
         "rawType": "float64",
         "type": "float"
        },
        {
         "name": "low",
         "rawType": "float64",
         "type": "float"
        },
        {
         "name": "close",
         "rawType": "float64",
         "type": "float"
        },
        {
         "name": "volume",
         "rawType": "float64",
         "type": "float"
        },
        {
         "name": "bullish_pin_bar",
         "rawType": "bool",
         "type": "boolean"
        },
        {
         "name": "Weak follow up",
         "rawType": "object",
         "type": "string"
        },
        {
         "name": "Weak Low Tested",
         "rawType": "object",
         "type": "string"
        },
        {
         "name": "bearish_pin_bar",
         "rawType": "bool",
         "type": "boolean"
        }
       ],
       "ref": "8331c3f1-04a1-4fdb-94fb-11b08b53a820",
       "rows": [
        [
         "315355",
         "2025-07-03 19:50:00",
         "109687.3",
         "109724.9",
         "109628.0",
         "109686.1",
         "152.176",
         "False",
         "False",
         "False",
         "False"
        ],
        [
         "315356",
         "2025-07-03 19:55:00",
         "109686.1",
         "109767.8",
         "109686.1",
         "109743.9",
         "225.817",
         "False",
         "False",
         "False",
         "False"
        ],
        [
         "315357",
         "2025-07-03 20:00:00",
         "109743.8",
         "109816.9",
         "109743.8",
         "109813.6",
         "172.753",
         "False",
         "False",
         "False",
         "False"
        ],
        [
         "315358",
         "2025-07-03 20:05:00",
         "109813.7",
         "109837.0",
         "109784.7",
         "109836.9",
         "191.596",
         "True",
         "False",
         "False",
         "False"
        ],
        [
         "315359",
         "2025-07-03 20:10:00",
         "109836.9",
         "109854.2",
         "109750.2",
         "109766.2",
         "165.509",
         "False",
         "False",
         "False",
         "False"
        ]
       ],
       "shape": {
        "columns": 10,
        "rows": 5
       }
      },
      "text/html": [
       "<div>\n",
       "<style scoped>\n",
       "    .dataframe tbody tr th:only-of-type {\n",
       "        vertical-align: middle;\n",
       "    }\n",
       "\n",
       "    .dataframe tbody tr th {\n",
       "        vertical-align: top;\n",
       "    }\n",
       "\n",
       "    .dataframe thead th {\n",
       "        text-align: right;\n",
       "    }\n",
       "</style>\n",
       "<table border=\"1\" class=\"dataframe\">\n",
       "  <thead>\n",
       "    <tr style=\"text-align: right;\">\n",
       "      <th></th>\n",
       "      <th>timestamp</th>\n",
       "      <th>open</th>\n",
       "      <th>high</th>\n",
       "      <th>low</th>\n",
       "      <th>close</th>\n",
       "      <th>volume</th>\n",
       "      <th>bullish_pin_bar</th>\n",
       "      <th>Weak follow up</th>\n",
       "      <th>Weak Low Tested</th>\n",
       "      <th>bearish_pin_bar</th>\n",
       "    </tr>\n",
       "  </thead>\n",
       "  <tbody>\n",
       "    <tr>\n",
       "      <th>315355</th>\n",
       "      <td>2025-07-03 19:50:00</td>\n",
       "      <td>109687.3</td>\n",
       "      <td>109724.9</td>\n",
       "      <td>109628.0</td>\n",
       "      <td>109686.1</td>\n",
       "      <td>152.176</td>\n",
       "      <td>False</td>\n",
       "      <td>False</td>\n",
       "      <td>False</td>\n",
       "      <td>False</td>\n",
       "    </tr>\n",
       "    <tr>\n",
       "      <th>315356</th>\n",
       "      <td>2025-07-03 19:55:00</td>\n",
       "      <td>109686.1</td>\n",
       "      <td>109767.8</td>\n",
       "      <td>109686.1</td>\n",
       "      <td>109743.9</td>\n",
       "      <td>225.817</td>\n",
       "      <td>False</td>\n",
       "      <td>False</td>\n",
       "      <td>False</td>\n",
       "      <td>False</td>\n",
       "    </tr>\n",
       "    <tr>\n",
       "      <th>315357</th>\n",
       "      <td>2025-07-03 20:00:00</td>\n",
       "      <td>109743.8</td>\n",
       "      <td>109816.9</td>\n",
       "      <td>109743.8</td>\n",
       "      <td>109813.6</td>\n",
       "      <td>172.753</td>\n",
       "      <td>False</td>\n",
       "      <td>False</td>\n",
       "      <td>False</td>\n",
       "      <td>False</td>\n",
       "    </tr>\n",
       "    <tr>\n",
       "      <th>315358</th>\n",
       "      <td>2025-07-03 20:05:00</td>\n",
       "      <td>109813.7</td>\n",
       "      <td>109837.0</td>\n",
       "      <td>109784.7</td>\n",
       "      <td>109836.9</td>\n",
       "      <td>191.596</td>\n",
       "      <td>True</td>\n",
       "      <td>False</td>\n",
       "      <td>False</td>\n",
       "      <td>False</td>\n",
       "    </tr>\n",
       "    <tr>\n",
       "      <th>315359</th>\n",
       "      <td>2025-07-03 20:10:00</td>\n",
       "      <td>109836.9</td>\n",
       "      <td>109854.2</td>\n",
       "      <td>109750.2</td>\n",
       "      <td>109766.2</td>\n",
       "      <td>165.509</td>\n",
       "      <td>False</td>\n",
       "      <td>False</td>\n",
       "      <td>False</td>\n",
       "      <td>False</td>\n",
       "    </tr>\n",
       "  </tbody>\n",
       "</table>\n",
       "</div>"
      ],
      "text/plain": [
       "                  timestamp      open      high       low     close   volume  \\\n",
       "315355  2025-07-03 19:50:00  109687.3  109724.9  109628.0  109686.1  152.176   \n",
       "315356  2025-07-03 19:55:00  109686.1  109767.8  109686.1  109743.9  225.817   \n",
       "315357  2025-07-03 20:00:00  109743.8  109816.9  109743.8  109813.6  172.753   \n",
       "315358  2025-07-03 20:05:00  109813.7  109837.0  109784.7  109836.9  191.596   \n",
       "315359  2025-07-03 20:10:00  109836.9  109854.2  109750.2  109766.2  165.509   \n",
       "\n",
       "        bullish_pin_bar Weak follow up Weak Low Tested  bearish_pin_bar  \n",
       "315355            False          False           False            False  \n",
       "315356            False          False           False            False  \n",
       "315357            False          False           False            False  \n",
       "315358             True          False           False            False  \n",
       "315359            False          False           False            False  "
      ]
     },
     "execution_count": 117,
     "metadata": {},
     "output_type": "execute_result"
    }
   ],
   "source": [
    "#Getting bearish pin bars\n",
    "btcusdt_5min_df['bearish_pin_bar'] = btcusdt_5min_df.apply(is_bearish_pin_bar, axis=1)\n",
    "btcusdt_5min_df.tail()"
   ]
  },
  {
   "cell_type": "code",
   "execution_count": 118,
   "id": "bbf3ae7f",
   "metadata": {},
   "outputs": [
    {
     "data": {
      "application/vnd.microsoft.datawrangler.viewer.v0+json": {
       "columns": [
        {
         "name": "index",
         "rawType": "int64",
         "type": "integer"
        },
        {
         "name": "timestamp",
         "rawType": "object",
         "type": "string"
        },
        {
         "name": "open",
         "rawType": "float64",
         "type": "float"
        },
        {
         "name": "high",
         "rawType": "float64",
         "type": "float"
        },
        {
         "name": "low",
         "rawType": "float64",
         "type": "float"
        },
        {
         "name": "close",
         "rawType": "float64",
         "type": "float"
        },
        {
         "name": "volume",
         "rawType": "float64",
         "type": "float"
        },
        {
         "name": "bullish_pin_bar",
         "rawType": "bool",
         "type": "boolean"
        },
        {
         "name": "Weak follow up",
         "rawType": "object",
         "type": "string"
        },
        {
         "name": "Weak Low Tested",
         "rawType": "object",
         "type": "string"
        },
        {
         "name": "bearish_pin_bar",
         "rawType": "bool",
         "type": "boolean"
        },
        {
         "name": "Weak follow down",
         "rawType": "object",
         "type": "string"
        }
       ],
       "ref": "8ca3ce06-7ee2-4937-aa9b-3804fd5a75f3",
       "rows": [
        [
         "315355",
         "2025-07-03 19:50:00",
         "109687.3",
         "109724.9",
         "109628.0",
         "109686.1",
         "152.176",
         "False",
         "False",
         "False",
         "False",
         "False"
        ],
        [
         "315356",
         "2025-07-03 19:55:00",
         "109686.1",
         "109767.8",
         "109686.1",
         "109743.9",
         "225.817",
         "False",
         "False",
         "False",
         "False",
         "False"
        ],
        [
         "315357",
         "2025-07-03 20:00:00",
         "109743.8",
         "109816.9",
         "109743.8",
         "109813.6",
         "172.753",
         "False",
         "False",
         "False",
         "False",
         "False"
        ],
        [
         "315358",
         "2025-07-03 20:05:00",
         "109813.7",
         "109837.0",
         "109784.7",
         "109836.9",
         "191.596",
         "True",
         "False",
         "False",
         "False",
         "False"
        ],
        [
         "315359",
         "2025-07-03 20:10:00",
         "109836.9",
         "109854.2",
         "109750.2",
         "109766.2",
         "165.509",
         "False",
         "False",
         "False",
         "False",
         "False"
        ]
       ],
       "shape": {
        "columns": 11,
        "rows": 5
       }
      },
      "text/html": [
       "<div>\n",
       "<style scoped>\n",
       "    .dataframe tbody tr th:only-of-type {\n",
       "        vertical-align: middle;\n",
       "    }\n",
       "\n",
       "    .dataframe tbody tr th {\n",
       "        vertical-align: top;\n",
       "    }\n",
       "\n",
       "    .dataframe thead th {\n",
       "        text-align: right;\n",
       "    }\n",
       "</style>\n",
       "<table border=\"1\" class=\"dataframe\">\n",
       "  <thead>\n",
       "    <tr style=\"text-align: right;\">\n",
       "      <th></th>\n",
       "      <th>timestamp</th>\n",
       "      <th>open</th>\n",
       "      <th>high</th>\n",
       "      <th>low</th>\n",
       "      <th>close</th>\n",
       "      <th>volume</th>\n",
       "      <th>bullish_pin_bar</th>\n",
       "      <th>Weak follow up</th>\n",
       "      <th>Weak Low Tested</th>\n",
       "      <th>bearish_pin_bar</th>\n",
       "      <th>Weak follow down</th>\n",
       "    </tr>\n",
       "  </thead>\n",
       "  <tbody>\n",
       "    <tr>\n",
       "      <th>315355</th>\n",
       "      <td>2025-07-03 19:50:00</td>\n",
       "      <td>109687.3</td>\n",
       "      <td>109724.9</td>\n",
       "      <td>109628.0</td>\n",
       "      <td>109686.1</td>\n",
       "      <td>152.176</td>\n",
       "      <td>False</td>\n",
       "      <td>False</td>\n",
       "      <td>False</td>\n",
       "      <td>False</td>\n",
       "      <td>False</td>\n",
       "    </tr>\n",
       "    <tr>\n",
       "      <th>315356</th>\n",
       "      <td>2025-07-03 19:55:00</td>\n",
       "      <td>109686.1</td>\n",
       "      <td>109767.8</td>\n",
       "      <td>109686.1</td>\n",
       "      <td>109743.9</td>\n",
       "      <td>225.817</td>\n",
       "      <td>False</td>\n",
       "      <td>False</td>\n",
       "      <td>False</td>\n",
       "      <td>False</td>\n",
       "      <td>False</td>\n",
       "    </tr>\n",
       "    <tr>\n",
       "      <th>315357</th>\n",
       "      <td>2025-07-03 20:00:00</td>\n",
       "      <td>109743.8</td>\n",
       "      <td>109816.9</td>\n",
       "      <td>109743.8</td>\n",
       "      <td>109813.6</td>\n",
       "      <td>172.753</td>\n",
       "      <td>False</td>\n",
       "      <td>False</td>\n",
       "      <td>False</td>\n",
       "      <td>False</td>\n",
       "      <td>False</td>\n",
       "    </tr>\n",
       "    <tr>\n",
       "      <th>315358</th>\n",
       "      <td>2025-07-03 20:05:00</td>\n",
       "      <td>109813.7</td>\n",
       "      <td>109837.0</td>\n",
       "      <td>109784.7</td>\n",
       "      <td>109836.9</td>\n",
       "      <td>191.596</td>\n",
       "      <td>True</td>\n",
       "      <td>False</td>\n",
       "      <td>False</td>\n",
       "      <td>False</td>\n",
       "      <td>False</td>\n",
       "    </tr>\n",
       "    <tr>\n",
       "      <th>315359</th>\n",
       "      <td>2025-07-03 20:10:00</td>\n",
       "      <td>109836.9</td>\n",
       "      <td>109854.2</td>\n",
       "      <td>109750.2</td>\n",
       "      <td>109766.2</td>\n",
       "      <td>165.509</td>\n",
       "      <td>False</td>\n",
       "      <td>False</td>\n",
       "      <td>False</td>\n",
       "      <td>False</td>\n",
       "      <td>False</td>\n",
       "    </tr>\n",
       "  </tbody>\n",
       "</table>\n",
       "</div>"
      ],
      "text/plain": [
       "                  timestamp      open      high       low     close   volume  \\\n",
       "315355  2025-07-03 19:50:00  109687.3  109724.9  109628.0  109686.1  152.176   \n",
       "315356  2025-07-03 19:55:00  109686.1  109767.8  109686.1  109743.9  225.817   \n",
       "315357  2025-07-03 20:00:00  109743.8  109816.9  109743.8  109813.6  172.753   \n",
       "315358  2025-07-03 20:05:00  109813.7  109837.0  109784.7  109836.9  191.596   \n",
       "315359  2025-07-03 20:10:00  109836.9  109854.2  109750.2  109766.2  165.509   \n",
       "\n",
       "        bullish_pin_bar Weak follow up Weak Low Tested  bearish_pin_bar  \\\n",
       "315355            False          False           False            False   \n",
       "315356            False          False           False            False   \n",
       "315357            False          False           False            False   \n",
       "315358             True          False           False            False   \n",
       "315359            False          False           False            False   \n",
       "\n",
       "       Weak follow down  \n",
       "315355            False  \n",
       "315356            False  \n",
       "315357            False  \n",
       "315358            False  \n",
       "315359            False  "
      ]
     },
     "execution_count": 118,
     "metadata": {},
     "output_type": "execute_result"
    }
   ],
   "source": [
    "# Checking for weak follow down\n",
    "follow_through = []\n",
    "for i in range(len(btcusdt_5min_df) - 1):\n",
    "    if(btcusdt_5min_df.loc[i, 'bearish_pin_bar']):\n",
    "        pin_bar_volume = btcusdt_5min_df.loc[i, 'volume']\n",
    "        next_bar_volume = btcusdt_5min_df.loc[i+1, 'volume']\n",
    "        pin_bar_move = btcusdt_5min_df.loc[i,'open'] - btcusdt_5min_df.loc[i,'close']\n",
    "        next_bar_move = btcusdt_5min_df.loc[i+1,'open'] - btcusdt_5min_df.loc[i+1,'close']\n",
    "        if(next_bar_move > pin_bar_move and next_bar_volume < pin_bar_volume):\n",
    "            follow_through.append('True')\n",
    "        else:\n",
    "            follow_through.append('False')\n",
    "    else:\n",
    "        follow_through.append('False')\n",
    "follow_through.append('False')\n",
    "btcusdt_5min_df['Weak follow down'] = follow_through\n",
    "btcusdt_5min_df.tail()"
   ]
  },
  {
   "cell_type": "code",
   "execution_count": 119,
   "id": "cd55ecd7",
   "metadata": {},
   "outputs": [
    {
     "data": {
      "application/vnd.microsoft.datawrangler.viewer.v0+json": {
       "columns": [
        {
         "name": "index",
         "rawType": "int64",
         "type": "integer"
        },
        {
         "name": "timestamp",
         "rawType": "object",
         "type": "string"
        },
        {
         "name": "open",
         "rawType": "float64",
         "type": "float"
        },
        {
         "name": "high",
         "rawType": "float64",
         "type": "float"
        },
        {
         "name": "low",
         "rawType": "float64",
         "type": "float"
        },
        {
         "name": "close",
         "rawType": "float64",
         "type": "float"
        },
        {
         "name": "volume",
         "rawType": "float64",
         "type": "float"
        },
        {
         "name": "bullish_pin_bar",
         "rawType": "bool",
         "type": "boolean"
        },
        {
         "name": "Weak follow up",
         "rawType": "object",
         "type": "string"
        },
        {
         "name": "Weak Low Tested",
         "rawType": "object",
         "type": "string"
        },
        {
         "name": "bearish_pin_bar",
         "rawType": "bool",
         "type": "boolean"
        },
        {
         "name": "Weak follow down",
         "rawType": "object",
         "type": "string"
        },
        {
         "name": "Weak High Tested",
         "rawType": "object",
         "type": "string"
        }
       ],
       "ref": "9d73e405-e0eb-4005-9209-3a8d66f38d2a",
       "rows": [
        [
         "315355",
         "2025-07-03 19:50:00",
         "109687.3",
         "109724.9",
         "109628.0",
         "109686.1",
         "152.176",
         "False",
         "False",
         "False",
         "False",
         "False",
         "False"
        ],
        [
         "315356",
         "2025-07-03 19:55:00",
         "109686.1",
         "109767.8",
         "109686.1",
         "109743.9",
         "225.817",
         "False",
         "False",
         "False",
         "False",
         "False",
         "False"
        ],
        [
         "315357",
         "2025-07-03 20:00:00",
         "109743.8",
         "109816.9",
         "109743.8",
         "109813.6",
         "172.753",
         "False",
         "False",
         "False",
         "False",
         "False",
         "False"
        ],
        [
         "315358",
         "2025-07-03 20:05:00",
         "109813.7",
         "109837.0",
         "109784.7",
         "109836.9",
         "191.596",
         "True",
         "False",
         "False",
         "False",
         "False",
         "False"
        ],
        [
         "315359",
         "2025-07-03 20:10:00",
         "109836.9",
         "109854.2",
         "109750.2",
         "109766.2",
         "165.509",
         "False",
         "False",
         "False",
         "False",
         "False",
         "False"
        ]
       ],
       "shape": {
        "columns": 12,
        "rows": 5
       }
      },
      "text/html": [
       "<div>\n",
       "<style scoped>\n",
       "    .dataframe tbody tr th:only-of-type {\n",
       "        vertical-align: middle;\n",
       "    }\n",
       "\n",
       "    .dataframe tbody tr th {\n",
       "        vertical-align: top;\n",
       "    }\n",
       "\n",
       "    .dataframe thead th {\n",
       "        text-align: right;\n",
       "    }\n",
       "</style>\n",
       "<table border=\"1\" class=\"dataframe\">\n",
       "  <thead>\n",
       "    <tr style=\"text-align: right;\">\n",
       "      <th></th>\n",
       "      <th>timestamp</th>\n",
       "      <th>open</th>\n",
       "      <th>high</th>\n",
       "      <th>low</th>\n",
       "      <th>close</th>\n",
       "      <th>volume</th>\n",
       "      <th>bullish_pin_bar</th>\n",
       "      <th>Weak follow up</th>\n",
       "      <th>Weak Low Tested</th>\n",
       "      <th>bearish_pin_bar</th>\n",
       "      <th>Weak follow down</th>\n",
       "      <th>Weak High Tested</th>\n",
       "    </tr>\n",
       "  </thead>\n",
       "  <tbody>\n",
       "    <tr>\n",
       "      <th>315355</th>\n",
       "      <td>2025-07-03 19:50:00</td>\n",
       "      <td>109687.3</td>\n",
       "      <td>109724.9</td>\n",
       "      <td>109628.0</td>\n",
       "      <td>109686.1</td>\n",
       "      <td>152.176</td>\n",
       "      <td>False</td>\n",
       "      <td>False</td>\n",
       "      <td>False</td>\n",
       "      <td>False</td>\n",
       "      <td>False</td>\n",
       "      <td>False</td>\n",
       "    </tr>\n",
       "    <tr>\n",
       "      <th>315356</th>\n",
       "      <td>2025-07-03 19:55:00</td>\n",
       "      <td>109686.1</td>\n",
       "      <td>109767.8</td>\n",
       "      <td>109686.1</td>\n",
       "      <td>109743.9</td>\n",
       "      <td>225.817</td>\n",
       "      <td>False</td>\n",
       "      <td>False</td>\n",
       "      <td>False</td>\n",
       "      <td>False</td>\n",
       "      <td>False</td>\n",
       "      <td>False</td>\n",
       "    </tr>\n",
       "    <tr>\n",
       "      <th>315357</th>\n",
       "      <td>2025-07-03 20:00:00</td>\n",
       "      <td>109743.8</td>\n",
       "      <td>109816.9</td>\n",
       "      <td>109743.8</td>\n",
       "      <td>109813.6</td>\n",
       "      <td>172.753</td>\n",
       "      <td>False</td>\n",
       "      <td>False</td>\n",
       "      <td>False</td>\n",
       "      <td>False</td>\n",
       "      <td>False</td>\n",
       "      <td>False</td>\n",
       "    </tr>\n",
       "    <tr>\n",
       "      <th>315358</th>\n",
       "      <td>2025-07-03 20:05:00</td>\n",
       "      <td>109813.7</td>\n",
       "      <td>109837.0</td>\n",
       "      <td>109784.7</td>\n",
       "      <td>109836.9</td>\n",
       "      <td>191.596</td>\n",
       "      <td>True</td>\n",
       "      <td>False</td>\n",
       "      <td>False</td>\n",
       "      <td>False</td>\n",
       "      <td>False</td>\n",
       "      <td>False</td>\n",
       "    </tr>\n",
       "    <tr>\n",
       "      <th>315359</th>\n",
       "      <td>2025-07-03 20:10:00</td>\n",
       "      <td>109836.9</td>\n",
       "      <td>109854.2</td>\n",
       "      <td>109750.2</td>\n",
       "      <td>109766.2</td>\n",
       "      <td>165.509</td>\n",
       "      <td>False</td>\n",
       "      <td>False</td>\n",
       "      <td>False</td>\n",
       "      <td>False</td>\n",
       "      <td>False</td>\n",
       "      <td>False</td>\n",
       "    </tr>\n",
       "  </tbody>\n",
       "</table>\n",
       "</div>"
      ],
      "text/plain": [
       "                  timestamp      open      high       low     close   volume  \\\n",
       "315355  2025-07-03 19:50:00  109687.3  109724.9  109628.0  109686.1  152.176   \n",
       "315356  2025-07-03 19:55:00  109686.1  109767.8  109686.1  109743.9  225.817   \n",
       "315357  2025-07-03 20:00:00  109743.8  109816.9  109743.8  109813.6  172.753   \n",
       "315358  2025-07-03 20:05:00  109813.7  109837.0  109784.7  109836.9  191.596   \n",
       "315359  2025-07-03 20:10:00  109836.9  109854.2  109750.2  109766.2  165.509   \n",
       "\n",
       "        bullish_pin_bar Weak follow up Weak Low Tested  bearish_pin_bar  \\\n",
       "315355            False          False           False            False   \n",
       "315356            False          False           False            False   \n",
       "315357            False          False           False            False   \n",
       "315358             True          False           False            False   \n",
       "315359            False          False           False            False   \n",
       "\n",
       "       Weak follow down Weak High Tested  \n",
       "315355            False            False  \n",
       "315356            False            False  \n",
       "315357            False            False  \n",
       "315358            False            False  \n",
       "315359            False            False  "
      ]
     },
     "execution_count": 119,
     "metadata": {},
     "output_type": "execute_result"
    }
   ],
   "source": [
    "# Checking if highs of weak pin bars got tested\n",
    "highs_tested = ['False']*len(btcusdt_5min_df)\n",
    "for i in range(len(btcusdt_5min_df) - 1):\n",
    "    if(btcusdt_5min_df.loc[i, 'Weak follow down'] == 'True'):\n",
    "        pin_bar_high = btcusdt_5min_df.loc[i, 'high']\n",
    "        for j in range(i+1, len(btcusdt_5min_df)):\n",
    "            if(btcusdt_5min_df.loc[j, 'high'] > pin_bar_high):\n",
    "                highs_tested[i] = 'True'\n",
    "                break\n",
    "btcusdt_5min_df['Weak High Tested'] = highs_tested\n",
    "btcusdt_5min_df.tail()"
   ]
  },
  {
   "cell_type": "code",
   "execution_count": 120,
   "id": "cb28f1b7",
   "metadata": {},
   "outputs": [],
   "source": [
    "# Saving the complete dataframe as a csv\n",
    "btcusdt_5min_df.to_csv('b_5min_analyzed.csv')"
   ]
  },
  {
   "cell_type": "code",
   "execution_count": 121,
   "id": "aa3b9c0d",
   "metadata": {},
   "outputs": [
    {
     "data": {
      "application/vnd.microsoft.datawrangler.viewer.v0+json": {
       "columns": [
        {
         "name": "index",
         "rawType": "int64",
         "type": "integer"
        },
        {
         "name": "timestamp",
         "rawType": "object",
         "type": "string"
        },
        {
         "name": "open",
         "rawType": "float64",
         "type": "float"
        },
        {
         "name": "high",
         "rawType": "float64",
         "type": "float"
        },
        {
         "name": "low",
         "rawType": "float64",
         "type": "float"
        },
        {
         "name": "close",
         "rawType": "float64",
         "type": "float"
        },
        {
         "name": "volume",
         "rawType": "float64",
         "type": "float"
        }
       ],
       "ref": "cfd293fb-9275-4cc8-b51b-a2aca5e7d000",
       "rows": [
        [
         "0",
         "2022-07-04 20:21:00",
         "19817.9",
         "19817.9",
         "19782.8",
         "19786.0",
         "763.841"
        ],
        [
         "1",
         "2022-07-04 20:24:00",
         "19785.9",
         "19785.9",
         "19719.5",
         "19775.9",
         "2424.585"
        ],
        [
         "2",
         "2022-07-04 20:27:00",
         "19776.0",
         "19793.6",
         "19768.2",
         "19776.6",
         "647.572"
        ],
        [
         "3",
         "2022-07-04 20:30:00",
         "19776.7",
         "19776.7",
         "19735.5",
         "19765.2",
         "714.112"
        ],
        [
         "4",
         "2022-07-04 20:33:00",
         "19765.1",
         "19769.6",
         "19754.1",
         "19758.3",
         "249.91"
        ]
       ],
       "shape": {
        "columns": 6,
        "rows": 5
       }
      },
      "text/html": [
       "<div>\n",
       "<style scoped>\n",
       "    .dataframe tbody tr th:only-of-type {\n",
       "        vertical-align: middle;\n",
       "    }\n",
       "\n",
       "    .dataframe tbody tr th {\n",
       "        vertical-align: top;\n",
       "    }\n",
       "\n",
       "    .dataframe thead th {\n",
       "        text-align: right;\n",
       "    }\n",
       "</style>\n",
       "<table border=\"1\" class=\"dataframe\">\n",
       "  <thead>\n",
       "    <tr style=\"text-align: right;\">\n",
       "      <th></th>\n",
       "      <th>timestamp</th>\n",
       "      <th>open</th>\n",
       "      <th>high</th>\n",
       "      <th>low</th>\n",
       "      <th>close</th>\n",
       "      <th>volume</th>\n",
       "    </tr>\n",
       "  </thead>\n",
       "  <tbody>\n",
       "    <tr>\n",
       "      <th>0</th>\n",
       "      <td>2022-07-04 20:21:00</td>\n",
       "      <td>19817.9</td>\n",
       "      <td>19817.9</td>\n",
       "      <td>19782.8</td>\n",
       "      <td>19786.0</td>\n",
       "      <td>763.841</td>\n",
       "    </tr>\n",
       "    <tr>\n",
       "      <th>1</th>\n",
       "      <td>2022-07-04 20:24:00</td>\n",
       "      <td>19785.9</td>\n",
       "      <td>19785.9</td>\n",
       "      <td>19719.5</td>\n",
       "      <td>19775.9</td>\n",
       "      <td>2424.585</td>\n",
       "    </tr>\n",
       "    <tr>\n",
       "      <th>2</th>\n",
       "      <td>2022-07-04 20:27:00</td>\n",
       "      <td>19776.0</td>\n",
       "      <td>19793.6</td>\n",
       "      <td>19768.2</td>\n",
       "      <td>19776.6</td>\n",
       "      <td>647.572</td>\n",
       "    </tr>\n",
       "    <tr>\n",
       "      <th>3</th>\n",
       "      <td>2022-07-04 20:30:00</td>\n",
       "      <td>19776.7</td>\n",
       "      <td>19776.7</td>\n",
       "      <td>19735.5</td>\n",
       "      <td>19765.2</td>\n",
       "      <td>714.112</td>\n",
       "    </tr>\n",
       "    <tr>\n",
       "      <th>4</th>\n",
       "      <td>2022-07-04 20:33:00</td>\n",
       "      <td>19765.1</td>\n",
       "      <td>19769.6</td>\n",
       "      <td>19754.1</td>\n",
       "      <td>19758.3</td>\n",
       "      <td>249.910</td>\n",
       "    </tr>\n",
       "  </tbody>\n",
       "</table>\n",
       "</div>"
      ],
      "text/plain": [
       "             timestamp     open     high      low    close    volume\n",
       "0  2022-07-04 20:21:00  19817.9  19817.9  19782.8  19786.0   763.841\n",
       "1  2022-07-04 20:24:00  19785.9  19785.9  19719.5  19775.9  2424.585\n",
       "2  2022-07-04 20:27:00  19776.0  19793.6  19768.2  19776.6   647.572\n",
       "3  2022-07-04 20:30:00  19776.7  19776.7  19735.5  19765.2   714.112\n",
       "4  2022-07-04 20:33:00  19765.1  19769.6  19754.1  19758.3   249.910"
      ]
     },
     "execution_count": 121,
     "metadata": {},
     "output_type": "execute_result"
    }
   ],
   "source": [
    "# Working on 3 minutes time frame\n",
    "btcusdt_3min_data = pd.read_csv('BTCUSDT_3min.csv')\n",
    "btcusdt_3min_df = pd.DataFrame(btcusdt_3min_data)\n",
    "btcusdt_3min_df.head()"
   ]
  },
  {
   "cell_type": "code",
   "execution_count": 122,
   "id": "c36a3467",
   "metadata": {},
   "outputs": [
    {
     "data": {
      "application/vnd.microsoft.datawrangler.viewer.v0+json": {
       "columns": [
        {
         "name": "index",
         "rawType": "int64",
         "type": "integer"
        },
        {
         "name": "timestamp",
         "rawType": "object",
         "type": "string"
        },
        {
         "name": "open",
         "rawType": "float64",
         "type": "float"
        },
        {
         "name": "high",
         "rawType": "float64",
         "type": "float"
        },
        {
         "name": "low",
         "rawType": "float64",
         "type": "float"
        },
        {
         "name": "close",
         "rawType": "float64",
         "type": "float"
        },
        {
         "name": "volume",
         "rawType": "float64",
         "type": "float"
        },
        {
         "name": "bullish_pin_bar",
         "rawType": "bool",
         "type": "boolean"
        }
       ],
       "ref": "5da02214-196f-4dc5-ba51-69625623cf8e",
       "rows": [
        [
         "0",
         "2022-07-04 20:21:00",
         "19817.9",
         "19817.9",
         "19782.8",
         "19786.0",
         "763.841",
         "False"
        ],
        [
         "1",
         "2022-07-04 20:24:00",
         "19785.9",
         "19785.9",
         "19719.5",
         "19775.9",
         "2424.585",
         "False"
        ],
        [
         "2",
         "2022-07-04 20:27:00",
         "19776.0",
         "19793.6",
         "19768.2",
         "19776.6",
         "647.572",
         "False"
        ],
        [
         "3",
         "2022-07-04 20:30:00",
         "19776.7",
         "19776.7",
         "19735.5",
         "19765.2",
         "714.112",
         "False"
        ],
        [
         "4",
         "2022-07-04 20:33:00",
         "19765.1",
         "19769.6",
         "19754.1",
         "19758.3",
         "249.91",
         "False"
        ]
       ],
       "shape": {
        "columns": 7,
        "rows": 5
       }
      },
      "text/html": [
       "<div>\n",
       "<style scoped>\n",
       "    .dataframe tbody tr th:only-of-type {\n",
       "        vertical-align: middle;\n",
       "    }\n",
       "\n",
       "    .dataframe tbody tr th {\n",
       "        vertical-align: top;\n",
       "    }\n",
       "\n",
       "    .dataframe thead th {\n",
       "        text-align: right;\n",
       "    }\n",
       "</style>\n",
       "<table border=\"1\" class=\"dataframe\">\n",
       "  <thead>\n",
       "    <tr style=\"text-align: right;\">\n",
       "      <th></th>\n",
       "      <th>timestamp</th>\n",
       "      <th>open</th>\n",
       "      <th>high</th>\n",
       "      <th>low</th>\n",
       "      <th>close</th>\n",
       "      <th>volume</th>\n",
       "      <th>bullish_pin_bar</th>\n",
       "    </tr>\n",
       "  </thead>\n",
       "  <tbody>\n",
       "    <tr>\n",
       "      <th>0</th>\n",
       "      <td>2022-07-04 20:21:00</td>\n",
       "      <td>19817.9</td>\n",
       "      <td>19817.9</td>\n",
       "      <td>19782.8</td>\n",
       "      <td>19786.0</td>\n",
       "      <td>763.841</td>\n",
       "      <td>False</td>\n",
       "    </tr>\n",
       "    <tr>\n",
       "      <th>1</th>\n",
       "      <td>2022-07-04 20:24:00</td>\n",
       "      <td>19785.9</td>\n",
       "      <td>19785.9</td>\n",
       "      <td>19719.5</td>\n",
       "      <td>19775.9</td>\n",
       "      <td>2424.585</td>\n",
       "      <td>False</td>\n",
       "    </tr>\n",
       "    <tr>\n",
       "      <th>2</th>\n",
       "      <td>2022-07-04 20:27:00</td>\n",
       "      <td>19776.0</td>\n",
       "      <td>19793.6</td>\n",
       "      <td>19768.2</td>\n",
       "      <td>19776.6</td>\n",
       "      <td>647.572</td>\n",
       "      <td>False</td>\n",
       "    </tr>\n",
       "    <tr>\n",
       "      <th>3</th>\n",
       "      <td>2022-07-04 20:30:00</td>\n",
       "      <td>19776.7</td>\n",
       "      <td>19776.7</td>\n",
       "      <td>19735.5</td>\n",
       "      <td>19765.2</td>\n",
       "      <td>714.112</td>\n",
       "      <td>False</td>\n",
       "    </tr>\n",
       "    <tr>\n",
       "      <th>4</th>\n",
       "      <td>2022-07-04 20:33:00</td>\n",
       "      <td>19765.1</td>\n",
       "      <td>19769.6</td>\n",
       "      <td>19754.1</td>\n",
       "      <td>19758.3</td>\n",
       "      <td>249.910</td>\n",
       "      <td>False</td>\n",
       "    </tr>\n",
       "  </tbody>\n",
       "</table>\n",
       "</div>"
      ],
      "text/plain": [
       "             timestamp     open     high      low    close    volume  \\\n",
       "0  2022-07-04 20:21:00  19817.9  19817.9  19782.8  19786.0   763.841   \n",
       "1  2022-07-04 20:24:00  19785.9  19785.9  19719.5  19775.9  2424.585   \n",
       "2  2022-07-04 20:27:00  19776.0  19793.6  19768.2  19776.6   647.572   \n",
       "3  2022-07-04 20:30:00  19776.7  19776.7  19735.5  19765.2   714.112   \n",
       "4  2022-07-04 20:33:00  19765.1  19769.6  19754.1  19758.3   249.910   \n",
       "\n",
       "   bullish_pin_bar  \n",
       "0            False  \n",
       "1            False  \n",
       "2            False  \n",
       "3            False  \n",
       "4            False  "
      ]
     },
     "execution_count": 122,
     "metadata": {},
     "output_type": "execute_result"
    }
   ],
   "source": [
    "#Getting the bullish pin bars\n",
    "btcusdt_3min_df['bullish_pin_bar'] = btcusdt_3min_df.apply(is_bullish_pin_bar, axis=1)\n",
    "btcusdt_3min_df.head()"
   ]
  },
  {
   "cell_type": "code",
   "execution_count": 123,
   "id": "e27cb1f5",
   "metadata": {},
   "outputs": [
    {
     "data": {
      "application/vnd.microsoft.datawrangler.viewer.v0+json": {
       "columns": [
        {
         "name": "index",
         "rawType": "int64",
         "type": "integer"
        },
        {
         "name": "timestamp",
         "rawType": "object",
         "type": "string"
        },
        {
         "name": "open",
         "rawType": "float64",
         "type": "float"
        },
        {
         "name": "high",
         "rawType": "float64",
         "type": "float"
        },
        {
         "name": "low",
         "rawType": "float64",
         "type": "float"
        },
        {
         "name": "close",
         "rawType": "float64",
         "type": "float"
        },
        {
         "name": "volume",
         "rawType": "float64",
         "type": "float"
        },
        {
         "name": "bullish_pin_bar",
         "rawType": "bool",
         "type": "boolean"
        },
        {
         "name": "Weak follow up",
         "rawType": "object",
         "type": "string"
        }
       ],
       "ref": "fcd89417-8997-4281-8404-008215702e89",
       "rows": [
        [
         "525596",
         "2025-07-03 20:09:00",
         "109801.6",
         "109837.2",
         "109801.6",
         "109816.2",
         "97.989",
         "False",
         "False"
        ],
        [
         "525597",
         "2025-07-03 20:12:00",
         "109816.3",
         "109854.2",
         "109750.2",
         "109766.2",
         "119.961",
         "False",
         "False"
        ],
        [
         "525598",
         "2025-07-03 20:15:00",
         "109766.2",
         "109781.9",
         "109711.2",
         "109781.9",
         "84.919",
         "True",
         "False"
        ],
        [
         "525599",
         "2025-07-03 20:18:00",
         "109781.8",
         "109804.9",
         "109725.0",
         "109725.0",
         "77.384",
         "False",
         "False"
        ],
        [
         "525600",
         "2025-07-03 20:21:00",
         "109725.0",
         "109797.1",
         "109725.0",
         "109747.1",
         "88.842",
         "False",
         "False"
        ]
       ],
       "shape": {
        "columns": 8,
        "rows": 5
       }
      },
      "text/html": [
       "<div>\n",
       "<style scoped>\n",
       "    .dataframe tbody tr th:only-of-type {\n",
       "        vertical-align: middle;\n",
       "    }\n",
       "\n",
       "    .dataframe tbody tr th {\n",
       "        vertical-align: top;\n",
       "    }\n",
       "\n",
       "    .dataframe thead th {\n",
       "        text-align: right;\n",
       "    }\n",
       "</style>\n",
       "<table border=\"1\" class=\"dataframe\">\n",
       "  <thead>\n",
       "    <tr style=\"text-align: right;\">\n",
       "      <th></th>\n",
       "      <th>timestamp</th>\n",
       "      <th>open</th>\n",
       "      <th>high</th>\n",
       "      <th>low</th>\n",
       "      <th>close</th>\n",
       "      <th>volume</th>\n",
       "      <th>bullish_pin_bar</th>\n",
       "      <th>Weak follow up</th>\n",
       "    </tr>\n",
       "  </thead>\n",
       "  <tbody>\n",
       "    <tr>\n",
       "      <th>525596</th>\n",
       "      <td>2025-07-03 20:09:00</td>\n",
       "      <td>109801.6</td>\n",
       "      <td>109837.2</td>\n",
       "      <td>109801.6</td>\n",
       "      <td>109816.2</td>\n",
       "      <td>97.989</td>\n",
       "      <td>False</td>\n",
       "      <td>False</td>\n",
       "    </tr>\n",
       "    <tr>\n",
       "      <th>525597</th>\n",
       "      <td>2025-07-03 20:12:00</td>\n",
       "      <td>109816.3</td>\n",
       "      <td>109854.2</td>\n",
       "      <td>109750.2</td>\n",
       "      <td>109766.2</td>\n",
       "      <td>119.961</td>\n",
       "      <td>False</td>\n",
       "      <td>False</td>\n",
       "    </tr>\n",
       "    <tr>\n",
       "      <th>525598</th>\n",
       "      <td>2025-07-03 20:15:00</td>\n",
       "      <td>109766.2</td>\n",
       "      <td>109781.9</td>\n",
       "      <td>109711.2</td>\n",
       "      <td>109781.9</td>\n",
       "      <td>84.919</td>\n",
       "      <td>True</td>\n",
       "      <td>False</td>\n",
       "    </tr>\n",
       "    <tr>\n",
       "      <th>525599</th>\n",
       "      <td>2025-07-03 20:18:00</td>\n",
       "      <td>109781.8</td>\n",
       "      <td>109804.9</td>\n",
       "      <td>109725.0</td>\n",
       "      <td>109725.0</td>\n",
       "      <td>77.384</td>\n",
       "      <td>False</td>\n",
       "      <td>False</td>\n",
       "    </tr>\n",
       "    <tr>\n",
       "      <th>525600</th>\n",
       "      <td>2025-07-03 20:21:00</td>\n",
       "      <td>109725.0</td>\n",
       "      <td>109797.1</td>\n",
       "      <td>109725.0</td>\n",
       "      <td>109747.1</td>\n",
       "      <td>88.842</td>\n",
       "      <td>False</td>\n",
       "      <td>False</td>\n",
       "    </tr>\n",
       "  </tbody>\n",
       "</table>\n",
       "</div>"
      ],
      "text/plain": [
       "                  timestamp      open      high       low     close   volume  \\\n",
       "525596  2025-07-03 20:09:00  109801.6  109837.2  109801.6  109816.2   97.989   \n",
       "525597  2025-07-03 20:12:00  109816.3  109854.2  109750.2  109766.2  119.961   \n",
       "525598  2025-07-03 20:15:00  109766.2  109781.9  109711.2  109781.9   84.919   \n",
       "525599  2025-07-03 20:18:00  109781.8  109804.9  109725.0  109725.0   77.384   \n",
       "525600  2025-07-03 20:21:00  109725.0  109797.1  109725.0  109747.1   88.842   \n",
       "\n",
       "        bullish_pin_bar Weak follow up  \n",
       "525596            False          False  \n",
       "525597            False          False  \n",
       "525598             True          False  \n",
       "525599            False          False  \n",
       "525600            False          False  "
      ]
     },
     "execution_count": 123,
     "metadata": {},
     "output_type": "execute_result"
    }
   ],
   "source": [
    "# Adding the follow up status to pin bars\n",
    "follow_through = []\n",
    "for i in range(len(btcusdt_3min_df) - 1):\n",
    "    if(btcusdt_3min_df.loc[i, 'bullish_pin_bar']):\n",
    "        pin_bar_volume = btcusdt_3min_df.loc[i, 'volume']\n",
    "        next_bar_volume = btcusdt_3min_df.loc[i+1, 'volume']\n",
    "        pin_bar_move = btcusdt_3min_df.loc[i,'close'] - btcusdt_3min_df.loc[i,'open']\n",
    "        next_bar_move = btcusdt_3min_df.loc[i+1,'close'] - btcusdt_3min_df.loc[i+1,'open']\n",
    "        if(next_bar_move > pin_bar_move and next_bar_volume < pin_bar_volume):\n",
    "            follow_through.append('True')\n",
    "        else:\n",
    "            follow_through.append('False')\n",
    "    else:\n",
    "        follow_through.append('False')\n",
    "follow_through.append('False')\n",
    "btcusdt_3min_df['Weak follow up'] = follow_through\n",
    "btcusdt_3min_df.tail()"
   ]
  },
  {
   "cell_type": "code",
   "execution_count": 124,
   "id": "e3cf1f65",
   "metadata": {},
   "outputs": [
    {
     "data": {
      "application/vnd.microsoft.datawrangler.viewer.v0+json": {
       "columns": [
        {
         "name": "index",
         "rawType": "int64",
         "type": "integer"
        },
        {
         "name": "timestamp",
         "rawType": "object",
         "type": "string"
        },
        {
         "name": "open",
         "rawType": "float64",
         "type": "float"
        },
        {
         "name": "high",
         "rawType": "float64",
         "type": "float"
        },
        {
         "name": "low",
         "rawType": "float64",
         "type": "float"
        },
        {
         "name": "close",
         "rawType": "float64",
         "type": "float"
        },
        {
         "name": "volume",
         "rawType": "float64",
         "type": "float"
        },
        {
         "name": "bullish_pin_bar",
         "rawType": "bool",
         "type": "boolean"
        },
        {
         "name": "Weak follow up",
         "rawType": "object",
         "type": "string"
        },
        {
         "name": "Weak Low Tested",
         "rawType": "object",
         "type": "string"
        }
       ],
       "ref": "584bb88a-dc33-4f97-8aad-14eeb832f5ce",
       "rows": [
        [
         "525596",
         "2025-07-03 20:09:00",
         "109801.6",
         "109837.2",
         "109801.6",
         "109816.2",
         "97.989",
         "False",
         "False",
         "False"
        ],
        [
         "525597",
         "2025-07-03 20:12:00",
         "109816.3",
         "109854.2",
         "109750.2",
         "109766.2",
         "119.961",
         "False",
         "False",
         "False"
        ],
        [
         "525598",
         "2025-07-03 20:15:00",
         "109766.2",
         "109781.9",
         "109711.2",
         "109781.9",
         "84.919",
         "True",
         "False",
         "False"
        ],
        [
         "525599",
         "2025-07-03 20:18:00",
         "109781.8",
         "109804.9",
         "109725.0",
         "109725.0",
         "77.384",
         "False",
         "False",
         "False"
        ],
        [
         "525600",
         "2025-07-03 20:21:00",
         "109725.0",
         "109797.1",
         "109725.0",
         "109747.1",
         "88.842",
         "False",
         "False",
         "False"
        ]
       ],
       "shape": {
        "columns": 9,
        "rows": 5
       }
      },
      "text/html": [
       "<div>\n",
       "<style scoped>\n",
       "    .dataframe tbody tr th:only-of-type {\n",
       "        vertical-align: middle;\n",
       "    }\n",
       "\n",
       "    .dataframe tbody tr th {\n",
       "        vertical-align: top;\n",
       "    }\n",
       "\n",
       "    .dataframe thead th {\n",
       "        text-align: right;\n",
       "    }\n",
       "</style>\n",
       "<table border=\"1\" class=\"dataframe\">\n",
       "  <thead>\n",
       "    <tr style=\"text-align: right;\">\n",
       "      <th></th>\n",
       "      <th>timestamp</th>\n",
       "      <th>open</th>\n",
       "      <th>high</th>\n",
       "      <th>low</th>\n",
       "      <th>close</th>\n",
       "      <th>volume</th>\n",
       "      <th>bullish_pin_bar</th>\n",
       "      <th>Weak follow up</th>\n",
       "      <th>Weak Low Tested</th>\n",
       "    </tr>\n",
       "  </thead>\n",
       "  <tbody>\n",
       "    <tr>\n",
       "      <th>525596</th>\n",
       "      <td>2025-07-03 20:09:00</td>\n",
       "      <td>109801.6</td>\n",
       "      <td>109837.2</td>\n",
       "      <td>109801.6</td>\n",
       "      <td>109816.2</td>\n",
       "      <td>97.989</td>\n",
       "      <td>False</td>\n",
       "      <td>False</td>\n",
       "      <td>False</td>\n",
       "    </tr>\n",
       "    <tr>\n",
       "      <th>525597</th>\n",
       "      <td>2025-07-03 20:12:00</td>\n",
       "      <td>109816.3</td>\n",
       "      <td>109854.2</td>\n",
       "      <td>109750.2</td>\n",
       "      <td>109766.2</td>\n",
       "      <td>119.961</td>\n",
       "      <td>False</td>\n",
       "      <td>False</td>\n",
       "      <td>False</td>\n",
       "    </tr>\n",
       "    <tr>\n",
       "      <th>525598</th>\n",
       "      <td>2025-07-03 20:15:00</td>\n",
       "      <td>109766.2</td>\n",
       "      <td>109781.9</td>\n",
       "      <td>109711.2</td>\n",
       "      <td>109781.9</td>\n",
       "      <td>84.919</td>\n",
       "      <td>True</td>\n",
       "      <td>False</td>\n",
       "      <td>False</td>\n",
       "    </tr>\n",
       "    <tr>\n",
       "      <th>525599</th>\n",
       "      <td>2025-07-03 20:18:00</td>\n",
       "      <td>109781.8</td>\n",
       "      <td>109804.9</td>\n",
       "      <td>109725.0</td>\n",
       "      <td>109725.0</td>\n",
       "      <td>77.384</td>\n",
       "      <td>False</td>\n",
       "      <td>False</td>\n",
       "      <td>False</td>\n",
       "    </tr>\n",
       "    <tr>\n",
       "      <th>525600</th>\n",
       "      <td>2025-07-03 20:21:00</td>\n",
       "      <td>109725.0</td>\n",
       "      <td>109797.1</td>\n",
       "      <td>109725.0</td>\n",
       "      <td>109747.1</td>\n",
       "      <td>88.842</td>\n",
       "      <td>False</td>\n",
       "      <td>False</td>\n",
       "      <td>False</td>\n",
       "    </tr>\n",
       "  </tbody>\n",
       "</table>\n",
       "</div>"
      ],
      "text/plain": [
       "                  timestamp      open      high       low     close   volume  \\\n",
       "525596  2025-07-03 20:09:00  109801.6  109837.2  109801.6  109816.2   97.989   \n",
       "525597  2025-07-03 20:12:00  109816.3  109854.2  109750.2  109766.2  119.961   \n",
       "525598  2025-07-03 20:15:00  109766.2  109781.9  109711.2  109781.9   84.919   \n",
       "525599  2025-07-03 20:18:00  109781.8  109804.9  109725.0  109725.0   77.384   \n",
       "525600  2025-07-03 20:21:00  109725.0  109797.1  109725.0  109747.1   88.842   \n",
       "\n",
       "        bullish_pin_bar Weak follow up Weak Low Tested  \n",
       "525596            False          False           False  \n",
       "525597            False          False           False  \n",
       "525598             True          False           False  \n",
       "525599            False          False           False  \n",
       "525600            False          False           False  "
      ]
     },
     "execution_count": 124,
     "metadata": {},
     "output_type": "execute_result"
    }
   ],
   "source": [
    "# Checking if lows of weak pin bars got tested\n",
    "lows_tested = ['False']*len(btcusdt_3min_df)\n",
    "for i in range(len(btcusdt_3min_df) - 1):\n",
    "    if(btcusdt_3min_df.loc[i, 'Weak follow up'] == 'True'):\n",
    "        pin_bar_low = btcusdt_3min_df.loc[i, 'low']\n",
    "        for j in range(i+1, len(btcusdt_3min_df)):\n",
    "            if(btcusdt_3min_df.loc[j, 'low'] < pin_bar_low):\n",
    "                lows_tested[i] = 'True'\n",
    "                break\n",
    "btcusdt_3min_df['Weak Low Tested'] = lows_tested\n",
    "btcusdt_3min_df.tail()"
   ]
  },
  {
   "cell_type": "code",
   "execution_count": 125,
   "id": "bfd4029c",
   "metadata": {},
   "outputs": [
    {
     "data": {
      "application/vnd.microsoft.datawrangler.viewer.v0+json": {
       "columns": [
        {
         "name": "index",
         "rawType": "int64",
         "type": "integer"
        },
        {
         "name": "timestamp",
         "rawType": "object",
         "type": "string"
        },
        {
         "name": "open",
         "rawType": "float64",
         "type": "float"
        },
        {
         "name": "high",
         "rawType": "float64",
         "type": "float"
        },
        {
         "name": "low",
         "rawType": "float64",
         "type": "float"
        },
        {
         "name": "close",
         "rawType": "float64",
         "type": "float"
        },
        {
         "name": "volume",
         "rawType": "float64",
         "type": "float"
        },
        {
         "name": "bullish_pin_bar",
         "rawType": "bool",
         "type": "boolean"
        },
        {
         "name": "Weak follow up",
         "rawType": "object",
         "type": "string"
        },
        {
         "name": "Weak Low Tested",
         "rawType": "object",
         "type": "string"
        },
        {
         "name": "bearish_pin_bar",
         "rawType": "bool",
         "type": "boolean"
        }
       ],
       "ref": "4411ccb2-7f06-461e-9813-2a98b1934b86",
       "rows": [
        [
         "525596",
         "2025-07-03 20:09:00",
         "109801.6",
         "109837.2",
         "109801.6",
         "109816.2",
         "97.989",
         "False",
         "False",
         "False",
         "False"
        ],
        [
         "525597",
         "2025-07-03 20:12:00",
         "109816.3",
         "109854.2",
         "109750.2",
         "109766.2",
         "119.961",
         "False",
         "False",
         "False",
         "True"
        ],
        [
         "525598",
         "2025-07-03 20:15:00",
         "109766.2",
         "109781.9",
         "109711.2",
         "109781.9",
         "84.919",
         "True",
         "False",
         "False",
         "False"
        ],
        [
         "525599",
         "2025-07-03 20:18:00",
         "109781.8",
         "109804.9",
         "109725.0",
         "109725.0",
         "77.384",
         "False",
         "False",
         "False",
         "False"
        ],
        [
         "525600",
         "2025-07-03 20:21:00",
         "109725.0",
         "109797.1",
         "109725.0",
         "109747.1",
         "88.842",
         "False",
         "False",
         "False",
         "False"
        ]
       ],
       "shape": {
        "columns": 10,
        "rows": 5
       }
      },
      "text/html": [
       "<div>\n",
       "<style scoped>\n",
       "    .dataframe tbody tr th:only-of-type {\n",
       "        vertical-align: middle;\n",
       "    }\n",
       "\n",
       "    .dataframe tbody tr th {\n",
       "        vertical-align: top;\n",
       "    }\n",
       "\n",
       "    .dataframe thead th {\n",
       "        text-align: right;\n",
       "    }\n",
       "</style>\n",
       "<table border=\"1\" class=\"dataframe\">\n",
       "  <thead>\n",
       "    <tr style=\"text-align: right;\">\n",
       "      <th></th>\n",
       "      <th>timestamp</th>\n",
       "      <th>open</th>\n",
       "      <th>high</th>\n",
       "      <th>low</th>\n",
       "      <th>close</th>\n",
       "      <th>volume</th>\n",
       "      <th>bullish_pin_bar</th>\n",
       "      <th>Weak follow up</th>\n",
       "      <th>Weak Low Tested</th>\n",
       "      <th>bearish_pin_bar</th>\n",
       "    </tr>\n",
       "  </thead>\n",
       "  <tbody>\n",
       "    <tr>\n",
       "      <th>525596</th>\n",
       "      <td>2025-07-03 20:09:00</td>\n",
       "      <td>109801.6</td>\n",
       "      <td>109837.2</td>\n",
       "      <td>109801.6</td>\n",
       "      <td>109816.2</td>\n",
       "      <td>97.989</td>\n",
       "      <td>False</td>\n",
       "      <td>False</td>\n",
       "      <td>False</td>\n",
       "      <td>False</td>\n",
       "    </tr>\n",
       "    <tr>\n",
       "      <th>525597</th>\n",
       "      <td>2025-07-03 20:12:00</td>\n",
       "      <td>109816.3</td>\n",
       "      <td>109854.2</td>\n",
       "      <td>109750.2</td>\n",
       "      <td>109766.2</td>\n",
       "      <td>119.961</td>\n",
       "      <td>False</td>\n",
       "      <td>False</td>\n",
       "      <td>False</td>\n",
       "      <td>True</td>\n",
       "    </tr>\n",
       "    <tr>\n",
       "      <th>525598</th>\n",
       "      <td>2025-07-03 20:15:00</td>\n",
       "      <td>109766.2</td>\n",
       "      <td>109781.9</td>\n",
       "      <td>109711.2</td>\n",
       "      <td>109781.9</td>\n",
       "      <td>84.919</td>\n",
       "      <td>True</td>\n",
       "      <td>False</td>\n",
       "      <td>False</td>\n",
       "      <td>False</td>\n",
       "    </tr>\n",
       "    <tr>\n",
       "      <th>525599</th>\n",
       "      <td>2025-07-03 20:18:00</td>\n",
       "      <td>109781.8</td>\n",
       "      <td>109804.9</td>\n",
       "      <td>109725.0</td>\n",
       "      <td>109725.0</td>\n",
       "      <td>77.384</td>\n",
       "      <td>False</td>\n",
       "      <td>False</td>\n",
       "      <td>False</td>\n",
       "      <td>False</td>\n",
       "    </tr>\n",
       "    <tr>\n",
       "      <th>525600</th>\n",
       "      <td>2025-07-03 20:21:00</td>\n",
       "      <td>109725.0</td>\n",
       "      <td>109797.1</td>\n",
       "      <td>109725.0</td>\n",
       "      <td>109747.1</td>\n",
       "      <td>88.842</td>\n",
       "      <td>False</td>\n",
       "      <td>False</td>\n",
       "      <td>False</td>\n",
       "      <td>False</td>\n",
       "    </tr>\n",
       "  </tbody>\n",
       "</table>\n",
       "</div>"
      ],
      "text/plain": [
       "                  timestamp      open      high       low     close   volume  \\\n",
       "525596  2025-07-03 20:09:00  109801.6  109837.2  109801.6  109816.2   97.989   \n",
       "525597  2025-07-03 20:12:00  109816.3  109854.2  109750.2  109766.2  119.961   \n",
       "525598  2025-07-03 20:15:00  109766.2  109781.9  109711.2  109781.9   84.919   \n",
       "525599  2025-07-03 20:18:00  109781.8  109804.9  109725.0  109725.0   77.384   \n",
       "525600  2025-07-03 20:21:00  109725.0  109797.1  109725.0  109747.1   88.842   \n",
       "\n",
       "        bullish_pin_bar Weak follow up Weak Low Tested  bearish_pin_bar  \n",
       "525596            False          False           False            False  \n",
       "525597            False          False           False             True  \n",
       "525598             True          False           False            False  \n",
       "525599            False          False           False            False  \n",
       "525600            False          False           False            False  "
      ]
     },
     "execution_count": 125,
     "metadata": {},
     "output_type": "execute_result"
    }
   ],
   "source": [
    "#Getting bearish pin bars\n",
    "btcusdt_3min_df['bearish_pin_bar'] = btcusdt_3min_df.apply(is_bearish_pin_bar, axis=1)\n",
    "btcusdt_3min_df.tail()"
   ]
  },
  {
   "cell_type": "code",
   "execution_count": 126,
   "id": "81fe6c54",
   "metadata": {},
   "outputs": [
    {
     "data": {
      "application/vnd.microsoft.datawrangler.viewer.v0+json": {
       "columns": [
        {
         "name": "index",
         "rawType": "int64",
         "type": "integer"
        },
        {
         "name": "timestamp",
         "rawType": "object",
         "type": "string"
        },
        {
         "name": "open",
         "rawType": "float64",
         "type": "float"
        },
        {
         "name": "high",
         "rawType": "float64",
         "type": "float"
        },
        {
         "name": "low",
         "rawType": "float64",
         "type": "float"
        },
        {
         "name": "close",
         "rawType": "float64",
         "type": "float"
        },
        {
         "name": "volume",
         "rawType": "float64",
         "type": "float"
        },
        {
         "name": "bullish_pin_bar",
         "rawType": "bool",
         "type": "boolean"
        },
        {
         "name": "Weak follow up",
         "rawType": "object",
         "type": "string"
        },
        {
         "name": "Weak Low Tested",
         "rawType": "object",
         "type": "string"
        },
        {
         "name": "bearish_pin_bar",
         "rawType": "bool",
         "type": "boolean"
        },
        {
         "name": "Weak follow down",
         "rawType": "object",
         "type": "string"
        }
       ],
       "ref": "39f68c7f-d104-42d8-bd3c-d6ec0a17ad34",
       "rows": [
        [
         "525596",
         "2025-07-03 20:09:00",
         "109801.6",
         "109837.2",
         "109801.6",
         "109816.2",
         "97.989",
         "False",
         "False",
         "False",
         "False",
         "False"
        ],
        [
         "525597",
         "2025-07-03 20:12:00",
         "109816.3",
         "109854.2",
         "109750.2",
         "109766.2",
         "119.961",
         "False",
         "False",
         "False",
         "True",
         "False"
        ],
        [
         "525598",
         "2025-07-03 20:15:00",
         "109766.2",
         "109781.9",
         "109711.2",
         "109781.9",
         "84.919",
         "True",
         "False",
         "False",
         "False",
         "False"
        ],
        [
         "525599",
         "2025-07-03 20:18:00",
         "109781.8",
         "109804.9",
         "109725.0",
         "109725.0",
         "77.384",
         "False",
         "False",
         "False",
         "False",
         "False"
        ],
        [
         "525600",
         "2025-07-03 20:21:00",
         "109725.0",
         "109797.1",
         "109725.0",
         "109747.1",
         "88.842",
         "False",
         "False",
         "False",
         "False",
         "False"
        ]
       ],
       "shape": {
        "columns": 11,
        "rows": 5
       }
      },
      "text/html": [
       "<div>\n",
       "<style scoped>\n",
       "    .dataframe tbody tr th:only-of-type {\n",
       "        vertical-align: middle;\n",
       "    }\n",
       "\n",
       "    .dataframe tbody tr th {\n",
       "        vertical-align: top;\n",
       "    }\n",
       "\n",
       "    .dataframe thead th {\n",
       "        text-align: right;\n",
       "    }\n",
       "</style>\n",
       "<table border=\"1\" class=\"dataframe\">\n",
       "  <thead>\n",
       "    <tr style=\"text-align: right;\">\n",
       "      <th></th>\n",
       "      <th>timestamp</th>\n",
       "      <th>open</th>\n",
       "      <th>high</th>\n",
       "      <th>low</th>\n",
       "      <th>close</th>\n",
       "      <th>volume</th>\n",
       "      <th>bullish_pin_bar</th>\n",
       "      <th>Weak follow up</th>\n",
       "      <th>Weak Low Tested</th>\n",
       "      <th>bearish_pin_bar</th>\n",
       "      <th>Weak follow down</th>\n",
       "    </tr>\n",
       "  </thead>\n",
       "  <tbody>\n",
       "    <tr>\n",
       "      <th>525596</th>\n",
       "      <td>2025-07-03 20:09:00</td>\n",
       "      <td>109801.6</td>\n",
       "      <td>109837.2</td>\n",
       "      <td>109801.6</td>\n",
       "      <td>109816.2</td>\n",
       "      <td>97.989</td>\n",
       "      <td>False</td>\n",
       "      <td>False</td>\n",
       "      <td>False</td>\n",
       "      <td>False</td>\n",
       "      <td>False</td>\n",
       "    </tr>\n",
       "    <tr>\n",
       "      <th>525597</th>\n",
       "      <td>2025-07-03 20:12:00</td>\n",
       "      <td>109816.3</td>\n",
       "      <td>109854.2</td>\n",
       "      <td>109750.2</td>\n",
       "      <td>109766.2</td>\n",
       "      <td>119.961</td>\n",
       "      <td>False</td>\n",
       "      <td>False</td>\n",
       "      <td>False</td>\n",
       "      <td>True</td>\n",
       "      <td>False</td>\n",
       "    </tr>\n",
       "    <tr>\n",
       "      <th>525598</th>\n",
       "      <td>2025-07-03 20:15:00</td>\n",
       "      <td>109766.2</td>\n",
       "      <td>109781.9</td>\n",
       "      <td>109711.2</td>\n",
       "      <td>109781.9</td>\n",
       "      <td>84.919</td>\n",
       "      <td>True</td>\n",
       "      <td>False</td>\n",
       "      <td>False</td>\n",
       "      <td>False</td>\n",
       "      <td>False</td>\n",
       "    </tr>\n",
       "    <tr>\n",
       "      <th>525599</th>\n",
       "      <td>2025-07-03 20:18:00</td>\n",
       "      <td>109781.8</td>\n",
       "      <td>109804.9</td>\n",
       "      <td>109725.0</td>\n",
       "      <td>109725.0</td>\n",
       "      <td>77.384</td>\n",
       "      <td>False</td>\n",
       "      <td>False</td>\n",
       "      <td>False</td>\n",
       "      <td>False</td>\n",
       "      <td>False</td>\n",
       "    </tr>\n",
       "    <tr>\n",
       "      <th>525600</th>\n",
       "      <td>2025-07-03 20:21:00</td>\n",
       "      <td>109725.0</td>\n",
       "      <td>109797.1</td>\n",
       "      <td>109725.0</td>\n",
       "      <td>109747.1</td>\n",
       "      <td>88.842</td>\n",
       "      <td>False</td>\n",
       "      <td>False</td>\n",
       "      <td>False</td>\n",
       "      <td>False</td>\n",
       "      <td>False</td>\n",
       "    </tr>\n",
       "  </tbody>\n",
       "</table>\n",
       "</div>"
      ],
      "text/plain": [
       "                  timestamp      open      high       low     close   volume  \\\n",
       "525596  2025-07-03 20:09:00  109801.6  109837.2  109801.6  109816.2   97.989   \n",
       "525597  2025-07-03 20:12:00  109816.3  109854.2  109750.2  109766.2  119.961   \n",
       "525598  2025-07-03 20:15:00  109766.2  109781.9  109711.2  109781.9   84.919   \n",
       "525599  2025-07-03 20:18:00  109781.8  109804.9  109725.0  109725.0   77.384   \n",
       "525600  2025-07-03 20:21:00  109725.0  109797.1  109725.0  109747.1   88.842   \n",
       "\n",
       "        bullish_pin_bar Weak follow up Weak Low Tested  bearish_pin_bar  \\\n",
       "525596            False          False           False            False   \n",
       "525597            False          False           False             True   \n",
       "525598             True          False           False            False   \n",
       "525599            False          False           False            False   \n",
       "525600            False          False           False            False   \n",
       "\n",
       "       Weak follow down  \n",
       "525596            False  \n",
       "525597            False  \n",
       "525598            False  \n",
       "525599            False  \n",
       "525600            False  "
      ]
     },
     "execution_count": 126,
     "metadata": {},
     "output_type": "execute_result"
    }
   ],
   "source": [
    "# Checking for weak follow down\n",
    "follow_through = []\n",
    "for i in range(len(btcusdt_3min_df) - 1):\n",
    "    if(btcusdt_3min_df.loc[i, 'bearish_pin_bar']):\n",
    "        pin_bar_volume = btcusdt_3min_df.loc[i, 'volume']\n",
    "        next_bar_volume = btcusdt_3min_df.loc[i+1, 'volume']\n",
    "        pin_bar_move = btcusdt_3min_df.loc[i,'open'] - btcusdt_3min_df.loc[i,'close']\n",
    "        next_bar_move = btcusdt_3min_df.loc[i+1,'open'] - btcusdt_3min_df.loc[i+1,'close']\n",
    "        if(next_bar_move > pin_bar_move and next_bar_volume < pin_bar_volume):\n",
    "            follow_through.append('True')\n",
    "        else:\n",
    "            follow_through.append('False')\n",
    "    else:\n",
    "        follow_through.append('False')\n",
    "follow_through.append('False')\n",
    "btcusdt_3min_df['Weak follow down'] = follow_through\n",
    "btcusdt_3min_df.tail()"
   ]
  },
  {
   "cell_type": "code",
   "execution_count": 127,
   "id": "ebbd2b29",
   "metadata": {},
   "outputs": [
    {
     "data": {
      "application/vnd.microsoft.datawrangler.viewer.v0+json": {
       "columns": [
        {
         "name": "index",
         "rawType": "int64",
         "type": "integer"
        },
        {
         "name": "timestamp",
         "rawType": "object",
         "type": "string"
        },
        {
         "name": "open",
         "rawType": "float64",
         "type": "float"
        },
        {
         "name": "high",
         "rawType": "float64",
         "type": "float"
        },
        {
         "name": "low",
         "rawType": "float64",
         "type": "float"
        },
        {
         "name": "close",
         "rawType": "float64",
         "type": "float"
        },
        {
         "name": "volume",
         "rawType": "float64",
         "type": "float"
        },
        {
         "name": "bullish_pin_bar",
         "rawType": "bool",
         "type": "boolean"
        },
        {
         "name": "Weak follow up",
         "rawType": "object",
         "type": "string"
        },
        {
         "name": "Weak Low Tested",
         "rawType": "object",
         "type": "string"
        },
        {
         "name": "bearish_pin_bar",
         "rawType": "bool",
         "type": "boolean"
        },
        {
         "name": "Weak follow down",
         "rawType": "object",
         "type": "string"
        },
        {
         "name": "Weak High Tested",
         "rawType": "object",
         "type": "string"
        }
       ],
       "ref": "f6ad5a93-0d6c-4d73-9f8a-c318ab5a8c8b",
       "rows": [
        [
         "525596",
         "2025-07-03 20:09:00",
         "109801.6",
         "109837.2",
         "109801.6",
         "109816.2",
         "97.989",
         "False",
         "False",
         "False",
         "False",
         "False",
         "False"
        ],
        [
         "525597",
         "2025-07-03 20:12:00",
         "109816.3",
         "109854.2",
         "109750.2",
         "109766.2",
         "119.961",
         "False",
         "False",
         "False",
         "True",
         "False",
         "False"
        ],
        [
         "525598",
         "2025-07-03 20:15:00",
         "109766.2",
         "109781.9",
         "109711.2",
         "109781.9",
         "84.919",
         "True",
         "False",
         "False",
         "False",
         "False",
         "False"
        ],
        [
         "525599",
         "2025-07-03 20:18:00",
         "109781.8",
         "109804.9",
         "109725.0",
         "109725.0",
         "77.384",
         "False",
         "False",
         "False",
         "False",
         "False",
         "False"
        ],
        [
         "525600",
         "2025-07-03 20:21:00",
         "109725.0",
         "109797.1",
         "109725.0",
         "109747.1",
         "88.842",
         "False",
         "False",
         "False",
         "False",
         "False",
         "False"
        ]
       ],
       "shape": {
        "columns": 12,
        "rows": 5
       }
      },
      "text/html": [
       "<div>\n",
       "<style scoped>\n",
       "    .dataframe tbody tr th:only-of-type {\n",
       "        vertical-align: middle;\n",
       "    }\n",
       "\n",
       "    .dataframe tbody tr th {\n",
       "        vertical-align: top;\n",
       "    }\n",
       "\n",
       "    .dataframe thead th {\n",
       "        text-align: right;\n",
       "    }\n",
       "</style>\n",
       "<table border=\"1\" class=\"dataframe\">\n",
       "  <thead>\n",
       "    <tr style=\"text-align: right;\">\n",
       "      <th></th>\n",
       "      <th>timestamp</th>\n",
       "      <th>open</th>\n",
       "      <th>high</th>\n",
       "      <th>low</th>\n",
       "      <th>close</th>\n",
       "      <th>volume</th>\n",
       "      <th>bullish_pin_bar</th>\n",
       "      <th>Weak follow up</th>\n",
       "      <th>Weak Low Tested</th>\n",
       "      <th>bearish_pin_bar</th>\n",
       "      <th>Weak follow down</th>\n",
       "      <th>Weak High Tested</th>\n",
       "    </tr>\n",
       "  </thead>\n",
       "  <tbody>\n",
       "    <tr>\n",
       "      <th>525596</th>\n",
       "      <td>2025-07-03 20:09:00</td>\n",
       "      <td>109801.6</td>\n",
       "      <td>109837.2</td>\n",
       "      <td>109801.6</td>\n",
       "      <td>109816.2</td>\n",
       "      <td>97.989</td>\n",
       "      <td>False</td>\n",
       "      <td>False</td>\n",
       "      <td>False</td>\n",
       "      <td>False</td>\n",
       "      <td>False</td>\n",
       "      <td>False</td>\n",
       "    </tr>\n",
       "    <tr>\n",
       "      <th>525597</th>\n",
       "      <td>2025-07-03 20:12:00</td>\n",
       "      <td>109816.3</td>\n",
       "      <td>109854.2</td>\n",
       "      <td>109750.2</td>\n",
       "      <td>109766.2</td>\n",
       "      <td>119.961</td>\n",
       "      <td>False</td>\n",
       "      <td>False</td>\n",
       "      <td>False</td>\n",
       "      <td>True</td>\n",
       "      <td>False</td>\n",
       "      <td>False</td>\n",
       "    </tr>\n",
       "    <tr>\n",
       "      <th>525598</th>\n",
       "      <td>2025-07-03 20:15:00</td>\n",
       "      <td>109766.2</td>\n",
       "      <td>109781.9</td>\n",
       "      <td>109711.2</td>\n",
       "      <td>109781.9</td>\n",
       "      <td>84.919</td>\n",
       "      <td>True</td>\n",
       "      <td>False</td>\n",
       "      <td>False</td>\n",
       "      <td>False</td>\n",
       "      <td>False</td>\n",
       "      <td>False</td>\n",
       "    </tr>\n",
       "    <tr>\n",
       "      <th>525599</th>\n",
       "      <td>2025-07-03 20:18:00</td>\n",
       "      <td>109781.8</td>\n",
       "      <td>109804.9</td>\n",
       "      <td>109725.0</td>\n",
       "      <td>109725.0</td>\n",
       "      <td>77.384</td>\n",
       "      <td>False</td>\n",
       "      <td>False</td>\n",
       "      <td>False</td>\n",
       "      <td>False</td>\n",
       "      <td>False</td>\n",
       "      <td>False</td>\n",
       "    </tr>\n",
       "    <tr>\n",
       "      <th>525600</th>\n",
       "      <td>2025-07-03 20:21:00</td>\n",
       "      <td>109725.0</td>\n",
       "      <td>109797.1</td>\n",
       "      <td>109725.0</td>\n",
       "      <td>109747.1</td>\n",
       "      <td>88.842</td>\n",
       "      <td>False</td>\n",
       "      <td>False</td>\n",
       "      <td>False</td>\n",
       "      <td>False</td>\n",
       "      <td>False</td>\n",
       "      <td>False</td>\n",
       "    </tr>\n",
       "  </tbody>\n",
       "</table>\n",
       "</div>"
      ],
      "text/plain": [
       "                  timestamp      open      high       low     close   volume  \\\n",
       "525596  2025-07-03 20:09:00  109801.6  109837.2  109801.6  109816.2   97.989   \n",
       "525597  2025-07-03 20:12:00  109816.3  109854.2  109750.2  109766.2  119.961   \n",
       "525598  2025-07-03 20:15:00  109766.2  109781.9  109711.2  109781.9   84.919   \n",
       "525599  2025-07-03 20:18:00  109781.8  109804.9  109725.0  109725.0   77.384   \n",
       "525600  2025-07-03 20:21:00  109725.0  109797.1  109725.0  109747.1   88.842   \n",
       "\n",
       "        bullish_pin_bar Weak follow up Weak Low Tested  bearish_pin_bar  \\\n",
       "525596            False          False           False            False   \n",
       "525597            False          False           False             True   \n",
       "525598             True          False           False            False   \n",
       "525599            False          False           False            False   \n",
       "525600            False          False           False            False   \n",
       "\n",
       "       Weak follow down Weak High Tested  \n",
       "525596            False            False  \n",
       "525597            False            False  \n",
       "525598            False            False  \n",
       "525599            False            False  \n",
       "525600            False            False  "
      ]
     },
     "execution_count": 127,
     "metadata": {},
     "output_type": "execute_result"
    }
   ],
   "source": [
    "# Checking if highs of weak pin bars got tested\n",
    "highs_tested = ['False']*len(btcusdt_3min_df)\n",
    "for i in range(len(btcusdt_3min_df) - 1):\n",
    "    if(btcusdt_3min_df.loc[i, 'Weak follow down'] == 'True'):\n",
    "        pin_bar_high = btcusdt_3min_df.loc[i, 'high']\n",
    "        for j in range(i+1, len(btcusdt_3min_df)):\n",
    "            if(btcusdt_3min_df.loc[j, 'high'] > pin_bar_high):\n",
    "                highs_tested[i] = 'True'\n",
    "                break\n",
    "btcusdt_3min_df['Weak High Tested'] = highs_tested\n",
    "btcusdt_3min_df.tail()"
   ]
  },
  {
   "cell_type": "code",
   "execution_count": 128,
   "id": "836ea853",
   "metadata": {},
   "outputs": [],
   "source": [
    "# Saving the complete dataframe as a csv\n",
    "btcusdt_3min_df.to_csv('b_3min_analyzed.csv')"
   ]
  },
  {
   "cell_type": "code",
   "execution_count": 129,
   "id": "d7bd7a9c",
   "metadata": {},
   "outputs": [
    {
     "data": {
      "application/vnd.microsoft.datawrangler.viewer.v0+json": {
       "columns": [
        {
         "name": "index",
         "rawType": "int64",
         "type": "integer"
        },
        {
         "name": "timestamp",
         "rawType": "object",
         "type": "string"
        },
        {
         "name": "open",
         "rawType": "float64",
         "type": "float"
        },
        {
         "name": "high",
         "rawType": "float64",
         "type": "float"
        },
        {
         "name": "low",
         "rawType": "float64",
         "type": "float"
        },
        {
         "name": "close",
         "rawType": "float64",
         "type": "float"
        },
        {
         "name": "volume",
         "rawType": "float64",
         "type": "float"
        }
       ],
       "ref": "41c2f2d7-a592-4f9c-a689-5b32e2067278",
       "rows": [
        [
         "0",
         "2022-07-04 20:45:00",
         "1119.19",
         "1124.05",
         "1118.5",
         "1121.29",
         "27557.359"
        ],
        [
         "1",
         "2022-07-04 21:00:00",
         "1121.29",
         "1123.41",
         "1119.14",
         "1123.36",
         "17761.827"
        ],
        [
         "2",
         "2022-07-04 21:15:00",
         "1123.35",
         "1125.17",
         "1120.46",
         "1120.86",
         "17180.641"
        ],
        [
         "3",
         "2022-07-04 21:30:00",
         "1120.86",
         "1134.23",
         "1120.3",
         "1126.59",
         "49539.554"
        ],
        [
         "4",
         "2022-07-04 21:45:00",
         "1126.59",
         "1150.0",
         "1126.13",
         "1134.54",
         "99346.667"
        ]
       ],
       "shape": {
        "columns": 6,
        "rows": 5
       }
      },
      "text/html": [
       "<div>\n",
       "<style scoped>\n",
       "    .dataframe tbody tr th:only-of-type {\n",
       "        vertical-align: middle;\n",
       "    }\n",
       "\n",
       "    .dataframe tbody tr th {\n",
       "        vertical-align: top;\n",
       "    }\n",
       "\n",
       "    .dataframe thead th {\n",
       "        text-align: right;\n",
       "    }\n",
       "</style>\n",
       "<table border=\"1\" class=\"dataframe\">\n",
       "  <thead>\n",
       "    <tr style=\"text-align: right;\">\n",
       "      <th></th>\n",
       "      <th>timestamp</th>\n",
       "      <th>open</th>\n",
       "      <th>high</th>\n",
       "      <th>low</th>\n",
       "      <th>close</th>\n",
       "      <th>volume</th>\n",
       "    </tr>\n",
       "  </thead>\n",
       "  <tbody>\n",
       "    <tr>\n",
       "      <th>0</th>\n",
       "      <td>2022-07-04 20:45:00</td>\n",
       "      <td>1119.19</td>\n",
       "      <td>1124.05</td>\n",
       "      <td>1118.50</td>\n",
       "      <td>1121.29</td>\n",
       "      <td>27557.359</td>\n",
       "    </tr>\n",
       "    <tr>\n",
       "      <th>1</th>\n",
       "      <td>2022-07-04 21:00:00</td>\n",
       "      <td>1121.29</td>\n",
       "      <td>1123.41</td>\n",
       "      <td>1119.14</td>\n",
       "      <td>1123.36</td>\n",
       "      <td>17761.827</td>\n",
       "    </tr>\n",
       "    <tr>\n",
       "      <th>2</th>\n",
       "      <td>2022-07-04 21:15:00</td>\n",
       "      <td>1123.35</td>\n",
       "      <td>1125.17</td>\n",
       "      <td>1120.46</td>\n",
       "      <td>1120.86</td>\n",
       "      <td>17180.641</td>\n",
       "    </tr>\n",
       "    <tr>\n",
       "      <th>3</th>\n",
       "      <td>2022-07-04 21:30:00</td>\n",
       "      <td>1120.86</td>\n",
       "      <td>1134.23</td>\n",
       "      <td>1120.30</td>\n",
       "      <td>1126.59</td>\n",
       "      <td>49539.554</td>\n",
       "    </tr>\n",
       "    <tr>\n",
       "      <th>4</th>\n",
       "      <td>2022-07-04 21:45:00</td>\n",
       "      <td>1126.59</td>\n",
       "      <td>1150.00</td>\n",
       "      <td>1126.13</td>\n",
       "      <td>1134.54</td>\n",
       "      <td>99346.667</td>\n",
       "    </tr>\n",
       "  </tbody>\n",
       "</table>\n",
       "</div>"
      ],
      "text/plain": [
       "             timestamp     open     high      low    close     volume\n",
       "0  2022-07-04 20:45:00  1119.19  1124.05  1118.50  1121.29  27557.359\n",
       "1  2022-07-04 21:00:00  1121.29  1123.41  1119.14  1123.36  17761.827\n",
       "2  2022-07-04 21:15:00  1123.35  1125.17  1120.46  1120.86  17180.641\n",
       "3  2022-07-04 21:30:00  1120.86  1134.23  1120.30  1126.59  49539.554\n",
       "4  2022-07-04 21:45:00  1126.59  1150.00  1126.13  1134.54  99346.667"
      ]
     },
     "execution_count": 129,
     "metadata": {},
     "output_type": "execute_result"
    }
   ],
   "source": [
    "# Starting with ethusdt 15 minutes\n",
    "ethusdt_15min_data = pd.read_csv('ETHUSDT_15min.csv')\n",
    "ethusdt_15min_df = pd.DataFrame(ethusdt_15min_data)\n",
    "ethusdt_15min_df.head()"
   ]
  },
  {
   "cell_type": "code",
   "execution_count": 130,
   "id": "0cf68ef6",
   "metadata": {},
   "outputs": [
    {
     "data": {
      "application/vnd.microsoft.datawrangler.viewer.v0+json": {
       "columns": [
        {
         "name": "index",
         "rawType": "int64",
         "type": "integer"
        },
        {
         "name": "timestamp",
         "rawType": "object",
         "type": "string"
        },
        {
         "name": "open",
         "rawType": "float64",
         "type": "float"
        },
        {
         "name": "high",
         "rawType": "float64",
         "type": "float"
        },
        {
         "name": "low",
         "rawType": "float64",
         "type": "float"
        },
        {
         "name": "close",
         "rawType": "float64",
         "type": "float"
        },
        {
         "name": "volume",
         "rawType": "float64",
         "type": "float"
        },
        {
         "name": "bullish_pin_bar",
         "rawType": "bool",
         "type": "boolean"
        }
       ],
       "ref": "7a43dbd2-24cd-4eae-af7e-a7a5d2e2f705",
       "rows": [
        [
         "0",
         "2022-07-04 20:45:00",
         "1119.19",
         "1124.05",
         "1118.5",
         "1121.29",
         "27557.359",
         "False"
        ],
        [
         "1",
         "2022-07-04 21:00:00",
         "1121.29",
         "1123.41",
         "1119.14",
         "1123.36",
         "17761.827",
         "True"
        ],
        [
         "2",
         "2022-07-04 21:15:00",
         "1123.35",
         "1125.17",
         "1120.46",
         "1120.86",
         "17180.641",
         "False"
        ],
        [
         "3",
         "2022-07-04 21:30:00",
         "1120.86",
         "1134.23",
         "1120.3",
         "1126.59",
         "49539.554",
         "False"
        ],
        [
         "4",
         "2022-07-04 21:45:00",
         "1126.59",
         "1150.0",
         "1126.13",
         "1134.54",
         "99346.667",
         "False"
        ]
       ],
       "shape": {
        "columns": 7,
        "rows": 5
       }
      },
      "text/html": [
       "<div>\n",
       "<style scoped>\n",
       "    .dataframe tbody tr th:only-of-type {\n",
       "        vertical-align: middle;\n",
       "    }\n",
       "\n",
       "    .dataframe tbody tr th {\n",
       "        vertical-align: top;\n",
       "    }\n",
       "\n",
       "    .dataframe thead th {\n",
       "        text-align: right;\n",
       "    }\n",
       "</style>\n",
       "<table border=\"1\" class=\"dataframe\">\n",
       "  <thead>\n",
       "    <tr style=\"text-align: right;\">\n",
       "      <th></th>\n",
       "      <th>timestamp</th>\n",
       "      <th>open</th>\n",
       "      <th>high</th>\n",
       "      <th>low</th>\n",
       "      <th>close</th>\n",
       "      <th>volume</th>\n",
       "      <th>bullish_pin_bar</th>\n",
       "    </tr>\n",
       "  </thead>\n",
       "  <tbody>\n",
       "    <tr>\n",
       "      <th>0</th>\n",
       "      <td>2022-07-04 20:45:00</td>\n",
       "      <td>1119.19</td>\n",
       "      <td>1124.05</td>\n",
       "      <td>1118.50</td>\n",
       "      <td>1121.29</td>\n",
       "      <td>27557.359</td>\n",
       "      <td>False</td>\n",
       "    </tr>\n",
       "    <tr>\n",
       "      <th>1</th>\n",
       "      <td>2022-07-04 21:00:00</td>\n",
       "      <td>1121.29</td>\n",
       "      <td>1123.41</td>\n",
       "      <td>1119.14</td>\n",
       "      <td>1123.36</td>\n",
       "      <td>17761.827</td>\n",
       "      <td>True</td>\n",
       "    </tr>\n",
       "    <tr>\n",
       "      <th>2</th>\n",
       "      <td>2022-07-04 21:15:00</td>\n",
       "      <td>1123.35</td>\n",
       "      <td>1125.17</td>\n",
       "      <td>1120.46</td>\n",
       "      <td>1120.86</td>\n",
       "      <td>17180.641</td>\n",
       "      <td>False</td>\n",
       "    </tr>\n",
       "    <tr>\n",
       "      <th>3</th>\n",
       "      <td>2022-07-04 21:30:00</td>\n",
       "      <td>1120.86</td>\n",
       "      <td>1134.23</td>\n",
       "      <td>1120.30</td>\n",
       "      <td>1126.59</td>\n",
       "      <td>49539.554</td>\n",
       "      <td>False</td>\n",
       "    </tr>\n",
       "    <tr>\n",
       "      <th>4</th>\n",
       "      <td>2022-07-04 21:45:00</td>\n",
       "      <td>1126.59</td>\n",
       "      <td>1150.00</td>\n",
       "      <td>1126.13</td>\n",
       "      <td>1134.54</td>\n",
       "      <td>99346.667</td>\n",
       "      <td>False</td>\n",
       "    </tr>\n",
       "  </tbody>\n",
       "</table>\n",
       "</div>"
      ],
      "text/plain": [
       "             timestamp     open     high      low    close     volume  \\\n",
       "0  2022-07-04 20:45:00  1119.19  1124.05  1118.50  1121.29  27557.359   \n",
       "1  2022-07-04 21:00:00  1121.29  1123.41  1119.14  1123.36  17761.827   \n",
       "2  2022-07-04 21:15:00  1123.35  1125.17  1120.46  1120.86  17180.641   \n",
       "3  2022-07-04 21:30:00  1120.86  1134.23  1120.30  1126.59  49539.554   \n",
       "4  2022-07-04 21:45:00  1126.59  1150.00  1126.13  1134.54  99346.667   \n",
       "\n",
       "   bullish_pin_bar  \n",
       "0            False  \n",
       "1             True  \n",
       "2            False  \n",
       "3            False  \n",
       "4            False  "
      ]
     },
     "execution_count": 130,
     "metadata": {},
     "output_type": "execute_result"
    }
   ],
   "source": [
    "# Getting bullish bars \n",
    "ethusdt_15min_df['bullish_pin_bar'] = ethusdt_15min_df.apply(is_bullish_pin_bar, axis=1)\n",
    "ethusdt_15min_df.head()"
   ]
  },
  {
   "cell_type": "code",
   "execution_count": 131,
   "id": "69823479",
   "metadata": {},
   "outputs": [
    {
     "data": {
      "application/vnd.microsoft.datawrangler.viewer.v0+json": {
       "columns": [
        {
         "name": "index",
         "rawType": "int64",
         "type": "integer"
        },
        {
         "name": "timestamp",
         "rawType": "object",
         "type": "string"
        },
        {
         "name": "open",
         "rawType": "float64",
         "type": "float"
        },
        {
         "name": "high",
         "rawType": "float64",
         "type": "float"
        },
        {
         "name": "low",
         "rawType": "float64",
         "type": "float"
        },
        {
         "name": "close",
         "rawType": "float64",
         "type": "float"
        },
        {
         "name": "volume",
         "rawType": "float64",
         "type": "float"
        },
        {
         "name": "bullish_pin_bar",
         "rawType": "bool",
         "type": "boolean"
        },
        {
         "name": "Weak follow up",
         "rawType": "object",
         "type": "string"
        }
       ],
       "ref": "b45b0dfe-c370-4ea9-baac-ae3f1e39382f",
       "rows": [
        [
         "105114",
         "2025-07-03 19:15:00",
         "2588.6",
         "2590.85",
         "2587.03",
         "2587.13",
         "19852.263",
         "False",
         "False"
        ],
        [
         "105115",
         "2025-07-03 19:30:00",
         "2587.13",
         "2587.43",
         "2580.53",
         "2584.6",
         "18774.145",
         "False",
         "False"
        ],
        [
         "105116",
         "2025-07-03 19:45:00",
         "2584.59",
         "2586.4",
         "2582.44",
         "2584.63",
         "12267.453",
         "True",
         "False"
        ],
        [
         "105117",
         "2025-07-03 20:00:00",
         "2584.63",
         "2592.63",
         "2584.1",
         "2588.91",
         "21872.346",
         "False",
         "False"
        ],
        [
         "105118",
         "2025-07-03 20:15:00",
         "2588.91",
         "2595.54",
         "2586.82",
         "2593.61",
         "23658.499",
         "False",
         "False"
        ]
       ],
       "shape": {
        "columns": 8,
        "rows": 5
       }
      },
      "text/html": [
       "<div>\n",
       "<style scoped>\n",
       "    .dataframe tbody tr th:only-of-type {\n",
       "        vertical-align: middle;\n",
       "    }\n",
       "\n",
       "    .dataframe tbody tr th {\n",
       "        vertical-align: top;\n",
       "    }\n",
       "\n",
       "    .dataframe thead th {\n",
       "        text-align: right;\n",
       "    }\n",
       "</style>\n",
       "<table border=\"1\" class=\"dataframe\">\n",
       "  <thead>\n",
       "    <tr style=\"text-align: right;\">\n",
       "      <th></th>\n",
       "      <th>timestamp</th>\n",
       "      <th>open</th>\n",
       "      <th>high</th>\n",
       "      <th>low</th>\n",
       "      <th>close</th>\n",
       "      <th>volume</th>\n",
       "      <th>bullish_pin_bar</th>\n",
       "      <th>Weak follow up</th>\n",
       "    </tr>\n",
       "  </thead>\n",
       "  <tbody>\n",
       "    <tr>\n",
       "      <th>105114</th>\n",
       "      <td>2025-07-03 19:15:00</td>\n",
       "      <td>2588.60</td>\n",
       "      <td>2590.85</td>\n",
       "      <td>2587.03</td>\n",
       "      <td>2587.13</td>\n",
       "      <td>19852.263</td>\n",
       "      <td>False</td>\n",
       "      <td>False</td>\n",
       "    </tr>\n",
       "    <tr>\n",
       "      <th>105115</th>\n",
       "      <td>2025-07-03 19:30:00</td>\n",
       "      <td>2587.13</td>\n",
       "      <td>2587.43</td>\n",
       "      <td>2580.53</td>\n",
       "      <td>2584.60</td>\n",
       "      <td>18774.145</td>\n",
       "      <td>False</td>\n",
       "      <td>False</td>\n",
       "    </tr>\n",
       "    <tr>\n",
       "      <th>105116</th>\n",
       "      <td>2025-07-03 19:45:00</td>\n",
       "      <td>2584.59</td>\n",
       "      <td>2586.40</td>\n",
       "      <td>2582.44</td>\n",
       "      <td>2584.63</td>\n",
       "      <td>12267.453</td>\n",
       "      <td>True</td>\n",
       "      <td>False</td>\n",
       "    </tr>\n",
       "    <tr>\n",
       "      <th>105117</th>\n",
       "      <td>2025-07-03 20:00:00</td>\n",
       "      <td>2584.63</td>\n",
       "      <td>2592.63</td>\n",
       "      <td>2584.10</td>\n",
       "      <td>2588.91</td>\n",
       "      <td>21872.346</td>\n",
       "      <td>False</td>\n",
       "      <td>False</td>\n",
       "    </tr>\n",
       "    <tr>\n",
       "      <th>105118</th>\n",
       "      <td>2025-07-03 20:15:00</td>\n",
       "      <td>2588.91</td>\n",
       "      <td>2595.54</td>\n",
       "      <td>2586.82</td>\n",
       "      <td>2593.61</td>\n",
       "      <td>23658.499</td>\n",
       "      <td>False</td>\n",
       "      <td>False</td>\n",
       "    </tr>\n",
       "  </tbody>\n",
       "</table>\n",
       "</div>"
      ],
      "text/plain": [
       "                  timestamp     open     high      low    close     volume  \\\n",
       "105114  2025-07-03 19:15:00  2588.60  2590.85  2587.03  2587.13  19852.263   \n",
       "105115  2025-07-03 19:30:00  2587.13  2587.43  2580.53  2584.60  18774.145   \n",
       "105116  2025-07-03 19:45:00  2584.59  2586.40  2582.44  2584.63  12267.453   \n",
       "105117  2025-07-03 20:00:00  2584.63  2592.63  2584.10  2588.91  21872.346   \n",
       "105118  2025-07-03 20:15:00  2588.91  2595.54  2586.82  2593.61  23658.499   \n",
       "\n",
       "        bullish_pin_bar Weak follow up  \n",
       "105114            False          False  \n",
       "105115            False          False  \n",
       "105116             True          False  \n",
       "105117            False          False  \n",
       "105118            False          False  "
      ]
     },
     "execution_count": 131,
     "metadata": {},
     "output_type": "execute_result"
    }
   ],
   "source": [
    "# Adding the follow up status to pin bars\n",
    "follow_through = []\n",
    "for i in range(len(ethusdt_15min_df) - 1):\n",
    "    if(ethusdt_15min_df.loc[i, 'bullish_pin_bar']):\n",
    "        pin_bar_volume = ethusdt_15min_df.loc[i, 'volume']\n",
    "        next_bar_volume = ethusdt_15min_df.loc[i+1, 'volume']\n",
    "        pin_bar_move = ethusdt_15min_df.loc[i,'close'] - ethusdt_15min_df.loc[i,'open']\n",
    "        next_bar_move = ethusdt_15min_df.loc[i+1,'close'] - ethusdt_15min_df.loc[i+1,'open']\n",
    "        if(next_bar_move > pin_bar_move and next_bar_volume < pin_bar_volume):\n",
    "            follow_through.append('True')\n",
    "        else:\n",
    "            follow_through.append('False')\n",
    "    else:\n",
    "        follow_through.append('False')\n",
    "follow_through.append('False')\n",
    "ethusdt_15min_df['Weak follow up'] = follow_through\n",
    "ethusdt_15min_df.tail()"
   ]
  },
  {
   "cell_type": "code",
   "execution_count": 132,
   "id": "a41b029a",
   "metadata": {},
   "outputs": [
    {
     "data": {
      "application/vnd.microsoft.datawrangler.viewer.v0+json": {
       "columns": [
        {
         "name": "index",
         "rawType": "int64",
         "type": "integer"
        },
        {
         "name": "timestamp",
         "rawType": "object",
         "type": "string"
        },
        {
         "name": "open",
         "rawType": "float64",
         "type": "float"
        },
        {
         "name": "high",
         "rawType": "float64",
         "type": "float"
        },
        {
         "name": "low",
         "rawType": "float64",
         "type": "float"
        },
        {
         "name": "close",
         "rawType": "float64",
         "type": "float"
        },
        {
         "name": "volume",
         "rawType": "float64",
         "type": "float"
        },
        {
         "name": "bullish_pin_bar",
         "rawType": "bool",
         "type": "boolean"
        },
        {
         "name": "Weak follow up",
         "rawType": "object",
         "type": "string"
        },
        {
         "name": "Weak Low Tested",
         "rawType": "object",
         "type": "string"
        }
       ],
       "ref": "5605489e-eaeb-45c8-9142-be6813631b6e",
       "rows": [
        [
         "105114",
         "2025-07-03 19:15:00",
         "2588.6",
         "2590.85",
         "2587.03",
         "2587.13",
         "19852.263",
         "False",
         "False",
         "False"
        ],
        [
         "105115",
         "2025-07-03 19:30:00",
         "2587.13",
         "2587.43",
         "2580.53",
         "2584.6",
         "18774.145",
         "False",
         "False",
         "False"
        ],
        [
         "105116",
         "2025-07-03 19:45:00",
         "2584.59",
         "2586.4",
         "2582.44",
         "2584.63",
         "12267.453",
         "True",
         "False",
         "False"
        ],
        [
         "105117",
         "2025-07-03 20:00:00",
         "2584.63",
         "2592.63",
         "2584.1",
         "2588.91",
         "21872.346",
         "False",
         "False",
         "False"
        ],
        [
         "105118",
         "2025-07-03 20:15:00",
         "2588.91",
         "2595.54",
         "2586.82",
         "2593.61",
         "23658.499",
         "False",
         "False",
         "False"
        ]
       ],
       "shape": {
        "columns": 9,
        "rows": 5
       }
      },
      "text/html": [
       "<div>\n",
       "<style scoped>\n",
       "    .dataframe tbody tr th:only-of-type {\n",
       "        vertical-align: middle;\n",
       "    }\n",
       "\n",
       "    .dataframe tbody tr th {\n",
       "        vertical-align: top;\n",
       "    }\n",
       "\n",
       "    .dataframe thead th {\n",
       "        text-align: right;\n",
       "    }\n",
       "</style>\n",
       "<table border=\"1\" class=\"dataframe\">\n",
       "  <thead>\n",
       "    <tr style=\"text-align: right;\">\n",
       "      <th></th>\n",
       "      <th>timestamp</th>\n",
       "      <th>open</th>\n",
       "      <th>high</th>\n",
       "      <th>low</th>\n",
       "      <th>close</th>\n",
       "      <th>volume</th>\n",
       "      <th>bullish_pin_bar</th>\n",
       "      <th>Weak follow up</th>\n",
       "      <th>Weak Low Tested</th>\n",
       "    </tr>\n",
       "  </thead>\n",
       "  <tbody>\n",
       "    <tr>\n",
       "      <th>105114</th>\n",
       "      <td>2025-07-03 19:15:00</td>\n",
       "      <td>2588.60</td>\n",
       "      <td>2590.85</td>\n",
       "      <td>2587.03</td>\n",
       "      <td>2587.13</td>\n",
       "      <td>19852.263</td>\n",
       "      <td>False</td>\n",
       "      <td>False</td>\n",
       "      <td>False</td>\n",
       "    </tr>\n",
       "    <tr>\n",
       "      <th>105115</th>\n",
       "      <td>2025-07-03 19:30:00</td>\n",
       "      <td>2587.13</td>\n",
       "      <td>2587.43</td>\n",
       "      <td>2580.53</td>\n",
       "      <td>2584.60</td>\n",
       "      <td>18774.145</td>\n",
       "      <td>False</td>\n",
       "      <td>False</td>\n",
       "      <td>False</td>\n",
       "    </tr>\n",
       "    <tr>\n",
       "      <th>105116</th>\n",
       "      <td>2025-07-03 19:45:00</td>\n",
       "      <td>2584.59</td>\n",
       "      <td>2586.40</td>\n",
       "      <td>2582.44</td>\n",
       "      <td>2584.63</td>\n",
       "      <td>12267.453</td>\n",
       "      <td>True</td>\n",
       "      <td>False</td>\n",
       "      <td>False</td>\n",
       "    </tr>\n",
       "    <tr>\n",
       "      <th>105117</th>\n",
       "      <td>2025-07-03 20:00:00</td>\n",
       "      <td>2584.63</td>\n",
       "      <td>2592.63</td>\n",
       "      <td>2584.10</td>\n",
       "      <td>2588.91</td>\n",
       "      <td>21872.346</td>\n",
       "      <td>False</td>\n",
       "      <td>False</td>\n",
       "      <td>False</td>\n",
       "    </tr>\n",
       "    <tr>\n",
       "      <th>105118</th>\n",
       "      <td>2025-07-03 20:15:00</td>\n",
       "      <td>2588.91</td>\n",
       "      <td>2595.54</td>\n",
       "      <td>2586.82</td>\n",
       "      <td>2593.61</td>\n",
       "      <td>23658.499</td>\n",
       "      <td>False</td>\n",
       "      <td>False</td>\n",
       "      <td>False</td>\n",
       "    </tr>\n",
       "  </tbody>\n",
       "</table>\n",
       "</div>"
      ],
      "text/plain": [
       "                  timestamp     open     high      low    close     volume  \\\n",
       "105114  2025-07-03 19:15:00  2588.60  2590.85  2587.03  2587.13  19852.263   \n",
       "105115  2025-07-03 19:30:00  2587.13  2587.43  2580.53  2584.60  18774.145   \n",
       "105116  2025-07-03 19:45:00  2584.59  2586.40  2582.44  2584.63  12267.453   \n",
       "105117  2025-07-03 20:00:00  2584.63  2592.63  2584.10  2588.91  21872.346   \n",
       "105118  2025-07-03 20:15:00  2588.91  2595.54  2586.82  2593.61  23658.499   \n",
       "\n",
       "        bullish_pin_bar Weak follow up Weak Low Tested  \n",
       "105114            False          False           False  \n",
       "105115            False          False           False  \n",
       "105116             True          False           False  \n",
       "105117            False          False           False  \n",
       "105118            False          False           False  "
      ]
     },
     "execution_count": 132,
     "metadata": {},
     "output_type": "execute_result"
    }
   ],
   "source": [
    "# Checking if lows of weak pin bars got tested\n",
    "lows_tested = ['False']*len(ethusdt_15min_df)\n",
    "for i in range(len(ethusdt_15min_df) - 1):\n",
    "    if(ethusdt_15min_df.loc[i, 'Weak follow up'] == 'True'):\n",
    "        pin_bar_low = ethusdt_15min_df.loc[i, 'low']\n",
    "        for j in range(i+1, len(ethusdt_15min_df)):\n",
    "            if(ethusdt_15min_df.loc[j, 'low'] < pin_bar_low):\n",
    "                lows_tested[i] = 'True'\n",
    "                break\n",
    "ethusdt_15min_df['Weak Low Tested'] = lows_tested\n",
    "ethusdt_15min_df.tail()"
   ]
  },
  {
   "cell_type": "code",
   "execution_count": 133,
   "id": "dbc0441b",
   "metadata": {},
   "outputs": [
    {
     "data": {
      "application/vnd.microsoft.datawrangler.viewer.v0+json": {
       "columns": [
        {
         "name": "index",
         "rawType": "int64",
         "type": "integer"
        },
        {
         "name": "timestamp",
         "rawType": "object",
         "type": "string"
        },
        {
         "name": "open",
         "rawType": "float64",
         "type": "float"
        },
        {
         "name": "high",
         "rawType": "float64",
         "type": "float"
        },
        {
         "name": "low",
         "rawType": "float64",
         "type": "float"
        },
        {
         "name": "close",
         "rawType": "float64",
         "type": "float"
        },
        {
         "name": "volume",
         "rawType": "float64",
         "type": "float"
        },
        {
         "name": "bullish_pin_bar",
         "rawType": "bool",
         "type": "boolean"
        },
        {
         "name": "Weak follow up",
         "rawType": "object",
         "type": "string"
        },
        {
         "name": "Weak Low Tested",
         "rawType": "object",
         "type": "string"
        },
        {
         "name": "bearish_pin_bar",
         "rawType": "bool",
         "type": "boolean"
        }
       ],
       "ref": "54ddf8d1-a1d2-413d-b3ab-2c70792133b4",
       "rows": [
        [
         "0",
         "2022-07-04 20:45:00",
         "1119.19",
         "1124.05",
         "1118.5",
         "1121.29",
         "27557.359",
         "False",
         "False",
         "False",
         "False"
        ],
        [
         "1",
         "2022-07-04 21:00:00",
         "1121.29",
         "1123.41",
         "1119.14",
         "1123.36",
         "17761.827",
         "True",
         "False",
         "False",
         "False"
        ],
        [
         "2",
         "2022-07-04 21:15:00",
         "1123.35",
         "1125.17",
         "1120.46",
         "1120.86",
         "17180.641",
         "False",
         "False",
         "False",
         "False"
        ],
        [
         "3",
         "2022-07-04 21:30:00",
         "1120.86",
         "1134.23",
         "1120.3",
         "1126.59",
         "49539.554",
         "False",
         "False",
         "False",
         "False"
        ],
        [
         "4",
         "2022-07-04 21:45:00",
         "1126.59",
         "1150.0",
         "1126.13",
         "1134.54",
         "99346.667",
         "False",
         "False",
         "False",
         "False"
        ]
       ],
       "shape": {
        "columns": 10,
        "rows": 5
       }
      },
      "text/html": [
       "<div>\n",
       "<style scoped>\n",
       "    .dataframe tbody tr th:only-of-type {\n",
       "        vertical-align: middle;\n",
       "    }\n",
       "\n",
       "    .dataframe tbody tr th {\n",
       "        vertical-align: top;\n",
       "    }\n",
       "\n",
       "    .dataframe thead th {\n",
       "        text-align: right;\n",
       "    }\n",
       "</style>\n",
       "<table border=\"1\" class=\"dataframe\">\n",
       "  <thead>\n",
       "    <tr style=\"text-align: right;\">\n",
       "      <th></th>\n",
       "      <th>timestamp</th>\n",
       "      <th>open</th>\n",
       "      <th>high</th>\n",
       "      <th>low</th>\n",
       "      <th>close</th>\n",
       "      <th>volume</th>\n",
       "      <th>bullish_pin_bar</th>\n",
       "      <th>Weak follow up</th>\n",
       "      <th>Weak Low Tested</th>\n",
       "      <th>bearish_pin_bar</th>\n",
       "    </tr>\n",
       "  </thead>\n",
       "  <tbody>\n",
       "    <tr>\n",
       "      <th>0</th>\n",
       "      <td>2022-07-04 20:45:00</td>\n",
       "      <td>1119.19</td>\n",
       "      <td>1124.05</td>\n",
       "      <td>1118.50</td>\n",
       "      <td>1121.29</td>\n",
       "      <td>27557.359</td>\n",
       "      <td>False</td>\n",
       "      <td>False</td>\n",
       "      <td>False</td>\n",
       "      <td>False</td>\n",
       "    </tr>\n",
       "    <tr>\n",
       "      <th>1</th>\n",
       "      <td>2022-07-04 21:00:00</td>\n",
       "      <td>1121.29</td>\n",
       "      <td>1123.41</td>\n",
       "      <td>1119.14</td>\n",
       "      <td>1123.36</td>\n",
       "      <td>17761.827</td>\n",
       "      <td>True</td>\n",
       "      <td>False</td>\n",
       "      <td>False</td>\n",
       "      <td>False</td>\n",
       "    </tr>\n",
       "    <tr>\n",
       "      <th>2</th>\n",
       "      <td>2022-07-04 21:15:00</td>\n",
       "      <td>1123.35</td>\n",
       "      <td>1125.17</td>\n",
       "      <td>1120.46</td>\n",
       "      <td>1120.86</td>\n",
       "      <td>17180.641</td>\n",
       "      <td>False</td>\n",
       "      <td>False</td>\n",
       "      <td>False</td>\n",
       "      <td>False</td>\n",
       "    </tr>\n",
       "    <tr>\n",
       "      <th>3</th>\n",
       "      <td>2022-07-04 21:30:00</td>\n",
       "      <td>1120.86</td>\n",
       "      <td>1134.23</td>\n",
       "      <td>1120.30</td>\n",
       "      <td>1126.59</td>\n",
       "      <td>49539.554</td>\n",
       "      <td>False</td>\n",
       "      <td>False</td>\n",
       "      <td>False</td>\n",
       "      <td>False</td>\n",
       "    </tr>\n",
       "    <tr>\n",
       "      <th>4</th>\n",
       "      <td>2022-07-04 21:45:00</td>\n",
       "      <td>1126.59</td>\n",
       "      <td>1150.00</td>\n",
       "      <td>1126.13</td>\n",
       "      <td>1134.54</td>\n",
       "      <td>99346.667</td>\n",
       "      <td>False</td>\n",
       "      <td>False</td>\n",
       "      <td>False</td>\n",
       "      <td>False</td>\n",
       "    </tr>\n",
       "  </tbody>\n",
       "</table>\n",
       "</div>"
      ],
      "text/plain": [
       "             timestamp     open     high      low    close     volume  \\\n",
       "0  2022-07-04 20:45:00  1119.19  1124.05  1118.50  1121.29  27557.359   \n",
       "1  2022-07-04 21:00:00  1121.29  1123.41  1119.14  1123.36  17761.827   \n",
       "2  2022-07-04 21:15:00  1123.35  1125.17  1120.46  1120.86  17180.641   \n",
       "3  2022-07-04 21:30:00  1120.86  1134.23  1120.30  1126.59  49539.554   \n",
       "4  2022-07-04 21:45:00  1126.59  1150.00  1126.13  1134.54  99346.667   \n",
       "\n",
       "   bullish_pin_bar Weak follow up Weak Low Tested  bearish_pin_bar  \n",
       "0            False          False           False            False  \n",
       "1             True          False           False            False  \n",
       "2            False          False           False            False  \n",
       "3            False          False           False            False  \n",
       "4            False          False           False            False  "
      ]
     },
     "execution_count": 133,
     "metadata": {},
     "output_type": "execute_result"
    }
   ],
   "source": [
    "#Getting weak bearish pin bars\n",
    "ethusdt_15min_df['bearish_pin_bar'] = ethusdt_15min_df.apply(is_bearish_pin_bar, axis=1)\n",
    "ethusdt_15min_df.head()"
   ]
  },
  {
   "cell_type": "code",
   "execution_count": 134,
   "id": "d14607cf",
   "metadata": {},
   "outputs": [
    {
     "data": {
      "application/vnd.microsoft.datawrangler.viewer.v0+json": {
       "columns": [
        {
         "name": "index",
         "rawType": "int64",
         "type": "integer"
        },
        {
         "name": "timestamp",
         "rawType": "object",
         "type": "string"
        },
        {
         "name": "open",
         "rawType": "float64",
         "type": "float"
        },
        {
         "name": "high",
         "rawType": "float64",
         "type": "float"
        },
        {
         "name": "low",
         "rawType": "float64",
         "type": "float"
        },
        {
         "name": "close",
         "rawType": "float64",
         "type": "float"
        },
        {
         "name": "volume",
         "rawType": "float64",
         "type": "float"
        },
        {
         "name": "bullish_pin_bar",
         "rawType": "bool",
         "type": "boolean"
        },
        {
         "name": "Weak follow up",
         "rawType": "object",
         "type": "string"
        },
        {
         "name": "Weak Low Tested",
         "rawType": "object",
         "type": "string"
        },
        {
         "name": "bearish_pin_bar",
         "rawType": "bool",
         "type": "boolean"
        },
        {
         "name": "Weak follow down",
         "rawType": "object",
         "type": "string"
        }
       ],
       "ref": "23f0543d-ed5e-44a2-8020-1dad71ce2000",
       "rows": [
        [
         "105114",
         "2025-07-03 19:15:00",
         "2588.6",
         "2590.85",
         "2587.03",
         "2587.13",
         "19852.263",
         "False",
         "False",
         "False",
         "True",
         "True"
        ],
        [
         "105115",
         "2025-07-03 19:30:00",
         "2587.13",
         "2587.43",
         "2580.53",
         "2584.6",
         "18774.145",
         "False",
         "False",
         "False",
         "False",
         "False"
        ],
        [
         "105116",
         "2025-07-03 19:45:00",
         "2584.59",
         "2586.4",
         "2582.44",
         "2584.63",
         "12267.453",
         "True",
         "False",
         "False",
         "False",
         "False"
        ],
        [
         "105117",
         "2025-07-03 20:00:00",
         "2584.63",
         "2592.63",
         "2584.1",
         "2588.91",
         "21872.346",
         "False",
         "False",
         "False",
         "False",
         "False"
        ],
        [
         "105118",
         "2025-07-03 20:15:00",
         "2588.91",
         "2595.54",
         "2586.82",
         "2593.61",
         "23658.499",
         "False",
         "False",
         "False",
         "False",
         "False"
        ]
       ],
       "shape": {
        "columns": 11,
        "rows": 5
       }
      },
      "text/html": [
       "<div>\n",
       "<style scoped>\n",
       "    .dataframe tbody tr th:only-of-type {\n",
       "        vertical-align: middle;\n",
       "    }\n",
       "\n",
       "    .dataframe tbody tr th {\n",
       "        vertical-align: top;\n",
       "    }\n",
       "\n",
       "    .dataframe thead th {\n",
       "        text-align: right;\n",
       "    }\n",
       "</style>\n",
       "<table border=\"1\" class=\"dataframe\">\n",
       "  <thead>\n",
       "    <tr style=\"text-align: right;\">\n",
       "      <th></th>\n",
       "      <th>timestamp</th>\n",
       "      <th>open</th>\n",
       "      <th>high</th>\n",
       "      <th>low</th>\n",
       "      <th>close</th>\n",
       "      <th>volume</th>\n",
       "      <th>bullish_pin_bar</th>\n",
       "      <th>Weak follow up</th>\n",
       "      <th>Weak Low Tested</th>\n",
       "      <th>bearish_pin_bar</th>\n",
       "      <th>Weak follow down</th>\n",
       "    </tr>\n",
       "  </thead>\n",
       "  <tbody>\n",
       "    <tr>\n",
       "      <th>105114</th>\n",
       "      <td>2025-07-03 19:15:00</td>\n",
       "      <td>2588.60</td>\n",
       "      <td>2590.85</td>\n",
       "      <td>2587.03</td>\n",
       "      <td>2587.13</td>\n",
       "      <td>19852.263</td>\n",
       "      <td>False</td>\n",
       "      <td>False</td>\n",
       "      <td>False</td>\n",
       "      <td>True</td>\n",
       "      <td>True</td>\n",
       "    </tr>\n",
       "    <tr>\n",
       "      <th>105115</th>\n",
       "      <td>2025-07-03 19:30:00</td>\n",
       "      <td>2587.13</td>\n",
       "      <td>2587.43</td>\n",
       "      <td>2580.53</td>\n",
       "      <td>2584.60</td>\n",
       "      <td>18774.145</td>\n",
       "      <td>False</td>\n",
       "      <td>False</td>\n",
       "      <td>False</td>\n",
       "      <td>False</td>\n",
       "      <td>False</td>\n",
       "    </tr>\n",
       "    <tr>\n",
       "      <th>105116</th>\n",
       "      <td>2025-07-03 19:45:00</td>\n",
       "      <td>2584.59</td>\n",
       "      <td>2586.40</td>\n",
       "      <td>2582.44</td>\n",
       "      <td>2584.63</td>\n",
       "      <td>12267.453</td>\n",
       "      <td>True</td>\n",
       "      <td>False</td>\n",
       "      <td>False</td>\n",
       "      <td>False</td>\n",
       "      <td>False</td>\n",
       "    </tr>\n",
       "    <tr>\n",
       "      <th>105117</th>\n",
       "      <td>2025-07-03 20:00:00</td>\n",
       "      <td>2584.63</td>\n",
       "      <td>2592.63</td>\n",
       "      <td>2584.10</td>\n",
       "      <td>2588.91</td>\n",
       "      <td>21872.346</td>\n",
       "      <td>False</td>\n",
       "      <td>False</td>\n",
       "      <td>False</td>\n",
       "      <td>False</td>\n",
       "      <td>False</td>\n",
       "    </tr>\n",
       "    <tr>\n",
       "      <th>105118</th>\n",
       "      <td>2025-07-03 20:15:00</td>\n",
       "      <td>2588.91</td>\n",
       "      <td>2595.54</td>\n",
       "      <td>2586.82</td>\n",
       "      <td>2593.61</td>\n",
       "      <td>23658.499</td>\n",
       "      <td>False</td>\n",
       "      <td>False</td>\n",
       "      <td>False</td>\n",
       "      <td>False</td>\n",
       "      <td>False</td>\n",
       "    </tr>\n",
       "  </tbody>\n",
       "</table>\n",
       "</div>"
      ],
      "text/plain": [
       "                  timestamp     open     high      low    close     volume  \\\n",
       "105114  2025-07-03 19:15:00  2588.60  2590.85  2587.03  2587.13  19852.263   \n",
       "105115  2025-07-03 19:30:00  2587.13  2587.43  2580.53  2584.60  18774.145   \n",
       "105116  2025-07-03 19:45:00  2584.59  2586.40  2582.44  2584.63  12267.453   \n",
       "105117  2025-07-03 20:00:00  2584.63  2592.63  2584.10  2588.91  21872.346   \n",
       "105118  2025-07-03 20:15:00  2588.91  2595.54  2586.82  2593.61  23658.499   \n",
       "\n",
       "        bullish_pin_bar Weak follow up Weak Low Tested  bearish_pin_bar  \\\n",
       "105114            False          False           False             True   \n",
       "105115            False          False           False            False   \n",
       "105116             True          False           False            False   \n",
       "105117            False          False           False            False   \n",
       "105118            False          False           False            False   \n",
       "\n",
       "       Weak follow down  \n",
       "105114             True  \n",
       "105115            False  \n",
       "105116            False  \n",
       "105117            False  \n",
       "105118            False  "
      ]
     },
     "execution_count": 134,
     "metadata": {},
     "output_type": "execute_result"
    }
   ],
   "source": [
    "# Checking for weak follow down\n",
    "follow_through = []\n",
    "for i in range(len(ethusdt_15min_df) - 1):\n",
    "    if(ethusdt_15min_df.loc[i, 'bearish_pin_bar']):\n",
    "        pin_bar_volume = ethusdt_15min_df.loc[i, 'volume']\n",
    "        next_bar_volume = ethusdt_15min_df.loc[i+1, 'volume']\n",
    "        pin_bar_move = ethusdt_15min_df.loc[i,'open'] - ethusdt_15min_df.loc[i,'close']\n",
    "        next_bar_move = ethusdt_15min_df.loc[i+1,'open'] - ethusdt_15min_df.loc[i+1,'close']\n",
    "        if(next_bar_move > pin_bar_move and next_bar_volume < pin_bar_volume):\n",
    "            follow_through.append('True')\n",
    "        else:\n",
    "            follow_through.append('False')\n",
    "    else:\n",
    "        follow_through.append('False')\n",
    "follow_through.append('False')\n",
    "ethusdt_15min_df['Weak follow down'] = follow_through\n",
    "ethusdt_15min_df.tail()"
   ]
  },
  {
   "cell_type": "code",
   "execution_count": 135,
   "id": "3ed44e88",
   "metadata": {},
   "outputs": [
    {
     "data": {
      "application/vnd.microsoft.datawrangler.viewer.v0+json": {
       "columns": [
        {
         "name": "index",
         "rawType": "int64",
         "type": "integer"
        },
        {
         "name": "timestamp",
         "rawType": "object",
         "type": "string"
        },
        {
         "name": "open",
         "rawType": "float64",
         "type": "float"
        },
        {
         "name": "high",
         "rawType": "float64",
         "type": "float"
        },
        {
         "name": "low",
         "rawType": "float64",
         "type": "float"
        },
        {
         "name": "close",
         "rawType": "float64",
         "type": "float"
        },
        {
         "name": "volume",
         "rawType": "float64",
         "type": "float"
        },
        {
         "name": "bullish_pin_bar",
         "rawType": "bool",
         "type": "boolean"
        },
        {
         "name": "Weak follow up",
         "rawType": "object",
         "type": "string"
        },
        {
         "name": "Weak Low Tested",
         "rawType": "object",
         "type": "string"
        },
        {
         "name": "bearish_pin_bar",
         "rawType": "bool",
         "type": "boolean"
        },
        {
         "name": "Weak follow down",
         "rawType": "object",
         "type": "string"
        },
        {
         "name": "Weak High Tested",
         "rawType": "object",
         "type": "string"
        }
       ],
       "ref": "1804168d-1a5f-488b-88d8-130f1b62747c",
       "rows": [
        [
         "105114",
         "2025-07-03 19:15:00",
         "2588.6",
         "2590.85",
         "2587.03",
         "2587.13",
         "19852.263",
         "False",
         "False",
         "False",
         "True",
         "True",
         "True"
        ],
        [
         "105115",
         "2025-07-03 19:30:00",
         "2587.13",
         "2587.43",
         "2580.53",
         "2584.6",
         "18774.145",
         "False",
         "False",
         "False",
         "False",
         "False",
         "False"
        ],
        [
         "105116",
         "2025-07-03 19:45:00",
         "2584.59",
         "2586.4",
         "2582.44",
         "2584.63",
         "12267.453",
         "True",
         "False",
         "False",
         "False",
         "False",
         "False"
        ],
        [
         "105117",
         "2025-07-03 20:00:00",
         "2584.63",
         "2592.63",
         "2584.1",
         "2588.91",
         "21872.346",
         "False",
         "False",
         "False",
         "False",
         "False",
         "False"
        ],
        [
         "105118",
         "2025-07-03 20:15:00",
         "2588.91",
         "2595.54",
         "2586.82",
         "2593.61",
         "23658.499",
         "False",
         "False",
         "False",
         "False",
         "False",
         "False"
        ]
       ],
       "shape": {
        "columns": 12,
        "rows": 5
       }
      },
      "text/html": [
       "<div>\n",
       "<style scoped>\n",
       "    .dataframe tbody tr th:only-of-type {\n",
       "        vertical-align: middle;\n",
       "    }\n",
       "\n",
       "    .dataframe tbody tr th {\n",
       "        vertical-align: top;\n",
       "    }\n",
       "\n",
       "    .dataframe thead th {\n",
       "        text-align: right;\n",
       "    }\n",
       "</style>\n",
       "<table border=\"1\" class=\"dataframe\">\n",
       "  <thead>\n",
       "    <tr style=\"text-align: right;\">\n",
       "      <th></th>\n",
       "      <th>timestamp</th>\n",
       "      <th>open</th>\n",
       "      <th>high</th>\n",
       "      <th>low</th>\n",
       "      <th>close</th>\n",
       "      <th>volume</th>\n",
       "      <th>bullish_pin_bar</th>\n",
       "      <th>Weak follow up</th>\n",
       "      <th>Weak Low Tested</th>\n",
       "      <th>bearish_pin_bar</th>\n",
       "      <th>Weak follow down</th>\n",
       "      <th>Weak High Tested</th>\n",
       "    </tr>\n",
       "  </thead>\n",
       "  <tbody>\n",
       "    <tr>\n",
       "      <th>105114</th>\n",
       "      <td>2025-07-03 19:15:00</td>\n",
       "      <td>2588.60</td>\n",
       "      <td>2590.85</td>\n",
       "      <td>2587.03</td>\n",
       "      <td>2587.13</td>\n",
       "      <td>19852.263</td>\n",
       "      <td>False</td>\n",
       "      <td>False</td>\n",
       "      <td>False</td>\n",
       "      <td>True</td>\n",
       "      <td>True</td>\n",
       "      <td>True</td>\n",
       "    </tr>\n",
       "    <tr>\n",
       "      <th>105115</th>\n",
       "      <td>2025-07-03 19:30:00</td>\n",
       "      <td>2587.13</td>\n",
       "      <td>2587.43</td>\n",
       "      <td>2580.53</td>\n",
       "      <td>2584.60</td>\n",
       "      <td>18774.145</td>\n",
       "      <td>False</td>\n",
       "      <td>False</td>\n",
       "      <td>False</td>\n",
       "      <td>False</td>\n",
       "      <td>False</td>\n",
       "      <td>False</td>\n",
       "    </tr>\n",
       "    <tr>\n",
       "      <th>105116</th>\n",
       "      <td>2025-07-03 19:45:00</td>\n",
       "      <td>2584.59</td>\n",
       "      <td>2586.40</td>\n",
       "      <td>2582.44</td>\n",
       "      <td>2584.63</td>\n",
       "      <td>12267.453</td>\n",
       "      <td>True</td>\n",
       "      <td>False</td>\n",
       "      <td>False</td>\n",
       "      <td>False</td>\n",
       "      <td>False</td>\n",
       "      <td>False</td>\n",
       "    </tr>\n",
       "    <tr>\n",
       "      <th>105117</th>\n",
       "      <td>2025-07-03 20:00:00</td>\n",
       "      <td>2584.63</td>\n",
       "      <td>2592.63</td>\n",
       "      <td>2584.10</td>\n",
       "      <td>2588.91</td>\n",
       "      <td>21872.346</td>\n",
       "      <td>False</td>\n",
       "      <td>False</td>\n",
       "      <td>False</td>\n",
       "      <td>False</td>\n",
       "      <td>False</td>\n",
       "      <td>False</td>\n",
       "    </tr>\n",
       "    <tr>\n",
       "      <th>105118</th>\n",
       "      <td>2025-07-03 20:15:00</td>\n",
       "      <td>2588.91</td>\n",
       "      <td>2595.54</td>\n",
       "      <td>2586.82</td>\n",
       "      <td>2593.61</td>\n",
       "      <td>23658.499</td>\n",
       "      <td>False</td>\n",
       "      <td>False</td>\n",
       "      <td>False</td>\n",
       "      <td>False</td>\n",
       "      <td>False</td>\n",
       "      <td>False</td>\n",
       "    </tr>\n",
       "  </tbody>\n",
       "</table>\n",
       "</div>"
      ],
      "text/plain": [
       "                  timestamp     open     high      low    close     volume  \\\n",
       "105114  2025-07-03 19:15:00  2588.60  2590.85  2587.03  2587.13  19852.263   \n",
       "105115  2025-07-03 19:30:00  2587.13  2587.43  2580.53  2584.60  18774.145   \n",
       "105116  2025-07-03 19:45:00  2584.59  2586.40  2582.44  2584.63  12267.453   \n",
       "105117  2025-07-03 20:00:00  2584.63  2592.63  2584.10  2588.91  21872.346   \n",
       "105118  2025-07-03 20:15:00  2588.91  2595.54  2586.82  2593.61  23658.499   \n",
       "\n",
       "        bullish_pin_bar Weak follow up Weak Low Tested  bearish_pin_bar  \\\n",
       "105114            False          False           False             True   \n",
       "105115            False          False           False            False   \n",
       "105116             True          False           False            False   \n",
       "105117            False          False           False            False   \n",
       "105118            False          False           False            False   \n",
       "\n",
       "       Weak follow down Weak High Tested  \n",
       "105114             True             True  \n",
       "105115            False            False  \n",
       "105116            False            False  \n",
       "105117            False            False  \n",
       "105118            False            False  "
      ]
     },
     "execution_count": 135,
     "metadata": {},
     "output_type": "execute_result"
    }
   ],
   "source": [
    "# Checking if highs of weak pin bars got tested\n",
    "highs_tested = ['False']*len(ethusdt_15min_df)\n",
    "for i in range(len(ethusdt_15min_df) - 1):\n",
    "    if(ethusdt_15min_df.loc[i, 'Weak follow down'] == 'True'):\n",
    "        pin_bar_high = ethusdt_15min_df.loc[i, 'high']\n",
    "        for j in range(i+1, len(ethusdt_15min_df)):\n",
    "            if(ethusdt_15min_df.loc[j, 'high'] > pin_bar_high):\n",
    "                highs_tested[i] = 'True'\n",
    "                break\n",
    "ethusdt_15min_df['Weak High Tested'] = highs_tested\n",
    "ethusdt_15min_df.tail()"
   ]
  },
  {
   "cell_type": "code",
   "execution_count": 136,
   "id": "ac6e5722",
   "metadata": {},
   "outputs": [],
   "source": [
    "#Saving the data frame into csv\n",
    "ethusdt_15min_df.to_csv('e_15min_analyzed.csv')"
   ]
  },
  {
   "cell_type": "code",
   "execution_count": 137,
   "id": "f4941e12",
   "metadata": {},
   "outputs": [
    {
     "data": {
      "application/vnd.microsoft.datawrangler.viewer.v0+json": {
       "columns": [
        {
         "name": "index",
         "rawType": "int64",
         "type": "integer"
        },
        {
         "name": "timestamp",
         "rawType": "object",
         "type": "string"
        },
        {
         "name": "open",
         "rawType": "float64",
         "type": "float"
        },
        {
         "name": "high",
         "rawType": "float64",
         "type": "float"
        },
        {
         "name": "low",
         "rawType": "float64",
         "type": "float"
        },
        {
         "name": "close",
         "rawType": "float64",
         "type": "float"
        },
        {
         "name": "volume",
         "rawType": "float64",
         "type": "float"
        }
       ],
       "ref": "07ce0110-b8bb-45d5-acb0-9ca415f2bc44",
       "rows": [
        [
         "0",
         "2022-07-04 20:35:00",
         "1118.56",
         "1119.46",
         "1117.58",
         "1118.89",
         "5259.76"
        ],
        [
         "1",
         "2022-07-04 20:40:00",
         "1118.89",
         "1119.43",
         "1117.32",
         "1119.2",
         "7271.598"
        ],
        [
         "2",
         "2022-07-04 20:45:00",
         "1119.19",
         "1122.6",
         "1118.5",
         "1121.56",
         "14192.02"
        ],
        [
         "3",
         "2022-07-04 20:50:00",
         "1121.56",
         "1124.05",
         "1121.54",
         "1122.78",
         "6814.047"
        ],
        [
         "4",
         "2022-07-04 20:55:00",
         "1122.77",
         "1123.0",
         "1120.32",
         "1121.29",
         "6551.292"
        ]
       ],
       "shape": {
        "columns": 6,
        "rows": 5
       }
      },
      "text/html": [
       "<div>\n",
       "<style scoped>\n",
       "    .dataframe tbody tr th:only-of-type {\n",
       "        vertical-align: middle;\n",
       "    }\n",
       "\n",
       "    .dataframe tbody tr th {\n",
       "        vertical-align: top;\n",
       "    }\n",
       "\n",
       "    .dataframe thead th {\n",
       "        text-align: right;\n",
       "    }\n",
       "</style>\n",
       "<table border=\"1\" class=\"dataframe\">\n",
       "  <thead>\n",
       "    <tr style=\"text-align: right;\">\n",
       "      <th></th>\n",
       "      <th>timestamp</th>\n",
       "      <th>open</th>\n",
       "      <th>high</th>\n",
       "      <th>low</th>\n",
       "      <th>close</th>\n",
       "      <th>volume</th>\n",
       "    </tr>\n",
       "  </thead>\n",
       "  <tbody>\n",
       "    <tr>\n",
       "      <th>0</th>\n",
       "      <td>2022-07-04 20:35:00</td>\n",
       "      <td>1118.56</td>\n",
       "      <td>1119.46</td>\n",
       "      <td>1117.58</td>\n",
       "      <td>1118.89</td>\n",
       "      <td>5259.760</td>\n",
       "    </tr>\n",
       "    <tr>\n",
       "      <th>1</th>\n",
       "      <td>2022-07-04 20:40:00</td>\n",
       "      <td>1118.89</td>\n",
       "      <td>1119.43</td>\n",
       "      <td>1117.32</td>\n",
       "      <td>1119.20</td>\n",
       "      <td>7271.598</td>\n",
       "    </tr>\n",
       "    <tr>\n",
       "      <th>2</th>\n",
       "      <td>2022-07-04 20:45:00</td>\n",
       "      <td>1119.19</td>\n",
       "      <td>1122.60</td>\n",
       "      <td>1118.50</td>\n",
       "      <td>1121.56</td>\n",
       "      <td>14192.020</td>\n",
       "    </tr>\n",
       "    <tr>\n",
       "      <th>3</th>\n",
       "      <td>2022-07-04 20:50:00</td>\n",
       "      <td>1121.56</td>\n",
       "      <td>1124.05</td>\n",
       "      <td>1121.54</td>\n",
       "      <td>1122.78</td>\n",
       "      <td>6814.047</td>\n",
       "    </tr>\n",
       "    <tr>\n",
       "      <th>4</th>\n",
       "      <td>2022-07-04 20:55:00</td>\n",
       "      <td>1122.77</td>\n",
       "      <td>1123.00</td>\n",
       "      <td>1120.32</td>\n",
       "      <td>1121.29</td>\n",
       "      <td>6551.292</td>\n",
       "    </tr>\n",
       "  </tbody>\n",
       "</table>\n",
       "</div>"
      ],
      "text/plain": [
       "             timestamp     open     high      low    close     volume\n",
       "0  2022-07-04 20:35:00  1118.56  1119.46  1117.58  1118.89   5259.760\n",
       "1  2022-07-04 20:40:00  1118.89  1119.43  1117.32  1119.20   7271.598\n",
       "2  2022-07-04 20:45:00  1119.19  1122.60  1118.50  1121.56  14192.020\n",
       "3  2022-07-04 20:50:00  1121.56  1124.05  1121.54  1122.78   6814.047\n",
       "4  2022-07-04 20:55:00  1122.77  1123.00  1120.32  1121.29   6551.292"
      ]
     },
     "execution_count": 137,
     "metadata": {},
     "output_type": "execute_result"
    }
   ],
   "source": [
    "#Starting the analysis for 5 minutes in ETHUSDT\n",
    "ethusdt_5min_data = pd.read_csv('ETHUSDT_5min.csv')\n",
    "ethusdt_5min_df = pd.DataFrame(ethusdt_5min_data)\n",
    "ethusdt_5min_df.head()"
   ]
  },
  {
   "cell_type": "code",
   "execution_count": 138,
   "id": "545b4796",
   "metadata": {},
   "outputs": [
    {
     "data": {
      "application/vnd.microsoft.datawrangler.viewer.v0+json": {
       "columns": [
        {
         "name": "index",
         "rawType": "int64",
         "type": "integer"
        },
        {
         "name": "timestamp",
         "rawType": "object",
         "type": "string"
        },
        {
         "name": "open",
         "rawType": "float64",
         "type": "float"
        },
        {
         "name": "high",
         "rawType": "float64",
         "type": "float"
        },
        {
         "name": "low",
         "rawType": "float64",
         "type": "float"
        },
        {
         "name": "close",
         "rawType": "float64",
         "type": "float"
        },
        {
         "name": "volume",
         "rawType": "float64",
         "type": "float"
        },
        {
         "name": "bullish_pin_bar",
         "rawType": "bool",
         "type": "boolean"
        }
       ],
       "ref": "05143dce-6db1-4f0c-b7ce-8bb22975dff2",
       "rows": [
        [
         "0",
         "2022-07-04 20:35:00",
         "1118.56",
         "1119.46",
         "1117.58",
         "1118.89",
         "5259.76",
         "True"
        ],
        [
         "1",
         "2022-07-04 20:40:00",
         "1118.89",
         "1119.43",
         "1117.32",
         "1119.2",
         "7271.598",
         "True"
        ],
        [
         "2",
         "2022-07-04 20:45:00",
         "1119.19",
         "1122.6",
         "1118.5",
         "1121.56",
         "14192.02",
         "False"
        ],
        [
         "3",
         "2022-07-04 20:50:00",
         "1121.56",
         "1124.05",
         "1121.54",
         "1122.78",
         "6814.047",
         "False"
        ],
        [
         "4",
         "2022-07-04 20:55:00",
         "1122.77",
         "1123.0",
         "1120.32",
         "1121.29",
         "6551.292",
         "False"
        ]
       ],
       "shape": {
        "columns": 7,
        "rows": 5
       }
      },
      "text/html": [
       "<div>\n",
       "<style scoped>\n",
       "    .dataframe tbody tr th:only-of-type {\n",
       "        vertical-align: middle;\n",
       "    }\n",
       "\n",
       "    .dataframe tbody tr th {\n",
       "        vertical-align: top;\n",
       "    }\n",
       "\n",
       "    .dataframe thead th {\n",
       "        text-align: right;\n",
       "    }\n",
       "</style>\n",
       "<table border=\"1\" class=\"dataframe\">\n",
       "  <thead>\n",
       "    <tr style=\"text-align: right;\">\n",
       "      <th></th>\n",
       "      <th>timestamp</th>\n",
       "      <th>open</th>\n",
       "      <th>high</th>\n",
       "      <th>low</th>\n",
       "      <th>close</th>\n",
       "      <th>volume</th>\n",
       "      <th>bullish_pin_bar</th>\n",
       "    </tr>\n",
       "  </thead>\n",
       "  <tbody>\n",
       "    <tr>\n",
       "      <th>0</th>\n",
       "      <td>2022-07-04 20:35:00</td>\n",
       "      <td>1118.56</td>\n",
       "      <td>1119.46</td>\n",
       "      <td>1117.58</td>\n",
       "      <td>1118.89</td>\n",
       "      <td>5259.760</td>\n",
       "      <td>True</td>\n",
       "    </tr>\n",
       "    <tr>\n",
       "      <th>1</th>\n",
       "      <td>2022-07-04 20:40:00</td>\n",
       "      <td>1118.89</td>\n",
       "      <td>1119.43</td>\n",
       "      <td>1117.32</td>\n",
       "      <td>1119.20</td>\n",
       "      <td>7271.598</td>\n",
       "      <td>True</td>\n",
       "    </tr>\n",
       "    <tr>\n",
       "      <th>2</th>\n",
       "      <td>2022-07-04 20:45:00</td>\n",
       "      <td>1119.19</td>\n",
       "      <td>1122.60</td>\n",
       "      <td>1118.50</td>\n",
       "      <td>1121.56</td>\n",
       "      <td>14192.020</td>\n",
       "      <td>False</td>\n",
       "    </tr>\n",
       "    <tr>\n",
       "      <th>3</th>\n",
       "      <td>2022-07-04 20:50:00</td>\n",
       "      <td>1121.56</td>\n",
       "      <td>1124.05</td>\n",
       "      <td>1121.54</td>\n",
       "      <td>1122.78</td>\n",
       "      <td>6814.047</td>\n",
       "      <td>False</td>\n",
       "    </tr>\n",
       "    <tr>\n",
       "      <th>4</th>\n",
       "      <td>2022-07-04 20:55:00</td>\n",
       "      <td>1122.77</td>\n",
       "      <td>1123.00</td>\n",
       "      <td>1120.32</td>\n",
       "      <td>1121.29</td>\n",
       "      <td>6551.292</td>\n",
       "      <td>False</td>\n",
       "    </tr>\n",
       "  </tbody>\n",
       "</table>\n",
       "</div>"
      ],
      "text/plain": [
       "             timestamp     open     high      low    close     volume  \\\n",
       "0  2022-07-04 20:35:00  1118.56  1119.46  1117.58  1118.89   5259.760   \n",
       "1  2022-07-04 20:40:00  1118.89  1119.43  1117.32  1119.20   7271.598   \n",
       "2  2022-07-04 20:45:00  1119.19  1122.60  1118.50  1121.56  14192.020   \n",
       "3  2022-07-04 20:50:00  1121.56  1124.05  1121.54  1122.78   6814.047   \n",
       "4  2022-07-04 20:55:00  1122.77  1123.00  1120.32  1121.29   6551.292   \n",
       "\n",
       "   bullish_pin_bar  \n",
       "0             True  \n",
       "1             True  \n",
       "2            False  \n",
       "3            False  \n",
       "4            False  "
      ]
     },
     "execution_count": 138,
     "metadata": {},
     "output_type": "execute_result"
    }
   ],
   "source": [
    "#Getting the weak bullish pin bars\n",
    "ethusdt_5min_df['bullish_pin_bar'] = ethusdt_5min_df.apply(is_bullish_pin_bar, axis=1)\n",
    "ethusdt_5min_df.head()"
   ]
  },
  {
   "cell_type": "code",
   "execution_count": 139,
   "id": "9bd0e29d",
   "metadata": {},
   "outputs": [
    {
     "data": {
      "application/vnd.microsoft.datawrangler.viewer.v0+json": {
       "columns": [
        {
         "name": "index",
         "rawType": "int64",
         "type": "integer"
        },
        {
         "name": "timestamp",
         "rawType": "object",
         "type": "string"
        },
        {
         "name": "open",
         "rawType": "float64",
         "type": "float"
        },
        {
         "name": "high",
         "rawType": "float64",
         "type": "float"
        },
        {
         "name": "low",
         "rawType": "float64",
         "type": "float"
        },
        {
         "name": "close",
         "rawType": "float64",
         "type": "float"
        },
        {
         "name": "volume",
         "rawType": "float64",
         "type": "float"
        },
        {
         "name": "bullish_pin_bar",
         "rawType": "bool",
         "type": "boolean"
        },
        {
         "name": "Weak follow up",
         "rawType": "object",
         "type": "string"
        }
       ],
       "ref": "fe3132b1-27e5-44f8-8efa-56f4a703da05",
       "rows": [
        [
         "315355",
         "2025-07-03 20:10:00",
         "2590.0",
         "2592.63",
         "2587.5",
         "2588.91",
         "11477.755",
         "False",
         "False"
        ],
        [
         "315356",
         "2025-07-03 20:15:00",
         "2588.91",
         "2590.91",
         "2586.82",
         "2590.78",
         "5668.784",
         "True",
         "False"
        ],
        [
         "315357",
         "2025-07-03 20:20:00",
         "2590.77",
         "2592.23",
         "2589.41",
         "2591.36",
         "6041.607",
         "True",
         "False"
        ],
        [
         "315358",
         "2025-07-03 20:25:00",
         "2591.36",
         "2595.54",
         "2591.35",
         "2593.61",
         "11948.108",
         "False",
         "False"
        ],
        [
         "315359",
         "2025-07-03 20:30:00",
         "2593.62",
         "2593.88",
         "2591.42",
         "2591.68",
         "4993.554",
         "False",
         "False"
        ]
       ],
       "shape": {
        "columns": 8,
        "rows": 5
       }
      },
      "text/html": [
       "<div>\n",
       "<style scoped>\n",
       "    .dataframe tbody tr th:only-of-type {\n",
       "        vertical-align: middle;\n",
       "    }\n",
       "\n",
       "    .dataframe tbody tr th {\n",
       "        vertical-align: top;\n",
       "    }\n",
       "\n",
       "    .dataframe thead th {\n",
       "        text-align: right;\n",
       "    }\n",
       "</style>\n",
       "<table border=\"1\" class=\"dataframe\">\n",
       "  <thead>\n",
       "    <tr style=\"text-align: right;\">\n",
       "      <th></th>\n",
       "      <th>timestamp</th>\n",
       "      <th>open</th>\n",
       "      <th>high</th>\n",
       "      <th>low</th>\n",
       "      <th>close</th>\n",
       "      <th>volume</th>\n",
       "      <th>bullish_pin_bar</th>\n",
       "      <th>Weak follow up</th>\n",
       "    </tr>\n",
       "  </thead>\n",
       "  <tbody>\n",
       "    <tr>\n",
       "      <th>315355</th>\n",
       "      <td>2025-07-03 20:10:00</td>\n",
       "      <td>2590.00</td>\n",
       "      <td>2592.63</td>\n",
       "      <td>2587.50</td>\n",
       "      <td>2588.91</td>\n",
       "      <td>11477.755</td>\n",
       "      <td>False</td>\n",
       "      <td>False</td>\n",
       "    </tr>\n",
       "    <tr>\n",
       "      <th>315356</th>\n",
       "      <td>2025-07-03 20:15:00</td>\n",
       "      <td>2588.91</td>\n",
       "      <td>2590.91</td>\n",
       "      <td>2586.82</td>\n",
       "      <td>2590.78</td>\n",
       "      <td>5668.784</td>\n",
       "      <td>True</td>\n",
       "      <td>False</td>\n",
       "    </tr>\n",
       "    <tr>\n",
       "      <th>315357</th>\n",
       "      <td>2025-07-03 20:20:00</td>\n",
       "      <td>2590.77</td>\n",
       "      <td>2592.23</td>\n",
       "      <td>2589.41</td>\n",
       "      <td>2591.36</td>\n",
       "      <td>6041.607</td>\n",
       "      <td>True</td>\n",
       "      <td>False</td>\n",
       "    </tr>\n",
       "    <tr>\n",
       "      <th>315358</th>\n",
       "      <td>2025-07-03 20:25:00</td>\n",
       "      <td>2591.36</td>\n",
       "      <td>2595.54</td>\n",
       "      <td>2591.35</td>\n",
       "      <td>2593.61</td>\n",
       "      <td>11948.108</td>\n",
       "      <td>False</td>\n",
       "      <td>False</td>\n",
       "    </tr>\n",
       "    <tr>\n",
       "      <th>315359</th>\n",
       "      <td>2025-07-03 20:30:00</td>\n",
       "      <td>2593.62</td>\n",
       "      <td>2593.88</td>\n",
       "      <td>2591.42</td>\n",
       "      <td>2591.68</td>\n",
       "      <td>4993.554</td>\n",
       "      <td>False</td>\n",
       "      <td>False</td>\n",
       "    </tr>\n",
       "  </tbody>\n",
       "</table>\n",
       "</div>"
      ],
      "text/plain": [
       "                  timestamp     open     high      low    close     volume  \\\n",
       "315355  2025-07-03 20:10:00  2590.00  2592.63  2587.50  2588.91  11477.755   \n",
       "315356  2025-07-03 20:15:00  2588.91  2590.91  2586.82  2590.78   5668.784   \n",
       "315357  2025-07-03 20:20:00  2590.77  2592.23  2589.41  2591.36   6041.607   \n",
       "315358  2025-07-03 20:25:00  2591.36  2595.54  2591.35  2593.61  11948.108   \n",
       "315359  2025-07-03 20:30:00  2593.62  2593.88  2591.42  2591.68   4993.554   \n",
       "\n",
       "        bullish_pin_bar Weak follow up  \n",
       "315355            False          False  \n",
       "315356             True          False  \n",
       "315357             True          False  \n",
       "315358            False          False  \n",
       "315359            False          False  "
      ]
     },
     "execution_count": 139,
     "metadata": {},
     "output_type": "execute_result"
    }
   ],
   "source": [
    "#Finding the weak follow ups\n",
    "follow_through = []\n",
    "for i in range(len(ethusdt_5min_df) - 1):\n",
    "    if(ethusdt_5min_df.loc[i, 'bullish_pin_bar']):\n",
    "        pin_bar_volume = ethusdt_5min_df.loc[i, 'volume']\n",
    "        next_bar_volume = ethusdt_5min_df.loc[i+1, 'volume']\n",
    "        pin_bar_move = ethusdt_5min_df.loc[i,'close'] - ethusdt_5min_df.loc[i,'open']\n",
    "        next_bar_move = ethusdt_5min_df.loc[i+1,'close'] - ethusdt_5min_df.loc[i+1,'open']\n",
    "        if(next_bar_move > pin_bar_move and next_bar_volume < pin_bar_volume):\n",
    "            follow_through.append('True')\n",
    "        else:\n",
    "            follow_through.append('False')\n",
    "    else:\n",
    "        follow_through.append('False')\n",
    "follow_through.append('False')\n",
    "ethusdt_5min_df['Weak follow up'] = follow_through\n",
    "ethusdt_5min_df.tail()"
   ]
  },
  {
   "cell_type": "code",
   "execution_count": 140,
   "id": "6e785401",
   "metadata": {},
   "outputs": [
    {
     "data": {
      "application/vnd.microsoft.datawrangler.viewer.v0+json": {
       "columns": [
        {
         "name": "index",
         "rawType": "int64",
         "type": "integer"
        },
        {
         "name": "timestamp",
         "rawType": "object",
         "type": "string"
        },
        {
         "name": "open",
         "rawType": "float64",
         "type": "float"
        },
        {
         "name": "high",
         "rawType": "float64",
         "type": "float"
        },
        {
         "name": "low",
         "rawType": "float64",
         "type": "float"
        },
        {
         "name": "close",
         "rawType": "float64",
         "type": "float"
        },
        {
         "name": "volume",
         "rawType": "float64",
         "type": "float"
        },
        {
         "name": "bullish_pin_bar",
         "rawType": "bool",
         "type": "boolean"
        },
        {
         "name": "Weak follow up",
         "rawType": "object",
         "type": "string"
        },
        {
         "name": "Weak Low Tested",
         "rawType": "object",
         "type": "string"
        }
       ],
       "ref": "2a40db33-fe54-441e-911b-08cd71699f73",
       "rows": [
        [
         "315355",
         "2025-07-03 20:10:00",
         "2590.0",
         "2592.63",
         "2587.5",
         "2588.91",
         "11477.755",
         "False",
         "False",
         "False"
        ],
        [
         "315356",
         "2025-07-03 20:15:00",
         "2588.91",
         "2590.91",
         "2586.82",
         "2590.78",
         "5668.784",
         "True",
         "False",
         "False"
        ],
        [
         "315357",
         "2025-07-03 20:20:00",
         "2590.77",
         "2592.23",
         "2589.41",
         "2591.36",
         "6041.607",
         "True",
         "False",
         "False"
        ],
        [
         "315358",
         "2025-07-03 20:25:00",
         "2591.36",
         "2595.54",
         "2591.35",
         "2593.61",
         "11948.108",
         "False",
         "False",
         "False"
        ],
        [
         "315359",
         "2025-07-03 20:30:00",
         "2593.62",
         "2593.88",
         "2591.42",
         "2591.68",
         "4993.554",
         "False",
         "False",
         "False"
        ]
       ],
       "shape": {
        "columns": 9,
        "rows": 5
       }
      },
      "text/html": [
       "<div>\n",
       "<style scoped>\n",
       "    .dataframe tbody tr th:only-of-type {\n",
       "        vertical-align: middle;\n",
       "    }\n",
       "\n",
       "    .dataframe tbody tr th {\n",
       "        vertical-align: top;\n",
       "    }\n",
       "\n",
       "    .dataframe thead th {\n",
       "        text-align: right;\n",
       "    }\n",
       "</style>\n",
       "<table border=\"1\" class=\"dataframe\">\n",
       "  <thead>\n",
       "    <tr style=\"text-align: right;\">\n",
       "      <th></th>\n",
       "      <th>timestamp</th>\n",
       "      <th>open</th>\n",
       "      <th>high</th>\n",
       "      <th>low</th>\n",
       "      <th>close</th>\n",
       "      <th>volume</th>\n",
       "      <th>bullish_pin_bar</th>\n",
       "      <th>Weak follow up</th>\n",
       "      <th>Weak Low Tested</th>\n",
       "    </tr>\n",
       "  </thead>\n",
       "  <tbody>\n",
       "    <tr>\n",
       "      <th>315355</th>\n",
       "      <td>2025-07-03 20:10:00</td>\n",
       "      <td>2590.00</td>\n",
       "      <td>2592.63</td>\n",
       "      <td>2587.50</td>\n",
       "      <td>2588.91</td>\n",
       "      <td>11477.755</td>\n",
       "      <td>False</td>\n",
       "      <td>False</td>\n",
       "      <td>False</td>\n",
       "    </tr>\n",
       "    <tr>\n",
       "      <th>315356</th>\n",
       "      <td>2025-07-03 20:15:00</td>\n",
       "      <td>2588.91</td>\n",
       "      <td>2590.91</td>\n",
       "      <td>2586.82</td>\n",
       "      <td>2590.78</td>\n",
       "      <td>5668.784</td>\n",
       "      <td>True</td>\n",
       "      <td>False</td>\n",
       "      <td>False</td>\n",
       "    </tr>\n",
       "    <tr>\n",
       "      <th>315357</th>\n",
       "      <td>2025-07-03 20:20:00</td>\n",
       "      <td>2590.77</td>\n",
       "      <td>2592.23</td>\n",
       "      <td>2589.41</td>\n",
       "      <td>2591.36</td>\n",
       "      <td>6041.607</td>\n",
       "      <td>True</td>\n",
       "      <td>False</td>\n",
       "      <td>False</td>\n",
       "    </tr>\n",
       "    <tr>\n",
       "      <th>315358</th>\n",
       "      <td>2025-07-03 20:25:00</td>\n",
       "      <td>2591.36</td>\n",
       "      <td>2595.54</td>\n",
       "      <td>2591.35</td>\n",
       "      <td>2593.61</td>\n",
       "      <td>11948.108</td>\n",
       "      <td>False</td>\n",
       "      <td>False</td>\n",
       "      <td>False</td>\n",
       "    </tr>\n",
       "    <tr>\n",
       "      <th>315359</th>\n",
       "      <td>2025-07-03 20:30:00</td>\n",
       "      <td>2593.62</td>\n",
       "      <td>2593.88</td>\n",
       "      <td>2591.42</td>\n",
       "      <td>2591.68</td>\n",
       "      <td>4993.554</td>\n",
       "      <td>False</td>\n",
       "      <td>False</td>\n",
       "      <td>False</td>\n",
       "    </tr>\n",
       "  </tbody>\n",
       "</table>\n",
       "</div>"
      ],
      "text/plain": [
       "                  timestamp     open     high      low    close     volume  \\\n",
       "315355  2025-07-03 20:10:00  2590.00  2592.63  2587.50  2588.91  11477.755   \n",
       "315356  2025-07-03 20:15:00  2588.91  2590.91  2586.82  2590.78   5668.784   \n",
       "315357  2025-07-03 20:20:00  2590.77  2592.23  2589.41  2591.36   6041.607   \n",
       "315358  2025-07-03 20:25:00  2591.36  2595.54  2591.35  2593.61  11948.108   \n",
       "315359  2025-07-03 20:30:00  2593.62  2593.88  2591.42  2591.68   4993.554   \n",
       "\n",
       "        bullish_pin_bar Weak follow up Weak Low Tested  \n",
       "315355            False          False           False  \n",
       "315356             True          False           False  \n",
       "315357             True          False           False  \n",
       "315358            False          False           False  \n",
       "315359            False          False           False  "
      ]
     },
     "execution_count": 140,
     "metadata": {},
     "output_type": "execute_result"
    }
   ],
   "source": [
    "# Checking if lows of weak pin bars got tested\n",
    "lows_tested = ['False']*len(ethusdt_5min_df)\n",
    "for i in range(len(ethusdt_5min_df) - 1):\n",
    "    if(ethusdt_5min_df.loc[i, 'Weak follow up'] == 'True'):\n",
    "        pin_bar_low = ethusdt_5min_df.loc[i, 'low']\n",
    "        for j in range(i+1, len(ethusdt_5min_df)):\n",
    "            if(ethusdt_5min_df.loc[j, 'low'] < pin_bar_low):\n",
    "                lows_tested[i] = 'True'\n",
    "                break\n",
    "ethusdt_5min_df['Weak Low Tested'] = lows_tested\n",
    "ethusdt_5min_df.tail()"
   ]
  },
  {
   "cell_type": "code",
   "execution_count": 141,
   "id": "6639ade7",
   "metadata": {},
   "outputs": [
    {
     "data": {
      "application/vnd.microsoft.datawrangler.viewer.v0+json": {
       "columns": [
        {
         "name": "index",
         "rawType": "int64",
         "type": "integer"
        },
        {
         "name": "timestamp",
         "rawType": "object",
         "type": "string"
        },
        {
         "name": "open",
         "rawType": "float64",
         "type": "float"
        },
        {
         "name": "high",
         "rawType": "float64",
         "type": "float"
        },
        {
         "name": "low",
         "rawType": "float64",
         "type": "float"
        },
        {
         "name": "close",
         "rawType": "float64",
         "type": "float"
        },
        {
         "name": "volume",
         "rawType": "float64",
         "type": "float"
        },
        {
         "name": "bullish_pin_bar",
         "rawType": "bool",
         "type": "boolean"
        },
        {
         "name": "Weak follow up",
         "rawType": "object",
         "type": "string"
        },
        {
         "name": "Weak Low Tested",
         "rawType": "object",
         "type": "string"
        },
        {
         "name": "bearish_pin_bar",
         "rawType": "bool",
         "type": "boolean"
        }
       ],
       "ref": "c72a3609-57a2-4a94-9b78-61035589d86d",
       "rows": [
        [
         "0",
         "2022-07-04 20:35:00",
         "1118.56",
         "1119.46",
         "1117.58",
         "1118.89",
         "5259.76",
         "True",
         "False",
         "False",
         "False"
        ],
        [
         "1",
         "2022-07-04 20:40:00",
         "1118.89",
         "1119.43",
         "1117.32",
         "1119.2",
         "7271.598",
         "True",
         "False",
         "False",
         "False"
        ],
        [
         "2",
         "2022-07-04 20:45:00",
         "1119.19",
         "1122.6",
         "1118.5",
         "1121.56",
         "14192.02",
         "False",
         "False",
         "False",
         "False"
        ],
        [
         "3",
         "2022-07-04 20:50:00",
         "1121.56",
         "1124.05",
         "1121.54",
         "1122.78",
         "6814.047",
         "False",
         "False",
         "False",
         "False"
        ],
        [
         "4",
         "2022-07-04 20:55:00",
         "1122.77",
         "1123.0",
         "1120.32",
         "1121.29",
         "6551.292",
         "False",
         "False",
         "False",
         "False"
        ]
       ],
       "shape": {
        "columns": 10,
        "rows": 5
       }
      },
      "text/html": [
       "<div>\n",
       "<style scoped>\n",
       "    .dataframe tbody tr th:only-of-type {\n",
       "        vertical-align: middle;\n",
       "    }\n",
       "\n",
       "    .dataframe tbody tr th {\n",
       "        vertical-align: top;\n",
       "    }\n",
       "\n",
       "    .dataframe thead th {\n",
       "        text-align: right;\n",
       "    }\n",
       "</style>\n",
       "<table border=\"1\" class=\"dataframe\">\n",
       "  <thead>\n",
       "    <tr style=\"text-align: right;\">\n",
       "      <th></th>\n",
       "      <th>timestamp</th>\n",
       "      <th>open</th>\n",
       "      <th>high</th>\n",
       "      <th>low</th>\n",
       "      <th>close</th>\n",
       "      <th>volume</th>\n",
       "      <th>bullish_pin_bar</th>\n",
       "      <th>Weak follow up</th>\n",
       "      <th>Weak Low Tested</th>\n",
       "      <th>bearish_pin_bar</th>\n",
       "    </tr>\n",
       "  </thead>\n",
       "  <tbody>\n",
       "    <tr>\n",
       "      <th>0</th>\n",
       "      <td>2022-07-04 20:35:00</td>\n",
       "      <td>1118.56</td>\n",
       "      <td>1119.46</td>\n",
       "      <td>1117.58</td>\n",
       "      <td>1118.89</td>\n",
       "      <td>5259.760</td>\n",
       "      <td>True</td>\n",
       "      <td>False</td>\n",
       "      <td>False</td>\n",
       "      <td>False</td>\n",
       "    </tr>\n",
       "    <tr>\n",
       "      <th>1</th>\n",
       "      <td>2022-07-04 20:40:00</td>\n",
       "      <td>1118.89</td>\n",
       "      <td>1119.43</td>\n",
       "      <td>1117.32</td>\n",
       "      <td>1119.20</td>\n",
       "      <td>7271.598</td>\n",
       "      <td>True</td>\n",
       "      <td>False</td>\n",
       "      <td>False</td>\n",
       "      <td>False</td>\n",
       "    </tr>\n",
       "    <tr>\n",
       "      <th>2</th>\n",
       "      <td>2022-07-04 20:45:00</td>\n",
       "      <td>1119.19</td>\n",
       "      <td>1122.60</td>\n",
       "      <td>1118.50</td>\n",
       "      <td>1121.56</td>\n",
       "      <td>14192.020</td>\n",
       "      <td>False</td>\n",
       "      <td>False</td>\n",
       "      <td>False</td>\n",
       "      <td>False</td>\n",
       "    </tr>\n",
       "    <tr>\n",
       "      <th>3</th>\n",
       "      <td>2022-07-04 20:50:00</td>\n",
       "      <td>1121.56</td>\n",
       "      <td>1124.05</td>\n",
       "      <td>1121.54</td>\n",
       "      <td>1122.78</td>\n",
       "      <td>6814.047</td>\n",
       "      <td>False</td>\n",
       "      <td>False</td>\n",
       "      <td>False</td>\n",
       "      <td>False</td>\n",
       "    </tr>\n",
       "    <tr>\n",
       "      <th>4</th>\n",
       "      <td>2022-07-04 20:55:00</td>\n",
       "      <td>1122.77</td>\n",
       "      <td>1123.00</td>\n",
       "      <td>1120.32</td>\n",
       "      <td>1121.29</td>\n",
       "      <td>6551.292</td>\n",
       "      <td>False</td>\n",
       "      <td>False</td>\n",
       "      <td>False</td>\n",
       "      <td>False</td>\n",
       "    </tr>\n",
       "  </tbody>\n",
       "</table>\n",
       "</div>"
      ],
      "text/plain": [
       "             timestamp     open     high      low    close     volume  \\\n",
       "0  2022-07-04 20:35:00  1118.56  1119.46  1117.58  1118.89   5259.760   \n",
       "1  2022-07-04 20:40:00  1118.89  1119.43  1117.32  1119.20   7271.598   \n",
       "2  2022-07-04 20:45:00  1119.19  1122.60  1118.50  1121.56  14192.020   \n",
       "3  2022-07-04 20:50:00  1121.56  1124.05  1121.54  1122.78   6814.047   \n",
       "4  2022-07-04 20:55:00  1122.77  1123.00  1120.32  1121.29   6551.292   \n",
       "\n",
       "   bullish_pin_bar Weak follow up Weak Low Tested  bearish_pin_bar  \n",
       "0             True          False           False            False  \n",
       "1             True          False           False            False  \n",
       "2            False          False           False            False  \n",
       "3            False          False           False            False  \n",
       "4            False          False           False            False  "
      ]
     },
     "execution_count": 141,
     "metadata": {},
     "output_type": "execute_result"
    }
   ],
   "source": [
    "#Getting bearish pin bars\n",
    "ethusdt_5min_df['bearish_pin_bar'] = ethusdt_5min_df.apply(is_bearish_pin_bar, axis=1)\n",
    "ethusdt_5min_df.head()"
   ]
  },
  {
   "cell_type": "code",
   "execution_count": 142,
   "id": "64b203a4",
   "metadata": {},
   "outputs": [
    {
     "data": {
      "application/vnd.microsoft.datawrangler.viewer.v0+json": {
       "columns": [
        {
         "name": "index",
         "rawType": "int64",
         "type": "integer"
        },
        {
         "name": "timestamp",
         "rawType": "object",
         "type": "string"
        },
        {
         "name": "open",
         "rawType": "float64",
         "type": "float"
        },
        {
         "name": "high",
         "rawType": "float64",
         "type": "float"
        },
        {
         "name": "low",
         "rawType": "float64",
         "type": "float"
        },
        {
         "name": "close",
         "rawType": "float64",
         "type": "float"
        },
        {
         "name": "volume",
         "rawType": "float64",
         "type": "float"
        },
        {
         "name": "bullish_pin_bar",
         "rawType": "bool",
         "type": "boolean"
        },
        {
         "name": "Weak follow up",
         "rawType": "object",
         "type": "string"
        },
        {
         "name": "Weak Low Tested",
         "rawType": "object",
         "type": "string"
        },
        {
         "name": "bearish_pin_bar",
         "rawType": "bool",
         "type": "boolean"
        },
        {
         "name": "Weak follow down",
         "rawType": "object",
         "type": "string"
        }
       ],
       "ref": "c808cb1a-b27d-406f-b2a0-ce9632b85179",
       "rows": [
        [
         "315355",
         "2025-07-03 20:10:00",
         "2590.0",
         "2592.63",
         "2587.5",
         "2588.91",
         "11477.755",
         "False",
         "False",
         "False",
         "True",
         "False"
        ],
        [
         "315356",
         "2025-07-03 20:15:00",
         "2588.91",
         "2590.91",
         "2586.82",
         "2590.78",
         "5668.784",
         "True",
         "False",
         "False",
         "False",
         "False"
        ],
        [
         "315357",
         "2025-07-03 20:20:00",
         "2590.77",
         "2592.23",
         "2589.41",
         "2591.36",
         "6041.607",
         "True",
         "False",
         "False",
         "False",
         "False"
        ],
        [
         "315358",
         "2025-07-03 20:25:00",
         "2591.36",
         "2595.54",
         "2591.35",
         "2593.61",
         "11948.108",
         "False",
         "False",
         "False",
         "False",
         "False"
        ],
        [
         "315359",
         "2025-07-03 20:30:00",
         "2593.62",
         "2593.88",
         "2591.42",
         "2591.68",
         "4993.554",
         "False",
         "False",
         "False",
         "False",
         "False"
        ]
       ],
       "shape": {
        "columns": 11,
        "rows": 5
       }
      },
      "text/html": [
       "<div>\n",
       "<style scoped>\n",
       "    .dataframe tbody tr th:only-of-type {\n",
       "        vertical-align: middle;\n",
       "    }\n",
       "\n",
       "    .dataframe tbody tr th {\n",
       "        vertical-align: top;\n",
       "    }\n",
       "\n",
       "    .dataframe thead th {\n",
       "        text-align: right;\n",
       "    }\n",
       "</style>\n",
       "<table border=\"1\" class=\"dataframe\">\n",
       "  <thead>\n",
       "    <tr style=\"text-align: right;\">\n",
       "      <th></th>\n",
       "      <th>timestamp</th>\n",
       "      <th>open</th>\n",
       "      <th>high</th>\n",
       "      <th>low</th>\n",
       "      <th>close</th>\n",
       "      <th>volume</th>\n",
       "      <th>bullish_pin_bar</th>\n",
       "      <th>Weak follow up</th>\n",
       "      <th>Weak Low Tested</th>\n",
       "      <th>bearish_pin_bar</th>\n",
       "      <th>Weak follow down</th>\n",
       "    </tr>\n",
       "  </thead>\n",
       "  <tbody>\n",
       "    <tr>\n",
       "      <th>315355</th>\n",
       "      <td>2025-07-03 20:10:00</td>\n",
       "      <td>2590.00</td>\n",
       "      <td>2592.63</td>\n",
       "      <td>2587.50</td>\n",
       "      <td>2588.91</td>\n",
       "      <td>11477.755</td>\n",
       "      <td>False</td>\n",
       "      <td>False</td>\n",
       "      <td>False</td>\n",
       "      <td>True</td>\n",
       "      <td>False</td>\n",
       "    </tr>\n",
       "    <tr>\n",
       "      <th>315356</th>\n",
       "      <td>2025-07-03 20:15:00</td>\n",
       "      <td>2588.91</td>\n",
       "      <td>2590.91</td>\n",
       "      <td>2586.82</td>\n",
       "      <td>2590.78</td>\n",
       "      <td>5668.784</td>\n",
       "      <td>True</td>\n",
       "      <td>False</td>\n",
       "      <td>False</td>\n",
       "      <td>False</td>\n",
       "      <td>False</td>\n",
       "    </tr>\n",
       "    <tr>\n",
       "      <th>315357</th>\n",
       "      <td>2025-07-03 20:20:00</td>\n",
       "      <td>2590.77</td>\n",
       "      <td>2592.23</td>\n",
       "      <td>2589.41</td>\n",
       "      <td>2591.36</td>\n",
       "      <td>6041.607</td>\n",
       "      <td>True</td>\n",
       "      <td>False</td>\n",
       "      <td>False</td>\n",
       "      <td>False</td>\n",
       "      <td>False</td>\n",
       "    </tr>\n",
       "    <tr>\n",
       "      <th>315358</th>\n",
       "      <td>2025-07-03 20:25:00</td>\n",
       "      <td>2591.36</td>\n",
       "      <td>2595.54</td>\n",
       "      <td>2591.35</td>\n",
       "      <td>2593.61</td>\n",
       "      <td>11948.108</td>\n",
       "      <td>False</td>\n",
       "      <td>False</td>\n",
       "      <td>False</td>\n",
       "      <td>False</td>\n",
       "      <td>False</td>\n",
       "    </tr>\n",
       "    <tr>\n",
       "      <th>315359</th>\n",
       "      <td>2025-07-03 20:30:00</td>\n",
       "      <td>2593.62</td>\n",
       "      <td>2593.88</td>\n",
       "      <td>2591.42</td>\n",
       "      <td>2591.68</td>\n",
       "      <td>4993.554</td>\n",
       "      <td>False</td>\n",
       "      <td>False</td>\n",
       "      <td>False</td>\n",
       "      <td>False</td>\n",
       "      <td>False</td>\n",
       "    </tr>\n",
       "  </tbody>\n",
       "</table>\n",
       "</div>"
      ],
      "text/plain": [
       "                  timestamp     open     high      low    close     volume  \\\n",
       "315355  2025-07-03 20:10:00  2590.00  2592.63  2587.50  2588.91  11477.755   \n",
       "315356  2025-07-03 20:15:00  2588.91  2590.91  2586.82  2590.78   5668.784   \n",
       "315357  2025-07-03 20:20:00  2590.77  2592.23  2589.41  2591.36   6041.607   \n",
       "315358  2025-07-03 20:25:00  2591.36  2595.54  2591.35  2593.61  11948.108   \n",
       "315359  2025-07-03 20:30:00  2593.62  2593.88  2591.42  2591.68   4993.554   \n",
       "\n",
       "        bullish_pin_bar Weak follow up Weak Low Tested  bearish_pin_bar  \\\n",
       "315355            False          False           False             True   \n",
       "315356             True          False           False            False   \n",
       "315357             True          False           False            False   \n",
       "315358            False          False           False            False   \n",
       "315359            False          False           False            False   \n",
       "\n",
       "       Weak follow down  \n",
       "315355            False  \n",
       "315356            False  \n",
       "315357            False  \n",
       "315358            False  \n",
       "315359            False  "
      ]
     },
     "execution_count": 142,
     "metadata": {},
     "output_type": "execute_result"
    }
   ],
   "source": [
    "#Checking for weak follow down\n",
    "follow_through = []\n",
    "for i in range(len(ethusdt_5min_df) - 1):\n",
    "    if(ethusdt_5min_df.loc[i, 'bearish_pin_bar']):\n",
    "        pin_bar_volume = ethusdt_5min_df.loc[i, 'volume']\n",
    "        next_bar_volume = ethusdt_5min_df.loc[i+1, 'volume']\n",
    "        pin_bar_move = ethusdt_5min_df.loc[i,'open'] - ethusdt_5min_df.loc[i,'close']\n",
    "        next_bar_move = ethusdt_5min_df.loc[i+1,'open'] - ethusdt_5min_df.loc[i+1,'close']\n",
    "        if(next_bar_move > pin_bar_move and next_bar_volume < pin_bar_volume):\n",
    "            follow_through.append('True')\n",
    "        else:\n",
    "            follow_through.append('False')\n",
    "    else:\n",
    "        follow_through.append('False')\n",
    "follow_through.append('False')\n",
    "ethusdt_5min_df['Weak follow down'] = follow_through\n",
    "ethusdt_5min_df.tail()"
   ]
  },
  {
   "cell_type": "code",
   "execution_count": 143,
   "id": "2b8b4c0e",
   "metadata": {},
   "outputs": [
    {
     "data": {
      "application/vnd.microsoft.datawrangler.viewer.v0+json": {
       "columns": [
        {
         "name": "index",
         "rawType": "int64",
         "type": "integer"
        },
        {
         "name": "timestamp",
         "rawType": "object",
         "type": "string"
        },
        {
         "name": "open",
         "rawType": "float64",
         "type": "float"
        },
        {
         "name": "high",
         "rawType": "float64",
         "type": "float"
        },
        {
         "name": "low",
         "rawType": "float64",
         "type": "float"
        },
        {
         "name": "close",
         "rawType": "float64",
         "type": "float"
        },
        {
         "name": "volume",
         "rawType": "float64",
         "type": "float"
        },
        {
         "name": "bullish_pin_bar",
         "rawType": "bool",
         "type": "boolean"
        },
        {
         "name": "Weak follow up",
         "rawType": "object",
         "type": "string"
        },
        {
         "name": "Weak Low Tested",
         "rawType": "object",
         "type": "string"
        },
        {
         "name": "bearish_pin_bar",
         "rawType": "bool",
         "type": "boolean"
        },
        {
         "name": "Weak follow down",
         "rawType": "object",
         "type": "string"
        },
        {
         "name": "Weak High Tested",
         "rawType": "object",
         "type": "string"
        }
       ],
       "ref": "b08aa9b0-beee-4459-ac39-aeaf32e7fc73",
       "rows": [
        [
         "315355",
         "2025-07-03 20:10:00",
         "2590.0",
         "2592.63",
         "2587.5",
         "2588.91",
         "11477.755",
         "False",
         "False",
         "False",
         "True",
         "False",
         "False"
        ],
        [
         "315356",
         "2025-07-03 20:15:00",
         "2588.91",
         "2590.91",
         "2586.82",
         "2590.78",
         "5668.784",
         "True",
         "False",
         "False",
         "False",
         "False",
         "False"
        ],
        [
         "315357",
         "2025-07-03 20:20:00",
         "2590.77",
         "2592.23",
         "2589.41",
         "2591.36",
         "6041.607",
         "True",
         "False",
         "False",
         "False",
         "False",
         "False"
        ],
        [
         "315358",
         "2025-07-03 20:25:00",
         "2591.36",
         "2595.54",
         "2591.35",
         "2593.61",
         "11948.108",
         "False",
         "False",
         "False",
         "False",
         "False",
         "False"
        ],
        [
         "315359",
         "2025-07-03 20:30:00",
         "2593.62",
         "2593.88",
         "2591.42",
         "2591.68",
         "4993.554",
         "False",
         "False",
         "False",
         "False",
         "False",
         "False"
        ]
       ],
       "shape": {
        "columns": 12,
        "rows": 5
       }
      },
      "text/html": [
       "<div>\n",
       "<style scoped>\n",
       "    .dataframe tbody tr th:only-of-type {\n",
       "        vertical-align: middle;\n",
       "    }\n",
       "\n",
       "    .dataframe tbody tr th {\n",
       "        vertical-align: top;\n",
       "    }\n",
       "\n",
       "    .dataframe thead th {\n",
       "        text-align: right;\n",
       "    }\n",
       "</style>\n",
       "<table border=\"1\" class=\"dataframe\">\n",
       "  <thead>\n",
       "    <tr style=\"text-align: right;\">\n",
       "      <th></th>\n",
       "      <th>timestamp</th>\n",
       "      <th>open</th>\n",
       "      <th>high</th>\n",
       "      <th>low</th>\n",
       "      <th>close</th>\n",
       "      <th>volume</th>\n",
       "      <th>bullish_pin_bar</th>\n",
       "      <th>Weak follow up</th>\n",
       "      <th>Weak Low Tested</th>\n",
       "      <th>bearish_pin_bar</th>\n",
       "      <th>Weak follow down</th>\n",
       "      <th>Weak High Tested</th>\n",
       "    </tr>\n",
       "  </thead>\n",
       "  <tbody>\n",
       "    <tr>\n",
       "      <th>315355</th>\n",
       "      <td>2025-07-03 20:10:00</td>\n",
       "      <td>2590.00</td>\n",
       "      <td>2592.63</td>\n",
       "      <td>2587.50</td>\n",
       "      <td>2588.91</td>\n",
       "      <td>11477.755</td>\n",
       "      <td>False</td>\n",
       "      <td>False</td>\n",
       "      <td>False</td>\n",
       "      <td>True</td>\n",
       "      <td>False</td>\n",
       "      <td>False</td>\n",
       "    </tr>\n",
       "    <tr>\n",
       "      <th>315356</th>\n",
       "      <td>2025-07-03 20:15:00</td>\n",
       "      <td>2588.91</td>\n",
       "      <td>2590.91</td>\n",
       "      <td>2586.82</td>\n",
       "      <td>2590.78</td>\n",
       "      <td>5668.784</td>\n",
       "      <td>True</td>\n",
       "      <td>False</td>\n",
       "      <td>False</td>\n",
       "      <td>False</td>\n",
       "      <td>False</td>\n",
       "      <td>False</td>\n",
       "    </tr>\n",
       "    <tr>\n",
       "      <th>315357</th>\n",
       "      <td>2025-07-03 20:20:00</td>\n",
       "      <td>2590.77</td>\n",
       "      <td>2592.23</td>\n",
       "      <td>2589.41</td>\n",
       "      <td>2591.36</td>\n",
       "      <td>6041.607</td>\n",
       "      <td>True</td>\n",
       "      <td>False</td>\n",
       "      <td>False</td>\n",
       "      <td>False</td>\n",
       "      <td>False</td>\n",
       "      <td>False</td>\n",
       "    </tr>\n",
       "    <tr>\n",
       "      <th>315358</th>\n",
       "      <td>2025-07-03 20:25:00</td>\n",
       "      <td>2591.36</td>\n",
       "      <td>2595.54</td>\n",
       "      <td>2591.35</td>\n",
       "      <td>2593.61</td>\n",
       "      <td>11948.108</td>\n",
       "      <td>False</td>\n",
       "      <td>False</td>\n",
       "      <td>False</td>\n",
       "      <td>False</td>\n",
       "      <td>False</td>\n",
       "      <td>False</td>\n",
       "    </tr>\n",
       "    <tr>\n",
       "      <th>315359</th>\n",
       "      <td>2025-07-03 20:30:00</td>\n",
       "      <td>2593.62</td>\n",
       "      <td>2593.88</td>\n",
       "      <td>2591.42</td>\n",
       "      <td>2591.68</td>\n",
       "      <td>4993.554</td>\n",
       "      <td>False</td>\n",
       "      <td>False</td>\n",
       "      <td>False</td>\n",
       "      <td>False</td>\n",
       "      <td>False</td>\n",
       "      <td>False</td>\n",
       "    </tr>\n",
       "  </tbody>\n",
       "</table>\n",
       "</div>"
      ],
      "text/plain": [
       "                  timestamp     open     high      low    close     volume  \\\n",
       "315355  2025-07-03 20:10:00  2590.00  2592.63  2587.50  2588.91  11477.755   \n",
       "315356  2025-07-03 20:15:00  2588.91  2590.91  2586.82  2590.78   5668.784   \n",
       "315357  2025-07-03 20:20:00  2590.77  2592.23  2589.41  2591.36   6041.607   \n",
       "315358  2025-07-03 20:25:00  2591.36  2595.54  2591.35  2593.61  11948.108   \n",
       "315359  2025-07-03 20:30:00  2593.62  2593.88  2591.42  2591.68   4993.554   \n",
       "\n",
       "        bullish_pin_bar Weak follow up Weak Low Tested  bearish_pin_bar  \\\n",
       "315355            False          False           False             True   \n",
       "315356             True          False           False            False   \n",
       "315357             True          False           False            False   \n",
       "315358            False          False           False            False   \n",
       "315359            False          False           False            False   \n",
       "\n",
       "       Weak follow down Weak High Tested  \n",
       "315355            False            False  \n",
       "315356            False            False  \n",
       "315357            False            False  \n",
       "315358            False            False  \n",
       "315359            False            False  "
      ]
     },
     "execution_count": 143,
     "metadata": {},
     "output_type": "execute_result"
    }
   ],
   "source": [
    "# Checking if highs of weak pin bars got tested\n",
    "highs_tested = ['False']*len(ethusdt_5min_df)\n",
    "for i in range(len(ethusdt_5min_df) - 1):\n",
    "    if(ethusdt_5min_df.loc[i, 'Weak follow down'] == 'True'):\n",
    "        pin_bar_high = ethusdt_5min_df.loc[i, 'high']\n",
    "        for j in range(i+1, len(ethusdt_5min_df)):\n",
    "            if(ethusdt_5min_df.loc[j, 'high'] > pin_bar_high):\n",
    "                highs_tested[i] = 'True'\n",
    "                break\n",
    "ethusdt_5min_df['Weak High Tested'] = highs_tested\n",
    "ethusdt_5min_df.tail()"
   ]
  },
  {
   "cell_type": "code",
   "execution_count": 144,
   "id": "d07e2739",
   "metadata": {},
   "outputs": [],
   "source": [
    "#Saving the data frame into csv\n",
    "ethusdt_5min_df.to_csv('e_5min_analyzed.csv')"
   ]
  },
  {
   "cell_type": "code",
   "execution_count": 145,
   "id": "4190efd9",
   "metadata": {},
   "outputs": [
    {
     "data": {
      "application/vnd.microsoft.datawrangler.viewer.v0+json": {
       "columns": [
        {
         "name": "index",
         "rawType": "int64",
         "type": "integer"
        },
        {
         "name": "timestamp",
         "rawType": "object",
         "type": "string"
        },
        {
         "name": "open",
         "rawType": "float64",
         "type": "float"
        },
        {
         "name": "high",
         "rawType": "float64",
         "type": "float"
        },
        {
         "name": "low",
         "rawType": "float64",
         "type": "float"
        },
        {
         "name": "close",
         "rawType": "float64",
         "type": "float"
        },
        {
         "name": "volume",
         "rawType": "float64",
         "type": "float"
        }
       ],
       "ref": "a503877b-2300-42e0-808f-ab314244510b",
       "rows": [
        [
         "0",
         "2022-07-04 20:30:00",
         "1119.96",
         "1120.08",
         "1117.43",
         "1118.92",
         "5457.249"
        ],
        [
         "1",
         "2022-07-04 20:33:00",
         "1118.92",
         "1119.27",
         "1118.26",
         "1118.44",
         "2651.778"
        ],
        [
         "2",
         "2022-07-04 20:36:00",
         "1118.44",
         "1118.73",
         "1117.58",
         "1117.95",
         "2811.788"
        ],
        [
         "3",
         "2022-07-04 20:39:00",
         "1117.95",
         "1119.46",
         "1117.69",
         "1118.23",
         "3746.213"
        ],
        [
         "4",
         "2022-07-04 20:42:00",
         "1118.23",
         "1119.43",
         "1117.32",
         "1119.2",
         "5090.926"
        ]
       ],
       "shape": {
        "columns": 6,
        "rows": 5
       }
      },
      "text/html": [
       "<div>\n",
       "<style scoped>\n",
       "    .dataframe tbody tr th:only-of-type {\n",
       "        vertical-align: middle;\n",
       "    }\n",
       "\n",
       "    .dataframe tbody tr th {\n",
       "        vertical-align: top;\n",
       "    }\n",
       "\n",
       "    .dataframe thead th {\n",
       "        text-align: right;\n",
       "    }\n",
       "</style>\n",
       "<table border=\"1\" class=\"dataframe\">\n",
       "  <thead>\n",
       "    <tr style=\"text-align: right;\">\n",
       "      <th></th>\n",
       "      <th>timestamp</th>\n",
       "      <th>open</th>\n",
       "      <th>high</th>\n",
       "      <th>low</th>\n",
       "      <th>close</th>\n",
       "      <th>volume</th>\n",
       "    </tr>\n",
       "  </thead>\n",
       "  <tbody>\n",
       "    <tr>\n",
       "      <th>0</th>\n",
       "      <td>2022-07-04 20:30:00</td>\n",
       "      <td>1119.96</td>\n",
       "      <td>1120.08</td>\n",
       "      <td>1117.43</td>\n",
       "      <td>1118.92</td>\n",
       "      <td>5457.249</td>\n",
       "    </tr>\n",
       "    <tr>\n",
       "      <th>1</th>\n",
       "      <td>2022-07-04 20:33:00</td>\n",
       "      <td>1118.92</td>\n",
       "      <td>1119.27</td>\n",
       "      <td>1118.26</td>\n",
       "      <td>1118.44</td>\n",
       "      <td>2651.778</td>\n",
       "    </tr>\n",
       "    <tr>\n",
       "      <th>2</th>\n",
       "      <td>2022-07-04 20:36:00</td>\n",
       "      <td>1118.44</td>\n",
       "      <td>1118.73</td>\n",
       "      <td>1117.58</td>\n",
       "      <td>1117.95</td>\n",
       "      <td>2811.788</td>\n",
       "    </tr>\n",
       "    <tr>\n",
       "      <th>3</th>\n",
       "      <td>2022-07-04 20:39:00</td>\n",
       "      <td>1117.95</td>\n",
       "      <td>1119.46</td>\n",
       "      <td>1117.69</td>\n",
       "      <td>1118.23</td>\n",
       "      <td>3746.213</td>\n",
       "    </tr>\n",
       "    <tr>\n",
       "      <th>4</th>\n",
       "      <td>2022-07-04 20:42:00</td>\n",
       "      <td>1118.23</td>\n",
       "      <td>1119.43</td>\n",
       "      <td>1117.32</td>\n",
       "      <td>1119.20</td>\n",
       "      <td>5090.926</td>\n",
       "    </tr>\n",
       "  </tbody>\n",
       "</table>\n",
       "</div>"
      ],
      "text/plain": [
       "             timestamp     open     high      low    close    volume\n",
       "0  2022-07-04 20:30:00  1119.96  1120.08  1117.43  1118.92  5457.249\n",
       "1  2022-07-04 20:33:00  1118.92  1119.27  1118.26  1118.44  2651.778\n",
       "2  2022-07-04 20:36:00  1118.44  1118.73  1117.58  1117.95  2811.788\n",
       "3  2022-07-04 20:39:00  1117.95  1119.46  1117.69  1118.23  3746.213\n",
       "4  2022-07-04 20:42:00  1118.23  1119.43  1117.32  1119.20  5090.926"
      ]
     },
     "execution_count": 145,
     "metadata": {},
     "output_type": "execute_result"
    }
   ],
   "source": [
    "#Starting with 3 minutes time frame in ETHUSDT\n",
    "ethusdt_3min_data = pd.read_csv('ETHUSDT_3min.csv')\n",
    "ethusdt_3min_df = pd.DataFrame(ethusdt_3min_data)\n",
    "ethusdt_3min_df.head()"
   ]
  },
  {
   "cell_type": "code",
   "execution_count": 146,
   "id": "f8aba055",
   "metadata": {},
   "outputs": [
    {
     "data": {
      "application/vnd.microsoft.datawrangler.viewer.v0+json": {
       "columns": [
        {
         "name": "index",
         "rawType": "int64",
         "type": "integer"
        },
        {
         "name": "timestamp",
         "rawType": "object",
         "type": "string"
        },
        {
         "name": "open",
         "rawType": "float64",
         "type": "float"
        },
        {
         "name": "high",
         "rawType": "float64",
         "type": "float"
        },
        {
         "name": "low",
         "rawType": "float64",
         "type": "float"
        },
        {
         "name": "close",
         "rawType": "float64",
         "type": "float"
        },
        {
         "name": "volume",
         "rawType": "float64",
         "type": "float"
        },
        {
         "name": "bullish_pin_bar",
         "rawType": "bool",
         "type": "boolean"
        }
       ],
       "ref": "b8b2fa34-1ea6-4736-9563-f399429cc0b8",
       "rows": [
        [
         "0",
         "2022-07-04 20:30:00",
         "1119.96",
         "1120.08",
         "1117.43",
         "1118.92",
         "5457.249",
         "False"
        ],
        [
         "1",
         "2022-07-04 20:33:00",
         "1118.92",
         "1119.27",
         "1118.26",
         "1118.44",
         "2651.778",
         "False"
        ],
        [
         "2",
         "2022-07-04 20:36:00",
         "1118.44",
         "1118.73",
         "1117.58",
         "1117.95",
         "2811.788",
         "False"
        ],
        [
         "3",
         "2022-07-04 20:39:00",
         "1117.95",
         "1119.46",
         "1117.69",
         "1118.23",
         "3746.213",
         "False"
        ],
        [
         "4",
         "2022-07-04 20:42:00",
         "1118.23",
         "1119.43",
         "1117.32",
         "1119.2",
         "5090.926",
         "True"
        ]
       ],
       "shape": {
        "columns": 7,
        "rows": 5
       }
      },
      "text/html": [
       "<div>\n",
       "<style scoped>\n",
       "    .dataframe tbody tr th:only-of-type {\n",
       "        vertical-align: middle;\n",
       "    }\n",
       "\n",
       "    .dataframe tbody tr th {\n",
       "        vertical-align: top;\n",
       "    }\n",
       "\n",
       "    .dataframe thead th {\n",
       "        text-align: right;\n",
       "    }\n",
       "</style>\n",
       "<table border=\"1\" class=\"dataframe\">\n",
       "  <thead>\n",
       "    <tr style=\"text-align: right;\">\n",
       "      <th></th>\n",
       "      <th>timestamp</th>\n",
       "      <th>open</th>\n",
       "      <th>high</th>\n",
       "      <th>low</th>\n",
       "      <th>close</th>\n",
       "      <th>volume</th>\n",
       "      <th>bullish_pin_bar</th>\n",
       "    </tr>\n",
       "  </thead>\n",
       "  <tbody>\n",
       "    <tr>\n",
       "      <th>0</th>\n",
       "      <td>2022-07-04 20:30:00</td>\n",
       "      <td>1119.96</td>\n",
       "      <td>1120.08</td>\n",
       "      <td>1117.43</td>\n",
       "      <td>1118.92</td>\n",
       "      <td>5457.249</td>\n",
       "      <td>False</td>\n",
       "    </tr>\n",
       "    <tr>\n",
       "      <th>1</th>\n",
       "      <td>2022-07-04 20:33:00</td>\n",
       "      <td>1118.92</td>\n",
       "      <td>1119.27</td>\n",
       "      <td>1118.26</td>\n",
       "      <td>1118.44</td>\n",
       "      <td>2651.778</td>\n",
       "      <td>False</td>\n",
       "    </tr>\n",
       "    <tr>\n",
       "      <th>2</th>\n",
       "      <td>2022-07-04 20:36:00</td>\n",
       "      <td>1118.44</td>\n",
       "      <td>1118.73</td>\n",
       "      <td>1117.58</td>\n",
       "      <td>1117.95</td>\n",
       "      <td>2811.788</td>\n",
       "      <td>False</td>\n",
       "    </tr>\n",
       "    <tr>\n",
       "      <th>3</th>\n",
       "      <td>2022-07-04 20:39:00</td>\n",
       "      <td>1117.95</td>\n",
       "      <td>1119.46</td>\n",
       "      <td>1117.69</td>\n",
       "      <td>1118.23</td>\n",
       "      <td>3746.213</td>\n",
       "      <td>False</td>\n",
       "    </tr>\n",
       "    <tr>\n",
       "      <th>4</th>\n",
       "      <td>2022-07-04 20:42:00</td>\n",
       "      <td>1118.23</td>\n",
       "      <td>1119.43</td>\n",
       "      <td>1117.32</td>\n",
       "      <td>1119.20</td>\n",
       "      <td>5090.926</td>\n",
       "      <td>True</td>\n",
       "    </tr>\n",
       "  </tbody>\n",
       "</table>\n",
       "</div>"
      ],
      "text/plain": [
       "             timestamp     open     high      low    close    volume  \\\n",
       "0  2022-07-04 20:30:00  1119.96  1120.08  1117.43  1118.92  5457.249   \n",
       "1  2022-07-04 20:33:00  1118.92  1119.27  1118.26  1118.44  2651.778   \n",
       "2  2022-07-04 20:36:00  1118.44  1118.73  1117.58  1117.95  2811.788   \n",
       "3  2022-07-04 20:39:00  1117.95  1119.46  1117.69  1118.23  3746.213   \n",
       "4  2022-07-04 20:42:00  1118.23  1119.43  1117.32  1119.20  5090.926   \n",
       "\n",
       "   bullish_pin_bar  \n",
       "0            False  \n",
       "1            False  \n",
       "2            False  \n",
       "3            False  \n",
       "4             True  "
      ]
     },
     "execution_count": 146,
     "metadata": {},
     "output_type": "execute_result"
    }
   ],
   "source": [
    "#Getting the bullish pin bars\n",
    "ethusdt_3min_df['bullish_pin_bar'] = ethusdt_3min_df.apply(is_bullish_pin_bar, axis=1)\n",
    "ethusdt_3min_df.head()"
   ]
  },
  {
   "cell_type": "code",
   "execution_count": 147,
   "id": "ed8ca500",
   "metadata": {},
   "outputs": [
    {
     "data": {
      "application/vnd.microsoft.datawrangler.viewer.v0+json": {
       "columns": [
        {
         "name": "index",
         "rawType": "int64",
         "type": "integer"
        },
        {
         "name": "timestamp",
         "rawType": "object",
         "type": "string"
        },
        {
         "name": "open",
         "rawType": "float64",
         "type": "float"
        },
        {
         "name": "high",
         "rawType": "float64",
         "type": "float"
        },
        {
         "name": "low",
         "rawType": "float64",
         "type": "float"
        },
        {
         "name": "close",
         "rawType": "float64",
         "type": "float"
        },
        {
         "name": "volume",
         "rawType": "float64",
         "type": "float"
        },
        {
         "name": "bullish_pin_bar",
         "rawType": "bool",
         "type": "boolean"
        },
        {
         "name": "Weak follow up",
         "rawType": "object",
         "type": "string"
        }
       ],
       "ref": "1e6552d7-48b7-4508-87cb-5547a2d95515",
       "rows": [
        [
         "525596",
         "2025-07-03 20:18:00",
         "2589.8",
         "2592.23",
         "2589.1",
         "2589.63",
         "3256.317",
         "False",
         "False"
        ],
        [
         "525597",
         "2025-07-03 20:21:00",
         "2589.64",
         "2591.95",
         "2589.5",
         "2589.78",
         "3865.435",
         "False",
         "False"
        ],
        [
         "525598",
         "2025-07-03 20:24:00",
         "2589.77",
         "2593.77",
         "2589.75",
         "2592.43",
         "5697.873",
         "False",
         "False"
        ],
        [
         "525599",
         "2025-07-03 20:27:00",
         "2592.43",
         "2595.54",
         "2592.3",
         "2593.61",
         "7126.433",
         "False",
         "False"
        ],
        [
         "525600",
         "2025-07-03 20:30:00",
         "2593.62",
         "2593.88",
         "2592.21",
         "2592.22",
         "2624.863",
         "False",
         "False"
        ]
       ],
       "shape": {
        "columns": 8,
        "rows": 5
       }
      },
      "text/html": [
       "<div>\n",
       "<style scoped>\n",
       "    .dataframe tbody tr th:only-of-type {\n",
       "        vertical-align: middle;\n",
       "    }\n",
       "\n",
       "    .dataframe tbody tr th {\n",
       "        vertical-align: top;\n",
       "    }\n",
       "\n",
       "    .dataframe thead th {\n",
       "        text-align: right;\n",
       "    }\n",
       "</style>\n",
       "<table border=\"1\" class=\"dataframe\">\n",
       "  <thead>\n",
       "    <tr style=\"text-align: right;\">\n",
       "      <th></th>\n",
       "      <th>timestamp</th>\n",
       "      <th>open</th>\n",
       "      <th>high</th>\n",
       "      <th>low</th>\n",
       "      <th>close</th>\n",
       "      <th>volume</th>\n",
       "      <th>bullish_pin_bar</th>\n",
       "      <th>Weak follow up</th>\n",
       "    </tr>\n",
       "  </thead>\n",
       "  <tbody>\n",
       "    <tr>\n",
       "      <th>525596</th>\n",
       "      <td>2025-07-03 20:18:00</td>\n",
       "      <td>2589.80</td>\n",
       "      <td>2592.23</td>\n",
       "      <td>2589.10</td>\n",
       "      <td>2589.63</td>\n",
       "      <td>3256.317</td>\n",
       "      <td>False</td>\n",
       "      <td>False</td>\n",
       "    </tr>\n",
       "    <tr>\n",
       "      <th>525597</th>\n",
       "      <td>2025-07-03 20:21:00</td>\n",
       "      <td>2589.64</td>\n",
       "      <td>2591.95</td>\n",
       "      <td>2589.50</td>\n",
       "      <td>2589.78</td>\n",
       "      <td>3865.435</td>\n",
       "      <td>False</td>\n",
       "      <td>False</td>\n",
       "    </tr>\n",
       "    <tr>\n",
       "      <th>525598</th>\n",
       "      <td>2025-07-03 20:24:00</td>\n",
       "      <td>2589.77</td>\n",
       "      <td>2593.77</td>\n",
       "      <td>2589.75</td>\n",
       "      <td>2592.43</td>\n",
       "      <td>5697.873</td>\n",
       "      <td>False</td>\n",
       "      <td>False</td>\n",
       "    </tr>\n",
       "    <tr>\n",
       "      <th>525599</th>\n",
       "      <td>2025-07-03 20:27:00</td>\n",
       "      <td>2592.43</td>\n",
       "      <td>2595.54</td>\n",
       "      <td>2592.30</td>\n",
       "      <td>2593.61</td>\n",
       "      <td>7126.433</td>\n",
       "      <td>False</td>\n",
       "      <td>False</td>\n",
       "    </tr>\n",
       "    <tr>\n",
       "      <th>525600</th>\n",
       "      <td>2025-07-03 20:30:00</td>\n",
       "      <td>2593.62</td>\n",
       "      <td>2593.88</td>\n",
       "      <td>2592.21</td>\n",
       "      <td>2592.22</td>\n",
       "      <td>2624.863</td>\n",
       "      <td>False</td>\n",
       "      <td>False</td>\n",
       "    </tr>\n",
       "  </tbody>\n",
       "</table>\n",
       "</div>"
      ],
      "text/plain": [
       "                  timestamp     open     high      low    close    volume  \\\n",
       "525596  2025-07-03 20:18:00  2589.80  2592.23  2589.10  2589.63  3256.317   \n",
       "525597  2025-07-03 20:21:00  2589.64  2591.95  2589.50  2589.78  3865.435   \n",
       "525598  2025-07-03 20:24:00  2589.77  2593.77  2589.75  2592.43  5697.873   \n",
       "525599  2025-07-03 20:27:00  2592.43  2595.54  2592.30  2593.61  7126.433   \n",
       "525600  2025-07-03 20:30:00  2593.62  2593.88  2592.21  2592.22  2624.863   \n",
       "\n",
       "        bullish_pin_bar Weak follow up  \n",
       "525596            False          False  \n",
       "525597            False          False  \n",
       "525598            False          False  \n",
       "525599            False          False  \n",
       "525600            False          False  "
      ]
     },
     "execution_count": 147,
     "metadata": {},
     "output_type": "execute_result"
    }
   ],
   "source": [
    "#Finding weak follow ups\n",
    "follow_through = []\n",
    "for i in range(len(ethusdt_3min_df) - 1):\n",
    "    if(ethusdt_3min_df.loc[i, 'bullish_pin_bar']):\n",
    "        pin_bar_volume = ethusdt_3min_df.loc[i, 'volume']\n",
    "        next_bar_volume = ethusdt_3min_df.loc[i+1, 'volume']\n",
    "        pin_bar_move = ethusdt_3min_df.loc[i,'close'] - ethusdt_3min_df.loc[i,'open']\n",
    "        next_bar_move = ethusdt_3min_df.loc[i+1,'close'] - ethusdt_3min_df.loc[i+1,'open']\n",
    "        if(next_bar_move > pin_bar_move and next_bar_volume < pin_bar_volume):\n",
    "            follow_through.append('True')\n",
    "        else:\n",
    "            follow_through.append('False')\n",
    "    else:\n",
    "        follow_through.append('False')\n",
    "follow_through.append('False')\n",
    "ethusdt_3min_df['Weak follow up'] = follow_through\n",
    "ethusdt_3min_df.tail()"
   ]
  },
  {
   "cell_type": "code",
   "execution_count": 148,
   "id": "a432e32d",
   "metadata": {},
   "outputs": [
    {
     "data": {
      "application/vnd.microsoft.datawrangler.viewer.v0+json": {
       "columns": [
        {
         "name": "index",
         "rawType": "int64",
         "type": "integer"
        },
        {
         "name": "timestamp",
         "rawType": "object",
         "type": "string"
        },
        {
         "name": "open",
         "rawType": "float64",
         "type": "float"
        },
        {
         "name": "high",
         "rawType": "float64",
         "type": "float"
        },
        {
         "name": "low",
         "rawType": "float64",
         "type": "float"
        },
        {
         "name": "close",
         "rawType": "float64",
         "type": "float"
        },
        {
         "name": "volume",
         "rawType": "float64",
         "type": "float"
        },
        {
         "name": "bullish_pin_bar",
         "rawType": "bool",
         "type": "boolean"
        },
        {
         "name": "Weak follow up",
         "rawType": "object",
         "type": "string"
        },
        {
         "name": "Weak Low Tested",
         "rawType": "object",
         "type": "string"
        }
       ],
       "ref": "f2af8505-3364-40b4-9546-579a3fed755c",
       "rows": [
        [
         "525596",
         "2025-07-03 20:18:00",
         "2589.8",
         "2592.23",
         "2589.1",
         "2589.63",
         "3256.317",
         "False",
         "False",
         "False"
        ],
        [
         "525597",
         "2025-07-03 20:21:00",
         "2589.64",
         "2591.95",
         "2589.5",
         "2589.78",
         "3865.435",
         "False",
         "False",
         "False"
        ],
        [
         "525598",
         "2025-07-03 20:24:00",
         "2589.77",
         "2593.77",
         "2589.75",
         "2592.43",
         "5697.873",
         "False",
         "False",
         "False"
        ],
        [
         "525599",
         "2025-07-03 20:27:00",
         "2592.43",
         "2595.54",
         "2592.3",
         "2593.61",
         "7126.433",
         "False",
         "False",
         "False"
        ],
        [
         "525600",
         "2025-07-03 20:30:00",
         "2593.62",
         "2593.88",
         "2592.21",
         "2592.22",
         "2624.863",
         "False",
         "False",
         "False"
        ]
       ],
       "shape": {
        "columns": 9,
        "rows": 5
       }
      },
      "text/html": [
       "<div>\n",
       "<style scoped>\n",
       "    .dataframe tbody tr th:only-of-type {\n",
       "        vertical-align: middle;\n",
       "    }\n",
       "\n",
       "    .dataframe tbody tr th {\n",
       "        vertical-align: top;\n",
       "    }\n",
       "\n",
       "    .dataframe thead th {\n",
       "        text-align: right;\n",
       "    }\n",
       "</style>\n",
       "<table border=\"1\" class=\"dataframe\">\n",
       "  <thead>\n",
       "    <tr style=\"text-align: right;\">\n",
       "      <th></th>\n",
       "      <th>timestamp</th>\n",
       "      <th>open</th>\n",
       "      <th>high</th>\n",
       "      <th>low</th>\n",
       "      <th>close</th>\n",
       "      <th>volume</th>\n",
       "      <th>bullish_pin_bar</th>\n",
       "      <th>Weak follow up</th>\n",
       "      <th>Weak Low Tested</th>\n",
       "    </tr>\n",
       "  </thead>\n",
       "  <tbody>\n",
       "    <tr>\n",
       "      <th>525596</th>\n",
       "      <td>2025-07-03 20:18:00</td>\n",
       "      <td>2589.80</td>\n",
       "      <td>2592.23</td>\n",
       "      <td>2589.10</td>\n",
       "      <td>2589.63</td>\n",
       "      <td>3256.317</td>\n",
       "      <td>False</td>\n",
       "      <td>False</td>\n",
       "      <td>False</td>\n",
       "    </tr>\n",
       "    <tr>\n",
       "      <th>525597</th>\n",
       "      <td>2025-07-03 20:21:00</td>\n",
       "      <td>2589.64</td>\n",
       "      <td>2591.95</td>\n",
       "      <td>2589.50</td>\n",
       "      <td>2589.78</td>\n",
       "      <td>3865.435</td>\n",
       "      <td>False</td>\n",
       "      <td>False</td>\n",
       "      <td>False</td>\n",
       "    </tr>\n",
       "    <tr>\n",
       "      <th>525598</th>\n",
       "      <td>2025-07-03 20:24:00</td>\n",
       "      <td>2589.77</td>\n",
       "      <td>2593.77</td>\n",
       "      <td>2589.75</td>\n",
       "      <td>2592.43</td>\n",
       "      <td>5697.873</td>\n",
       "      <td>False</td>\n",
       "      <td>False</td>\n",
       "      <td>False</td>\n",
       "    </tr>\n",
       "    <tr>\n",
       "      <th>525599</th>\n",
       "      <td>2025-07-03 20:27:00</td>\n",
       "      <td>2592.43</td>\n",
       "      <td>2595.54</td>\n",
       "      <td>2592.30</td>\n",
       "      <td>2593.61</td>\n",
       "      <td>7126.433</td>\n",
       "      <td>False</td>\n",
       "      <td>False</td>\n",
       "      <td>False</td>\n",
       "    </tr>\n",
       "    <tr>\n",
       "      <th>525600</th>\n",
       "      <td>2025-07-03 20:30:00</td>\n",
       "      <td>2593.62</td>\n",
       "      <td>2593.88</td>\n",
       "      <td>2592.21</td>\n",
       "      <td>2592.22</td>\n",
       "      <td>2624.863</td>\n",
       "      <td>False</td>\n",
       "      <td>False</td>\n",
       "      <td>False</td>\n",
       "    </tr>\n",
       "  </tbody>\n",
       "</table>\n",
       "</div>"
      ],
      "text/plain": [
       "                  timestamp     open     high      low    close    volume  \\\n",
       "525596  2025-07-03 20:18:00  2589.80  2592.23  2589.10  2589.63  3256.317   \n",
       "525597  2025-07-03 20:21:00  2589.64  2591.95  2589.50  2589.78  3865.435   \n",
       "525598  2025-07-03 20:24:00  2589.77  2593.77  2589.75  2592.43  5697.873   \n",
       "525599  2025-07-03 20:27:00  2592.43  2595.54  2592.30  2593.61  7126.433   \n",
       "525600  2025-07-03 20:30:00  2593.62  2593.88  2592.21  2592.22  2624.863   \n",
       "\n",
       "        bullish_pin_bar Weak follow up Weak Low Tested  \n",
       "525596            False          False           False  \n",
       "525597            False          False           False  \n",
       "525598            False          False           False  \n",
       "525599            False          False           False  \n",
       "525600            False          False           False  "
      ]
     },
     "execution_count": 148,
     "metadata": {},
     "output_type": "execute_result"
    }
   ],
   "source": [
    "# Checking if lows of weak pin bars got tested\n",
    "lows_tested = ['False']*len(ethusdt_3min_df)\n",
    "for i in range(len(ethusdt_3min_df) - 1):\n",
    "    if(ethusdt_3min_df.loc[i, 'Weak follow up'] == 'True'):\n",
    "        pin_bar_low = ethusdt_3min_df.loc[i, 'low']\n",
    "        for j in range(i+1, len(ethusdt_3min_df)):\n",
    "            if(ethusdt_3min_df.loc[j, 'low'] < pin_bar_low):\n",
    "                lows_tested[i] = 'True'\n",
    "                break\n",
    "ethusdt_3min_df['Weak Low Tested'] = lows_tested\n",
    "ethusdt_3min_df.tail()"
   ]
  },
  {
   "cell_type": "code",
   "execution_count": 149,
   "id": "f052a843",
   "metadata": {},
   "outputs": [
    {
     "data": {
      "application/vnd.microsoft.datawrangler.viewer.v0+json": {
       "columns": [
        {
         "name": "index",
         "rawType": "int64",
         "type": "integer"
        },
        {
         "name": "timestamp",
         "rawType": "object",
         "type": "string"
        },
        {
         "name": "open",
         "rawType": "float64",
         "type": "float"
        },
        {
         "name": "high",
         "rawType": "float64",
         "type": "float"
        },
        {
         "name": "low",
         "rawType": "float64",
         "type": "float"
        },
        {
         "name": "close",
         "rawType": "float64",
         "type": "float"
        },
        {
         "name": "volume",
         "rawType": "float64",
         "type": "float"
        },
        {
         "name": "bullish_pin_bar",
         "rawType": "bool",
         "type": "boolean"
        },
        {
         "name": "Weak follow up",
         "rawType": "object",
         "type": "string"
        },
        {
         "name": "Weak Low Tested",
         "rawType": "object",
         "type": "string"
        },
        {
         "name": "bearish_pin_bar",
         "rawType": "bool",
         "type": "boolean"
        }
       ],
       "ref": "4ce8664d-4a1c-4930-9cd0-1b0ef930f53d",
       "rows": [
        [
         "0",
         "2022-07-04 20:30:00",
         "1119.96",
         "1120.08",
         "1117.43",
         "1118.92",
         "5457.249",
         "False",
         "False",
         "False",
         "False"
        ],
        [
         "1",
         "2022-07-04 20:33:00",
         "1118.92",
         "1119.27",
         "1118.26",
         "1118.44",
         "2651.778",
         "False",
         "False",
         "False",
         "True"
        ],
        [
         "2",
         "2022-07-04 20:36:00",
         "1118.44",
         "1118.73",
         "1117.58",
         "1117.95",
         "2811.788",
         "False",
         "False",
         "False",
         "False"
        ],
        [
         "3",
         "2022-07-04 20:39:00",
         "1117.95",
         "1119.46",
         "1117.69",
         "1118.23",
         "3746.213",
         "False",
         "False",
         "False",
         "False"
        ],
        [
         "4",
         "2022-07-04 20:42:00",
         "1118.23",
         "1119.43",
         "1117.32",
         "1119.2",
         "5090.926",
         "True",
         "False",
         "False",
         "False"
        ]
       ],
       "shape": {
        "columns": 10,
        "rows": 5
       }
      },
      "text/html": [
       "<div>\n",
       "<style scoped>\n",
       "    .dataframe tbody tr th:only-of-type {\n",
       "        vertical-align: middle;\n",
       "    }\n",
       "\n",
       "    .dataframe tbody tr th {\n",
       "        vertical-align: top;\n",
       "    }\n",
       "\n",
       "    .dataframe thead th {\n",
       "        text-align: right;\n",
       "    }\n",
       "</style>\n",
       "<table border=\"1\" class=\"dataframe\">\n",
       "  <thead>\n",
       "    <tr style=\"text-align: right;\">\n",
       "      <th></th>\n",
       "      <th>timestamp</th>\n",
       "      <th>open</th>\n",
       "      <th>high</th>\n",
       "      <th>low</th>\n",
       "      <th>close</th>\n",
       "      <th>volume</th>\n",
       "      <th>bullish_pin_bar</th>\n",
       "      <th>Weak follow up</th>\n",
       "      <th>Weak Low Tested</th>\n",
       "      <th>bearish_pin_bar</th>\n",
       "    </tr>\n",
       "  </thead>\n",
       "  <tbody>\n",
       "    <tr>\n",
       "      <th>0</th>\n",
       "      <td>2022-07-04 20:30:00</td>\n",
       "      <td>1119.96</td>\n",
       "      <td>1120.08</td>\n",
       "      <td>1117.43</td>\n",
       "      <td>1118.92</td>\n",
       "      <td>5457.249</td>\n",
       "      <td>False</td>\n",
       "      <td>False</td>\n",
       "      <td>False</td>\n",
       "      <td>False</td>\n",
       "    </tr>\n",
       "    <tr>\n",
       "      <th>1</th>\n",
       "      <td>2022-07-04 20:33:00</td>\n",
       "      <td>1118.92</td>\n",
       "      <td>1119.27</td>\n",
       "      <td>1118.26</td>\n",
       "      <td>1118.44</td>\n",
       "      <td>2651.778</td>\n",
       "      <td>False</td>\n",
       "      <td>False</td>\n",
       "      <td>False</td>\n",
       "      <td>True</td>\n",
       "    </tr>\n",
       "    <tr>\n",
       "      <th>2</th>\n",
       "      <td>2022-07-04 20:36:00</td>\n",
       "      <td>1118.44</td>\n",
       "      <td>1118.73</td>\n",
       "      <td>1117.58</td>\n",
       "      <td>1117.95</td>\n",
       "      <td>2811.788</td>\n",
       "      <td>False</td>\n",
       "      <td>False</td>\n",
       "      <td>False</td>\n",
       "      <td>False</td>\n",
       "    </tr>\n",
       "    <tr>\n",
       "      <th>3</th>\n",
       "      <td>2022-07-04 20:39:00</td>\n",
       "      <td>1117.95</td>\n",
       "      <td>1119.46</td>\n",
       "      <td>1117.69</td>\n",
       "      <td>1118.23</td>\n",
       "      <td>3746.213</td>\n",
       "      <td>False</td>\n",
       "      <td>False</td>\n",
       "      <td>False</td>\n",
       "      <td>False</td>\n",
       "    </tr>\n",
       "    <tr>\n",
       "      <th>4</th>\n",
       "      <td>2022-07-04 20:42:00</td>\n",
       "      <td>1118.23</td>\n",
       "      <td>1119.43</td>\n",
       "      <td>1117.32</td>\n",
       "      <td>1119.20</td>\n",
       "      <td>5090.926</td>\n",
       "      <td>True</td>\n",
       "      <td>False</td>\n",
       "      <td>False</td>\n",
       "      <td>False</td>\n",
       "    </tr>\n",
       "  </tbody>\n",
       "</table>\n",
       "</div>"
      ],
      "text/plain": [
       "             timestamp     open     high      low    close    volume  \\\n",
       "0  2022-07-04 20:30:00  1119.96  1120.08  1117.43  1118.92  5457.249   \n",
       "1  2022-07-04 20:33:00  1118.92  1119.27  1118.26  1118.44  2651.778   \n",
       "2  2022-07-04 20:36:00  1118.44  1118.73  1117.58  1117.95  2811.788   \n",
       "3  2022-07-04 20:39:00  1117.95  1119.46  1117.69  1118.23  3746.213   \n",
       "4  2022-07-04 20:42:00  1118.23  1119.43  1117.32  1119.20  5090.926   \n",
       "\n",
       "   bullish_pin_bar Weak follow up Weak Low Tested  bearish_pin_bar  \n",
       "0            False          False           False            False  \n",
       "1            False          False           False             True  \n",
       "2            False          False           False            False  \n",
       "3            False          False           False            False  \n",
       "4             True          False           False            False  "
      ]
     },
     "execution_count": 149,
     "metadata": {},
     "output_type": "execute_result"
    }
   ],
   "source": [
    "#Getting bearish pin bars\n",
    "ethusdt_3min_df['bearish_pin_bar'] = ethusdt_3min_df.apply(is_bearish_pin_bar, axis=1)\n",
    "ethusdt_3min_df.head()"
   ]
  },
  {
   "cell_type": "code",
   "execution_count": 150,
   "id": "81628c5d",
   "metadata": {},
   "outputs": [
    {
     "data": {
      "application/vnd.microsoft.datawrangler.viewer.v0+json": {
       "columns": [
        {
         "name": "index",
         "rawType": "int64",
         "type": "integer"
        },
        {
         "name": "timestamp",
         "rawType": "object",
         "type": "string"
        },
        {
         "name": "open",
         "rawType": "float64",
         "type": "float"
        },
        {
         "name": "high",
         "rawType": "float64",
         "type": "float"
        },
        {
         "name": "low",
         "rawType": "float64",
         "type": "float"
        },
        {
         "name": "close",
         "rawType": "float64",
         "type": "float"
        },
        {
         "name": "volume",
         "rawType": "float64",
         "type": "float"
        },
        {
         "name": "bullish_pin_bar",
         "rawType": "bool",
         "type": "boolean"
        },
        {
         "name": "Weak follow up",
         "rawType": "object",
         "type": "string"
        },
        {
         "name": "Weak Low Tested",
         "rawType": "object",
         "type": "string"
        },
        {
         "name": "bearish_pin_bar",
         "rawType": "bool",
         "type": "boolean"
        },
        {
         "name": "Weak follow down",
         "rawType": "object",
         "type": "string"
        }
       ],
       "ref": "f31684f2-97f2-4bf4-8860-3ee742332c58",
       "rows": [
        [
         "525596",
         "2025-07-03 20:18:00",
         "2589.8",
         "2592.23",
         "2589.1",
         "2589.63",
         "3256.317",
         "False",
         "False",
         "False",
         "True",
         "False"
        ],
        [
         "525597",
         "2025-07-03 20:21:00",
         "2589.64",
         "2591.95",
         "2589.5",
         "2589.78",
         "3865.435",
         "False",
         "False",
         "False",
         "False",
         "False"
        ],
        [
         "525598",
         "2025-07-03 20:24:00",
         "2589.77",
         "2593.77",
         "2589.75",
         "2592.43",
         "5697.873",
         "False",
         "False",
         "False",
         "False",
         "False"
        ],
        [
         "525599",
         "2025-07-03 20:27:00",
         "2592.43",
         "2595.54",
         "2592.3",
         "2593.61",
         "7126.433",
         "False",
         "False",
         "False",
         "False",
         "False"
        ],
        [
         "525600",
         "2025-07-03 20:30:00",
         "2593.62",
         "2593.88",
         "2592.21",
         "2592.22",
         "2624.863",
         "False",
         "False",
         "False",
         "False",
         "False"
        ]
       ],
       "shape": {
        "columns": 11,
        "rows": 5
       }
      },
      "text/html": [
       "<div>\n",
       "<style scoped>\n",
       "    .dataframe tbody tr th:only-of-type {\n",
       "        vertical-align: middle;\n",
       "    }\n",
       "\n",
       "    .dataframe tbody tr th {\n",
       "        vertical-align: top;\n",
       "    }\n",
       "\n",
       "    .dataframe thead th {\n",
       "        text-align: right;\n",
       "    }\n",
       "</style>\n",
       "<table border=\"1\" class=\"dataframe\">\n",
       "  <thead>\n",
       "    <tr style=\"text-align: right;\">\n",
       "      <th></th>\n",
       "      <th>timestamp</th>\n",
       "      <th>open</th>\n",
       "      <th>high</th>\n",
       "      <th>low</th>\n",
       "      <th>close</th>\n",
       "      <th>volume</th>\n",
       "      <th>bullish_pin_bar</th>\n",
       "      <th>Weak follow up</th>\n",
       "      <th>Weak Low Tested</th>\n",
       "      <th>bearish_pin_bar</th>\n",
       "      <th>Weak follow down</th>\n",
       "    </tr>\n",
       "  </thead>\n",
       "  <tbody>\n",
       "    <tr>\n",
       "      <th>525596</th>\n",
       "      <td>2025-07-03 20:18:00</td>\n",
       "      <td>2589.80</td>\n",
       "      <td>2592.23</td>\n",
       "      <td>2589.10</td>\n",
       "      <td>2589.63</td>\n",
       "      <td>3256.317</td>\n",
       "      <td>False</td>\n",
       "      <td>False</td>\n",
       "      <td>False</td>\n",
       "      <td>True</td>\n",
       "      <td>False</td>\n",
       "    </tr>\n",
       "    <tr>\n",
       "      <th>525597</th>\n",
       "      <td>2025-07-03 20:21:00</td>\n",
       "      <td>2589.64</td>\n",
       "      <td>2591.95</td>\n",
       "      <td>2589.50</td>\n",
       "      <td>2589.78</td>\n",
       "      <td>3865.435</td>\n",
       "      <td>False</td>\n",
       "      <td>False</td>\n",
       "      <td>False</td>\n",
       "      <td>False</td>\n",
       "      <td>False</td>\n",
       "    </tr>\n",
       "    <tr>\n",
       "      <th>525598</th>\n",
       "      <td>2025-07-03 20:24:00</td>\n",
       "      <td>2589.77</td>\n",
       "      <td>2593.77</td>\n",
       "      <td>2589.75</td>\n",
       "      <td>2592.43</td>\n",
       "      <td>5697.873</td>\n",
       "      <td>False</td>\n",
       "      <td>False</td>\n",
       "      <td>False</td>\n",
       "      <td>False</td>\n",
       "      <td>False</td>\n",
       "    </tr>\n",
       "    <tr>\n",
       "      <th>525599</th>\n",
       "      <td>2025-07-03 20:27:00</td>\n",
       "      <td>2592.43</td>\n",
       "      <td>2595.54</td>\n",
       "      <td>2592.30</td>\n",
       "      <td>2593.61</td>\n",
       "      <td>7126.433</td>\n",
       "      <td>False</td>\n",
       "      <td>False</td>\n",
       "      <td>False</td>\n",
       "      <td>False</td>\n",
       "      <td>False</td>\n",
       "    </tr>\n",
       "    <tr>\n",
       "      <th>525600</th>\n",
       "      <td>2025-07-03 20:30:00</td>\n",
       "      <td>2593.62</td>\n",
       "      <td>2593.88</td>\n",
       "      <td>2592.21</td>\n",
       "      <td>2592.22</td>\n",
       "      <td>2624.863</td>\n",
       "      <td>False</td>\n",
       "      <td>False</td>\n",
       "      <td>False</td>\n",
       "      <td>False</td>\n",
       "      <td>False</td>\n",
       "    </tr>\n",
       "  </tbody>\n",
       "</table>\n",
       "</div>"
      ],
      "text/plain": [
       "                  timestamp     open     high      low    close    volume  \\\n",
       "525596  2025-07-03 20:18:00  2589.80  2592.23  2589.10  2589.63  3256.317   \n",
       "525597  2025-07-03 20:21:00  2589.64  2591.95  2589.50  2589.78  3865.435   \n",
       "525598  2025-07-03 20:24:00  2589.77  2593.77  2589.75  2592.43  5697.873   \n",
       "525599  2025-07-03 20:27:00  2592.43  2595.54  2592.30  2593.61  7126.433   \n",
       "525600  2025-07-03 20:30:00  2593.62  2593.88  2592.21  2592.22  2624.863   \n",
       "\n",
       "        bullish_pin_bar Weak follow up Weak Low Tested  bearish_pin_bar  \\\n",
       "525596            False          False           False             True   \n",
       "525597            False          False           False            False   \n",
       "525598            False          False           False            False   \n",
       "525599            False          False           False            False   \n",
       "525600            False          False           False            False   \n",
       "\n",
       "       Weak follow down  \n",
       "525596            False  \n",
       "525597            False  \n",
       "525598            False  \n",
       "525599            False  \n",
       "525600            False  "
      ]
     },
     "execution_count": 150,
     "metadata": {},
     "output_type": "execute_result"
    }
   ],
   "source": [
    "#Finding weak follow downs\n",
    "follow_through = []\n",
    "for i in range(len(ethusdt_3min_df) - 1):\n",
    "    if(ethusdt_3min_df.loc[i, 'bearish_pin_bar']):\n",
    "        pin_bar_volume = ethusdt_3min_df.loc[i, 'volume']\n",
    "        next_bar_volume = ethusdt_3min_df.loc[i+1, 'volume']\n",
    "        pin_bar_move = ethusdt_3min_df.loc[i,'open'] - ethusdt_3min_df.loc[i,'close']\n",
    "        next_bar_move = ethusdt_3min_df.loc[i+1,'open'] - ethusdt_3min_df.loc[i+1,'close']\n",
    "        if(next_bar_move > pin_bar_move and next_bar_volume < pin_bar_volume):\n",
    "            follow_through.append('True')\n",
    "        else:\n",
    "            follow_through.append('False')\n",
    "    else:\n",
    "        follow_through.append('False')\n",
    "follow_through.append('False')\n",
    "ethusdt_3min_df['Weak follow down'] = follow_through\n",
    "ethusdt_3min_df.tail()"
   ]
  },
  {
   "cell_type": "code",
   "execution_count": 151,
   "id": "ada3f6cc",
   "metadata": {},
   "outputs": [
    {
     "data": {
      "application/vnd.microsoft.datawrangler.viewer.v0+json": {
       "columns": [
        {
         "name": "index",
         "rawType": "int64",
         "type": "integer"
        },
        {
         "name": "timestamp",
         "rawType": "object",
         "type": "string"
        },
        {
         "name": "open",
         "rawType": "float64",
         "type": "float"
        },
        {
         "name": "high",
         "rawType": "float64",
         "type": "float"
        },
        {
         "name": "low",
         "rawType": "float64",
         "type": "float"
        },
        {
         "name": "close",
         "rawType": "float64",
         "type": "float"
        },
        {
         "name": "volume",
         "rawType": "float64",
         "type": "float"
        },
        {
         "name": "bullish_pin_bar",
         "rawType": "bool",
         "type": "boolean"
        },
        {
         "name": "Weak follow up",
         "rawType": "object",
         "type": "string"
        },
        {
         "name": "Weak Low Tested",
         "rawType": "object",
         "type": "string"
        },
        {
         "name": "bearish_pin_bar",
         "rawType": "bool",
         "type": "boolean"
        },
        {
         "name": "Weak follow down",
         "rawType": "object",
         "type": "string"
        },
        {
         "name": "Weak High Tested",
         "rawType": "object",
         "type": "string"
        }
       ],
       "ref": "c9c3cea5-2b5b-4467-8c55-7f064531e477",
       "rows": [
        [
         "525596",
         "2025-07-03 20:18:00",
         "2589.8",
         "2592.23",
         "2589.1",
         "2589.63",
         "3256.317",
         "False",
         "False",
         "False",
         "True",
         "False",
         "False"
        ],
        [
         "525597",
         "2025-07-03 20:21:00",
         "2589.64",
         "2591.95",
         "2589.5",
         "2589.78",
         "3865.435",
         "False",
         "False",
         "False",
         "False",
         "False",
         "False"
        ],
        [
         "525598",
         "2025-07-03 20:24:00",
         "2589.77",
         "2593.77",
         "2589.75",
         "2592.43",
         "5697.873",
         "False",
         "False",
         "False",
         "False",
         "False",
         "False"
        ],
        [
         "525599",
         "2025-07-03 20:27:00",
         "2592.43",
         "2595.54",
         "2592.3",
         "2593.61",
         "7126.433",
         "False",
         "False",
         "False",
         "False",
         "False",
         "False"
        ],
        [
         "525600",
         "2025-07-03 20:30:00",
         "2593.62",
         "2593.88",
         "2592.21",
         "2592.22",
         "2624.863",
         "False",
         "False",
         "False",
         "False",
         "False",
         "False"
        ]
       ],
       "shape": {
        "columns": 12,
        "rows": 5
       }
      },
      "text/html": [
       "<div>\n",
       "<style scoped>\n",
       "    .dataframe tbody tr th:only-of-type {\n",
       "        vertical-align: middle;\n",
       "    }\n",
       "\n",
       "    .dataframe tbody tr th {\n",
       "        vertical-align: top;\n",
       "    }\n",
       "\n",
       "    .dataframe thead th {\n",
       "        text-align: right;\n",
       "    }\n",
       "</style>\n",
       "<table border=\"1\" class=\"dataframe\">\n",
       "  <thead>\n",
       "    <tr style=\"text-align: right;\">\n",
       "      <th></th>\n",
       "      <th>timestamp</th>\n",
       "      <th>open</th>\n",
       "      <th>high</th>\n",
       "      <th>low</th>\n",
       "      <th>close</th>\n",
       "      <th>volume</th>\n",
       "      <th>bullish_pin_bar</th>\n",
       "      <th>Weak follow up</th>\n",
       "      <th>Weak Low Tested</th>\n",
       "      <th>bearish_pin_bar</th>\n",
       "      <th>Weak follow down</th>\n",
       "      <th>Weak High Tested</th>\n",
       "    </tr>\n",
       "  </thead>\n",
       "  <tbody>\n",
       "    <tr>\n",
       "      <th>525596</th>\n",
       "      <td>2025-07-03 20:18:00</td>\n",
       "      <td>2589.80</td>\n",
       "      <td>2592.23</td>\n",
       "      <td>2589.10</td>\n",
       "      <td>2589.63</td>\n",
       "      <td>3256.317</td>\n",
       "      <td>False</td>\n",
       "      <td>False</td>\n",
       "      <td>False</td>\n",
       "      <td>True</td>\n",
       "      <td>False</td>\n",
       "      <td>False</td>\n",
       "    </tr>\n",
       "    <tr>\n",
       "      <th>525597</th>\n",
       "      <td>2025-07-03 20:21:00</td>\n",
       "      <td>2589.64</td>\n",
       "      <td>2591.95</td>\n",
       "      <td>2589.50</td>\n",
       "      <td>2589.78</td>\n",
       "      <td>3865.435</td>\n",
       "      <td>False</td>\n",
       "      <td>False</td>\n",
       "      <td>False</td>\n",
       "      <td>False</td>\n",
       "      <td>False</td>\n",
       "      <td>False</td>\n",
       "    </tr>\n",
       "    <tr>\n",
       "      <th>525598</th>\n",
       "      <td>2025-07-03 20:24:00</td>\n",
       "      <td>2589.77</td>\n",
       "      <td>2593.77</td>\n",
       "      <td>2589.75</td>\n",
       "      <td>2592.43</td>\n",
       "      <td>5697.873</td>\n",
       "      <td>False</td>\n",
       "      <td>False</td>\n",
       "      <td>False</td>\n",
       "      <td>False</td>\n",
       "      <td>False</td>\n",
       "      <td>False</td>\n",
       "    </tr>\n",
       "    <tr>\n",
       "      <th>525599</th>\n",
       "      <td>2025-07-03 20:27:00</td>\n",
       "      <td>2592.43</td>\n",
       "      <td>2595.54</td>\n",
       "      <td>2592.30</td>\n",
       "      <td>2593.61</td>\n",
       "      <td>7126.433</td>\n",
       "      <td>False</td>\n",
       "      <td>False</td>\n",
       "      <td>False</td>\n",
       "      <td>False</td>\n",
       "      <td>False</td>\n",
       "      <td>False</td>\n",
       "    </tr>\n",
       "    <tr>\n",
       "      <th>525600</th>\n",
       "      <td>2025-07-03 20:30:00</td>\n",
       "      <td>2593.62</td>\n",
       "      <td>2593.88</td>\n",
       "      <td>2592.21</td>\n",
       "      <td>2592.22</td>\n",
       "      <td>2624.863</td>\n",
       "      <td>False</td>\n",
       "      <td>False</td>\n",
       "      <td>False</td>\n",
       "      <td>False</td>\n",
       "      <td>False</td>\n",
       "      <td>False</td>\n",
       "    </tr>\n",
       "  </tbody>\n",
       "</table>\n",
       "</div>"
      ],
      "text/plain": [
       "                  timestamp     open     high      low    close    volume  \\\n",
       "525596  2025-07-03 20:18:00  2589.80  2592.23  2589.10  2589.63  3256.317   \n",
       "525597  2025-07-03 20:21:00  2589.64  2591.95  2589.50  2589.78  3865.435   \n",
       "525598  2025-07-03 20:24:00  2589.77  2593.77  2589.75  2592.43  5697.873   \n",
       "525599  2025-07-03 20:27:00  2592.43  2595.54  2592.30  2593.61  7126.433   \n",
       "525600  2025-07-03 20:30:00  2593.62  2593.88  2592.21  2592.22  2624.863   \n",
       "\n",
       "        bullish_pin_bar Weak follow up Weak Low Tested  bearish_pin_bar  \\\n",
       "525596            False          False           False             True   \n",
       "525597            False          False           False            False   \n",
       "525598            False          False           False            False   \n",
       "525599            False          False           False            False   \n",
       "525600            False          False           False            False   \n",
       "\n",
       "       Weak follow down Weak High Tested  \n",
       "525596            False            False  \n",
       "525597            False            False  \n",
       "525598            False            False  \n",
       "525599            False            False  \n",
       "525600            False            False  "
      ]
     },
     "execution_count": 151,
     "metadata": {},
     "output_type": "execute_result"
    }
   ],
   "source": [
    "# Checking if highs of weak pin bars got tested\n",
    "highs_tested = ['False']*len(ethusdt_3min_df)\n",
    "for i in range(len(ethusdt_3min_df) - 1):\n",
    "    if(ethusdt_3min_df.loc[i, 'Weak follow down'] == 'True'):\n",
    "        pin_bar_high = ethusdt_3min_df.loc[i, 'high']\n",
    "        for j in range(i+1, len(ethusdt_3min_df)):\n",
    "            if(ethusdt_3min_df.loc[j, 'high'] > pin_bar_high):\n",
    "                highs_tested[i] = 'True'\n",
    "                break\n",
    "ethusdt_3min_df['Weak High Tested'] = highs_tested\n",
    "ethusdt_3min_df.tail()"
   ]
  },
  {
   "cell_type": "code",
   "execution_count": 152,
   "id": "f80d0d12",
   "metadata": {},
   "outputs": [],
   "source": [
    "#Saving Data frame to csv\n",
    "ethusdt_3min_df.to_csv('e_3min_analyzed.csv')"
   ]
  }
 ],
 "metadata": {
  "kernelspec": {
   "display_name": "myvenv",
   "language": "python",
   "name": "python3"
  },
  "language_info": {
   "codemirror_mode": {
    "name": "ipython",
    "version": 3
   },
   "file_extension": ".py",
   "mimetype": "text/x-python",
   "name": "python",
   "nbconvert_exporter": "python",
   "pygments_lexer": "ipython3",
   "version": "3.13.2"
  }
 },
 "nbformat": 4,
 "nbformat_minor": 5
}
